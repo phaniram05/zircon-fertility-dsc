{
 "cells": [
  {
   "cell_type": "code",
   "execution_count": 13,
   "id": "d3d7e08d",
   "metadata": {},
   "outputs": [],
   "source": [
    "import pandas as pd\n",
    "import numpy as np\n",
    "import matplotlib.pyplot as plt\n",
    "import seaborn as sns\n",
    "\n",
    "# Logistic Regression library\n",
    "from sklearn.linear_model import LogisticRegression\n",
    "\n",
    "# Libraries to scale the data\n",
    "from sklearn.preprocessing import StandardScaler\n",
    "\n",
    "# Cross Validation\n",
    "from sklearn.model_selection import train_test_split, GridSearchCV, RandomizedSearchCV, StratifiedKFold\n",
    "\n",
    "from sklearn.decomposition import PCA\n",
    "\n",
    "# Bayesian Optimization libraries\n",
    "from functools import partial\n",
    "from skopt import gp_minimize\n",
    "from skopt import space\n",
    "from sklearn import model_selection\n",
    "\n",
    "from sklearn import ensemble\n",
    "\n",
    "# Performance Metrics\n",
    "from sklearn import metrics\n",
    "from sklearn.metrics import accuracy_score, confusion_matrix\n",
    "from sklearn.metrics import classification_report\n",
    "from sklearn.metrics import ConfusionMatrixDisplay\n",
    "\n",
    "# Ignores runtime warnings\n",
    "import warnings\n",
    "warnings.filterwarnings('ignore', category=DeprecationWarning)\n",
    "\n",
    "%matplotlib inline"
   ]
  },
  {
   "cell_type": "markdown",
   "id": "665a06e7",
   "metadata": {},
   "source": [
    "### Analysis on K-means Imputed and Outlier Presence dataset"
   ]
  },
  {
   "cell_type": "code",
   "execution_count": 2,
   "id": "384623fa",
   "metadata": {},
   "outputs": [],
   "source": [
    "df1 = pd.read_csv(\"./data_with_outliers_kmeans_imputed.csv\")"
   ]
  },
  {
   "cell_type": "code",
   "execution_count": 3,
   "id": "d61a43d2",
   "metadata": {},
   "outputs": [
    {
     "data": {
      "text/html": [
       "<div>\n",
       "<style scoped>\n",
       "    .dataframe tbody tr th:only-of-type {\n",
       "        vertical-align: middle;\n",
       "    }\n",
       "\n",
       "    .dataframe tbody tr th {\n",
       "        vertical-align: top;\n",
       "    }\n",
       "\n",
       "    .dataframe thead th {\n",
       "        text-align: right;\n",
       "    }\n",
       "</style>\n",
       "<table border=\"1\" class=\"dataframe\">\n",
       "  <thead>\n",
       "    <tr style=\"text-align: right;\">\n",
       "      <th></th>\n",
       "      <th>Unnamed: 0</th>\n",
       "      <th>age_ma</th>\n",
       "      <th>Feature</th>\n",
       "      <th>Ti</th>\n",
       "      <th>La</th>\n",
       "      <th>Ce</th>\n",
       "      <th>Pr</th>\n",
       "      <th>Nd</th>\n",
       "      <th>Sm</th>\n",
       "      <th>Eu</th>\n",
       "      <th>...</th>\n",
       "      <th>Dy</th>\n",
       "      <th>Ho</th>\n",
       "      <th>Er</th>\n",
       "      <th>Tm</th>\n",
       "      <th>Yb</th>\n",
       "      <th>Lu</th>\n",
       "      <th>Y</th>\n",
       "      <th>Hf</th>\n",
       "      <th>U</th>\n",
       "      <th>Th</th>\n",
       "    </tr>\n",
       "  </thead>\n",
       "  <tbody>\n",
       "    <tr>\n",
       "      <th>0</th>\n",
       "      <td>0</td>\n",
       "      <td>222.0</td>\n",
       "      <td>0.0</td>\n",
       "      <td>7.88</td>\n",
       "      <td>0.05</td>\n",
       "      <td>10.5</td>\n",
       "      <td>0.05</td>\n",
       "      <td>4.25</td>\n",
       "      <td>11.60</td>\n",
       "      <td>1.99</td>\n",
       "      <td>...</td>\n",
       "      <td>295.0</td>\n",
       "      <td>125.0</td>\n",
       "      <td>526.0</td>\n",
       "      <td>129.0</td>\n",
       "      <td>1077.0</td>\n",
       "      <td>199.0</td>\n",
       "      <td>2737.0</td>\n",
       "      <td>12390.0</td>\n",
       "      <td>305.0</td>\n",
       "      <td>134.0</td>\n",
       "    </tr>\n",
       "    <tr>\n",
       "      <th>1</th>\n",
       "      <td>1</td>\n",
       "      <td>222.0</td>\n",
       "      <td>0.0</td>\n",
       "      <td>10.90</td>\n",
       "      <td>69.10</td>\n",
       "      <td>169.0</td>\n",
       "      <td>22.50</td>\n",
       "      <td>132.00</td>\n",
       "      <td>41.80</td>\n",
       "      <td>4.34</td>\n",
       "      <td>...</td>\n",
       "      <td>361.0</td>\n",
       "      <td>147.0</td>\n",
       "      <td>611.0</td>\n",
       "      <td>148.0</td>\n",
       "      <td>1232.0</td>\n",
       "      <td>228.0</td>\n",
       "      <td>3226.0</td>\n",
       "      <td>12591.0</td>\n",
       "      <td>503.0</td>\n",
       "      <td>272.0</td>\n",
       "    </tr>\n",
       "    <tr>\n",
       "      <th>2</th>\n",
       "      <td>2</td>\n",
       "      <td>222.0</td>\n",
       "      <td>0.0</td>\n",
       "      <td>6.00</td>\n",
       "      <td>0.02</td>\n",
       "      <td>25.1</td>\n",
       "      <td>0.30</td>\n",
       "      <td>4.41</td>\n",
       "      <td>13.80</td>\n",
       "      <td>2.30</td>\n",
       "      <td>...</td>\n",
       "      <td>415.0</td>\n",
       "      <td>172.0</td>\n",
       "      <td>701.0</td>\n",
       "      <td>167.0</td>\n",
       "      <td>1358.0</td>\n",
       "      <td>248.0</td>\n",
       "      <td>3675.0</td>\n",
       "      <td>12724.0</td>\n",
       "      <td>639.0</td>\n",
       "      <td>414.0</td>\n",
       "    </tr>\n",
       "    <tr>\n",
       "      <th>3</th>\n",
       "      <td>3</td>\n",
       "      <td>222.0</td>\n",
       "      <td>0.0</td>\n",
       "      <td>9.06</td>\n",
       "      <td>0.28</td>\n",
       "      <td>12.0</td>\n",
       "      <td>0.07</td>\n",
       "      <td>1.88</td>\n",
       "      <td>5.08</td>\n",
       "      <td>1.01</td>\n",
       "      <td>...</td>\n",
       "      <td>194.0</td>\n",
       "      <td>83.0</td>\n",
       "      <td>356.0</td>\n",
       "      <td>89.5</td>\n",
       "      <td>762.0</td>\n",
       "      <td>144.0</td>\n",
       "      <td>1832.0</td>\n",
       "      <td>12894.0</td>\n",
       "      <td>308.0</td>\n",
       "      <td>127.0</td>\n",
       "    </tr>\n",
       "    <tr>\n",
       "      <th>4</th>\n",
       "      <td>4</td>\n",
       "      <td>222.0</td>\n",
       "      <td>0.0</td>\n",
       "      <td>4.93</td>\n",
       "      <td>0.07</td>\n",
       "      <td>16.5</td>\n",
       "      <td>0.15</td>\n",
       "      <td>2.32</td>\n",
       "      <td>8.23</td>\n",
       "      <td>1.52</td>\n",
       "      <td>...</td>\n",
       "      <td>257.0</td>\n",
       "      <td>108.0</td>\n",
       "      <td>456.0</td>\n",
       "      <td>111.0</td>\n",
       "      <td>936.0</td>\n",
       "      <td>171.0</td>\n",
       "      <td>2355.0</td>\n",
       "      <td>12535.0</td>\n",
       "      <td>348.0</td>\n",
       "      <td>155.0</td>\n",
       "    </tr>\n",
       "  </tbody>\n",
       "</table>\n",
       "<p>5 rows × 22 columns</p>\n",
       "</div>"
      ],
      "text/plain": [
       "   Unnamed: 0  age_ma  Feature     Ti     La     Ce     Pr      Nd     Sm  \\\n",
       "0           0   222.0      0.0   7.88   0.05   10.5   0.05    4.25  11.60   \n",
       "1           1   222.0      0.0  10.90  69.10  169.0  22.50  132.00  41.80   \n",
       "2           2   222.0      0.0   6.00   0.02   25.1   0.30    4.41  13.80   \n",
       "3           3   222.0      0.0   9.06   0.28   12.0   0.07    1.88   5.08   \n",
       "4           4   222.0      0.0   4.93   0.07   16.5   0.15    2.32   8.23   \n",
       "\n",
       "     Eu  ...     Dy     Ho     Er     Tm      Yb     Lu       Y       Hf  \\\n",
       "0  1.99  ...  295.0  125.0  526.0  129.0  1077.0  199.0  2737.0  12390.0   \n",
       "1  4.34  ...  361.0  147.0  611.0  148.0  1232.0  228.0  3226.0  12591.0   \n",
       "2  2.30  ...  415.0  172.0  701.0  167.0  1358.0  248.0  3675.0  12724.0   \n",
       "3  1.01  ...  194.0   83.0  356.0   89.5   762.0  144.0  1832.0  12894.0   \n",
       "4  1.52  ...  257.0  108.0  456.0  111.0   936.0  171.0  2355.0  12535.0   \n",
       "\n",
       "       U     Th  \n",
       "0  305.0  134.0  \n",
       "1  503.0  272.0  \n",
       "2  639.0  414.0  \n",
       "3  308.0  127.0  \n",
       "4  348.0  155.0  \n",
       "\n",
       "[5 rows x 22 columns]"
      ]
     },
     "execution_count": 3,
     "metadata": {},
     "output_type": "execute_result"
    }
   ],
   "source": [
    "df1.head()"
   ]
  },
  {
   "cell_type": "code",
   "execution_count": 4,
   "id": "b142cf44",
   "metadata": {},
   "outputs": [],
   "source": [
    "df1.drop('Unnamed: 0', axis=1, inplace=True)"
   ]
  },
  {
   "cell_type": "code",
   "execution_count": 5,
   "id": "2a3f42d1",
   "metadata": {},
   "outputs": [
    {
     "data": {
      "text/html": [
       "<div>\n",
       "<style scoped>\n",
       "    .dataframe tbody tr th:only-of-type {\n",
       "        vertical-align: middle;\n",
       "    }\n",
       "\n",
       "    .dataframe tbody tr th {\n",
       "        vertical-align: top;\n",
       "    }\n",
       "\n",
       "    .dataframe thead th {\n",
       "        text-align: right;\n",
       "    }\n",
       "</style>\n",
       "<table border=\"1\" class=\"dataframe\">\n",
       "  <thead>\n",
       "    <tr style=\"text-align: right;\">\n",
       "      <th></th>\n",
       "      <th>age_ma</th>\n",
       "      <th>Feature</th>\n",
       "      <th>Ti</th>\n",
       "      <th>La</th>\n",
       "      <th>Ce</th>\n",
       "      <th>Pr</th>\n",
       "      <th>Nd</th>\n",
       "      <th>Sm</th>\n",
       "      <th>Eu</th>\n",
       "      <th>Gd</th>\n",
       "      <th>...</th>\n",
       "      <th>Dy</th>\n",
       "      <th>Ho</th>\n",
       "      <th>Er</th>\n",
       "      <th>Tm</th>\n",
       "      <th>Yb</th>\n",
       "      <th>Lu</th>\n",
       "      <th>Y</th>\n",
       "      <th>Hf</th>\n",
       "      <th>U</th>\n",
       "      <th>Th</th>\n",
       "    </tr>\n",
       "  </thead>\n",
       "  <tbody>\n",
       "    <tr>\n",
       "      <th>408</th>\n",
       "      <td>132.00</td>\n",
       "      <td>0.0</td>\n",
       "      <td>1.87</td>\n",
       "      <td>0.08</td>\n",
       "      <td>26.10</td>\n",
       "      <td>0.11</td>\n",
       "      <td>2.09</td>\n",
       "      <td>9.77</td>\n",
       "      <td>0.20</td>\n",
       "      <td>74.00</td>\n",
       "      <td>...</td>\n",
       "      <td>449.00</td>\n",
       "      <td>178.00</td>\n",
       "      <td>820.00</td>\n",
       "      <td>170.00</td>\n",
       "      <td>1515.00</td>\n",
       "      <td>266.00</td>\n",
       "      <td>5176.00</td>\n",
       "      <td>14044.00</td>\n",
       "      <td>3911.00</td>\n",
       "      <td>1450.00</td>\n",
       "    </tr>\n",
       "    <tr>\n",
       "      <th>2141</th>\n",
       "      <td>35.00</td>\n",
       "      <td>1.0</td>\n",
       "      <td>4.79</td>\n",
       "      <td>0.08</td>\n",
       "      <td>14.00</td>\n",
       "      <td>0.02</td>\n",
       "      <td>0.21</td>\n",
       "      <td>0.40</td>\n",
       "      <td>0.24</td>\n",
       "      <td>3.10</td>\n",
       "      <td>...</td>\n",
       "      <td>14.60</td>\n",
       "      <td>6.00</td>\n",
       "      <td>32.80</td>\n",
       "      <td>8.50</td>\n",
       "      <td>99.00</td>\n",
       "      <td>24.30</td>\n",
       "      <td>216.00</td>\n",
       "      <td>11411.00</td>\n",
       "      <td>202.00</td>\n",
       "      <td>84.00</td>\n",
       "    </tr>\n",
       "    <tr>\n",
       "      <th>809</th>\n",
       "      <td>1635.92</td>\n",
       "      <td>0.0</td>\n",
       "      <td>11.43</td>\n",
       "      <td>1.27</td>\n",
       "      <td>12.69</td>\n",
       "      <td>0.49</td>\n",
       "      <td>6.17</td>\n",
       "      <td>10.41</td>\n",
       "      <td>0.54</td>\n",
       "      <td>49.51</td>\n",
       "      <td>...</td>\n",
       "      <td>173.57</td>\n",
       "      <td>60.56</td>\n",
       "      <td>266.24</td>\n",
       "      <td>51.79</td>\n",
       "      <td>442.68</td>\n",
       "      <td>77.43</td>\n",
       "      <td>365.04</td>\n",
       "      <td>10823.69</td>\n",
       "      <td>593.44</td>\n",
       "      <td>353.33</td>\n",
       "    </tr>\n",
       "    <tr>\n",
       "      <th>1439</th>\n",
       "      <td>906.00</td>\n",
       "      <td>0.0</td>\n",
       "      <td>3.86</td>\n",
       "      <td>0.01</td>\n",
       "      <td>20.40</td>\n",
       "      <td>0.09</td>\n",
       "      <td>2.13</td>\n",
       "      <td>6.03</td>\n",
       "      <td>0.12</td>\n",
       "      <td>42.90</td>\n",
       "      <td>...</td>\n",
       "      <td>189.00</td>\n",
       "      <td>71.90</td>\n",
       "      <td>306.00</td>\n",
       "      <td>59.30</td>\n",
       "      <td>485.00</td>\n",
       "      <td>90.20</td>\n",
       "      <td>1972.00</td>\n",
       "      <td>10943.00</td>\n",
       "      <td>397.00</td>\n",
       "      <td>258.00</td>\n",
       "    </tr>\n",
       "    <tr>\n",
       "      <th>2588</th>\n",
       "      <td>370.00</td>\n",
       "      <td>1.0</td>\n",
       "      <td>5.09</td>\n",
       "      <td>0.05</td>\n",
       "      <td>15.84</td>\n",
       "      <td>0.02</td>\n",
       "      <td>0.39</td>\n",
       "      <td>1.26</td>\n",
       "      <td>0.33</td>\n",
       "      <td>8.12</td>\n",
       "      <td>...</td>\n",
       "      <td>44.74</td>\n",
       "      <td>20.14</td>\n",
       "      <td>111.75</td>\n",
       "      <td>29.79</td>\n",
       "      <td>364.43</td>\n",
       "      <td>64.84</td>\n",
       "      <td>639.05</td>\n",
       "      <td>11528.52</td>\n",
       "      <td>191.88</td>\n",
       "      <td>71.82</td>\n",
       "    </tr>\n",
       "  </tbody>\n",
       "</table>\n",
       "<p>5 rows × 21 columns</p>\n",
       "</div>"
      ],
      "text/plain": [
       "       age_ma  Feature     Ti    La     Ce    Pr    Nd     Sm    Eu     Gd  \\\n",
       "408    132.00      0.0   1.87  0.08  26.10  0.11  2.09   9.77  0.20  74.00   \n",
       "2141    35.00      1.0   4.79  0.08  14.00  0.02  0.21   0.40  0.24   3.10   \n",
       "809   1635.92      0.0  11.43  1.27  12.69  0.49  6.17  10.41  0.54  49.51   \n",
       "1439   906.00      0.0   3.86  0.01  20.40  0.09  2.13   6.03  0.12  42.90   \n",
       "2588   370.00      1.0   5.09  0.05  15.84  0.02  0.39   1.26  0.33   8.12   \n",
       "\n",
       "      ...      Dy      Ho      Er      Tm       Yb      Lu        Y        Hf  \\\n",
       "408   ...  449.00  178.00  820.00  170.00  1515.00  266.00  5176.00  14044.00   \n",
       "2141  ...   14.60    6.00   32.80    8.50    99.00   24.30   216.00  11411.00   \n",
       "809   ...  173.57   60.56  266.24   51.79   442.68   77.43   365.04  10823.69   \n",
       "1439  ...  189.00   71.90  306.00   59.30   485.00   90.20  1972.00  10943.00   \n",
       "2588  ...   44.74   20.14  111.75   29.79   364.43   64.84   639.05  11528.52   \n",
       "\n",
       "            U       Th  \n",
       "408   3911.00  1450.00  \n",
       "2141   202.00    84.00  \n",
       "809    593.44   353.33  \n",
       "1439   397.00   258.00  \n",
       "2588   191.88    71.82  \n",
       "\n",
       "[5 rows x 21 columns]"
      ]
     },
     "execution_count": 5,
     "metadata": {},
     "output_type": "execute_result"
    }
   ],
   "source": [
    "df1.sample(5)"
   ]
  },
  {
   "cell_type": "code",
   "execution_count": 6,
   "id": "bac15ee0",
   "metadata": {},
   "outputs": [],
   "source": [
    "X = df1.drop('Feature', axis=1).values\n",
    "y = df1.Feature.values"
   ]
  },
  {
   "cell_type": "markdown",
   "id": "856b812b",
   "metadata": {},
   "source": [
    "### Splitting the dataset"
   ]
  },
  {
   "cell_type": "code",
   "execution_count": 7,
   "id": "429c3e1f",
   "metadata": {},
   "outputs": [],
   "source": [
    "X_train, X_test, y_train, y_test = train_test_split(X, y, test_size=0.2, shuffle=True)"
   ]
  },
  {
   "cell_type": "markdown",
   "id": "ec329f54",
   "metadata": {},
   "source": [
    "### Scaling the data using Standard Scaler"
   ]
  },
  {
   "cell_type": "code",
   "execution_count": 8,
   "id": "afdde692",
   "metadata": {},
   "outputs": [],
   "source": [
    "scaler = StandardScaler()\n",
    "\n",
    "X_train_scaled = scaler.fit_transform(X_train)\n",
    "X_test_scaled = scaler.transform(X_test)"
   ]
  },
  {
   "cell_type": "code",
   "execution_count": 9,
   "id": "55d93c66",
   "metadata": {},
   "outputs": [
    {
     "data": {
      "text/plain": [
       "(2390, 20)"
      ]
     },
     "execution_count": 9,
     "metadata": {},
     "output_type": "execute_result"
    }
   ],
   "source": [
    "X_train_scaled.shape"
   ]
  },
  {
   "cell_type": "markdown",
   "id": "bc5f165b",
   "metadata": {},
   "source": [
    "### PCA"
   ]
  },
  {
   "cell_type": "code",
   "execution_count": 10,
   "id": "96b3adb7",
   "metadata": {},
   "outputs": [],
   "source": [
    "pca = PCA(n_components=15)\n",
    "\n",
    "X_train_transform = pca.fit_transform(X_train_scaled)\n",
    "X_test_transform = pca.transform(X_test_scaled)"
   ]
  },
  {
   "cell_type": "code",
   "execution_count": 11,
   "id": "6a55db49",
   "metadata": {},
   "outputs": [
    {
     "data": {
      "text/plain": [
       "[<matplotlib.lines.Line2D at 0x15e8c3a30>]"
      ]
     },
     "execution_count": 11,
     "metadata": {},
     "output_type": "execute_result"
    },
    {
     "data": {
      "image/png": "[encoded data removed]",
      "text/plain": [
       "<Figure size 1500x800 with 1 Axes>"
      ]
     },
     "metadata": {},
     "output_type": "display_data"
    }
   ],
   "source": [
    "plt.figure(figsize=(15, 8))\n",
    "plt.plot(np.arange(pca.n_components_) + 1, pca.explained_variance_ratio_)"
   ]
  },
  {
   "cell_type": "markdown",
   "id": "d037df8d",
   "metadata": {},
   "source": [
    "### Fitting the base model"
   ]
  },
  {
   "cell_type": "code",
   "execution_count": 14,
   "id": "6e17f62f",
   "metadata": {},
   "outputs": [
    {
     "data": {
      "text/html": [
       "<style>#sk-container-id-1 {color: black;}#sk-container-id-1 pre{padding: 0;}#sk-container-id-1 div.sk-toggleable {background-color: white;}#sk-container-id-1 label.sk-toggleable__label {cursor: pointer;display: block;width: 100%;margin-bottom: 0;padding: 0.3em;box-sizing: border-box;text-align: center;}#sk-container-id-1 label.sk-toggleable__label-arrow:before {content: \"▸\";float: left;margin-right: 0.25em;color: #696969;}#sk-container-id-1 label.sk-toggleable__label-arrow:hover:before {color: black;}#sk-container-id-1 div.sk-estimator:hover label.sk-toggleable__label-arrow:before {color: black;}#sk-container-id-1 div.sk-toggleable__content {max-height: 0;max-width: 0;overflow: hidden;text-align: left;background-color: #f0f8ff;}#sk-container-id-1 div.sk-toggleable__content pre {margin: 0.2em;color: black;border-radius: 0.25em;background-color: #f0f8ff;}#sk-container-id-1 input.sk-toggleable__control:checked~div.sk-toggleable__content {max-height: 200px;max-width: 100%;overflow: auto;}#sk-container-id-1 input.sk-toggleable__control:checked~label.sk-toggleable__label-arrow:before {content: \"▾\";}#sk-container-id-1 div.sk-estimator input.sk-toggleable__control:checked~label.sk-toggleable__label {background-color: #d4ebff;}#sk-container-id-1 div.sk-label input.sk-toggleable__control:checked~label.sk-toggleable__label {background-color: #d4ebff;}#sk-container-id-1 input.sk-hidden--visually {border: 0;clip: rect(1px 1px 1px 1px);clip: rect(1px, 1px, 1px, 1px);height: 1px;margin: -1px;overflow: hidden;padding: 0;position: absolute;width: 1px;}#sk-container-id-1 div.sk-estimator {font-family: monospace;background-color: #f0f8ff;border: 1px dotted black;border-radius: 0.25em;box-sizing: border-box;margin-bottom: 0.5em;}#sk-container-id-1 div.sk-estimator:hover {background-color: #d4ebff;}#sk-container-id-1 div.sk-parallel-item::after {content: \"\";width: 100%;border-bottom: 1px solid gray;flex-grow: 1;}#sk-container-id-1 div.sk-label:hover label.sk-toggleable__label {background-color: #d4ebff;}#sk-container-id-1 div.sk-serial::before {content: \"\";position: absolute;border-left: 1px solid gray;box-sizing: border-box;top: 0;bottom: 0;left: 50%;z-index: 0;}#sk-container-id-1 div.sk-serial {display: flex;flex-direction: column;align-items: center;background-color: white;padding-right: 0.2em;padding-left: 0.2em;position: relative;}#sk-container-id-1 div.sk-item {position: relative;z-index: 1;}#sk-container-id-1 div.sk-parallel {display: flex;align-items: stretch;justify-content: center;background-color: white;position: relative;}#sk-container-id-1 div.sk-item::before, #sk-container-id-1 div.sk-parallel-item::before {content: \"\";position: absolute;border-left: 1px solid gray;box-sizing: border-box;top: 0;bottom: 0;left: 50%;z-index: -1;}#sk-container-id-1 div.sk-parallel-item {display: flex;flex-direction: column;z-index: 1;position: relative;background-color: white;}#sk-container-id-1 div.sk-parallel-item:first-child::after {align-self: flex-end;width: 50%;}#sk-container-id-1 div.sk-parallel-item:last-child::after {align-self: flex-start;width: 50%;}#sk-container-id-1 div.sk-parallel-item:only-child::after {width: 0;}#sk-container-id-1 div.sk-dashed-wrapped {border: 1px dashed gray;margin: 0 0.4em 0.5em 0.4em;box-sizing: border-box;padding-bottom: 0.4em;background-color: white;}#sk-container-id-1 div.sk-label label {font-family: monospace;font-weight: bold;display: inline-block;line-height: 1.2em;}#sk-container-id-1 div.sk-label-container {text-align: center;}#sk-container-id-1 div.sk-container {/* jupyter's `normalize.less` sets `[hidden] { display: none; }` but bootstrap.min.css set `[hidden] { display: none !important; }` so we also need the `!important` here to be able to override the default hidden behavior on the sphinx rendered scikit-learn.org. See: https://github.com/scikit-learn/scikit-learn/issues/21755 */display: inline-block !important;position: relative;}#sk-container-id-1 div.sk-text-repr-fallback {display: none;}</style><div id=\"sk-container-id-1\" class=\"sk-top-container\"><div class=\"sk-text-repr-fallback\"><pre>RandomForestClassifier()</pre><b>In a Jupyter environment, please rerun this cell to show the HTML representation or trust the notebook. <br />On GitHub, the HTML representation is unable to render, please try loading this page with nbviewer.org.</b></div><div class=\"sk-container\" hidden><div class=\"sk-item\"><div class=\"sk-estimator sk-toggleable\"><input class=\"sk-toggleable__control sk-hidden--visually\" id=\"sk-estimator-id-1\" type=\"checkbox\" checked><label for=\"sk-estimator-id-1\" class=\"sk-toggleable__label sk-toggleable__label-arrow\">RandomForestClassifier</label><div class=\"sk-toggleable__content\"><pre>RandomForestClassifier()</pre></div></div></div></div></div>"
      ],
      "text/plain": [
       "RandomForestClassifier()"
      ]
     },
     "execution_count": 14,
     "metadata": {},
     "output_type": "execute_result"
    }
   ],
   "source": [
    "rf_base = ensemble.RandomForestClassifier()\n",
    "\n",
    "rf_base.fit(X_train_transform, y_train)"
   ]
  },
  {
   "cell_type": "code",
   "execution_count": 15,
   "id": "1ca9b5e8",
   "metadata": {},
   "outputs": [],
   "source": [
    "y_pred = rf_base.predict(X_test_transform)"
   ]
  },
  {
   "cell_type": "code",
   "execution_count": 17,
   "id": "4f80b308",
   "metadata": {},
   "outputs": [
    {
     "name": "stdout",
     "output_type": "stream",
     "text": [
      "Accuracy of test set on base model:  0.94\n"
     ]
    }
   ],
   "source": [
    "print(\"Accuracy of test set on base model: \", round(accuracy_score(y_test, y_pred), 2))"
   ]
  },
  {
   "cell_type": "code",
   "execution_count": 18,
   "id": "5c9a9d02",
   "metadata": {},
   "outputs": [
    {
     "name": "stdout",
     "output_type": "stream",
     "text": [
      "Classification report of test set: \n",
      "\n",
      "               precision    recall  f1-score   support\n",
      "\n",
      "         0.0       0.92      0.98      0.95       330\n",
      "         1.0       0.97      0.89      0.93       268\n",
      "\n",
      "    accuracy                           0.94       598\n",
      "   macro avg       0.94      0.93      0.94       598\n",
      "weighted avg       0.94      0.94      0.94       598\n",
      "\n"
     ]
    }
   ],
   "source": [
    "print(\"Classification report of test set: \\n\\n\", classification_report(y_test, y_pred))"
   ]
  },
  {
   "cell_type": "code",
   "execution_count": 19,
   "id": "5295a9ce",
   "metadata": {},
   "outputs": [
    {
     "data": {
      "text/plain": [
       "<sklearn.metrics._plot.confusion_matrix.ConfusionMatrixDisplay at 0x15f877d90>"
      ]
     },
     "execution_count": 19,
     "metadata": {},
     "output_type": "execute_result"
    },
    {
     "data": {
      "image/png": "[encoded data removed]",
      "text/plain": [
       "<Figure size 640x480 with 2 Axes>"
      ]
     },
     "metadata": {},
     "output_type": "display_data"
    }
   ],
   "source": [
    "cm = confusion_matrix(y_test, y_pred)\n",
    "\n",
    "ConfusionMatrixDisplay(cm, display_labels=['Barren', 'Fertile']).plot()"
   ]
  },
  {
   "cell_type": "markdown",
   "id": "bdbb1733",
   "metadata": {},
   "source": [
    "### Hyper-Parameter Tuning"
   ]
  },
  {
   "cell_type": "markdown",
   "id": "b91b8865",
   "metadata": {},
   "source": [
    "### Grid Search Optimization with stratified K-fold Cross Validation"
   ]
  },
  {
   "cell_type": "code",
   "execution_count": 20,
   "id": "00d76bc1",
   "metadata": {},
   "outputs": [],
   "source": [
    "Stratified_kf = StratifiedKFold(n_splits=10, shuffle=True)"
   ]
  },
  {
   "cell_type": "code",
   "execution_count": 24,
   "id": "8ec5ecb4",
   "metadata": {},
   "outputs": [],
   "source": [
    "param_grid = {\n",
    "    \n",
    "    'max_depth': np.arange(3, 15, 2),\n",
    "    'n_estimators': np.arange(100, 500, 100),\n",
    "    'criterion': ['gini', 'entropy'],\n",
    "    'max_features': ['sqrt', 'log2']\n",
    "    \n",
    "}"
   ]
  },
  {
   "cell_type": "code",
   "execution_count": 25,
   "id": "cd30b41f",
   "metadata": {},
   "outputs": [],
   "source": [
    "clf = GridSearchCV(estimator = ensemble.RandomForestClassifier(), param_grid=param_grid, scoring='accuracy',\n",
    "                   cv = Stratified_kf, n_jobs=-1, verbose=10, return_train_score=True)"
   ]
  },
  {
   "cell_type": "code",
   "execution_count": 26,
   "id": "939bdeac",
   "metadata": {},
   "outputs": [
    {
     "name": "stdout",
     "output_type": "stream",
     "text": [
      "Fitting 10 folds for each of 96 candidates, totalling 960 fits\n"
     ]
    },
    {
     "data": {
      "text/html": [
       "<style>#sk-container-id-2 {color: black;}#sk-container-id-2 pre{padding: 0;}#sk-container-id-2 div.sk-toggleable {background-color: white;}#sk-container-id-2 label.sk-toggleable__label {cursor: pointer;display: block;width: 100%;margin-bottom: 0;padding: 0.3em;box-sizing: border-box;text-align: center;}#sk-container-id-2 label.sk-toggleable__label-arrow:before {content: \"▸\";float: left;margin-right: 0.25em;color: #696969;}#sk-container-id-2 label.sk-toggleable__label-arrow:hover:before {color: black;}#sk-container-id-2 div.sk-estimator:hover label.sk-toggleable__label-arrow:before {color: black;}#sk-container-id-2 div.sk-toggleable__content {max-height: 0;max-width: 0;overflow: hidden;text-align: left;background-color: #f0f8ff;}#sk-container-id-2 div.sk-toggleable__content pre {margin: 0.2em;color: black;border-radius: 0.25em;background-color: #f0f8ff;}#sk-container-id-2 input.sk-toggleable__control:checked~div.sk-toggleable__content {max-height: 200px;max-width: 100%;overflow: auto;}#sk-container-id-2 input.sk-toggleable__control:checked~label.sk-toggleable__label-arrow:before {content: \"▾\";}#sk-container-id-2 div.sk-estimator input.sk-toggleable__control:checked~label.sk-toggleable__label {background-color: #d4ebff;}#sk-container-id-2 div.sk-label input.sk-toggleable__control:checked~label.sk-toggleable__label {background-color: #d4ebff;}#sk-container-id-2 input.sk-hidden--visually {border: 0;clip: rect(1px 1px 1px 1px);clip: rect(1px, 1px, 1px, 1px);height: 1px;margin: -1px;overflow: hidden;padding: 0;position: absolute;width: 1px;}#sk-container-id-2 div.sk-estimator {font-family: monospace;background-color: #f0f8ff;border: 1px dotted black;border-radius: 0.25em;box-sizing: border-box;margin-bottom: 0.5em;}#sk-container-id-2 div.sk-estimator:hover {background-color: #d4ebff;}#sk-container-id-2 div.sk-parallel-item::after {content: \"\";width: 100%;border-bottom: 1px solid gray;flex-grow: 1;}#sk-container-id-2 div.sk-label:hover label.sk-toggleable__label {background-color: #d4ebff;}#sk-container-id-2 div.sk-serial::before {content: \"\";position: absolute;border-left: 1px solid gray;box-sizing: border-box;top: 0;bottom: 0;left: 50%;z-index: 0;}#sk-container-id-2 div.sk-serial {display: flex;flex-direction: column;align-items: center;background-color: white;padding-right: 0.2em;padding-left: 0.2em;position: relative;}#sk-container-id-2 div.sk-item {position: relative;z-index: 1;}#sk-container-id-2 div.sk-parallel {display: flex;align-items: stretch;justify-content: center;background-color: white;position: relative;}#sk-container-id-2 div.sk-item::before, #sk-container-id-2 div.sk-parallel-item::before {content: \"\";position: absolute;border-left: 1px solid gray;box-sizing: border-box;top: 0;bottom: 0;left: 50%;z-index: -1;}#sk-container-id-2 div.sk-parallel-item {display: flex;flex-direction: column;z-index: 1;position: relative;background-color: white;}#sk-container-id-2 div.sk-parallel-item:first-child::after {align-self: flex-end;width: 50%;}#sk-container-id-2 div.sk-parallel-item:last-child::after {align-self: flex-start;width: 50%;}#sk-container-id-2 div.sk-parallel-item:only-child::after {width: 0;}#sk-container-id-2 div.sk-dashed-wrapped {border: 1px dashed gray;margin: 0 0.4em 0.5em 0.4em;box-sizing: border-box;padding-bottom: 0.4em;background-color: white;}#sk-container-id-2 div.sk-label label {font-family: monospace;font-weight: bold;display: inline-block;line-height: 1.2em;}#sk-container-id-2 div.sk-label-container {text-align: center;}#sk-container-id-2 div.sk-container {/* jupyter's `normalize.less` sets `[hidden] { display: none; }` but bootstrap.min.css set `[hidden] { display: none !important; }` so we also need the `!important` here to be able to override the default hidden behavior on the sphinx rendered scikit-learn.org. See: https://github.com/scikit-learn/scikit-learn/issues/21755 */display: inline-block !important;position: relative;}#sk-container-id-2 div.sk-text-repr-fallback {display: none;}</style><div id=\"sk-container-id-2\" class=\"sk-top-container\"><div class=\"sk-text-repr-fallback\"><pre>GridSearchCV(cv=StratifiedKFold(n_splits=10, random_state=None, shuffle=True),\n",
       "             estimator=RandomForestClassifier(), n_jobs=-1,\n",
       "             param_grid={&#x27;criterion&#x27;: [&#x27;gini&#x27;, &#x27;entropy&#x27;],\n",
       "                         &#x27;max_depth&#x27;: array([ 3,  5,  7,  9, 11, 13]),\n",
       "                         &#x27;max_features&#x27;: [&#x27;sqrt&#x27;, &#x27;log2&#x27;],\n",
       "                         &#x27;n_estimators&#x27;: array([100, 200, 300, 400])},\n",
       "             return_train_score=True, scoring=&#x27;accuracy&#x27;, verbose=10)</pre><b>In a Jupyter environment, please rerun this cell to show the HTML representation or trust the notebook. <br />On GitHub, the HTML representation is unable to render, please try loading this page with nbviewer.org.</b></div><div class=\"sk-container\" hidden><div class=\"sk-item sk-dashed-wrapped\"><div class=\"sk-label-container\"><div class=\"sk-label sk-toggleable\"><input class=\"sk-toggleable__control sk-hidden--visually\" id=\"sk-estimator-id-2\" type=\"checkbox\" ><label for=\"sk-estimator-id-2\" class=\"sk-toggleable__label sk-toggleable__label-arrow\">GridSearchCV</label><div class=\"sk-toggleable__content\"><pre>GridSearchCV(cv=StratifiedKFold(n_splits=10, random_state=None, shuffle=True),\n",
       "             estimator=RandomForestClassifier(), n_jobs=-1,\n",
       "             param_grid={&#x27;criterion&#x27;: [&#x27;gini&#x27;, &#x27;entropy&#x27;],\n",
       "                         &#x27;max_depth&#x27;: array([ 3,  5,  7,  9, 11, 13]),\n",
       "                         &#x27;max_features&#x27;: [&#x27;sqrt&#x27;, &#x27;log2&#x27;],\n",
       "                         &#x27;n_estimators&#x27;: array([100, 200, 300, 400])},\n",
       "             return_train_score=True, scoring=&#x27;accuracy&#x27;, verbose=10)</pre></div></div></div><div class=\"sk-parallel\"><div class=\"sk-parallel-item\"><div class=\"sk-item\"><div class=\"sk-label-container\"><div class=\"sk-label sk-toggleable\"><input class=\"sk-toggleable__control sk-hidden--visually\" id=\"sk-estimator-id-3\" type=\"checkbox\" ><label for=\"sk-estimator-id-3\" class=\"sk-toggleable__label sk-toggleable__label-arrow\">estimator: RandomForestClassifier</label><div class=\"sk-toggleable__content\"><pre>RandomForestClassifier()</pre></div></div></div><div class=\"sk-serial\"><div class=\"sk-item\"><div class=\"sk-estimator sk-toggleable\"><input class=\"sk-toggleable__control sk-hidden--visually\" id=\"sk-estimator-id-4\" type=\"checkbox\" ><label for=\"sk-estimator-id-4\" class=\"sk-toggleable__label sk-toggleable__label-arrow\">RandomForestClassifier</label><div class=\"sk-toggleable__content\"><pre>RandomForestClassifier()</pre></div></div></div></div></div></div></div></div></div></div>"
      ],
      "text/plain": [
       "GridSearchCV(cv=StratifiedKFold(n_splits=10, random_state=None, shuffle=True),\n",
       "             estimator=RandomForestClassifier(), n_jobs=-1,\n",
       "             param_grid={'criterion': ['gini', 'entropy'],\n",
       "                         'max_depth': array([ 3,  5,  7,  9, 11, 13]),\n",
       "                         'max_features': ['sqrt', 'log2'],\n",
       "                         'n_estimators': array([100, 200, 300, 400])},\n",
       "             return_train_score=True, scoring='accuracy', verbose=10)"
      ]
     },
     "execution_count": 26,
     "metadata": {},
     "output_type": "execute_result"
    }
   ],
   "source": [
    "clf.fit(X_train_transform, y_train)"
   ]
  },
  {
   "cell_type": "code",
   "execution_count": 27,
   "id": "351859be",
   "metadata": {},
   "outputs": [
    {
     "data": {
      "text/html": [
       "<style>#sk-container-id-3 {color: black;}#sk-container-id-3 pre{padding: 0;}#sk-container-id-3 div.sk-toggleable {background-color: white;}#sk-container-id-3 label.sk-toggleable__label {cursor: pointer;display: block;width: 100%;margin-bottom: 0;padding: 0.3em;box-sizing: border-box;text-align: center;}#sk-container-id-3 label.sk-toggleable__label-arrow:before {content: \"▸\";float: left;margin-right: 0.25em;color: #696969;}#sk-container-id-3 label.sk-toggleable__label-arrow:hover:before {color: black;}#sk-container-id-3 div.sk-estimator:hover label.sk-toggleable__label-arrow:before {color: black;}#sk-container-id-3 div.sk-toggleable__content {max-height: 0;max-width: 0;overflow: hidden;text-align: left;background-color: #f0f8ff;}#sk-container-id-3 div.sk-toggleable__content pre {margin: 0.2em;color: black;border-radius: 0.25em;background-color: #f0f8ff;}#sk-container-id-3 input.sk-toggleable__control:checked~div.sk-toggleable__content {max-height: 200px;max-width: 100%;overflow: auto;}#sk-container-id-3 input.sk-toggleable__control:checked~label.sk-toggleable__label-arrow:before {content: \"▾\";}#sk-container-id-3 div.sk-estimator input.sk-toggleable__control:checked~label.sk-toggleable__label {background-color: #d4ebff;}#sk-container-id-3 div.sk-label input.sk-toggleable__control:checked~label.sk-toggleable__label {background-color: #d4ebff;}#sk-container-id-3 input.sk-hidden--visually {border: 0;clip: rect(1px 1px 1px 1px);clip: rect(1px, 1px, 1px, 1px);height: 1px;margin: -1px;overflow: hidden;padding: 0;position: absolute;width: 1px;}#sk-container-id-3 div.sk-estimator {font-family: monospace;background-color: #f0f8ff;border: 1px dotted black;border-radius: 0.25em;box-sizing: border-box;margin-bottom: 0.5em;}#sk-container-id-3 div.sk-estimator:hover {background-color: #d4ebff;}#sk-container-id-3 div.sk-parallel-item::after {content: \"\";width: 100%;border-bottom: 1px solid gray;flex-grow: 1;}#sk-container-id-3 div.sk-label:hover label.sk-toggleable__label {background-color: #d4ebff;}#sk-container-id-3 div.sk-serial::before {content: \"\";position: absolute;border-left: 1px solid gray;box-sizing: border-box;top: 0;bottom: 0;left: 50%;z-index: 0;}#sk-container-id-3 div.sk-serial {display: flex;flex-direction: column;align-items: center;background-color: white;padding-right: 0.2em;padding-left: 0.2em;position: relative;}#sk-container-id-3 div.sk-item {position: relative;z-index: 1;}#sk-container-id-3 div.sk-parallel {display: flex;align-items: stretch;justify-content: center;background-color: white;position: relative;}#sk-container-id-3 div.sk-item::before, #sk-container-id-3 div.sk-parallel-item::before {content: \"\";position: absolute;border-left: 1px solid gray;box-sizing: border-box;top: 0;bottom: 0;left: 50%;z-index: -1;}#sk-container-id-3 div.sk-parallel-item {display: flex;flex-direction: column;z-index: 1;position: relative;background-color: white;}#sk-container-id-3 div.sk-parallel-item:first-child::after {align-self: flex-end;width: 50%;}#sk-container-id-3 div.sk-parallel-item:last-child::after {align-self: flex-start;width: 50%;}#sk-container-id-3 div.sk-parallel-item:only-child::after {width: 0;}#sk-container-id-3 div.sk-dashed-wrapped {border: 1px dashed gray;margin: 0 0.4em 0.5em 0.4em;box-sizing: border-box;padding-bottom: 0.4em;background-color: white;}#sk-container-id-3 div.sk-label label {font-family: monospace;font-weight: bold;display: inline-block;line-height: 1.2em;}#sk-container-id-3 div.sk-label-container {text-align: center;}#sk-container-id-3 div.sk-container {/* jupyter's `normalize.less` sets `[hidden] { display: none; }` but bootstrap.min.css set `[hidden] { display: none !important; }` so we also need the `!important` here to be able to override the default hidden behavior on the sphinx rendered scikit-learn.org. See: https://github.com/scikit-learn/scikit-learn/issues/21755 */display: inline-block !important;position: relative;}#sk-container-id-3 div.sk-text-repr-fallback {display: none;}</style><div id=\"sk-container-id-3\" class=\"sk-top-container\"><div class=\"sk-text-repr-fallback\"><pre>RandomForestClassifier(criterion=&#x27;entropy&#x27;, max_depth=13)</pre><b>In a Jupyter environment, please rerun this cell to show the HTML representation or trust the notebook. <br />On GitHub, the HTML representation is unable to render, please try loading this page with nbviewer.org.</b></div><div class=\"sk-container\" hidden><div class=\"sk-item\"><div class=\"sk-estimator sk-toggleable\"><input class=\"sk-toggleable__control sk-hidden--visually\" id=\"sk-estimator-id-5\" type=\"checkbox\" checked><label for=\"sk-estimator-id-5\" class=\"sk-toggleable__label sk-toggleable__label-arrow\">RandomForestClassifier</label><div class=\"sk-toggleable__content\"><pre>RandomForestClassifier(criterion=&#x27;entropy&#x27;, max_depth=13)</pre></div></div></div></div></div>"
      ],
      "text/plain": [
       "RandomForestClassifier(criterion='entropy', max_depth=13)"
      ]
     },
     "execution_count": 27,
     "metadata": {},
     "output_type": "execute_result"
    }
   ],
   "source": [
    "clf.best_estimator_"
   ]
  },
  {
   "cell_type": "code",
   "execution_count": 44,
   "id": "9e70dd61",
   "metadata": {},
   "outputs": [
    {
     "data": {
      "text/plain": [
       "0.9410041841004185"
      ]
     },
     "execution_count": 44,
     "metadata": {},
     "output_type": "execute_result"
    }
   ],
   "source": [
    "clf.best_score_"
   ]
  },
  {
   "cell_type": "code",
   "execution_count": 28,
   "id": "4874bc86",
   "metadata": {},
   "outputs": [
    {
     "data": {
      "text/plain": [
       "{'criterion': 'entropy',\n",
       " 'max_depth': 13,\n",
       " 'max_features': 'sqrt',\n",
       " 'n_estimators': 100}"
      ]
     },
     "execution_count": 28,
     "metadata": {},
     "output_type": "execute_result"
    }
   ],
   "source": [
    "clf.best_params_"
   ]
  },
  {
   "cell_type": "code",
   "execution_count": 29,
   "id": "d127a4f7",
   "metadata": {},
   "outputs": [
    {
     "name": "stdout",
     "output_type": "stream",
     "text": [
      "Best accuracy obtained:  0.94\n"
     ]
    }
   ],
   "source": [
    "print(\"Best accuracy obtained: \", round(clf.best_score_, 2))"
   ]
  },
  {
   "cell_type": "code",
   "execution_count": null,
   "id": "1955757c",
   "metadata": {},
   "outputs": [],
   "source": []
  },
  {
   "cell_type": "markdown",
   "id": "5c72c714",
   "metadata": {},
   "source": [
    "### Hyper-Parameter Tuning using Bayesian Optimization"
   ]
  },
  {
   "cell_type": "code",
   "execution_count": 30,
   "id": "2807b0c7",
   "metadata": {},
   "outputs": [],
   "source": [
    "def optimize(params, param_names, x, y):\n",
    "    params = dict(zip(param_names, params))\n",
    "    model = ensemble.RandomForestClassifier(**params)\n",
    "    kfold = model_selection.StratifiedKFold(n_splits=5)\n",
    "    accuracies = []\n",
    "    \n",
    "    for idx in kfold.split(X=x, y=y):\n",
    "        train_idx, valid_idx = idx[0], idx[1]        \n",
    "        xtrain = x[train_idx]\n",
    "        ytrain = y[train_idx]\n",
    "        \n",
    "        xvalid = x[valid_idx]\n",
    "        yvalid = y[valid_idx]\n",
    "        \n",
    "        model.fit(xtrain, ytrain)        \n",
    "        preds = model.predict(xvalid)        \n",
    "        fold_accuracy = accuracy_score(yvalid, preds)\n",
    "        \n",
    "        accuracies.append(fold_accuracy)\n",
    "        \n",
    "    return -1.0 * np.mean(accuracies)"
   ]
  },
  {
   "cell_type": "code",
   "execution_count": 33,
   "id": "83b88e59",
   "metadata": {},
   "outputs": [],
   "source": [
    "param_space = [\n",
    "    space.Integer(3, 13, name='max_depth'),\n",
    "    space.Integer(100, 500, name='n_estimators'),\n",
    "    space.Categorical(categories=['gini', 'entropy'], name='criterion'),\n",
    "    space.Categorical(['sqrt', 'log2'], name='max_features')\n",
    "]"
   ]
  },
  {
   "cell_type": "code",
   "execution_count": 34,
   "id": "46f5b256",
   "metadata": {},
   "outputs": [],
   "source": [
    "param_names = ['max_depth', 'n_estimators', 'criterion',  'max_features']"
   ]
  },
  {
   "cell_type": "code",
   "execution_count": 36,
   "id": "fc33355f",
   "metadata": {},
   "outputs": [],
   "source": [
    "optimization_function = partial(optimize, param_names = param_names, x = X_train_transform, y = y_train)"
   ]
  },
  {
   "cell_type": "code",
   "execution_count": 37,
   "id": "53b64eef",
   "metadata": {},
   "outputs": [
    {
     "name": "stdout",
     "output_type": "stream",
     "text": [
      "Iteration No: 1 started. Evaluating function at random point.\n",
      "Iteration No: 1 ended. Evaluation done at random point.\n",
      "Time taken: 4.5167\n",
      "Function value obtained: -0.9305\n",
      "Current minimum: -0.9305\n",
      "Iteration No: 2 started. Evaluating function at random point.\n",
      "Iteration No: 2 ended. Evaluation done at random point.\n",
      "Time taken: 3.3989\n",
      "Function value obtained: -0.9100\n",
      "Current minimum: -0.9305\n",
      "Iteration No: 3 started. Evaluating function at random point.\n",
      "Iteration No: 3 ended. Evaluation done at random point.\n",
      "Time taken: 7.8255\n",
      "Function value obtained: -0.8958\n",
      "Current minimum: -0.9305\n",
      "Iteration No: 4 started. Evaluating function at random point.\n",
      "Iteration No: 4 ended. Evaluation done at random point.\n",
      "Time taken: 7.2440\n",
      "Function value obtained: -0.9343\n",
      "Current minimum: -0.9343\n",
      "Iteration No: 5 started. Evaluating function at random point.\n",
      "Iteration No: 5 ended. Evaluation done at random point.\n",
      "Time taken: 5.4996\n",
      "Function value obtained: -0.8778\n",
      "Current minimum: -0.9343\n"
     ]
    }
   ],
   "source": [
    "result = gp_minimize(func=optimization_function,\n",
    "                     dimensions = param_space,\n",
    "                     n_calls=5,\n",
    "                     n_random_starts=5,\n",
    "                     verbose=10,\n",
    "                     n_jobs=-1)"
   ]
  },
  {
   "cell_type": "code",
   "execution_count": 38,
   "id": "da9eea9d",
   "metadata": {},
   "outputs": [
    {
     "name": "stdout",
     "output_type": "stream",
     "text": [
      "{'max_depth': 12, 'n_estimators': 297, 'criterion': 'entropy', 'max_features': 'log2'}\n",
      "[CV 3/10; 1/96] START criterion=gini, max_depth=3, max_features=sqrt, n_estimators=100\n",
      "[CV 3/10; 1/96] END criterion=gini, max_depth=3, max_features=sqrt, n_estimators=100;, score=(train=0.827, test=0.816) total time=   0.5s\n",
      "[CV 10/10; 1/96] START criterion=gini, max_depth=3, max_features=sqrt, n_estimators=100\n",
      "[CV 10/10; 1/96] END criterion=gini, max_depth=3, max_features=sqrt, n_estimators=100;, score=(train=0.829, test=0.833) total time=   0.4s\n",
      "[CV 8/10; 2/96] START criterion=gini, max_depth=3, max_features=sqrt, n_estimators=200\n",
      "[CV 8/10; 2/96] END criterion=gini, max_depth=3, max_features=sqrt, n_estimators=200;, score=(train=0.826, test=0.828) total time=   0.9s\n",
      "[CV 6/10; 3/96] START criterion=gini, max_depth=3, max_features=sqrt, n_estimators=300\n",
      "[CV 6/10; 3/96] END criterion=gini, max_depth=3, max_features=sqrt, n_estimators=300;, score=(train=0.831, test=0.820) total time=   1.3s\n",
      "[CV 4/10; 4/96] START criterion=gini, max_depth=3, max_features=sqrt, n_estimators=400\n",
      "[CV 4/10; 4/96] END criterion=gini, max_depth=3, max_features=sqrt, n_estimators=400;, score=(train=0.829, test=0.841) total time=   1.8s\n",
      "[CV 2/10; 5/96] START criterion=gini, max_depth=3, max_features=log2, n_estimators=100\n",
      "[CV 2/10; 5/96] END criterion=gini, max_depth=3, max_features=log2, n_estimators=100;, score=(train=0.831, test=0.820) total time=   0.4s\n",
      "[CV 6/10; 5/96] START criterion=gini, max_depth=3, max_features=log2, n_estimators=100\n",
      "[CV 6/10; 5/96] END criterion=gini, max_depth=3, max_features=log2, n_estimators=100;, score=(train=0.832, test=0.816) total time=   0.4s\n",
      "[CV 2/10; 6/96] START criterion=gini, max_depth=3, max_features=log2, n_estimators=200\n",
      "[CV 2/10; 6/96] END criterion=gini, max_depth=3, max_features=log2, n_estimators=200;, score=(train=0.834, test=0.820) total time=   0.9s\n",
      "[CV 10/10; 6/96] START criterion=gini, max_depth=3, max_features=log2, n_estimators=200\n",
      "[CV 10/10; 6/96] END criterion=gini, max_depth=3, max_features=log2, n_estimators=200;, score=(train=0.828, test=0.841) total time=   0.9s\n",
      "[CV 7/10; 7/96] START criterion=gini, max_depth=3, max_features=log2, n_estimators=300\n",
      "[CV 7/10; 7/96] END criterion=gini, max_depth=3, max_features=log2, n_estimators=300;, score=(train=0.830, test=0.762) total time=   1.3s\n",
      "[CV 5/10; 8/96] START criterion=gini, max_depth=3, max_features=log2, n_estimators=400\n",
      "[CV 5/10; 8/96] END criterion=gini, max_depth=3, max_features=log2, n_estimators=400;, score=(train=0.834, test=0.803) total time=   1.7s\n",
      "[CV 3/10; 9/96] START criterion=gini, max_depth=5, max_features=sqrt, n_estimators=100\n",
      "[CV 3/10; 9/96] END criterion=gini, max_depth=5, max_features=sqrt, n_estimators=100;, score=(train=0.904, test=0.883) total time=   0.6s\n",
      "[CV 7/10; 9/96] START criterion=gini, max_depth=5, max_features=sqrt, n_estimators=100\n",
      "[CV 7/10; 9/96] END criterion=gini, max_depth=5, max_features=sqrt, n_estimators=100;, score=(train=0.914, test=0.862) total time=   0.6s\n",
      "[CV 3/10; 10/96] START criterion=gini, max_depth=5, max_features=sqrt, n_estimators=200\n",
      "[CV 3/10; 10/96] END criterion=gini, max_depth=5, max_features=sqrt, n_estimators=200;, score=(train=0.908, test=0.879) total time=   1.1s\n",
      "[CV 1/10; 11/96] START criterion=gini, max_depth=5, max_features=sqrt, n_estimators=300\n",
      "[CV 1/10; 11/96] END criterion=gini, max_depth=5, max_features=sqrt, n_estimators=300;, score=(train=0.907, test=0.891) total time=   1.7s\n",
      "[CV 9/10; 11/96] START criterion=gini, max_depth=5, max_features=sqrt, n_estimators=300\n",
      "[CV 9/10; 11/96] END criterion=gini, max_depth=5, max_features=sqrt, n_estimators=300;, score=(train=0.912, test=0.879) total time=   1.7s\n",
      "[CV 8/10; 12/96] START criterion=gini, max_depth=5, max_features=sqrt, n_estimators=400\n",
      "[CV 8/10; 12/96] END criterion=gini, max_depth=5, max_features=sqrt, n_estimators=400;, score=(train=0.913, test=0.866) total time=   2.2s\n",
      "[CV 2/10; 14/96] START criterion=gini, max_depth=5, max_features=log2, n_estimators=200\n",
      "[CV 2/10; 14/96] END criterion=gini, max_depth=5, max_features=log2, n_estimators=200;, score=(train=0.911, test=0.900) total time=   1.3s\n",
      "[CV 10/10; 14/96] START criterion=gini, max_depth=5, max_features=log2, n_estimators=200\n",
      "[CV 10/10; 14/96] END criterion=gini, max_depth=5, max_features=log2, n_estimators=200;, score=(train=0.905, test=0.900) total time=   1.1s\n",
      "[CV 8/10; 15/96] START criterion=gini, max_depth=5, max_features=log2, n_estimators=300\n",
      "[CV 8/10; 15/96] END criterion=gini, max_depth=5, max_features=log2, n_estimators=300;, score=(train=0.911, test=0.858) total time=   1.7s\n",
      "[CV 6/10; 16/96] START criterion=gini, max_depth=5, max_features=log2, n_estimators=400\n",
      "[CV 6/10; 16/96] END criterion=gini, max_depth=5, max_features=log2, n_estimators=400;, score=(train=0.912, test=0.879) total time=   2.2s\n",
      "[CV 4/10; 17/96] START criterion=gini, max_depth=7, max_features=sqrt, n_estimators=100\n",
      "[CV 4/10; 17/96] END criterion=gini, max_depth=7, max_features=sqrt, n_estimators=100;, score=(train=0.952, test=0.933) total time=   0.7s\n",
      "[CV 10/10; 17/96] START criterion=gini, max_depth=7, max_features=sqrt, n_estimators=100\n",
      "[CV 10/10; 17/96] END criterion=gini, max_depth=7, max_features=sqrt, n_estimators=100;, score=(train=0.945, test=0.946) total time=   0.7s\n",
      "[CV 7/10; 18/96] START criterion=gini, max_depth=7, max_features=sqrt, n_estimators=200\n",
      "[CV 7/10; 18/96] END criterion=gini, max_depth=7, max_features=sqrt, n_estimators=200;, score=(train=0.952, test=0.916) total time=   1.4s\n",
      "[CV 6/10; 19/96] START criterion=gini, max_depth=7, max_features=sqrt, n_estimators=300\n",
      "[CV 6/10; 19/96] END criterion=gini, max_depth=7, max_features=sqrt, n_estimators=300;, score=(train=0.950, test=0.912) total time=   2.2s\n",
      "[CV 3/10; 20/96] START criterion=gini, max_depth=7, max_features=sqrt, n_estimators=400\n",
      "[CV 3/10; 20/96] END criterion=gini, max_depth=7, max_features=sqrt, n_estimators=400;, score=(train=0.948, test=0.900) total time=   2.6s\n",
      "[CV 10/10; 20/96] START criterion=gini, max_depth=7, max_features=sqrt, n_estimators=400\n",
      "[CV 10/10; 20/96] END criterion=gini, max_depth=7, max_features=sqrt, n_estimators=400;, score=(train=0.951, test=0.937) total time=   2.6s\n",
      "[CV 8/10; 22/96] START criterion=gini, max_depth=7, max_features=log2, n_estimators=200\n",
      "[CV 8/10; 22/96] END criterion=gini, max_depth=7, max_features=log2, n_estimators=200;, score=(train=0.949, test=0.900) total time=   1.3s\n",
      "[CV 6/10; 23/96] START criterion=gini, max_depth=7, max_features=log2, n_estimators=300\n",
      "[CV 6/10; 23/96] END criterion=gini, max_depth=7, max_features=log2, n_estimators=300;, score=(train=0.949, test=0.921) total time=   2.0s\n",
      "[CV 4/10; 24/96] START criterion=gini, max_depth=7, max_features=log2, n_estimators=400\n",
      "[CV 4/10; 24/96] END criterion=gini, max_depth=7, max_features=log2, n_estimators=400;, score=(train=0.951, test=0.929) total time=   2.6s\n",
      "[CV 2/10; 25/96] START criterion=gini, max_depth=9, max_features=sqrt, n_estimators=100\n",
      "[CV 2/10; 25/96] END criterion=gini, max_depth=9, max_features=sqrt, n_estimators=100;, score=(train=0.974, test=0.916) total time=   0.7s\n",
      "[CV 6/10; 25/96] START criterion=gini, max_depth=9, max_features=sqrt, n_estimators=100\n",
      "[CV 6/10; 25/96] END criterion=gini, max_depth=9, max_features=sqrt, n_estimators=100;, score=(train=0.972, test=0.921) total time=   0.7s\n",
      "[CV 2/10; 26/96] START criterion=gini, max_depth=9, max_features=sqrt, n_estimators=200\n",
      "[CV 2/10; 26/96] END criterion=gini, max_depth=9, max_features=sqrt, n_estimators=200;, score=(train=0.976, test=0.933) total time=   1.4s\n",
      "[CV 10/10; 26/96] START criterion=gini, max_depth=9, max_features=sqrt, n_estimators=200\n",
      "[CV 10/10; 26/96] END criterion=gini, max_depth=9, max_features=sqrt, n_estimators=200;, score=(train=0.973, test=0.941) total time=   1.4s\n",
      "[CV 8/10; 27/96] START criterion=gini, max_depth=9, max_features=sqrt, n_estimators=300\n",
      "[CV 8/10; 27/96] END criterion=gini, max_depth=9, max_features=sqrt, n_estimators=300;, score=(train=0.974, test=0.908) total time=   2.1s\n",
      "[CV 6/10; 28/96] START criterion=gini, max_depth=9, max_features=sqrt, n_estimators=400\n",
      "[CV 6/10; 28/96] END criterion=gini, max_depth=9, max_features=sqrt, n_estimators=400;, score=(train=0.974, test=0.929) total time=   2.9s\n",
      "[CV 6/10; 29/96] START criterion=gini, max_depth=9, max_features=log2, n_estimators=100\n",
      "[CV 6/10; 29/96] END criterion=gini, max_depth=9, max_features=log2, n_estimators=100;, score=(train=0.969, test=0.912) total time=   0.7s\n",
      "[CV 10/10; 29/96] START criterion=gini, max_depth=9, max_features=log2, n_estimators=100\n",
      "[CV 10/10; 29/96] END criterion=gini, max_depth=9, max_features=log2, n_estimators=100;, score=(train=0.978, test=0.933) total time=   0.7s\n",
      "[CV 6/10; 30/96] START criterion=gini, max_depth=9, max_features=log2, n_estimators=200\n",
      "[CV 6/10; 30/96] END criterion=gini, max_depth=9, max_features=log2, n_estimators=200;, score=(train=0.970, test=0.921) total time=   1.4s\n",
      "[CV 4/10; 31/96] START criterion=gini, max_depth=9, max_features=log2, n_estimators=300\n",
      "[CV 4/10; 31/96] END criterion=gini, max_depth=9, max_features=log2, n_estimators=300;, score=(train=0.973, test=0.946) total time=   2.2s\n",
      "[CV 2/10; 32/96] START criterion=gini, max_depth=9, max_features=log2, n_estimators=400\n",
      "[CV 2/10; 32/96] END criterion=gini, max_depth=9, max_features=log2, n_estimators=400;, score=(train=0.975, test=0.929) total time=   2.9s\n",
      "[CV 10/10; 32/96] START criterion=gini, max_depth=9, max_features=log2, n_estimators=400\n",
      "[CV 10/10; 32/96] END criterion=gini, max_depth=9, max_features=log2, n_estimators=400;, score=(train=0.974, test=0.954) total time=   3.0s\n",
      "[CV 8/10; 34/96] START criterion=gini, max_depth=11, max_features=sqrt, n_estimators=200\n",
      "[CV 8/10; 34/96] END criterion=gini, max_depth=11, max_features=sqrt, n_estimators=200;, score=(train=0.988, test=0.921) total time=   1.6s\n",
      "[CV 6/10; 35/96] START criterion=gini, max_depth=11, max_features=sqrt, n_estimators=300\n",
      "[CV 6/10; 35/96] END criterion=gini, max_depth=11, max_features=sqrt, n_estimators=300;, score=(train=0.996, test=0.937) total time=   2.3s\n",
      "[CV 4/10; 36/96] START criterion=gini, max_depth=11, max_features=sqrt, n_estimators=400\n",
      "[CV 4/10; 36/96] END criterion=gini, max_depth=11, max_features=sqrt, n_estimators=400;, score=(train=0.995, test=0.958) total time=   3.1s\n",
      "[CV 2/10; 37/96] START criterion=gini, max_depth=11, max_features=log2, n_estimators=100\n",
      "[CV 2/10; 37/96] END criterion=gini, max_depth=11, max_features=log2, n_estimators=100;, score=(train=0.994, test=0.946) total time=   0.8s\n",
      "[CV 4/10; 37/96] START criterion=gini, max_depth=11, max_features=log2, n_estimators=100\n",
      "[CV 4/10; 37/96] END criterion=gini, max_depth=11, max_features=log2, n_estimators=100;, score=(train=0.994, test=0.958) total time=   0.8s\n",
      "[CV 8/10; 37/96] START criterion=gini, max_depth=11, max_features=log2, n_estimators=100\n",
      "[CV 8/10; 37/96] END criterion=gini, max_depth=11, max_features=log2, n_estimators=100;, score=(train=0.992, test=0.921) total time=   0.8s\n",
      "[CV 4/10; 38/96] START criterion=gini, max_depth=11, max_features=log2, n_estimators=200\n",
      "[CV 4/10; 38/96] END criterion=gini, max_depth=11, max_features=log2, n_estimators=200;, score=(train=0.993, test=0.958) total time=   1.6s\n",
      "[CV 2/10; 39/96] START criterion=gini, max_depth=11, max_features=log2, n_estimators=300\n",
      "[CV 2/10; 39/96] END criterion=gini, max_depth=11, max_features=log2, n_estimators=300;, score=(train=0.994, test=0.937) total time=   2.3s\n",
      "[CV 10/10; 39/96] START criterion=gini, max_depth=11, max_features=log2, n_estimators=300\n",
      "[CV 10/10; 39/96] END criterion=gini, max_depth=11, max_features=log2, n_estimators=300;, score=(train=0.995, test=0.929) total time=   2.3s\n",
      "[CV 8/10; 40/96] START criterion=gini, max_depth=11, max_features=log2, n_estimators=400\n",
      "[CV 8/10; 40/96] END criterion=gini, max_depth=11, max_features=log2, n_estimators=400;, score=(train=0.991, test=0.921) total time=   3.0s\n",
      "[CV 2/10; 42/96] START criterion=gini, max_depth=13, max_features=sqrt, n_estimators=200\n",
      "[CV 2/10; 42/96] END criterion=gini, max_depth=13, max_features=sqrt, n_estimators=200;, score=(train=0.999, test=0.954) total time=   1.5s\n",
      "[CV 10/10; 42/96] START criterion=gini, max_depth=13, max_features=sqrt, n_estimators=200\n",
      "[CV 10/10; 42/96] END criterion=gini, max_depth=13, max_features=sqrt, n_estimators=200;, score=(train=1.000, test=0.933) total time=   1.6s\n",
      "[CV 8/10; 43/96] START criterion=gini, max_depth=13, max_features=sqrt, n_estimators=300\n",
      "[CV 8/10; 43/96] END criterion=gini, max_depth=13, max_features=sqrt, n_estimators=300;, score=(train=1.000, test=0.929) total time=   2.3s\n",
      "[CV 5/10; 44/96] START criterion=gini, max_depth=13, max_features=sqrt, n_estimators=400\n",
      "[CV 5/10; 44/96] END criterion=gini, max_depth=13, max_features=sqrt, n_estimators=400;, score=(train=1.000, test=0.925) total time=   3.1s\n",
      "[CV 3/10; 45/96] START criterion=gini, max_depth=13, max_features=log2, n_estimators=100\n",
      "[CV 3/10; 45/96] END criterion=gini, max_depth=13, max_features=log2, n_estimators=100;, score=(train=1.000, test=0.933) total time=   0.8s\n",
      "[CV 7/10; 45/96] START criterion=gini, max_depth=13, max_features=log2, n_estimators=100\n",
      "[CV 7/10; 45/96] END criterion=gini, max_depth=13, max_features=log2, n_estimators=100;, score=(train=1.000, test=0.937) total time=   0.8s\n",
      "[CV 4/10; 46/96] START criterion=gini, max_depth=13, max_features=log2, n_estimators=200\n",
      "[CV 4/10; 46/96] END criterion=gini, max_depth=13, max_features=log2, n_estimators=200;, score=(train=1.000, test=0.958) total time=   1.6s\n",
      "[CV 2/10; 47/96] START criterion=gini, max_depth=13, max_features=log2, n_estimators=300\n",
      "[CV 2/10; 47/96] END criterion=gini, max_depth=13, max_features=log2, n_estimators=300;, score=(train=1.000, test=0.937) total time=   2.3s\n",
      "[CV 1/10; 48/96] START criterion=gini, max_depth=13, max_features=log2, n_estimators=400\n",
      "[CV 1/10; 48/96] END criterion=gini, max_depth=13, max_features=log2, n_estimators=400;, score=(train=1.000, test=0.925) total time=   3.1s\n",
      "[CV 9/10; 48/96] START criterion=gini, max_depth=13, max_features=log2, n_estimators=400\n",
      "[CV 9/10; 48/96] END criterion=gini, max_depth=13, max_features=log2, n_estimators=400;, score=(train=1.000, test=0.946) total time=   3.2s\n",
      "[CV 8/10; 50/96] START criterion=entropy, max_depth=3, max_features=sqrt, n_estimators=200\n",
      "[CV 8/10; 50/96] END criterion=entropy, max_depth=3, max_features=sqrt, n_estimators=200;, score=(train=0.823, test=0.812) total time=   1.0s\n",
      "[CV 6/10; 51/96] START criterion=entropy, max_depth=3, max_features=sqrt, n_estimators=300\n",
      "[CV 6/10; 51/96] END criterion=entropy, max_depth=3, max_features=sqrt, n_estimators=300;, score=(train=0.828, test=0.808) total time=   1.5s\n",
      "[CV 4/10; 52/96] START criterion=entropy, max_depth=3, max_features=sqrt, n_estimators=400\n",
      "[CV 4/10; 52/96] END criterion=entropy, max_depth=3, max_features=sqrt, n_estimators=400;, score=(train=0.828, test=0.854) total time=   2.0s\n",
      "[CV 2/10; 53/96] START criterion=entropy, max_depth=3, max_features=log2, n_estimators=100\n",
      "[CV 2/10; 53/96] END criterion=entropy, max_depth=3, max_features=log2, n_estimators=100;, score=(train=0.825, test=0.816) total time=   0.5s\n",
      "[CV 6/10; 53/96] START criterion=entropy, max_depth=3, max_features=log2, n_estimators=100\n",
      "[CV 6/10; 53/96] END criterion=entropy, max_depth=3, max_features=log2, n_estimators=100;, score=(train=0.830, test=0.812) total time=   0.5s\n",
      "[CV 2/10; 54/96] START criterion=entropy, max_depth=3, max_features=log2, n_estimators=200\n",
      "[CV 2/10; 54/96] END criterion=entropy, max_depth=3, max_features=log2, n_estimators=200;, score=(train=0.830, test=0.820) total time=   1.0s\n",
      "[CV 10/10; 54/96] START criterion=entropy, max_depth=3, max_features=log2, n_estimators=200\n",
      "[CV 10/10; 54/96] END criterion=entropy, max_depth=3, max_features=log2, n_estimators=200;, score=(train=0.821, test=0.833) total time=   1.0s\n",
      "[CV 8/10; 55/96] START criterion=entropy, max_depth=3, max_features=log2, n_estimators=300\n",
      "[CV 8/10; 55/96] END criterion=entropy, max_depth=3, max_features=log2, n_estimators=300;, score=(train=0.824, test=0.816) total time=   1.5s\n",
      "[CV 6/10; 56/96] START criterion=entropy, max_depth=3, max_features=log2, n_estimators=400\n",
      "[CV 6/10; 56/96] END criterion=entropy, max_depth=3, max_features=log2, n_estimators=400;, score=(train=0.828, test=0.803) total time=   2.0s\n",
      "[CV 6/10; 57/96] START criterion=entropy, max_depth=5, max_features=sqrt, n_estimators=100\n",
      "[CV 6/10; 57/96] END criterion=entropy, max_depth=5, max_features=sqrt, n_estimators=100;, score=(train=0.901, test=0.862) total time=   0.7s\n",
      "[CV 2/10; 58/96] START criterion=entropy, max_depth=5, max_features=sqrt, n_estimators=200\n",
      "[CV 2/10; 58/96] END criterion=entropy, max_depth=5, max_features=sqrt, n_estimators=200;, score=(train=0.905, test=0.870) total time=   1.3s\n",
      "[CV 10/10; 58/96] START criterion=entropy, max_depth=5, max_features=sqrt, n_estimators=200\n",
      "[CV 10/10; 58/96] END criterion=entropy, max_depth=5, max_features=sqrt, n_estimators=200;, score=(train=0.898, test=0.900) total time=   1.3s\n",
      "[CV 8/10; 59/96] START criterion=entropy, max_depth=5, max_features=sqrt, n_estimators=300\n",
      "[CV 8/10; 59/96] END criterion=entropy, max_depth=5, max_features=sqrt, n_estimators=300;, score=(train=0.909, test=0.870) total time=   2.0s\n",
      "[CV 6/10; 60/96] START criterion=entropy, max_depth=5, max_features=sqrt, n_estimators=400\n",
      "[CV 6/10; 60/96] END criterion=entropy, max_depth=5, max_features=sqrt, n_estimators=400;, score=(train=0.908, test=0.866) total time=   2.7s\n",
      "[CV 6/10; 61/96] START criterion=entropy, max_depth=5, max_features=log2, n_estimators=100\n",
      "[CV 6/10; 61/96] END criterion=entropy, max_depth=5, max_features=log2, n_estimators=100;, score=(train=0.904, test=0.866) total time=   0.7s\n",
      "[CV 10/10; 61/96] START criterion=entropy, max_depth=5, max_features=log2, n_estimators=100\n",
      "[CV 10/10; 61/96] END criterion=entropy, max_depth=5, max_features=log2, n_estimators=100;, score=(train=0.894, test=0.900) total time=   0.7s\n",
      "[CV 6/10; 62/96] START criterion=entropy, max_depth=5, max_features=log2, n_estimators=200\n",
      "[CV 6/10; 62/96] END criterion=entropy, max_depth=5, max_features=log2, n_estimators=200;, score=(train=0.897, test=0.862) total time=   1.3s\n",
      "[CV 4/10; 63/96] START criterion=entropy, max_depth=5, max_features=log2, n_estimators=300\n",
      "[CV 4/10; 63/96] END criterion=entropy, max_depth=5, max_features=log2, n_estimators=300;, score=(train=0.905, test=0.900) total time=   2.0s\n",
      "[CV 2/10; 64/96] START criterion=entropy, max_depth=5, max_features=log2, n_estimators=400\n",
      "[CV 2/10; 64/96] END criterion=entropy, max_depth=5, max_features=log2, n_estimators=400;, score=(train=0.903, test=0.887) total time=   2.7s\n",
      "[CV 10/10; 64/96] START criterion=entropy, max_depth=5, max_features=log2, n_estimators=400\n",
      "[CV 10/10; 64/96] END criterion=entropy, max_depth=5, max_features=log2, n_estimators=400;, score=(train=0.897, test=0.904) total time=   2.7s\n",
      "[CV 6/10; 66/96] START criterion=entropy, max_depth=7, max_features=sqrt, n_estimators=200\n",
      "[CV 6/10; 66/96] END criterion=entropy, max_depth=7, max_features=sqrt, n_estimators=200;, score=(train=0.949, test=0.912) total time=   1.7s\n",
      "[CV 4/10; 67/96] START criterion=entropy, max_depth=7, max_features=sqrt, n_estimators=300\n",
      "[CV 4/10; 67/96] END criterion=entropy, max_depth=7, max_features=sqrt, n_estimators=300;, score=(train=0.944, test=0.925) total time=   2.4s\n",
      "[CV 2/10; 68/96] START criterion=entropy, max_depth=7, max_features=sqrt, n_estimators=400\n",
      "[CV 2/10; 68/96] END criterion=entropy, max_depth=7, max_features=sqrt, n_estimators=400;, score=(train=0.947, test=0.912) total time=   3.2s\n",
      "[CV 10/10; 68/96] START criterion=entropy, max_depth=7, max_features=sqrt, n_estimators=400\n",
      "[CV 10/10; 68/96] END criterion=entropy, max_depth=7, max_features=sqrt, n_estimators=400;, score=(train=0.947, test=0.941) total time=   3.2s\n",
      "[CV 8/10; 70/96] START criterion=entropy, max_depth=7, max_features=log2, n_estimators=200\n",
      "[CV 8/10; 70/96] END criterion=entropy, max_depth=7, max_features=log2, n_estimators=200;, score=(train=0.946, test=0.879) total time=   1.6s\n",
      "[CV 6/10; 71/96] START criterion=entropy, max_depth=7, max_features=log2, n_estimators=300\n",
      "[CV 6/10; 71/96] END criterion=entropy, max_depth=7, max_features=log2, n_estimators=300;, score=(train=0.945, test=0.912) total time=   2.4s\n",
      "[CV 4/10; 72/96] START criterion=entropy, max_depth=7, max_features=log2, n_estimators=400\n",
      "[CV 4/10; 72/96] END criterion=entropy, max_depth=7, max_features=log2, n_estimators=400;, score=(train=0.943, test=0.925) total time=   3.2s\n",
      "[CV 2/10; 73/96] START criterion=entropy, max_depth=9, max_features=sqrt, n_estimators=100\n",
      "[CV 2/10; 73/96] END criterion=entropy, max_depth=9, max_features=sqrt, n_estimators=100;, score=(train=0.973, test=0.921) total time=   0.9s\n",
      "[CV 6/10; 73/96] START criterion=entropy, max_depth=9, max_features=sqrt, n_estimators=100\n",
      "[CV 6/10; 73/96] END criterion=entropy, max_depth=9, max_features=sqrt, n_estimators=100;, score=(train=0.967, test=0.925) total time=   0.9s\n",
      "[CV 2/10; 74/96] START criterion=entropy, max_depth=9, max_features=sqrt, n_estimators=200\n",
      "[CV 2/10; 74/96] END criterion=entropy, max_depth=9, max_features=sqrt, n_estimators=200;, score=(train=0.972, test=0.921) total time=   1.8s\n",
      "[CV 10/10; 74/96] START criterion=entropy, max_depth=9, max_features=sqrt, n_estimators=200\n",
      "[CV 10/10; 74/96] END criterion=entropy, max_depth=9, max_features=sqrt, n_estimators=200;, score=(train=0.971, test=0.954) total time=   1.8s\n",
      "[CV 8/10; 75/96] START criterion=entropy, max_depth=9, max_features=sqrt, n_estimators=300\n",
      "[CV 8/10; 75/96] END criterion=entropy, max_depth=9, max_features=sqrt, n_estimators=300;, score=(train=0.972, test=0.904) total time=   2.7s\n",
      "[CV 6/10; 76/96] START criterion=entropy, max_depth=9, max_features=sqrt, n_estimators=400\n",
      "[CV 6/10; 76/96] END criterion=entropy, max_depth=9, max_features=sqrt, n_estimators=400;, score=(train=0.968, test=0.921) total time=   3.6s\n",
      "[CV 6/10; 77/96] START criterion=entropy, max_depth=9, max_features=log2, n_estimators=100\n",
      "[CV 6/10; 77/96] END criterion=entropy, max_depth=9, max_features=log2, n_estimators=100;, score=(train=0.974, test=0.937) total time=   0.9s\n",
      "[CV 10/10; 77/96] START criterion=entropy, max_depth=9, max_features=log2, n_estimators=100\n",
      "[CV 10/10; 77/96] END criterion=entropy, max_depth=9, max_features=log2, n_estimators=100;, score=(train=0.970, test=0.937) total time=   1.0s\n",
      "[CV 6/10; 78/96] START criterion=entropy, max_depth=9, max_features=log2, n_estimators=200\n",
      "[CV 6/10; 78/96] END criterion=entropy, max_depth=9, max_features=log2, n_estimators=200;, score=(train=0.970, test=0.925) total time=   1.8s\n",
      "[CV 4/10; 79/96] START criterion=entropy, max_depth=9, max_features=log2, n_estimators=300\n",
      "[CV 4/10; 79/96] END criterion=entropy, max_depth=9, max_features=log2, n_estimators=300;, score=(train=0.974, test=0.950) total time=   2.7s\n",
      "[CV 2/10; 80/96] START criterion=entropy, max_depth=9, max_features=log2, n_estimators=400\n",
      "[CV 2/10; 80/96] END criterion=entropy, max_depth=9, max_features=log2, n_estimators=400;, score=(train=0.972, test=0.921) total time=   3.6s\n",
      "[CV 10/10; 80/96] START criterion=entropy, max_depth=9, max_features=log2, n_estimators=400\n",
      "[CV 10/10; 80/96] END criterion=entropy, max_depth=9, max_features=log2, n_estimators=400;, score=(train=0.972, test=0.941) total time=   3.6s\n",
      "[CV 8/10; 82/96] START criterion=entropy, max_depth=11, max_features=sqrt, n_estimators=200\n",
      "[CV 8/10; 82/96] END criterion=entropy, max_depth=11, max_features=sqrt, n_estimators=200;, score=(train=0.991, test=0.916) total time=   1.9s\n",
      "[CV 5/10; 83/96] START criterion=entropy, max_depth=11, max_features=sqrt, n_estimators=300\n",
      "[CV 5/10; 83/96] END criterion=entropy, max_depth=11, max_features=sqrt, n_estimators=300;, score=(train=0.992, test=0.912) total time=   2.8s\n",
      "[CV 3/10; 84/96] START criterion=entropy, max_depth=11, max_features=sqrt, n_estimators=400\n",
      "[CV 3/10; 84/96] END criterion=entropy, max_depth=11, max_features=sqrt, n_estimators=400;, score=(train=0.995, test=0.921) total time=   3.8s\n",
      "[CV 1/10; 85/96] START criterion=entropy, max_depth=11, max_features=log2, n_estimators=100\n",
      "[CV 1/10; 85/96] END criterion=entropy, max_depth=11, max_features=log2, n_estimators=100;, score=(train=0.993, test=0.925) total time=   1.0s\n",
      "[CV 4/10; 85/96] START criterion=entropy, max_depth=11, max_features=log2, n_estimators=100\n",
      "[CV 4/10; 85/96] END criterion=entropy, max_depth=11, max_features=log2, n_estimators=100;, score=(train=0.992, test=0.967) total time=   1.0s\n",
      "[CV 8/10; 85/96] START criterion=entropy, max_depth=11, max_features=log2, n_estimators=100\n",
      "[CV 8/10; 85/96] END criterion=entropy, max_depth=11, max_features=log2, n_estimators=100;, score=(train=0.987, test=0.916) total time=   1.0s\n",
      "[CV 4/10; 86/96] START criterion=entropy, max_depth=11, max_features=log2, n_estimators=200\n",
      "[CV 4/10; 86/96] END criterion=entropy, max_depth=11, max_features=log2, n_estimators=200;, score=(train=0.991, test=0.958) total time=   1.9s\n",
      "[CV 2/10; 87/96] START criterion=entropy, max_depth=11, max_features=log2, n_estimators=300\n",
      "[CV 2/10; 87/96] END criterion=entropy, max_depth=11, max_features=log2, n_estimators=300;, score=(train=0.995, test=0.929) total time=   2.9s\n",
      "[CV 10/10; 87/96] START criterion=entropy, max_depth=11, max_features=log2, n_estimators=300\n",
      "[CV 10/10; 87/96] END criterion=entropy, max_depth=11, max_features=log2, n_estimators=300;, score=(train=0.994, test=0.921) total time=   2.9s\n",
      "[CV 8/10; 88/96] START criterion=entropy, max_depth=11, max_features=log2, n_estimators=400\n",
      "[CV 8/10; 88/96] END criterion=entropy, max_depth=11, max_features=log2, n_estimators=400;, score=(train=0.993, test=0.916) total time=   3.8s\n",
      "[CV 1/10; 90/96] START criterion=entropy, max_depth=13, max_features=sqrt, n_estimators=200\n",
      "[CV 1/10; 90/96] END criterion=entropy, max_depth=13, max_features=sqrt, n_estimators=200;, score=(train=1.000, test=0.933) total time=   2.0s\n",
      "[CV 9/10; 90/96] START criterion=entropy, max_depth=13, max_features=sqrt, n_estimators=200\n",
      "[CV 9/10; 90/96] END criterion=entropy, max_depth=13, max_features=sqrt, n_estimators=200;, score=(train=0.999, test=0.950) total time=   2.0s\n",
      "[CV 7/10; 91/96] START criterion=entropy, max_depth=13, max_features=sqrt, n_estimators=300\n",
      "[CV 7/10; 91/96] END criterion=entropy, max_depth=13, max_features=sqrt, n_estimators=300;, score=(train=1.000, test=0.937) total time=   2.9s\n",
      "[CV 5/10; 92/96] START criterion=entropy, max_depth=13, max_features=sqrt, n_estimators=400\n",
      "[CV 5/10; 92/96] END criterion=entropy, max_depth=13, max_features=sqrt, n_estimators=400;, score=(train=1.000, test=0.925) total time=   3.9s\n",
      "[CV 3/10; 93/96] START criterion=entropy, max_depth=13, max_features=log2, n_estimators=100\n",
      "[CV 3/10; 93/96] END criterion=entropy, max_depth=13, max_features=log2, n_estimators=100;, score=(train=1.000, test=0.933) total time=   1.0s\n",
      "[CV 7/10; 93/96] START criterion=entropy, max_depth=13, max_features=log2, n_estimators=100\n",
      "[CV 7/10; 93/96] END criterion=entropy, max_depth=13, max_features=log2, n_estimators=100;, score=(train=1.000, test=0.941) total time=   1.0s\n",
      "[CV 3/10; 94/96] START criterion=entropy, max_depth=13, max_features=log2, n_estimators=200\n",
      "[CV 3/10; 94/96] END criterion=entropy, max_depth=13, max_features=log2, n_estimators=200;, score=(train=1.000, test=0.929) total time=   1.9s\n",
      "[CV 1/10; 95/96] START criterion=entropy, max_depth=13, max_features=log2, n_estimators=300\n",
      "[CV 1/10; 95/96] END criterion=entropy, max_depth=13, max_features=log2, n_estimators=300;, score=(train=0.999, test=0.916) total time=   3.0s\n",
      "[CV 9/10; 95/96] START criterion=entropy, max_depth=13, max_features=log2, n_estimators=300\n",
      "[CV 9/10; 95/96] END criterion=entropy, max_depth=13, max_features=log2, n_estimators=300;, score=(train=1.000, test=0.954) total time=   2.9s\n",
      "[CV 7/10; 96/96] START criterion=entropy, max_depth=13, max_features=log2, n_estimators=400\n",
      "[CV 7/10; 96/96] END criterion=entropy, max_depth=13, max_features=log2, n_estimators=400;, score=(train=1.000, test=0.937) total time=   3.6s\n"
     ]
    },
    {
     "name": "stdout",
     "output_type": "stream",
     "text": [
      "[CV 7/10; 1/96] START criterion=gini, max_depth=3, max_features=sqrt, n_estimators=100\n",
      "[CV 7/10; 1/96] END criterion=gini, max_depth=3, max_features=sqrt, n_estimators=100;, score=(train=0.830, test=0.791) total time=   0.4s\n",
      "[CV 4/10; 2/96] START criterion=gini, max_depth=3, max_features=sqrt, n_estimators=200\n",
      "[CV 4/10; 2/96] END criterion=gini, max_depth=3, max_features=sqrt, n_estimators=200;, score=(train=0.828, test=0.845) total time=   0.9s\n",
      "[CV 2/10; 3/96] START criterion=gini, max_depth=3, max_features=sqrt, n_estimators=300\n",
      "[CV 2/10; 3/96] END criterion=gini, max_depth=3, max_features=sqrt, n_estimators=300;, score=(train=0.835, test=0.816) total time=   1.3s\n",
      "[CV 10/10; 3/96] START criterion=gini, max_depth=3, max_features=sqrt, n_estimators=300\n",
      "[CV 10/10; 3/96] END criterion=gini, max_depth=3, max_features=sqrt, n_estimators=300;, score=(train=0.828, test=0.841) total time=   1.2s\n",
      "[CV 8/10; 4/96] START criterion=gini, max_depth=3, max_features=sqrt, n_estimators=400\n",
      "[CV 8/10; 4/96] END criterion=gini, max_depth=3, max_features=sqrt, n_estimators=400;, score=(train=0.830, test=0.833) total time=   1.8s\n",
      "[CV 9/10; 5/96] START criterion=gini, max_depth=3, max_features=log2, n_estimators=100\n",
      "[CV 9/10; 5/96] END criterion=gini, max_depth=3, max_features=log2, n_estimators=100;, score=(train=0.834, test=0.833) total time=   0.4s\n",
      "[CV 7/10; 6/96] START criterion=gini, max_depth=3, max_features=log2, n_estimators=200\n",
      "[CV 7/10; 6/96] END criterion=gini, max_depth=3, max_features=log2, n_estimators=200;, score=(train=0.831, test=0.774) total time=   0.9s\n",
      "[CV 5/10; 7/96] START criterion=gini, max_depth=3, max_features=log2, n_estimators=300\n",
      "[CV 5/10; 7/96] END criterion=gini, max_depth=3, max_features=log2, n_estimators=300;, score=(train=0.835, test=0.799) total time=   1.3s\n",
      "[CV 2/10; 8/96] START criterion=gini, max_depth=3, max_features=log2, n_estimators=400\n",
      "[CV 2/10; 8/96] END criterion=gini, max_depth=3, max_features=log2, n_estimators=400;, score=(train=0.834, test=0.812) total time=   1.7s\n",
      "[CV 2/10; 9/96] START criterion=gini, max_depth=5, max_features=sqrt, n_estimators=100\n",
      "[CV 2/10; 9/96] END criterion=gini, max_depth=5, max_features=sqrt, n_estimators=100;, score=(train=0.911, test=0.883) total time=   0.6s\n",
      "[CV 6/10; 9/96] START criterion=gini, max_depth=5, max_features=sqrt, n_estimators=100\n",
      "[CV 6/10; 9/96] END criterion=gini, max_depth=5, max_features=sqrt, n_estimators=100;, score=(train=0.917, test=0.891) total time=   0.6s\n",
      "[CV 10/10; 9/96] START criterion=gini, max_depth=5, max_features=sqrt, n_estimators=100\n",
      "[CV 10/10; 9/96] END criterion=gini, max_depth=5, max_features=sqrt, n_estimators=100;, score=(train=0.897, test=0.891) total time=   0.6s\n",
      "[CV 8/10; 10/96] START criterion=gini, max_depth=5, max_features=sqrt, n_estimators=200\n",
      "[CV 8/10; 10/96] END criterion=gini, max_depth=5, max_features=sqrt, n_estimators=200;, score=(train=0.915, test=0.866) total time=   1.1s\n",
      "[CV 6/10; 11/96] START criterion=gini, max_depth=5, max_features=sqrt, n_estimators=300\n",
      "[CV 6/10; 11/96] END criterion=gini, max_depth=5, max_features=sqrt, n_estimators=300;, score=(train=0.912, test=0.870) total time=   1.6s\n",
      "[CV 2/10; 12/96] START criterion=gini, max_depth=5, max_features=sqrt, n_estimators=400\n",
      "[CV 2/10; 12/96] END criterion=gini, max_depth=5, max_features=sqrt, n_estimators=400;, score=(train=0.912, test=0.883) total time=   2.2s\n",
      "[CV 10/10; 12/96] START criterion=gini, max_depth=5, max_features=sqrt, n_estimators=400\n",
      "[CV 10/10; 12/96] END criterion=gini, max_depth=5, max_features=sqrt, n_estimators=400;, score=(train=0.903, test=0.895) total time=   2.3s\n",
      "[CV 8/10; 14/96] START criterion=gini, max_depth=5, max_features=log2, n_estimators=200\n",
      "[CV 8/10; 14/96] END criterion=gini, max_depth=5, max_features=log2, n_estimators=200;, score=(train=0.910, test=0.858) total time=   1.1s\n",
      "[CV 6/10; 15/96] START criterion=gini, max_depth=5, max_features=log2, n_estimators=300\n",
      "[CV 6/10; 15/96] END criterion=gini, max_depth=5, max_features=log2, n_estimators=300;, score=(train=0.912, test=0.887) total time=   1.7s\n",
      "[CV 4/10; 16/96] START criterion=gini, max_depth=5, max_features=log2, n_estimators=400\n",
      "[CV 4/10; 16/96] END criterion=gini, max_depth=5, max_features=log2, n_estimators=400;, score=(train=0.912, test=0.912) total time=   2.2s\n",
      "[CV 2/10; 17/96] START criterion=gini, max_depth=7, max_features=sqrt, n_estimators=100\n",
      "[CV 2/10; 17/96] END criterion=gini, max_depth=7, max_features=sqrt, n_estimators=100;, score=(train=0.953, test=0.916) total time=   0.7s\n",
      "[CV 6/10; 17/96] START criterion=gini, max_depth=7, max_features=sqrt, n_estimators=100\n",
      "[CV 6/10; 17/96] END criterion=gini, max_depth=7, max_features=sqrt, n_estimators=100;, score=(train=0.950, test=0.916) total time=   0.7s\n",
      "[CV 2/10; 18/96] START criterion=gini, max_depth=7, max_features=sqrt, n_estimators=200\n",
      "[CV 2/10; 18/96] END criterion=gini, max_depth=7, max_features=sqrt, n_estimators=200;, score=(train=0.953, test=0.912) total time=   1.3s\n",
      "[CV 10/10; 18/96] START criterion=gini, max_depth=7, max_features=sqrt, n_estimators=200\n",
      "[CV 10/10; 18/96] END criterion=gini, max_depth=7, max_features=sqrt, n_estimators=200;, score=(train=0.953, test=0.929) total time=   1.3s\n",
      "[CV 8/10; 19/96] START criterion=gini, max_depth=7, max_features=sqrt, n_estimators=300\n",
      "[CV 8/10; 19/96] END criterion=gini, max_depth=7, max_features=sqrt, n_estimators=300;, score=(train=0.951, test=0.883) total time=   2.1s\n",
      "[CV 6/10; 20/96] START criterion=gini, max_depth=7, max_features=sqrt, n_estimators=400\n",
      "[CV 6/10; 20/96] END criterion=gini, max_depth=7, max_features=sqrt, n_estimators=400;, score=(train=0.948, test=0.916) total time=   2.6s\n",
      "[CV 5/10; 21/96] START criterion=gini, max_depth=7, max_features=log2, n_estimators=100\n",
      "[CV 5/10; 21/96] END criterion=gini, max_depth=7, max_features=log2, n_estimators=100;, score=(train=0.948, test=0.891) total time=   0.6s\n",
      "[CV 9/10; 21/96] START criterion=gini, max_depth=7, max_features=log2, n_estimators=100\n",
      "[CV 9/10; 21/96] END criterion=gini, max_depth=7, max_features=log2, n_estimators=100;, score=(train=0.951, test=0.916) total time=   0.7s\n",
      "[CV 5/10; 22/96] START criterion=gini, max_depth=7, max_features=log2, n_estimators=200\n",
      "[CV 5/10; 22/96] END criterion=gini, max_depth=7, max_features=log2, n_estimators=200;, score=(train=0.948, test=0.895) total time=   1.3s\n",
      "[CV 3/10; 23/96] START criterion=gini, max_depth=7, max_features=log2, n_estimators=300\n",
      "[CV 3/10; 23/96] END criterion=gini, max_depth=7, max_features=log2, n_estimators=300;, score=(train=0.948, test=0.912) total time=   1.9s\n",
      "[CV 1/10; 24/96] START criterion=gini, max_depth=7, max_features=log2, n_estimators=400\n",
      "[CV 1/10; 24/96] END criterion=gini, max_depth=7, max_features=log2, n_estimators=400;, score=(train=0.949, test=0.921) total time=   2.7s\n",
      "[CV 9/10; 24/96] START criterion=gini, max_depth=7, max_features=log2, n_estimators=400\n",
      "[CV 9/10; 24/96] END criterion=gini, max_depth=7, max_features=log2, n_estimators=400;, score=(train=0.950, test=0.908) total time=   2.6s\n",
      "[CV 6/10; 26/96] START criterion=gini, max_depth=9, max_features=sqrt, n_estimators=200\n",
      "[CV 6/10; 26/96] END criterion=gini, max_depth=9, max_features=sqrt, n_estimators=200;, score=(train=0.975, test=0.933) total time=   1.4s\n",
      "[CV 5/10; 27/96] START criterion=gini, max_depth=9, max_features=sqrt, n_estimators=300\n",
      "[CV 5/10; 27/96] END criterion=gini, max_depth=9, max_features=sqrt, n_estimators=300;, score=(train=0.973, test=0.908) total time=   2.1s\n",
      "[CV 2/10; 28/96] START criterion=gini, max_depth=9, max_features=sqrt, n_estimators=400\n",
      "[CV 2/10; 28/96] END criterion=gini, max_depth=9, max_features=sqrt, n_estimators=400;, score=(train=0.974, test=0.933) total time=   2.8s\n",
      "[CV 10/10; 28/96] START criterion=gini, max_depth=9, max_features=sqrt, n_estimators=400\n",
      "[CV 10/10; 28/96] END criterion=gini, max_depth=9, max_features=sqrt, n_estimators=400;, score=(train=0.973, test=0.941) total time=   2.9s\n",
      "[CV 8/10; 30/96] START criterion=gini, max_depth=9, max_features=log2, n_estimators=200\n",
      "[CV 8/10; 30/96] END criterion=gini, max_depth=9, max_features=log2, n_estimators=200;, score=(train=0.976, test=0.900) total time=   1.4s\n",
      "[CV 6/10; 31/96] START criterion=gini, max_depth=9, max_features=log2, n_estimators=300\n",
      "[CV 6/10; 31/96] END criterion=gini, max_depth=9, max_features=log2, n_estimators=300;, score=(train=0.974, test=0.933) total time=   2.2s\n",
      "[CV 4/10; 32/96] START criterion=gini, max_depth=9, max_features=log2, n_estimators=400\n",
      "[CV 4/10; 32/96] END criterion=gini, max_depth=9, max_features=log2, n_estimators=400;, score=(train=0.973, test=0.950) total time=   2.9s\n",
      "[CV 2/10; 33/96] START criterion=gini, max_depth=11, max_features=sqrt, n_estimators=100\n",
      "[CV 2/10; 33/96] END criterion=gini, max_depth=11, max_features=sqrt, n_estimators=100;, score=(train=0.995, test=0.925) total time=   0.8s\n",
      "[CV 6/10; 33/96] START criterion=gini, max_depth=11, max_features=sqrt, n_estimators=100\n",
      "[CV 6/10; 33/96] END criterion=gini, max_depth=11, max_features=sqrt, n_estimators=100;, score=(train=0.993, test=0.925) total time=   0.8s\n",
      "[CV 2/10; 34/96] START criterion=gini, max_depth=11, max_features=sqrt, n_estimators=200\n",
      "[CV 2/10; 34/96] END criterion=gini, max_depth=11, max_features=sqrt, n_estimators=200;, score=(train=0.994, test=0.937) total time=   1.6s\n",
      "[CV 9/10; 34/96] START criterion=gini, max_depth=11, max_features=sqrt, n_estimators=200\n",
      "[CV 9/10; 34/96] END criterion=gini, max_depth=11, max_features=sqrt, n_estimators=200;, score=(train=0.997, test=0.941) total time=   1.6s\n",
      "[CV 7/10; 35/96] START criterion=gini, max_depth=11, max_features=sqrt, n_estimators=300\n",
      "[CV 7/10; 35/96] END criterion=gini, max_depth=11, max_features=sqrt, n_estimators=300;, score=(train=0.992, test=0.946) total time=   2.4s\n",
      "[CV 5/10; 36/96] START criterion=gini, max_depth=11, max_features=sqrt, n_estimators=400\n",
      "[CV 5/10; 36/96] END criterion=gini, max_depth=11, max_features=sqrt, n_estimators=400;, score=(train=0.993, test=0.912) total time=   3.1s\n",
      "[CV 5/10; 37/96] START criterion=gini, max_depth=11, max_features=log2, n_estimators=100\n",
      "[CV 5/10; 37/96] END criterion=gini, max_depth=11, max_features=log2, n_estimators=100;, score=(train=0.989, test=0.912) total time=   0.8s\n",
      "[CV 9/10; 37/96] START criterion=gini, max_depth=11, max_features=log2, n_estimators=100\n",
      "[CV 9/10; 37/96] END criterion=gini, max_depth=11, max_features=log2, n_estimators=100;, score=(train=0.997, test=0.950) total time=   0.8s\n",
      "[CV 5/10; 38/96] START criterion=gini, max_depth=11, max_features=log2, n_estimators=200\n",
      "[CV 5/10; 38/96] END criterion=gini, max_depth=11, max_features=log2, n_estimators=200;, score=(train=0.994, test=0.908) total time=   1.6s\n",
      "[CV 3/10; 39/96] START criterion=gini, max_depth=11, max_features=log2, n_estimators=300\n",
      "[CV 3/10; 39/96] END criterion=gini, max_depth=11, max_features=log2, n_estimators=300;, score=(train=0.994, test=0.925) total time=   2.3s\n",
      "[CV 1/10; 40/96] START criterion=gini, max_depth=11, max_features=log2, n_estimators=400\n",
      "[CV 1/10; 40/96] END criterion=gini, max_depth=11, max_features=log2, n_estimators=400;, score=(train=0.993, test=0.916) total time=   3.0s\n",
      "[CV 9/10; 40/96] START criterion=gini, max_depth=11, max_features=log2, n_estimators=400\n",
      "[CV 9/10; 40/96] END criterion=gini, max_depth=11, max_features=log2, n_estimators=400;, score=(train=0.997, test=0.950) total time=   3.0s\n",
      "[CV 6/10; 42/96] START criterion=gini, max_depth=13, max_features=sqrt, n_estimators=200\n",
      "[CV 6/10; 42/96] END criterion=gini, max_depth=13, max_features=sqrt, n_estimators=200;, score=(train=1.000, test=0.937) total time=   1.6s\n",
      "[CV 4/10; 43/96] START criterion=gini, max_depth=13, max_features=sqrt, n_estimators=300\n",
      "[CV 4/10; 43/96] END criterion=gini, max_depth=13, max_features=sqrt, n_estimators=300;, score=(train=1.000, test=0.954) total time=   2.3s\n",
      "[CV 2/10; 44/96] START criterion=gini, max_depth=13, max_features=sqrt, n_estimators=400\n",
      "[CV 2/10; 44/96] END criterion=gini, max_depth=13, max_features=sqrt, n_estimators=400;, score=(train=1.000, test=0.941) total time=   3.1s\n",
      "[CV 10/10; 44/96] START criterion=gini, max_depth=13, max_features=sqrt, n_estimators=400\n",
      "[CV 10/10; 44/96] END criterion=gini, max_depth=13, max_features=sqrt, n_estimators=400;, score=(train=0.999, test=0.946) total time=   3.2s\n",
      "[CV 8/10; 46/96] START criterion=gini, max_depth=13, max_features=log2, n_estimators=200\n",
      "[CV 8/10; 46/96] END criterion=gini, max_depth=13, max_features=log2, n_estimators=200;, score=(train=1.000, test=0.925) total time=   1.6s\n",
      "[CV 6/10; 47/96] START criterion=gini, max_depth=13, max_features=log2, n_estimators=300\n",
      "[CV 6/10; 47/96] END criterion=gini, max_depth=13, max_features=log2, n_estimators=300;, score=(train=1.000, test=0.941) total time=   2.3s\n",
      "[CV 4/10; 48/96] START criterion=gini, max_depth=13, max_features=log2, n_estimators=400\n",
      "[CV 4/10; 48/96] END criterion=gini, max_depth=13, max_features=log2, n_estimators=400;, score=(train=1.000, test=0.958) total time=   3.2s\n",
      "[CV 2/10; 49/96] START criterion=entropy, max_depth=3, max_features=sqrt, n_estimators=100\n",
      "[CV 2/10; 49/96] END criterion=entropy, max_depth=3, max_features=sqrt, n_estimators=100;, score=(train=0.823, test=0.820) total time=   0.5s\n",
      "[CV 4/10; 49/96] START criterion=entropy, max_depth=3, max_features=sqrt, n_estimators=100\n",
      "[CV 4/10; 49/96] END criterion=entropy, max_depth=3, max_features=sqrt, n_estimators=100;, score=(train=0.821, test=0.841) total time=   0.5s\n",
      "[CV 8/10; 49/96] START criterion=entropy, max_depth=3, max_features=sqrt, n_estimators=100\n",
      "[CV 8/10; 49/96] END criterion=entropy, max_depth=3, max_features=sqrt, n_estimators=100;, score=(train=0.826, test=0.812) total time=   0.5s\n",
      "[CV 2/10; 50/96] START criterion=entropy, max_depth=3, max_features=sqrt, n_estimators=200\n",
      "[CV 2/10; 50/96] END criterion=entropy, max_depth=3, max_features=sqrt, n_estimators=200;, score=(train=0.834, test=0.833) total time=   1.0s\n",
      "[CV 10/10; 50/96] START criterion=entropy, max_depth=3, max_features=sqrt, n_estimators=200\n",
      "[CV 10/10; 50/96] END criterion=entropy, max_depth=3, max_features=sqrt, n_estimators=200;, score=(train=0.823, test=0.833) total time=   1.0s\n",
      "[CV 8/10; 51/96] START criterion=entropy, max_depth=3, max_features=sqrt, n_estimators=300\n",
      "[CV 8/10; 51/96] END criterion=entropy, max_depth=3, max_features=sqrt, n_estimators=300;, score=(train=0.827, test=0.820) total time=   1.5s\n",
      "[CV 6/10; 52/96] START criterion=entropy, max_depth=3, max_features=sqrt, n_estimators=400\n",
      "[CV 6/10; 52/96] END criterion=entropy, max_depth=3, max_features=sqrt, n_estimators=400;, score=(train=0.824, test=0.791) total time=   2.0s\n",
      "[CV 4/10; 53/96] START criterion=entropy, max_depth=3, max_features=log2, n_estimators=100\n",
      "[CV 4/10; 53/96] END criterion=entropy, max_depth=3, max_features=log2, n_estimators=100;, score=(train=0.823, test=0.841) total time=   0.5s\n",
      "[CV 8/10; 53/96] START criterion=entropy, max_depth=3, max_features=log2, n_estimators=100\n",
      "[CV 8/10; 53/96] END criterion=entropy, max_depth=3, max_features=log2, n_estimators=100;, score=(train=0.822, test=0.799) total time=   0.5s\n",
      "[CV 4/10; 54/96] START criterion=entropy, max_depth=3, max_features=log2, n_estimators=200\n",
      "[CV 4/10; 54/96] END criterion=entropy, max_depth=3, max_features=log2, n_estimators=200;, score=(train=0.831, test=0.854) total time=   1.0s\n",
      "[CV 2/10; 55/96] START criterion=entropy, max_depth=3, max_features=log2, n_estimators=300\n",
      "[CV 2/10; 55/96] END criterion=entropy, max_depth=3, max_features=log2, n_estimators=300;, score=(train=0.828, test=0.820) total time=   1.5s\n",
      "[CV 10/10; 55/96] START criterion=entropy, max_depth=3, max_features=log2, n_estimators=300\n",
      "[CV 10/10; 55/96] END criterion=entropy, max_depth=3, max_features=log2, n_estimators=300;, score=(train=0.825, test=0.816) total time=   1.5s\n",
      "[CV 8/10; 56/96] START criterion=entropy, max_depth=3, max_features=log2, n_estimators=400\n",
      "[CV 8/10; 56/96] END criterion=entropy, max_depth=3, max_features=log2, n_estimators=400;, score=(train=0.825, test=0.816) total time=   2.0s\n",
      "[CV 10/10; 57/96] START criterion=entropy, max_depth=5, max_features=sqrt, n_estimators=100\n",
      "[CV 10/10; 57/96] END criterion=entropy, max_depth=5, max_features=sqrt, n_estimators=100;, score=(train=0.894, test=0.883) total time=   0.7s\n",
      "[CV 8/10; 58/96] START criterion=entropy, max_depth=5, max_features=sqrt, n_estimators=200\n",
      "[CV 8/10; 58/96] END criterion=entropy, max_depth=5, max_features=sqrt, n_estimators=200;, score=(train=0.905, test=0.870) total time=   1.3s\n",
      "[CV 6/10; 59/96] START criterion=entropy, max_depth=5, max_features=sqrt, n_estimators=300\n",
      "[CV 6/10; 59/96] END criterion=entropy, max_depth=5, max_features=sqrt, n_estimators=300;, score=(train=0.904, test=0.870) total time=   2.0s\n",
      "[CV 4/10; 60/96] START criterion=entropy, max_depth=5, max_features=sqrt, n_estimators=400\n",
      "[CV 4/10; 60/96] END criterion=entropy, max_depth=5, max_features=sqrt, n_estimators=400;, score=(train=0.898, test=0.904) total time=   2.7s\n",
      "[CV 2/10; 61/96] START criterion=entropy, max_depth=5, max_features=log2, n_estimators=100\n",
      "[CV 2/10; 61/96] END criterion=entropy, max_depth=5, max_features=log2, n_estimators=100;, score=(train=0.898, test=0.866) total time=   0.7s\n",
      "[CV 5/10; 61/96] START criterion=entropy, max_depth=5, max_features=log2, n_estimators=100\n",
      "[CV 5/10; 61/96] END criterion=entropy, max_depth=5, max_features=log2, n_estimators=100;, score=(train=0.899, test=0.845) total time=   0.7s\n",
      "[CV 8/10; 61/96] START criterion=entropy, max_depth=5, max_features=log2, n_estimators=100\n",
      "[CV 8/10; 61/96] END criterion=entropy, max_depth=5, max_features=log2, n_estimators=100;, score=(train=0.905, test=0.870) total time=   0.7s\n",
      "[CV 4/10; 62/96] START criterion=entropy, max_depth=5, max_features=log2, n_estimators=200\n",
      "[CV 4/10; 62/96] END criterion=entropy, max_depth=5, max_features=log2, n_estimators=200;, score=(train=0.898, test=0.900) total time=   1.3s\n",
      "[CV 2/10; 63/96] START criterion=entropy, max_depth=5, max_features=log2, n_estimators=300\n",
      "[CV 2/10; 63/96] END criterion=entropy, max_depth=5, max_features=log2, n_estimators=300;, score=(train=0.900, test=0.874) total time=   2.0s\n",
      "[CV 10/10; 63/96] START criterion=entropy, max_depth=5, max_features=log2, n_estimators=300\n",
      "[CV 10/10; 63/96] END criterion=entropy, max_depth=5, max_features=log2, n_estimators=300;, score=(train=0.901, test=0.908) total time=   2.1s\n",
      "[CV 8/10; 64/96] START criterion=entropy, max_depth=5, max_features=log2, n_estimators=400\n",
      "[CV 8/10; 64/96] END criterion=entropy, max_depth=5, max_features=log2, n_estimators=400;, score=(train=0.903, test=0.870) total time=   2.7s\n",
      "[CV 9/10; 65/96] START criterion=entropy, max_depth=7, max_features=sqrt, n_estimators=100\n",
      "[CV 9/10; 65/96] END criterion=entropy, max_depth=7, max_features=sqrt, n_estimators=100;, score=(train=0.942, test=0.900) total time=   0.8s\n",
      "[CV 7/10; 66/96] START criterion=entropy, max_depth=7, max_features=sqrt, n_estimators=200\n",
      "[CV 7/10; 66/96] END criterion=entropy, max_depth=7, max_features=sqrt, n_estimators=200;, score=(train=0.948, test=0.908) total time=   1.6s\n",
      "[CV 5/10; 67/96] START criterion=entropy, max_depth=7, max_features=sqrt, n_estimators=300\n",
      "[CV 5/10; 67/96] END criterion=entropy, max_depth=7, max_features=sqrt, n_estimators=300;, score=(train=0.950, test=0.879) total time=   2.4s\n",
      "[CV 3/10; 68/96] START criterion=entropy, max_depth=7, max_features=sqrt, n_estimators=400\n",
      "[CV 3/10; 68/96] END criterion=entropy, max_depth=7, max_features=sqrt, n_estimators=400;, score=(train=0.944, test=0.904) total time=   3.2s\n",
      "[CV 1/10; 69/96] START criterion=entropy, max_depth=7, max_features=log2, n_estimators=100\n",
      "[CV 1/10; 69/96] END criterion=entropy, max_depth=7, max_features=log2, n_estimators=100;, score=(train=0.939, test=0.916) total time=   0.8s\n",
      "[CV 3/10; 69/96] START criterion=entropy, max_depth=7, max_features=log2, n_estimators=100\n",
      "[CV 3/10; 69/96] END criterion=entropy, max_depth=7, max_features=log2, n_estimators=100;, score=(train=0.945, test=0.912) total time=   0.8s\n",
      "[CV 7/10; 69/96] START criterion=entropy, max_depth=7, max_features=log2, n_estimators=100\n",
      "[CV 7/10; 69/96] END criterion=entropy, max_depth=7, max_features=log2, n_estimators=100;, score=(train=0.947, test=0.908) total time=   0.8s\n",
      "[CV 3/10; 70/96] START criterion=entropy, max_depth=7, max_features=log2, n_estimators=200\n",
      "[CV 3/10; 70/96] END criterion=entropy, max_depth=7, max_features=log2, n_estimators=200;, score=(train=0.942, test=0.908) total time=   1.6s\n",
      "[CV 1/10; 71/96] START criterion=entropy, max_depth=7, max_features=log2, n_estimators=300\n",
      "[CV 1/10; 71/96] END criterion=entropy, max_depth=7, max_features=log2, n_estimators=300;, score=(train=0.945, test=0.916) total time=   2.4s\n",
      "[CV 9/10; 71/96] START criterion=entropy, max_depth=7, max_features=log2, n_estimators=300\n",
      "[CV 9/10; 71/96] END criterion=entropy, max_depth=7, max_features=log2, n_estimators=300;, score=(train=0.947, test=0.912) total time=   2.4s\n",
      "[CV 7/10; 72/96] START criterion=entropy, max_depth=7, max_features=log2, n_estimators=400\n",
      "[CV 7/10; 72/96] END criterion=entropy, max_depth=7, max_features=log2, n_estimators=400;, score=(train=0.947, test=0.912) total time=   3.2s\n",
      "[CV 9/10; 73/96] START criterion=entropy, max_depth=9, max_features=sqrt, n_estimators=100\n",
      "[CV 9/10; 73/96] END criterion=entropy, max_depth=9, max_features=sqrt, n_estimators=100;, score=(train=0.972, test=0.933) total time=   0.9s\n",
      "[CV 5/10; 74/96] START criterion=entropy, max_depth=9, max_features=sqrt, n_estimators=200\n",
      "[CV 5/10; 74/96] END criterion=entropy, max_depth=9, max_features=sqrt, n_estimators=200;, score=(train=0.967, test=0.916) total time=   1.8s\n",
      "[CV 3/10; 75/96] START criterion=entropy, max_depth=9, max_features=sqrt, n_estimators=300\n",
      "[CV 3/10; 75/96] END criterion=entropy, max_depth=9, max_features=sqrt, n_estimators=300;, score=(train=0.974, test=0.925) total time=   2.7s\n",
      "[CV 1/10; 76/96] START criterion=entropy, max_depth=9, max_features=sqrt, n_estimators=400\n",
      "[CV 1/10; 76/96] END criterion=entropy, max_depth=9, max_features=sqrt, n_estimators=400;, score=(train=0.968, test=0.929) total time=   3.6s\n",
      "[CV 9/10; 76/96] START criterion=entropy, max_depth=9, max_features=sqrt, n_estimators=400\n",
      "[CV 9/10; 76/96] END criterion=entropy, max_depth=9, max_features=sqrt, n_estimators=400;, score=(train=0.972, test=0.941) total time=   3.7s\n",
      "[CV 7/10; 78/96] START criterion=entropy, max_depth=9, max_features=log2, n_estimators=200\n",
      "[CV 7/10; 78/96] END criterion=entropy, max_depth=9, max_features=log2, n_estimators=200;, score=(train=0.971, test=0.925) total time=   1.8s\n",
      "[CV 5/10; 79/96] START criterion=entropy, max_depth=9, max_features=log2, n_estimators=300\n",
      "[CV 5/10; 79/96] END criterion=entropy, max_depth=9, max_features=log2, n_estimators=300;, score=(train=0.969, test=0.916) total time=   2.7s\n",
      "[CV 3/10; 80/96] START criterion=entropy, max_depth=9, max_features=log2, n_estimators=400\n",
      "[CV 3/10; 80/96] END criterion=entropy, max_depth=9, max_features=log2, n_estimators=400;, score=(train=0.973, test=0.916) total time=   3.5s\n",
      "[CV 1/10; 81/96] START criterion=entropy, max_depth=11, max_features=sqrt, n_estimators=100\n",
      "[CV 1/10; 81/96] END criterion=entropy, max_depth=11, max_features=sqrt, n_estimators=100;, score=(train=0.993, test=0.904) total time=   0.9s\n",
      "[CV 5/10; 81/96] START criterion=entropy, max_depth=11, max_features=sqrt, n_estimators=100\n",
      "[CV 5/10; 81/96] END criterion=entropy, max_depth=11, max_features=sqrt, n_estimators=100;, score=(train=0.987, test=0.908) total time=   1.0s\n",
      "[CV 10/10; 81/96] START criterion=entropy, max_depth=11, max_features=sqrt, n_estimators=100\n",
      "[CV 10/10; 81/96] END criterion=entropy, max_depth=11, max_features=sqrt, n_estimators=100;, score=(train=0.992, test=0.937) total time=   1.0s\n",
      "[CV 6/10; 82/96] START criterion=entropy, max_depth=11, max_features=sqrt, n_estimators=200\n",
      "[CV 6/10; 82/96] END criterion=entropy, max_depth=11, max_features=sqrt, n_estimators=200;, score=(train=0.995, test=0.929) total time=   1.9s\n",
      "[CV 4/10; 83/96] START criterion=entropy, max_depth=11, max_features=sqrt, n_estimators=300\n",
      "[CV 4/10; 83/96] END criterion=entropy, max_depth=11, max_features=sqrt, n_estimators=300;, score=(train=0.993, test=0.958) total time=   2.9s\n",
      "[CV 2/10; 84/96] START criterion=entropy, max_depth=11, max_features=sqrt, n_estimators=400\n",
      "[CV 2/10; 84/96] END criterion=entropy, max_depth=11, max_features=sqrt, n_estimators=400;, score=(train=0.993, test=0.937) total time=   3.8s\n",
      "[CV 10/10; 84/96] START criterion=entropy, max_depth=11, max_features=sqrt, n_estimators=400\n",
      "[CV 10/10; 84/96] END criterion=entropy, max_depth=11, max_features=sqrt, n_estimators=400;, score=(train=0.994, test=0.946) total time=   3.9s\n",
      "[CV 8/10; 86/96] START criterion=entropy, max_depth=11, max_features=log2, n_estimators=200\n",
      "[CV 8/10; 86/96] END criterion=entropy, max_depth=11, max_features=log2, n_estimators=200;, score=(train=0.990, test=0.921) total time=   1.9s\n",
      "[CV 6/10; 87/96] START criterion=entropy, max_depth=11, max_features=log2, n_estimators=300\n",
      "[CV 6/10; 87/96] END criterion=entropy, max_depth=11, max_features=log2, n_estimators=300;, score=(train=0.996, test=0.946) total time=   2.9s\n",
      "[CV 4/10; 88/96] START criterion=entropy, max_depth=11, max_features=log2, n_estimators=400\n",
      "[CV 4/10; 88/96] END criterion=entropy, max_depth=11, max_features=log2, n_estimators=400;, score=(train=0.994, test=0.958) total time=   3.8s\n",
      "[CV 2/10; 89/96] START criterion=entropy, max_depth=13, max_features=sqrt, n_estimators=100\n",
      "[CV 2/10; 89/96] END criterion=entropy, max_depth=13, max_features=sqrt, n_estimators=100;, score=(train=0.999, test=0.937) total time=   1.0s\n",
      "[CV 6/10; 89/96] START criterion=entropy, max_depth=13, max_features=sqrt, n_estimators=100\n",
      "[CV 6/10; 89/96] END criterion=entropy, max_depth=13, max_features=sqrt, n_estimators=100;, score=(train=1.000, test=0.933) total time=   1.0s\n",
      "[CV 2/10; 90/96] START criterion=entropy, max_depth=13, max_features=sqrt, n_estimators=200\n",
      "[CV 2/10; 90/96] END criterion=entropy, max_depth=13, max_features=sqrt, n_estimators=200;, score=(train=1.000, test=0.941) total time=   1.9s\n",
      "[CV 10/10; 90/96] START criterion=entropy, max_depth=13, max_features=sqrt, n_estimators=200\n",
      "[CV 10/10; 90/96] END criterion=entropy, max_depth=13, max_features=sqrt, n_estimators=200;, score=(train=1.000, test=0.946) total time=   2.0s\n",
      "[CV 8/10; 91/96] START criterion=entropy, max_depth=13, max_features=sqrt, n_estimators=300\n",
      "[CV 8/10; 91/96] END criterion=entropy, max_depth=13, max_features=sqrt, n_estimators=300;, score=(train=1.000, test=0.937) total time=   2.9s\n",
      "[CV 6/10; 92/96] START criterion=entropy, max_depth=13, max_features=sqrt, n_estimators=400\n",
      "[CV 6/10; 92/96] END criterion=entropy, max_depth=13, max_features=sqrt, n_estimators=400;, score=(train=1.000, test=0.929) total time=   3.9s\n",
      "[CV 6/10; 93/96] START criterion=entropy, max_depth=13, max_features=log2, n_estimators=100\n",
      "[CV 6/10; 93/96] END criterion=entropy, max_depth=13, max_features=log2, n_estimators=100;, score=(train=1.000, test=0.937) total time=   1.0s\n",
      "[CV 9/10; 93/96] START criterion=entropy, max_depth=13, max_features=log2, n_estimators=100\n",
      "[CV 9/10; 93/96] END criterion=entropy, max_depth=13, max_features=log2, n_estimators=100;, score=(train=0.999, test=0.950) total time=   1.0s\n",
      "[CV 6/10; 94/96] START criterion=entropy, max_depth=13, max_features=log2, n_estimators=200\n",
      "[CV 6/10; 94/96] END criterion=entropy, max_depth=13, max_features=log2, n_estimators=200;, score=(train=1.000, test=0.929) total time=   2.0s\n",
      "[CV 3/10; 95/96] START criterion=entropy, max_depth=13, max_features=log2, n_estimators=300\n",
      "[CV 3/10; 95/96] END criterion=entropy, max_depth=13, max_features=log2, n_estimators=300;, score=(train=1.000, test=0.929) total time=   3.0s\n",
      "[CV 2/10; 96/96] START criterion=entropy, max_depth=13, max_features=log2, n_estimators=400\n",
      "[CV 2/10; 96/96] END criterion=entropy, max_depth=13, max_features=log2, n_estimators=400;, score=(train=1.000, test=0.946) total time=   3.9s\n",
      "[CV 10/10; 96/96] START criterion=entropy, max_depth=13, max_features=log2, n_estimators=400\n",
      "[CV 10/10; 96/96] END criterion=entropy, max_depth=13, max_features=log2, n_estimators=400;, score=(train=0.999, test=0.950) total time=   3.2s\n"
     ]
    }
   ],
   "source": [
    "best_params = dict(zip(param_names, result.x))\n",
    "print(best_params)"
   ]
  },
  {
   "cell_type": "code",
   "execution_count": 39,
   "id": "0b1f4171",
   "metadata": {},
   "outputs": [],
   "source": [
    "best_model_rf = ensemble.RandomForestClassifier(**best_params)"
   ]
  },
  {
   "cell_type": "code",
   "execution_count": 40,
   "id": "b0f3edc0",
   "metadata": {},
   "outputs": [
    {
     "data": {
      "text/html": [
       "<style>#sk-container-id-4 {color: black;}#sk-container-id-4 pre{padding: 0;}#sk-container-id-4 div.sk-toggleable {background-color: white;}#sk-container-id-4 label.sk-toggleable__label {cursor: pointer;display: block;width: 100%;margin-bottom: 0;padding: 0.3em;box-sizing: border-box;text-align: center;}#sk-container-id-4 label.sk-toggleable__label-arrow:before {content: \"▸\";float: left;margin-right: 0.25em;color: #696969;}#sk-container-id-4 label.sk-toggleable__label-arrow:hover:before {color: black;}#sk-container-id-4 div.sk-estimator:hover label.sk-toggleable__label-arrow:before {color: black;}#sk-container-id-4 div.sk-toggleable__content {max-height: 0;max-width: 0;overflow: hidden;text-align: left;background-color: #f0f8ff;}#sk-container-id-4 div.sk-toggleable__content pre {margin: 0.2em;color: black;border-radius: 0.25em;background-color: #f0f8ff;}#sk-container-id-4 input.sk-toggleable__control:checked~div.sk-toggleable__content {max-height: 200px;max-width: 100%;overflow: auto;}#sk-container-id-4 input.sk-toggleable__control:checked~label.sk-toggleable__label-arrow:before {content: \"▾\";}#sk-container-id-4 div.sk-estimator input.sk-toggleable__control:checked~label.sk-toggleable__label {background-color: #d4ebff;}#sk-container-id-4 div.sk-label input.sk-toggleable__control:checked~label.sk-toggleable__label {background-color: #d4ebff;}#sk-container-id-4 input.sk-hidden--visually {border: 0;clip: rect(1px 1px 1px 1px);clip: rect(1px, 1px, 1px, 1px);height: 1px;margin: -1px;overflow: hidden;padding: 0;position: absolute;width: 1px;}#sk-container-id-4 div.sk-estimator {font-family: monospace;background-color: #f0f8ff;border: 1px dotted black;border-radius: 0.25em;box-sizing: border-box;margin-bottom: 0.5em;}#sk-container-id-4 div.sk-estimator:hover {background-color: #d4ebff;}#sk-container-id-4 div.sk-parallel-item::after {content: \"\";width: 100%;border-bottom: 1px solid gray;flex-grow: 1;}#sk-container-id-4 div.sk-label:hover label.sk-toggleable__label {background-color: #d4ebff;}#sk-container-id-4 div.sk-serial::before {content: \"\";position: absolute;border-left: 1px solid gray;box-sizing: border-box;top: 0;bottom: 0;left: 50%;z-index: 0;}#sk-container-id-4 div.sk-serial {display: flex;flex-direction: column;align-items: center;background-color: white;padding-right: 0.2em;padding-left: 0.2em;position: relative;}#sk-container-id-4 div.sk-item {position: relative;z-index: 1;}#sk-container-id-4 div.sk-parallel {display: flex;align-items: stretch;justify-content: center;background-color: white;position: relative;}#sk-container-id-4 div.sk-item::before, #sk-container-id-4 div.sk-parallel-item::before {content: \"\";position: absolute;border-left: 1px solid gray;box-sizing: border-box;top: 0;bottom: 0;left: 50%;z-index: -1;}#sk-container-id-4 div.sk-parallel-item {display: flex;flex-direction: column;z-index: 1;position: relative;background-color: white;}#sk-container-id-4 div.sk-parallel-item:first-child::after {align-self: flex-end;width: 50%;}#sk-container-id-4 div.sk-parallel-item:last-child::after {align-self: flex-start;width: 50%;}#sk-container-id-4 div.sk-parallel-item:only-child::after {width: 0;}#sk-container-id-4 div.sk-dashed-wrapped {border: 1px dashed gray;margin: 0 0.4em 0.5em 0.4em;box-sizing: border-box;padding-bottom: 0.4em;background-color: white;}#sk-container-id-4 div.sk-label label {font-family: monospace;font-weight: bold;display: inline-block;line-height: 1.2em;}#sk-container-id-4 div.sk-label-container {text-align: center;}#sk-container-id-4 div.sk-container {/* jupyter's `normalize.less` sets `[hidden] { display: none; }` but bootstrap.min.css set `[hidden] { display: none !important; }` so we also need the `!important` here to be able to override the default hidden behavior on the sphinx rendered scikit-learn.org. See: https://github.com/scikit-learn/scikit-learn/issues/21755 */display: inline-block !important;position: relative;}#sk-container-id-4 div.sk-text-repr-fallback {display: none;}</style><div id=\"sk-container-id-4\" class=\"sk-top-container\"><div class=\"sk-text-repr-fallback\"><pre>RandomForestClassifier(criterion=&#x27;entropy&#x27;, max_depth=12, max_features=&#x27;log2&#x27;,\n",
       "                       n_estimators=297)</pre><b>In a Jupyter environment, please rerun this cell to show the HTML representation or trust the notebook. <br />On GitHub, the HTML representation is unable to render, please try loading this page with nbviewer.org.</b></div><div class=\"sk-container\" hidden><div class=\"sk-item\"><div class=\"sk-estimator sk-toggleable\"><input class=\"sk-toggleable__control sk-hidden--visually\" id=\"sk-estimator-id-6\" type=\"checkbox\" checked><label for=\"sk-estimator-id-6\" class=\"sk-toggleable__label sk-toggleable__label-arrow\">RandomForestClassifier</label><div class=\"sk-toggleable__content\"><pre>RandomForestClassifier(criterion=&#x27;entropy&#x27;, max_depth=12, max_features=&#x27;log2&#x27;,\n",
       "                       n_estimators=297)</pre></div></div></div></div></div>"
      ],
      "text/plain": [
       "RandomForestClassifier(criterion='entropy', max_depth=12, max_features='log2',\n",
       "                       n_estimators=297)"
      ]
     },
     "execution_count": 40,
     "metadata": {},
     "output_type": "execute_result"
    }
   ],
   "source": [
    "best_model_rf.fit(X_train_transform, y_train)"
   ]
  },
  {
   "cell_type": "code",
   "execution_count": 41,
   "id": "ff9f3f97",
   "metadata": {},
   "outputs": [],
   "source": [
    "preds_best_rf = best_model_rf.predict(X_test_transform)"
   ]
  },
  {
   "cell_type": "code",
   "execution_count": 43,
   "id": "4a4f799f",
   "metadata": {},
   "outputs": [
    {
     "name": "stdout",
     "output_type": "stream",
     "text": [
      "Accuracy using Bayesian Optimization:  0.94\n"
     ]
    }
   ],
   "source": [
    "print(\"Accuracy using Bayesian Optimization: \", round(accuracy_score(y_test, preds_best_rf), 2))"
   ]
  },
  {
   "cell_type": "code",
   "execution_count": null,
   "id": "078a3afb",
   "metadata": {},
   "outputs": [],
   "source": []
  }
 ],
 "metadata": {
  "kernelspec": {
   "display_name": "Python 3 (ipykernel)",
   "language": "python",
   "name": "python3"
  },
  "language_info": {
   "codemirror_mode": {
    "name": "ipython",
    "version": 3
   },
   "file_extension": ".py",
   "mimetype": "text/x-python",
   "name": "python",
   "nbconvert_exporter": "python",
   "pygments_lexer": "ipython3",
   "version": "3.9.15"
  }
 },
 "nbformat": 4,
 "nbformat_minor": 5
}
