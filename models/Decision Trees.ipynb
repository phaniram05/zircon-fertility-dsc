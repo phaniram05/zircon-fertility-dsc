{
 "cells": [
  {
   "cell_type": "code",
   "execution_count": 1,
   "id": "3a030934",
   "metadata": {},
   "outputs": [],
   "source": [
    "import pandas as pd\n",
    "import numpy as np\n",
    "import matplotlib.pyplot as plt\n",
    "import seaborn as sns\n",
    "\n",
    "# Decision Tree library\n",
    "from sklearn.tree import DecisionTreeClassifier\n",
    "\n",
    "# Libraries to scale the data\n",
    "from sklearn.preprocessing import StandardScaler\n",
    "\n",
    "# Cross Validation\n",
    "from sklearn.model_selection import train_test_split, GridSearchCV, StratifiedKFold\n",
    "\n",
    "from sklearn.decomposition import PCA\n",
    "\n",
    "# Bayesian Optimization libraries\n",
    "from functools import partial\n",
    "from skopt import gp_minimize\n",
    "from skopt import space\n",
    "from sklearn import model_selection\n",
    "\n",
    "from sklearn import ensemble\n",
    "\n",
    "# Performance Metrics\n",
    "from sklearn import metrics\n",
    "from sklearn.metrics import accuracy_score, confusion_matrix\n",
    "from sklearn.metrics import classification_report\n",
    "from sklearn.metrics import ConfusionMatrixDisplay\n",
    "\n",
    "# Ignores runtime warnings\n",
    "import warnings\n",
    "warnings.filterwarnings('ignore', category=DeprecationWarning)\n",
    "\n",
    "%matplotlib inline"
   ]
  },
  {
   "cell_type": "markdown",
   "id": "6c0cee2e",
   "metadata": {},
   "source": [
    "### Analysis on K-means Imputed and Outlier handled dataset"
   ]
  },
  {
   "cell_type": "code",
   "execution_count": 2,
   "id": "fcc269e6",
   "metadata": {},
   "outputs": [],
   "source": [
    "df = pd.read_csv(\"../processed-datasets/data_outliers_handled_knn_imputed.csv\")"
   ]
  },
  {
   "cell_type": "code",
   "execution_count": 3,
   "id": "999cb4e1",
   "metadata": {},
   "outputs": [
    {
     "data": {
      "text/html": [
       "<div>\n",
       "<style scoped>\n",
       "    .dataframe tbody tr th:only-of-type {\n",
       "        vertical-align: middle;\n",
       "    }\n",
       "\n",
       "    .dataframe tbody tr th {\n",
       "        vertical-align: top;\n",
       "    }\n",
       "\n",
       "    .dataframe thead th {\n",
       "        text-align: right;\n",
       "    }\n",
       "</style>\n",
       "<table border=\"1\" class=\"dataframe\">\n",
       "  <thead>\n",
       "    <tr style=\"text-align: right;\">\n",
       "      <th></th>\n",
       "      <th>Unnamed: 0</th>\n",
       "      <th>age_ma</th>\n",
       "      <th>Feature</th>\n",
       "      <th>Ti</th>\n",
       "      <th>La</th>\n",
       "      <th>Ce</th>\n",
       "      <th>Pr</th>\n",
       "      <th>Nd</th>\n",
       "      <th>Sm</th>\n",
       "      <th>Eu</th>\n",
       "      <th>...</th>\n",
       "      <th>Dy</th>\n",
       "      <th>Ho</th>\n",
       "      <th>Er</th>\n",
       "      <th>Tm</th>\n",
       "      <th>Yb</th>\n",
       "      <th>Lu</th>\n",
       "      <th>Y</th>\n",
       "      <th>Hf</th>\n",
       "      <th>U</th>\n",
       "      <th>Th</th>\n",
       "    </tr>\n",
       "  </thead>\n",
       "  <tbody>\n",
       "    <tr>\n",
       "      <th>0</th>\n",
       "      <td>0</td>\n",
       "      <td>222.0</td>\n",
       "      <td>0.0</td>\n",
       "      <td>7.88</td>\n",
       "      <td>0.050</td>\n",
       "      <td>10.500</td>\n",
       "      <td>0.050</td>\n",
       "      <td>4.25000</td>\n",
       "      <td>11.60000</td>\n",
       "      <td>1.99000</td>\n",
       "      <td>...</td>\n",
       "      <td>259.21625</td>\n",
       "      <td>106.1375</td>\n",
       "      <td>437.54375</td>\n",
       "      <td>97.8675</td>\n",
       "      <td>936.725</td>\n",
       "      <td>172.63875</td>\n",
       "      <td>2737.00000</td>\n",
       "      <td>12390.0</td>\n",
       "      <td>305.0</td>\n",
       "      <td>134.0</td>\n",
       "    </tr>\n",
       "    <tr>\n",
       "      <th>1</th>\n",
       "      <td>1</td>\n",
       "      <td>222.0</td>\n",
       "      <td>0.0</td>\n",
       "      <td>10.90</td>\n",
       "      <td>1.555</td>\n",
       "      <td>61.505</td>\n",
       "      <td>0.725</td>\n",
       "      <td>7.74125</td>\n",
       "      <td>12.56125</td>\n",
       "      <td>2.64375</td>\n",
       "      <td>...</td>\n",
       "      <td>259.21625</td>\n",
       "      <td>106.1375</td>\n",
       "      <td>437.54375</td>\n",
       "      <td>97.8675</td>\n",
       "      <td>936.725</td>\n",
       "      <td>172.63875</td>\n",
       "      <td>2804.03875</td>\n",
       "      <td>12591.0</td>\n",
       "      <td>503.0</td>\n",
       "      <td>272.0</td>\n",
       "    </tr>\n",
       "    <tr>\n",
       "      <th>2</th>\n",
       "      <td>2</td>\n",
       "      <td>222.0</td>\n",
       "      <td>0.0</td>\n",
       "      <td>6.00</td>\n",
       "      <td>0.020</td>\n",
       "      <td>25.100</td>\n",
       "      <td>0.300</td>\n",
       "      <td>4.41000</td>\n",
       "      <td>12.56125</td>\n",
       "      <td>2.30000</td>\n",
       "      <td>...</td>\n",
       "      <td>259.21625</td>\n",
       "      <td>106.1375</td>\n",
       "      <td>437.54375</td>\n",
       "      <td>97.8675</td>\n",
       "      <td>936.725</td>\n",
       "      <td>172.63875</td>\n",
       "      <td>2804.03875</td>\n",
       "      <td>12724.0</td>\n",
       "      <td>639.0</td>\n",
       "      <td>414.0</td>\n",
       "    </tr>\n",
       "    <tr>\n",
       "      <th>3</th>\n",
       "      <td>3</td>\n",
       "      <td>222.0</td>\n",
       "      <td>0.0</td>\n",
       "      <td>9.06</td>\n",
       "      <td>0.280</td>\n",
       "      <td>12.000</td>\n",
       "      <td>0.070</td>\n",
       "      <td>1.88000</td>\n",
       "      <td>5.08000</td>\n",
       "      <td>1.01000</td>\n",
       "      <td>...</td>\n",
       "      <td>194.00000</td>\n",
       "      <td>83.0000</td>\n",
       "      <td>356.00000</td>\n",
       "      <td>89.5000</td>\n",
       "      <td>762.000</td>\n",
       "      <td>144.00000</td>\n",
       "      <td>1832.00000</td>\n",
       "      <td>12894.0</td>\n",
       "      <td>308.0</td>\n",
       "      <td>127.0</td>\n",
       "    </tr>\n",
       "    <tr>\n",
       "      <th>4</th>\n",
       "      <td>4</td>\n",
       "      <td>222.0</td>\n",
       "      <td>0.0</td>\n",
       "      <td>4.93</td>\n",
       "      <td>0.070</td>\n",
       "      <td>16.500</td>\n",
       "      <td>0.150</td>\n",
       "      <td>2.32000</td>\n",
       "      <td>8.23000</td>\n",
       "      <td>1.52000</td>\n",
       "      <td>...</td>\n",
       "      <td>257.00000</td>\n",
       "      <td>106.1375</td>\n",
       "      <td>437.54375</td>\n",
       "      <td>97.8675</td>\n",
       "      <td>936.000</td>\n",
       "      <td>171.00000</td>\n",
       "      <td>2355.00000</td>\n",
       "      <td>12535.0</td>\n",
       "      <td>348.0</td>\n",
       "      <td>155.0</td>\n",
       "    </tr>\n",
       "  </tbody>\n",
       "</table>\n",
       "<p>5 rows × 22 columns</p>\n",
       "</div>"
      ],
      "text/plain": [
       "   Unnamed: 0  age_ma  Feature     Ti     La      Ce     Pr       Nd  \\\n",
       "0           0   222.0      0.0   7.88  0.050  10.500  0.050  4.25000   \n",
       "1           1   222.0      0.0  10.90  1.555  61.505  0.725  7.74125   \n",
       "2           2   222.0      0.0   6.00  0.020  25.100  0.300  4.41000   \n",
       "3           3   222.0      0.0   9.06  0.280  12.000  0.070  1.88000   \n",
       "4           4   222.0      0.0   4.93  0.070  16.500  0.150  2.32000   \n",
       "\n",
       "         Sm       Eu  ...         Dy        Ho         Er       Tm       Yb  \\\n",
       "0  11.60000  1.99000  ...  259.21625  106.1375  437.54375  97.8675  936.725   \n",
       "1  12.56125  2.64375  ...  259.21625  106.1375  437.54375  97.8675  936.725   \n",
       "2  12.56125  2.30000  ...  259.21625  106.1375  437.54375  97.8675  936.725   \n",
       "3   5.08000  1.01000  ...  194.00000   83.0000  356.00000  89.5000  762.000   \n",
       "4   8.23000  1.52000  ...  257.00000  106.1375  437.54375  97.8675  936.000   \n",
       "\n",
       "          Lu           Y       Hf      U     Th  \n",
       "0  172.63875  2737.00000  12390.0  305.0  134.0  \n",
       "1  172.63875  2804.03875  12591.0  503.0  272.0  \n",
       "2  172.63875  2804.03875  12724.0  639.0  414.0  \n",
       "3  144.00000  1832.00000  12894.0  308.0  127.0  \n",
       "4  171.00000  2355.00000  12535.0  348.0  155.0  \n",
       "\n",
       "[5 rows x 22 columns]"
      ]
     },
     "execution_count": 3,
     "metadata": {},
     "output_type": "execute_result"
    }
   ],
   "source": [
    "df.head()"
   ]
  },
  {
   "cell_type": "code",
   "execution_count": 4,
   "id": "73d1e0fb",
   "metadata": {},
   "outputs": [],
   "source": [
    "df.drop('Unnamed: 0', axis=1, inplace=True)"
   ]
  },
  {
   "cell_type": "code",
   "execution_count": 5,
   "id": "a4c0ce6d",
   "metadata": {},
   "outputs": [
    {
     "data": {
      "text/html": [
       "<div>\n",
       "<style scoped>\n",
       "    .dataframe tbody tr th:only-of-type {\n",
       "        vertical-align: middle;\n",
       "    }\n",
       "\n",
       "    .dataframe tbody tr th {\n",
       "        vertical-align: top;\n",
       "    }\n",
       "\n",
       "    .dataframe thead th {\n",
       "        text-align: right;\n",
       "    }\n",
       "</style>\n",
       "<table border=\"1\" class=\"dataframe\">\n",
       "  <thead>\n",
       "    <tr style=\"text-align: right;\">\n",
       "      <th></th>\n",
       "      <th>age_ma</th>\n",
       "      <th>Feature</th>\n",
       "      <th>Ti</th>\n",
       "      <th>La</th>\n",
       "      <th>Ce</th>\n",
       "      <th>Pr</th>\n",
       "      <th>Nd</th>\n",
       "      <th>Sm</th>\n",
       "      <th>Eu</th>\n",
       "      <th>Gd</th>\n",
       "      <th>...</th>\n",
       "      <th>Dy</th>\n",
       "      <th>Ho</th>\n",
       "      <th>Er</th>\n",
       "      <th>Tm</th>\n",
       "      <th>Yb</th>\n",
       "      <th>Lu</th>\n",
       "      <th>Y</th>\n",
       "      <th>Hf</th>\n",
       "      <th>U</th>\n",
       "      <th>Th</th>\n",
       "    </tr>\n",
       "  </thead>\n",
       "  <tbody>\n",
       "    <tr>\n",
       "      <th>395</th>\n",
       "      <td>132.00</td>\n",
       "      <td>0.0</td>\n",
       "      <td>21.30</td>\n",
       "      <td>0.01</td>\n",
       "      <td>2.50</td>\n",
       "      <td>0.060</td>\n",
       "      <td>1.17</td>\n",
       "      <td>2.19</td>\n",
       "      <td>0.27</td>\n",
       "      <td>14.90</td>\n",
       "      <td>...</td>\n",
       "      <td>58.90</td>\n",
       "      <td>21.60</td>\n",
       "      <td>95.70</td>\n",
       "      <td>19.2000</td>\n",
       "      <td>185.000</td>\n",
       "      <td>35.30000</td>\n",
       "      <td>588.00</td>\n",
       "      <td>12214.00000</td>\n",
       "      <td>63.000</td>\n",
       "      <td>24.80</td>\n",
       "    </tr>\n",
       "    <tr>\n",
       "      <th>2387</th>\n",
       "      <td>370.00</td>\n",
       "      <td>1.0</td>\n",
       "      <td>3.10</td>\n",
       "      <td>0.05</td>\n",
       "      <td>5.17</td>\n",
       "      <td>0.020</td>\n",
       "      <td>0.30</td>\n",
       "      <td>0.33</td>\n",
       "      <td>0.27</td>\n",
       "      <td>2.26</td>\n",
       "      <td>...</td>\n",
       "      <td>12.44</td>\n",
       "      <td>6.63</td>\n",
       "      <td>45.61</td>\n",
       "      <td>14.8900</td>\n",
       "      <td>221.420</td>\n",
       "      <td>59.27000</td>\n",
       "      <td>271.39</td>\n",
       "      <td>7611.70000</td>\n",
       "      <td>42.350</td>\n",
       "      <td>15.91</td>\n",
       "    </tr>\n",
       "    <tr>\n",
       "      <th>1083</th>\n",
       "      <td>173.80</td>\n",
       "      <td>0.0</td>\n",
       "      <td>9.67</td>\n",
       "      <td>1.23</td>\n",
       "      <td>7.06</td>\n",
       "      <td>0.050</td>\n",
       "      <td>1.11</td>\n",
       "      <td>1.54</td>\n",
       "      <td>0.61</td>\n",
       "      <td>10.19</td>\n",
       "      <td>...</td>\n",
       "      <td>53.04</td>\n",
       "      <td>23.87</td>\n",
       "      <td>119.15</td>\n",
       "      <td>33.1700</td>\n",
       "      <td>365.360</td>\n",
       "      <td>77.84000</td>\n",
       "      <td>692.11</td>\n",
       "      <td>9695.07000</td>\n",
       "      <td>136.000</td>\n",
       "      <td>115.00</td>\n",
       "    </tr>\n",
       "    <tr>\n",
       "      <th>465</th>\n",
       "      <td>12.50</td>\n",
       "      <td>0.0</td>\n",
       "      <td>2.53</td>\n",
       "      <td>0.06</td>\n",
       "      <td>0.66</td>\n",
       "      <td>0.725</td>\n",
       "      <td>5.92</td>\n",
       "      <td>1.76</td>\n",
       "      <td>0.63</td>\n",
       "      <td>20.25</td>\n",
       "      <td>...</td>\n",
       "      <td>179.58</td>\n",
       "      <td>80.35</td>\n",
       "      <td>398.78</td>\n",
       "      <td>97.8675</td>\n",
       "      <td>936.725</td>\n",
       "      <td>172.63875</td>\n",
       "      <td>2240.70</td>\n",
       "      <td>15267.18625</td>\n",
       "      <td>1142.375</td>\n",
       "      <td>47.23</td>\n",
       "    </tr>\n",
       "    <tr>\n",
       "      <th>361</th>\n",
       "      <td>339.16</td>\n",
       "      <td>0.0</td>\n",
       "      <td>15.53</td>\n",
       "      <td>0.20</td>\n",
       "      <td>11.21</td>\n",
       "      <td>0.030</td>\n",
       "      <td>1.14</td>\n",
       "      <td>0.80</td>\n",
       "      <td>0.14</td>\n",
       "      <td>5.49</td>\n",
       "      <td>...</td>\n",
       "      <td>24.76</td>\n",
       "      <td>9.65</td>\n",
       "      <td>46.56</td>\n",
       "      <td>10.1700</td>\n",
       "      <td>124.460</td>\n",
       "      <td>22.23000</td>\n",
       "      <td>341.07</td>\n",
       "      <td>12528.14000</td>\n",
       "      <td>162.830</td>\n",
       "      <td>43.96</td>\n",
       "    </tr>\n",
       "  </tbody>\n",
       "</table>\n",
       "<p>5 rows × 21 columns</p>\n",
       "</div>"
      ],
      "text/plain": [
       "      age_ma  Feature     Ti    La     Ce     Pr    Nd    Sm    Eu     Gd  \\\n",
       "395   132.00      0.0  21.30  0.01   2.50  0.060  1.17  2.19  0.27  14.90   \n",
       "2387  370.00      1.0   3.10  0.05   5.17  0.020  0.30  0.33  0.27   2.26   \n",
       "1083  173.80      0.0   9.67  1.23   7.06  0.050  1.11  1.54  0.61  10.19   \n",
       "465    12.50      0.0   2.53  0.06   0.66  0.725  5.92  1.76  0.63  20.25   \n",
       "361   339.16      0.0  15.53  0.20  11.21  0.030  1.14  0.80  0.14   5.49   \n",
       "\n",
       "      ...      Dy     Ho      Er       Tm       Yb         Lu        Y  \\\n",
       "395   ...   58.90  21.60   95.70  19.2000  185.000   35.30000   588.00   \n",
       "2387  ...   12.44   6.63   45.61  14.8900  221.420   59.27000   271.39   \n",
       "1083  ...   53.04  23.87  119.15  33.1700  365.360   77.84000   692.11   \n",
       "465   ...  179.58  80.35  398.78  97.8675  936.725  172.63875  2240.70   \n",
       "361   ...   24.76   9.65   46.56  10.1700  124.460   22.23000   341.07   \n",
       "\n",
       "               Hf         U      Th  \n",
       "395   12214.00000    63.000   24.80  \n",
       "2387   7611.70000    42.350   15.91  \n",
       "1083   9695.07000   136.000  115.00  \n",
       "465   15267.18625  1142.375   47.23  \n",
       "361   12528.14000   162.830   43.96  \n",
       "\n",
       "[5 rows x 21 columns]"
      ]
     },
     "execution_count": 5,
     "metadata": {},
     "output_type": "execute_result"
    }
   ],
   "source": [
    "df.sample(5)"
   ]
  },
  {
   "cell_type": "code",
   "execution_count": 6,
   "id": "49eb0f1c",
   "metadata": {},
   "outputs": [],
   "source": [
    "X = df.drop('Feature', axis=1).values\n",
    "y = df.Feature.values"
   ]
  },
  {
   "cell_type": "markdown",
   "id": "524f0447",
   "metadata": {},
   "source": [
    "### Splitting the dataset"
   ]
  },
  {
   "cell_type": "code",
   "execution_count": 7,
   "id": "4d3ac7ab",
   "metadata": {},
   "outputs": [],
   "source": [
    "X_train, X_test, y_train, y_test = train_test_split(X, y, test_size=0.2, shuffle=True, stratify=y)"
   ]
  },
  {
   "cell_type": "markdown",
   "id": "53573d63",
   "metadata": {},
   "source": [
    "### Scaling the data using Standard Scaler"
   ]
  },
  {
   "cell_type": "code",
   "execution_count": 8,
   "id": "b551ad2f",
   "metadata": {},
   "outputs": [],
   "source": [
    "scaler = StandardScaler()\n",
    "\n",
    "X_train_scaled = scaler.fit_transform(X_train)\n",
    "X_test_scaled = scaler.transform(X_test)"
   ]
  },
  {
   "cell_type": "code",
   "execution_count": 9,
   "id": "ca2db6cb",
   "metadata": {},
   "outputs": [
    {
     "data": {
      "text/plain": [
       "(2390, 20)"
      ]
     },
     "execution_count": 9,
     "metadata": {},
     "output_type": "execute_result"
    }
   ],
   "source": [
    "X_train_scaled.shape"
   ]
  },
  {
   "cell_type": "markdown",
   "id": "bae0d4fb",
   "metadata": {},
   "source": [
    "### Fitting the base model"
   ]
  },
  {
   "cell_type": "code",
   "execution_count": 10,
   "id": "93882843",
   "metadata": {},
   "outputs": [
    {
     "data": {
      "text/html": [
       "<style>#sk-container-id-1 {color: black;}#sk-container-id-1 pre{padding: 0;}#sk-container-id-1 div.sk-toggleable {background-color: white;}#sk-container-id-1 label.sk-toggleable__label {cursor: pointer;display: block;width: 100%;margin-bottom: 0;padding: 0.3em;box-sizing: border-box;text-align: center;}#sk-container-id-1 label.sk-toggleable__label-arrow:before {content: \"▸\";float: left;margin-right: 0.25em;color: #696969;}#sk-container-id-1 label.sk-toggleable__label-arrow:hover:before {color: black;}#sk-container-id-1 div.sk-estimator:hover label.sk-toggleable__label-arrow:before {color: black;}#sk-container-id-1 div.sk-toggleable__content {max-height: 0;max-width: 0;overflow: hidden;text-align: left;background-color: #f0f8ff;}#sk-container-id-1 div.sk-toggleable__content pre {margin: 0.2em;color: black;border-radius: 0.25em;background-color: #f0f8ff;}#sk-container-id-1 input.sk-toggleable__control:checked~div.sk-toggleable__content {max-height: 200px;max-width: 100%;overflow: auto;}#sk-container-id-1 input.sk-toggleable__control:checked~label.sk-toggleable__label-arrow:before {content: \"▾\";}#sk-container-id-1 div.sk-estimator input.sk-toggleable__control:checked~label.sk-toggleable__label {background-color: #d4ebff;}#sk-container-id-1 div.sk-label input.sk-toggleable__control:checked~label.sk-toggleable__label {background-color: #d4ebff;}#sk-container-id-1 input.sk-hidden--visually {border: 0;clip: rect(1px 1px 1px 1px);clip: rect(1px, 1px, 1px, 1px);height: 1px;margin: -1px;overflow: hidden;padding: 0;position: absolute;width: 1px;}#sk-container-id-1 div.sk-estimator {font-family: monospace;background-color: #f0f8ff;border: 1px dotted black;border-radius: 0.25em;box-sizing: border-box;margin-bottom: 0.5em;}#sk-container-id-1 div.sk-estimator:hover {background-color: #d4ebff;}#sk-container-id-1 div.sk-parallel-item::after {content: \"\";width: 100%;border-bottom: 1px solid gray;flex-grow: 1;}#sk-container-id-1 div.sk-label:hover label.sk-toggleable__label {background-color: #d4ebff;}#sk-container-id-1 div.sk-serial::before {content: \"\";position: absolute;border-left: 1px solid gray;box-sizing: border-box;top: 0;bottom: 0;left: 50%;z-index: 0;}#sk-container-id-1 div.sk-serial {display: flex;flex-direction: column;align-items: center;background-color: white;padding-right: 0.2em;padding-left: 0.2em;position: relative;}#sk-container-id-1 div.sk-item {position: relative;z-index: 1;}#sk-container-id-1 div.sk-parallel {display: flex;align-items: stretch;justify-content: center;background-color: white;position: relative;}#sk-container-id-1 div.sk-item::before, #sk-container-id-1 div.sk-parallel-item::before {content: \"\";position: absolute;border-left: 1px solid gray;box-sizing: border-box;top: 0;bottom: 0;left: 50%;z-index: -1;}#sk-container-id-1 div.sk-parallel-item {display: flex;flex-direction: column;z-index: 1;position: relative;background-color: white;}#sk-container-id-1 div.sk-parallel-item:first-child::after {align-self: flex-end;width: 50%;}#sk-container-id-1 div.sk-parallel-item:last-child::after {align-self: flex-start;width: 50%;}#sk-container-id-1 div.sk-parallel-item:only-child::after {width: 0;}#sk-container-id-1 div.sk-dashed-wrapped {border: 1px dashed gray;margin: 0 0.4em 0.5em 0.4em;box-sizing: border-box;padding-bottom: 0.4em;background-color: white;}#sk-container-id-1 div.sk-label label {font-family: monospace;font-weight: bold;display: inline-block;line-height: 1.2em;}#sk-container-id-1 div.sk-label-container {text-align: center;}#sk-container-id-1 div.sk-container {/* jupyter's `normalize.less` sets `[hidden] { display: none; }` but bootstrap.min.css set `[hidden] { display: none !important; }` so we also need the `!important` here to be able to override the default hidden behavior on the sphinx rendered scikit-learn.org. See: https://github.com/scikit-learn/scikit-learn/issues/21755 */display: inline-block !important;position: relative;}#sk-container-id-1 div.sk-text-repr-fallback {display: none;}</style><div id=\"sk-container-id-1\" class=\"sk-top-container\"><div class=\"sk-text-repr-fallback\"><pre>DecisionTreeClassifier()</pre><b>In a Jupyter environment, please rerun this cell to show the HTML representation or trust the notebook. <br />On GitHub, the HTML representation is unable to render, please try loading this page with nbviewer.org.</b></div><div class=\"sk-container\" hidden><div class=\"sk-item\"><div class=\"sk-estimator sk-toggleable\"><input class=\"sk-toggleable__control sk-hidden--visually\" id=\"sk-estimator-id-1\" type=\"checkbox\" checked><label for=\"sk-estimator-id-1\" class=\"sk-toggleable__label sk-toggleable__label-arrow\">DecisionTreeClassifier</label><div class=\"sk-toggleable__content\"><pre>DecisionTreeClassifier()</pre></div></div></div></div></div>"
      ],
      "text/plain": [
       "DecisionTreeClassifier()"
      ]
     },
     "execution_count": 10,
     "metadata": {},
     "output_type": "execute_result"
    }
   ],
   "source": [
    "tree = DecisionTreeClassifier()\n",
    "\n",
    "tree.fit(X_train_scaled, y_train)"
   ]
  },
  {
   "cell_type": "code",
   "execution_count": 11,
   "id": "e5773b46",
   "metadata": {},
   "outputs": [],
   "source": [
    "y_pred = tree.predict(X_test_scaled)"
   ]
  },
  {
   "cell_type": "code",
   "execution_count": 12,
   "id": "fb708e20",
   "metadata": {},
   "outputs": [
    {
     "name": "stdout",
     "output_type": "stream",
     "text": [
      "Accuracy of test data over base model:  0.945\n"
     ]
    }
   ],
   "source": [
    "print(\"Accuracy of test data over base model: \", round(accuracy_score(y_test, y_pred), 3))"
   ]
  },
  {
   "cell_type": "code",
   "execution_count": 13,
   "id": "3a7ae9d8",
   "metadata": {},
   "outputs": [
    {
     "name": "stdout",
     "output_type": "stream",
     "text": [
      "Classification report of test data over base model: \n",
      "\n",
      "               precision    recall  f1-score   support\n",
      "\n",
      "         0.0       0.96      0.94      0.95       338\n",
      "         1.0       0.93      0.95      0.94       260\n",
      "\n",
      "    accuracy                           0.94       598\n",
      "   macro avg       0.94      0.95      0.94       598\n",
      "weighted avg       0.95      0.94      0.94       598\n",
      "\n"
     ]
    }
   ],
   "source": [
    "print(\"Classification report of test data over base model: \\n\\n\", classification_report(y_test, y_pred))"
   ]
  },
  {
   "cell_type": "code",
   "execution_count": 14,
   "id": "1fa75321",
   "metadata": {},
   "outputs": [
    {
     "data": {
      "text/plain": [
       "<sklearn.metrics._plot.confusion_matrix.ConfusionMatrixDisplay at 0x12febb340>"
      ]
     },
     "execution_count": 14,
     "metadata": {},
     "output_type": "execute_result"
    },
    {
     "data": {
      "image/png": "[encoded data removed]",
      "text/plain": [
       "<Figure size 640x480 with 2 Axes>"
      ]
     },
     "metadata": {},
     "output_type": "display_data"
    }
   ],
   "source": [
    "cm = confusion_matrix(y_test, y_pred)\n",
    "\n",
    "ConfusionMatrixDisplay(cm, display_labels=['Barren', 'Fertile']).plot(cmap='OrRd')"
   ]
  },
  {
   "cell_type": "code",
   "execution_count": null,
   "id": "93c69664",
   "metadata": {},
   "outputs": [],
   "source": []
  },
  {
   "cell_type": "markdown",
   "id": "621a160f",
   "metadata": {},
   "source": [
    "### Hyper Parameter Tuning - Bayesian Optimization"
   ]
  },
  {
   "cell_type": "code",
   "execution_count": 15,
   "id": "dfc7037e",
   "metadata": {},
   "outputs": [],
   "source": [
    "def optimize(params, param_names, x, y):\n",
    "    params = dict(zip(param_names, params))\n",
    "    model = DecisionTreeClassifier(**params)\n",
    "    kfold = model_selection.StratifiedKFold(n_splits=10)\n",
    "    accuracies = []\n",
    "    \n",
    "    for idx in kfold.split(X=x, y=y):\n",
    "        train_idx, valid_idx = idx[0], idx[1]        \n",
    "        xtrain = x[train_idx]\n",
    "        ytrain = y[train_idx]\n",
    "        \n",
    "        xvalid = x[valid_idx]\n",
    "        yvalid = y[valid_idx]\n",
    "        \n",
    "        model.fit(xtrain, ytrain)        \n",
    "        preds = model.predict(xvalid)        \n",
    "        fold_accuracy = accuracy_score(yvalid, preds)\n",
    "        \n",
    "        accuracies.append(fold_accuracy)\n",
    "        \n",
    "    return -1.0 * np.mean(accuracies)"
   ]
  },
  {
   "cell_type": "code",
   "execution_count": 16,
   "id": "acdb4e99",
   "metadata": {},
   "outputs": [],
   "source": [
    "param_space = [\n",
    "    space.Integer(3, 10, name='max_depth'),\n",
    "    space.Categorical(['best', 'random'], name='splitter'),\n",
    "    space.Categorical(['gini', 'entropy', 'log_loss'], name='criterion'),\n",
    "    space.Categorical(['sqrt', 'log2'], name='max_features')\n",
    "]"
   ]
  },
  {
   "cell_type": "code",
   "execution_count": 17,
   "id": "aac99d40",
   "metadata": {},
   "outputs": [],
   "source": [
    "param_names = ['max_depth', 'splitter', 'criterion',  'max_features']"
   ]
  },
  {
   "cell_type": "code",
   "execution_count": 18,
   "id": "82f3eedb",
   "metadata": {},
   "outputs": [],
   "source": [
    "optimization_function = partial(optimize, param_names = param_names, x = X_train_scaled, y = y_train)"
   ]
  },
  {
   "cell_type": "code",
   "execution_count": 19,
   "id": "ea59b234",
   "metadata": {},
   "outputs": [
    {
     "name": "stdout",
     "output_type": "stream",
     "text": [
      "Iteration No: 1 started. Evaluating function at random point.\n",
      "Iteration No: 1 ended. Evaluation done at random point.\n",
      "Time taken: 0.0233\n",
      "Function value obtained: -0.8427\n",
      "Current minimum: -0.8427\n",
      "Iteration No: 2 started. Evaluating function at random point.\n",
      "Iteration No: 2 ended. Evaluation done at random point.\n",
      "Time taken: 0.0758\n",
      "Function value obtained: -0.8774\n",
      "Current minimum: -0.8774\n",
      "Iteration No: 3 started. Evaluating function at random point.\n",
      "Iteration No: 3 ended. Evaluation done at random point.\n",
      "Time taken: 0.0553\n",
      "Function value obtained: -0.8594\n",
      "Current minimum: -0.8774\n",
      "Iteration No: 4 started. Evaluating function at random point.\n",
      "Iteration No: 4 ended. Evaluation done at random point.\n",
      "Time taken: 0.0115\n",
      "Function value obtained: -0.7013\n",
      "Current minimum: -0.8774\n",
      "Iteration No: 5 started. Evaluating function at random point.\n",
      "Iteration No: 5 ended. Evaluation done at random point.\n",
      "Time taken: 2.0099\n",
      "Function value obtained: -0.8172\n",
      "Current minimum: -0.8774\n",
      "Iteration No: 6 started. Searching for the next optimal point.\n",
      "Iteration No: 6 ended. Search finished for the next optimal point.\n",
      "Time taken: 0.8494\n",
      "Function value obtained: -0.8912\n",
      "Current minimum: -0.8912\n",
      "Iteration No: 7 started. Searching for the next optimal point.\n",
      "Iteration No: 7 ended. Search finished for the next optimal point.\n",
      "Time taken: 0.3868\n",
      "Function value obtained: -0.8958\n",
      "Current minimum: -0.8958\n",
      "Iteration No: 8 started. Searching for the next optimal point.\n",
      "Iteration No: 8 ended. Search finished for the next optimal point.\n",
      "Time taken: 0.4192\n",
      "Function value obtained: -0.8958\n",
      "Current minimum: -0.8958\n",
      "Iteration No: 9 started. Searching for the next optimal point.\n",
      "Iteration No: 9 ended. Search finished for the next optimal point.\n",
      "Time taken: 0.5083\n",
      "Function value obtained: -0.7950\n",
      "Current minimum: -0.8958\n",
      "Iteration No: 10 started. Searching for the next optimal point.\n",
      "Iteration No: 10 ended. Search finished for the next optimal point.\n",
      "Time taken: 0.5219\n",
      "Function value obtained: -0.8925\n",
      "Current minimum: -0.8958\n",
      "Iteration No: 11 started. Searching for the next optimal point.\n",
      "Iteration No: 11 ended. Search finished for the next optimal point.\n",
      "Time taken: 0.5081\n",
      "Function value obtained: -0.8912\n",
      "Current minimum: -0.8958\n",
      "Iteration No: 12 started. Searching for the next optimal point.\n",
      "Iteration No: 12 ended. Search finished for the next optimal point.\n",
      "Time taken: 0.4523\n",
      "Function value obtained: -0.9046\n",
      "Current minimum: -0.9046\n",
      "Iteration No: 13 started. Searching for the next optimal point.\n",
      "Iteration No: 13 ended. Search finished for the next optimal point.\n",
      "Time taken: 0.4125\n",
      "Function value obtained: -0.9054\n",
      "Current minimum: -0.9054\n",
      "Iteration No: 14 started. Searching for the next optimal point.\n"
     ]
    },
    {
     "name": "stderr",
     "output_type": "stream",
     "text": [
      "/opt/miniconda3/lib/python3.9/site-packages/skopt/optimizer/optimizer.py:517: UserWarning: The objective has been evaluated at point [10, 'best', 'log_loss', 'log2'] before, using random point [4, 'random', 'log_loss', 'sqrt']\n",
      "  warnings.warn(\n"
     ]
    },
    {
     "name": "stdout",
     "output_type": "stream",
     "text": [
      "Iteration No: 14 ended. Search finished for the next optimal point.\n",
      "Time taken: 0.4162\n",
      "Function value obtained: -0.7582\n",
      "Current minimum: -0.9054\n",
      "Iteration No: 15 started. Searching for the next optimal point.\n"
     ]
    },
    {
     "name": "stderr",
     "output_type": "stream",
     "text": [
      "/opt/miniconda3/lib/python3.9/site-packages/skopt/optimizer/optimizer.py:517: UserWarning: The objective has been evaluated at point [10, 'best', 'log_loss', 'log2'] before, using random point [3, 'best', 'entropy', 'log2']\n",
      "  warnings.warn(\n"
     ]
    },
    {
     "name": "stdout",
     "output_type": "stream",
     "text": [
      "Iteration No: 15 ended. Search finished for the next optimal point.\n",
      "Time taken: 0.3638\n",
      "Function value obtained: -0.7883\n",
      "Current minimum: -0.9054\n",
      "Iteration No: 16 started. Searching for the next optimal point.\n"
     ]
    },
    {
     "name": "stderr",
     "output_type": "stream",
     "text": [
      "/opt/miniconda3/lib/python3.9/site-packages/skopt/optimizer/optimizer.py:517: UserWarning: The objective has been evaluated at point [10, 'best', 'log_loss', 'log2'] before, using random point [7, 'best', 'log_loss', 'log2']\n",
      "  warnings.warn(\n"
     ]
    },
    {
     "name": "stdout",
     "output_type": "stream",
     "text": [
      "Iteration No: 16 ended. Search finished for the next optimal point.\n",
      "Time taken: 0.5535\n",
      "Function value obtained: -0.8590\n",
      "Current minimum: -0.9054\n",
      "Iteration No: 17 started. Searching for the next optimal point.\n"
     ]
    },
    {
     "name": "stderr",
     "output_type": "stream",
     "text": [
      "/opt/miniconda3/lib/python3.9/site-packages/skopt/optimizer/optimizer.py:517: UserWarning: The objective has been evaluated at point [10, 'best', 'log_loss', 'log2'] before, using random point [6, 'best', 'log_loss', 'sqrt']\n",
      "  warnings.warn(\n"
     ]
    },
    {
     "name": "stdout",
     "output_type": "stream",
     "text": [
      "Iteration No: 17 ended. Search finished for the next optimal point.\n",
      "Time taken: 0.5097\n",
      "Function value obtained: -0.8389\n",
      "Current minimum: -0.9054\n",
      "Iteration No: 18 started. Searching for the next optimal point.\n",
      "Iteration No: 18 ended. Search finished for the next optimal point.\n",
      "Time taken: 0.3955\n",
      "Function value obtained: -0.8473\n",
      "Current minimum: -0.9054\n",
      "Iteration No: 19 started. Searching for the next optimal point.\n",
      "Iteration No: 19 ended. Search finished for the next optimal point.\n",
      "Time taken: 0.4155\n",
      "Function value obtained: -0.8439\n",
      "Current minimum: -0.9054\n",
      "Iteration No: 20 started. Searching for the next optimal point.\n",
      "Iteration No: 20 ended. Search finished for the next optimal point.\n",
      "Time taken: 0.5106\n",
      "Function value obtained: -0.8787\n",
      "Current minimum: -0.9054\n",
      "Iteration No: 21 started. Searching for the next optimal point.\n",
      "Iteration No: 21 ended. Search finished for the next optimal point.\n",
      "Time taken: 0.5389\n",
      "Function value obtained: -0.8644\n",
      "Current minimum: -0.9054\n",
      "Iteration No: 22 started. Searching for the next optimal point.\n",
      "Iteration No: 22 ended. Search finished for the next optimal point.\n",
      "Time taken: 0.4956\n",
      "Function value obtained: -0.8854\n",
      "Current minimum: -0.9054\n",
      "Iteration No: 23 started. Searching for the next optimal point.\n"
     ]
    },
    {
     "name": "stderr",
     "output_type": "stream",
     "text": [
      "/opt/miniconda3/lib/python3.9/site-packages/skopt/optimizer/optimizer.py:517: UserWarning: The objective has been evaluated at point [10, 'best', 'log_loss', 'log2'] before, using random point [6, 'random', 'entropy', 'sqrt']\n",
      "  warnings.warn(\n"
     ]
    },
    {
     "name": "stdout",
     "output_type": "stream",
     "text": [
      "Iteration No: 23 ended. Search finished for the next optimal point.\n",
      "Time taken: 0.4609\n",
      "Function value obtained: -0.8004\n",
      "Current minimum: -0.9054\n",
      "Iteration No: 24 started. Searching for the next optimal point.\n"
     ]
    },
    {
     "name": "stderr",
     "output_type": "stream",
     "text": [
      "/opt/miniconda3/lib/python3.9/site-packages/skopt/optimizer/optimizer.py:517: UserWarning: The objective has been evaluated at point [10, 'best', 'log_loss', 'log2'] before, using random point [5, 'best', 'log_loss', 'sqrt']\n",
      "  warnings.warn(\n"
     ]
    },
    {
     "name": "stdout",
     "output_type": "stream",
     "text": [
      "Iteration No: 24 ended. Search finished for the next optimal point.\n",
      "Time taken: 0.5391\n",
      "Function value obtained: -0.8276\n",
      "Current minimum: -0.9054\n",
      "Iteration No: 25 started. Searching for the next optimal point.\n"
     ]
    },
    {
     "name": "stderr",
     "output_type": "stream",
     "text": [
      "/opt/miniconda3/lib/python3.9/site-packages/skopt/optimizer/optimizer.py:517: UserWarning: The objective has been evaluated at point [10, 'best', 'log_loss', 'log2'] before, using random point [7, 'random', 'log_loss', 'log2']\n",
      "  warnings.warn(\n"
     ]
    },
    {
     "name": "stdout",
     "output_type": "stream",
     "text": [
      "Iteration No: 25 ended. Search finished for the next optimal point.\n",
      "Time taken: 0.4697\n",
      "Function value obtained: -0.8255\n",
      "Current minimum: -0.9054\n",
      "Iteration No: 26 started. Searching for the next optimal point.\n"
     ]
    },
    {
     "name": "stderr",
     "output_type": "stream",
     "text": [
      "/opt/miniconda3/lib/python3.9/site-packages/skopt/optimizer/optimizer.py:517: UserWarning: The objective has been evaluated at point [10, 'best', 'log_loss', 'log2'] before, using random point [5, 'best', 'entropy', 'sqrt']\n",
      "  warnings.warn(\n"
     ]
    },
    {
     "name": "stdout",
     "output_type": "stream",
     "text": [
      "Iteration No: 26 ended. Search finished for the next optimal point.\n",
      "Time taken: 0.4799\n",
      "Function value obtained: -0.8297\n",
      "Current minimum: -0.9054\n",
      "Iteration No: 27 started. Searching for the next optimal point.\n"
     ]
    },
    {
     "name": "stderr",
     "output_type": "stream",
     "text": [
      "/opt/miniconda3/lib/python3.9/site-packages/skopt/optimizer/optimizer.py:517: UserWarning: The objective has been evaluated at point [10, 'best', 'log_loss', 'log2'] before, using random point [7, 'best', 'gini', 'log2']\n",
      "  warnings.warn(\n"
     ]
    },
    {
     "name": "stdout",
     "output_type": "stream",
     "text": [
      "Iteration No: 27 ended. Search finished for the next optimal point.\n",
      "Time taken: 0.5273\n",
      "Function value obtained: -0.8787\n",
      "Current minimum: -0.9054\n",
      "Iteration No: 28 started. Searching for the next optimal point.\n"
     ]
    },
    {
     "name": "stderr",
     "output_type": "stream",
     "text": [
      "/opt/miniconda3/lib/python3.9/site-packages/skopt/optimizer/optimizer.py:517: UserWarning: The objective has been evaluated at point [10, 'best', 'log_loss', 'log2'] before, using random point [6, 'best', 'gini', 'log2']\n",
      "  warnings.warn(\n"
     ]
    },
    {
     "name": "stdout",
     "output_type": "stream",
     "text": [
      "Iteration No: 28 ended. Search finished for the next optimal point.\n",
      "Time taken: 0.4800\n",
      "Function value obtained: -0.8644\n",
      "Current minimum: -0.9054\n",
      "Iteration No: 29 started. Searching for the next optimal point.\n"
     ]
    },
    {
     "name": "stderr",
     "output_type": "stream",
     "text": [
      "/opt/miniconda3/lib/python3.9/site-packages/skopt/optimizer/optimizer.py:517: UserWarning: The objective has been evaluated at point [10, 'best', 'gini', 'log2'] before, using random point [7, 'random', 'log_loss', 'log2']\n",
      "  warnings.warn(\n"
     ]
    },
    {
     "name": "stdout",
     "output_type": "stream",
     "text": [
      "Iteration No: 29 ended. Search finished for the next optimal point.\n",
      "Time taken: 0.4412\n",
      "Function value obtained: -0.8117\n",
      "Current minimum: -0.9054\n",
      "Iteration No: 30 started. Searching for the next optimal point.\n"
     ]
    },
    {
     "name": "stderr",
     "output_type": "stream",
     "text": [
      "/opt/miniconda3/lib/python3.9/site-packages/skopt/optimizer/optimizer.py:517: UserWarning: The objective has been evaluated at point [10, 'best', 'gini', 'log2'] before, using random point [10, 'best', 'log_loss', 'sqrt']\n",
      "  warnings.warn(\n"
     ]
    },
    {
     "name": "stdout",
     "output_type": "stream",
     "text": [
      "Iteration No: 30 ended. Search finished for the next optimal point.\n",
      "Time taken: 0.5838\n",
      "Function value obtained: -0.8954\n",
      "Current minimum: -0.9054\n",
      "Iteration No: 31 started. Searching for the next optimal point.\n"
     ]
    },
    {
     "name": "stderr",
     "output_type": "stream",
     "text": [
      "/opt/miniconda3/lib/python3.9/site-packages/skopt/optimizer/optimizer.py:517: UserWarning: The objective has been evaluated at point [10, 'best', 'gini', 'log2'] before, using random point [3, 'random', 'log_loss', 'log2']\n",
      "  warnings.warn(\n"
     ]
    },
    {
     "name": "stdout",
     "output_type": "stream",
     "text": [
      "Iteration No: 31 ended. Search finished for the next optimal point.\n",
      "Time taken: 0.4789\n",
      "Function value obtained: -0.7247\n",
      "Current minimum: -0.9054\n",
      "Iteration No: 32 started. Searching for the next optimal point.\n"
     ]
    },
    {
     "name": "stderr",
     "output_type": "stream",
     "text": [
      "/opt/miniconda3/lib/python3.9/site-packages/skopt/optimizer/optimizer.py:517: UserWarning: The objective has been evaluated at point [10, 'best', 'gini', 'log2'] before, using random point [10, 'best', 'log_loss', 'sqrt']\n",
      "  warnings.warn(\n"
     ]
    },
    {
     "name": "stdout",
     "output_type": "stream",
     "text": [
      "Iteration No: 32 ended. Search finished for the next optimal point.\n",
      "Time taken: 0.7028\n",
      "Function value obtained: -0.8895\n",
      "Current minimum: -0.9054\n",
      "Iteration No: 33 started. Searching for the next optimal point.\n"
     ]
    },
    {
     "name": "stderr",
     "output_type": "stream",
     "text": [
      "/opt/miniconda3/lib/python3.9/site-packages/skopt/optimizer/optimizer.py:517: UserWarning: The objective has been evaluated at point [10, 'best', 'gini', 'log2'] before, using random point [8, 'best', 'gini', 'log2']\n",
      "  warnings.warn(\n"
     ]
    },
    {
     "name": "stdout",
     "output_type": "stream",
     "text": [
      "Iteration No: 33 ended. Search finished for the next optimal point.\n",
      "Time taken: 0.6754\n",
      "Function value obtained: -0.8929\n",
      "Current minimum: -0.9054\n",
      "Iteration No: 34 started. Searching for the next optimal point.\n"
     ]
    },
    {
     "name": "stderr",
     "output_type": "stream",
     "text": [
      "/opt/miniconda3/lib/python3.9/site-packages/skopt/optimizer/optimizer.py:517: UserWarning: The objective has been evaluated at point [10, 'best', 'gini', 'log2'] before, using random point [5, 'best', 'entropy', 'log2']\n",
      "  warnings.warn(\n"
     ]
    },
    {
     "name": "stdout",
     "output_type": "stream",
     "text": [
      "Iteration No: 34 ended. Search finished for the next optimal point.\n",
      "Time taken: 0.6594\n",
      "Function value obtained: -0.8314\n",
      "Current minimum: -0.9054\n",
      "Iteration No: 35 started. Searching for the next optimal point.\n"
     ]
    },
    {
     "name": "stderr",
     "output_type": "stream",
     "text": [
      "/opt/miniconda3/lib/python3.9/site-packages/skopt/optimizer/optimizer.py:517: UserWarning: The objective has been evaluated at point [10, 'best', 'gini', 'log2'] before, using random point [5, 'random', 'gini', 'log2']\n",
      "  warnings.warn(\n"
     ]
    },
    {
     "name": "stdout",
     "output_type": "stream",
     "text": [
      "Iteration No: 35 ended. Search finished for the next optimal point.\n",
      "Time taken: 0.6954\n",
      "Function value obtained: -0.7887\n",
      "Current minimum: -0.9054\n",
      "Iteration No: 36 started. Searching for the next optimal point.\n"
     ]
    },
    {
     "name": "stderr",
     "output_type": "stream",
     "text": [
      "/opt/miniconda3/lib/python3.9/site-packages/skopt/optimizer/optimizer.py:517: UserWarning: The objective has been evaluated at point [10, 'best', 'gini', 'log2'] before, using random point [10, 'best', 'gini', 'sqrt']\n",
      "  warnings.warn(\n"
     ]
    },
    {
     "name": "stdout",
     "output_type": "stream",
     "text": [
      "Iteration No: 36 ended. Search finished for the next optimal point.\n",
      "Time taken: 0.6866\n",
      "Function value obtained: -0.8987\n",
      "Current minimum: -0.9054\n",
      "Iteration No: 37 started. Searching for the next optimal point.\n"
     ]
    },
    {
     "name": "stderr",
     "output_type": "stream",
     "text": [
      "/opt/miniconda3/lib/python3.9/site-packages/skopt/optimizer/optimizer.py:517: UserWarning: The objective has been evaluated at point [10, 'best', 'gini', 'log2'] before, using random point [8, 'best', 'entropy', 'sqrt']\n",
      "  warnings.warn(\n"
     ]
    },
    {
     "name": "stdout",
     "output_type": "stream",
     "text": [
      "Iteration No: 37 ended. Search finished for the next optimal point.\n",
      "Time taken: 0.6941\n",
      "Function value obtained: -0.8841\n",
      "Current minimum: -0.9054\n",
      "Iteration No: 38 started. Searching for the next optimal point.\n"
     ]
    },
    {
     "name": "stderr",
     "output_type": "stream",
     "text": [
      "/opt/miniconda3/lib/python3.9/site-packages/skopt/optimizer/optimizer.py:517: UserWarning: The objective has been evaluated at point [10, 'best', 'gini', 'log2'] before, using random point [5, 'random', 'log_loss', 'sqrt']\n",
      "  warnings.warn(\n"
     ]
    },
    {
     "name": "stdout",
     "output_type": "stream",
     "text": [
      "Iteration No: 38 ended. Search finished for the next optimal point.\n",
      "Time taken: 0.7116\n",
      "Function value obtained: -0.7590\n",
      "Current minimum: -0.9054\n",
      "Iteration No: 39 started. Searching for the next optimal point.\n"
     ]
    },
    {
     "name": "stderr",
     "output_type": "stream",
     "text": [
      "/opt/miniconda3/lib/python3.9/site-packages/skopt/optimizer/optimizer.py:517: UserWarning: The objective has been evaluated at point [10, 'best', 'gini', 'log2'] before, using random point [7, 'best', 'log_loss', 'log2']\n",
      "  warnings.warn(\n"
     ]
    },
    {
     "name": "stdout",
     "output_type": "stream",
     "text": [
      "Iteration No: 39 ended. Search finished for the next optimal point.\n",
      "Time taken: 0.7716\n",
      "Function value obtained: -0.8678\n",
      "Current minimum: -0.9054\n",
      "Iteration No: 40 started. Searching for the next optimal point.\n"
     ]
    },
    {
     "name": "stderr",
     "output_type": "stream",
     "text": [
      "/opt/miniconda3/lib/python3.9/site-packages/skopt/optimizer/optimizer.py:517: UserWarning: The objective has been evaluated at point [10, 'best', 'gini', 'log2'] before, using random point [5, 'best', 'log_loss', 'log2']\n",
      "  warnings.warn(\n"
     ]
    },
    {
     "name": "stdout",
     "output_type": "stream",
     "text": [
      "Iteration No: 40 ended. Search finished for the next optimal point.\n",
      "Time taken: 0.7416\n",
      "Function value obtained: -0.8410\n",
      "Current minimum: -0.9054\n",
      "Iteration No: 41 started. Searching for the next optimal point.\n"
     ]
    },
    {
     "name": "stderr",
     "output_type": "stream",
     "text": [
      "/opt/miniconda3/lib/python3.9/site-packages/skopt/optimizer/optimizer.py:517: UserWarning: The objective has been evaluated at point [10, 'best', 'gini', 'log2'] before, using random point [7, 'best', 'log_loss', 'sqrt']\n",
      "  warnings.warn(\n"
     ]
    },
    {
     "name": "stdout",
     "output_type": "stream",
     "text": [
      "Iteration No: 41 ended. Search finished for the next optimal point.\n",
      "Time taken: 0.7241\n",
      "Function value obtained: -0.8753\n",
      "Current minimum: -0.9054\n",
      "Iteration No: 42 started. Searching for the next optimal point.\n"
     ]
    },
    {
     "name": "stderr",
     "output_type": "stream",
     "text": [
      "/opt/miniconda3/lib/python3.9/site-packages/skopt/optimizer/optimizer.py:517: UserWarning: The objective has been evaluated at point [10, 'best', 'gini', 'log2'] before, using random point [4, 'random', 'entropy', 'sqrt']\n",
      "  warnings.warn(\n"
     ]
    },
    {
     "name": "stdout",
     "output_type": "stream",
     "text": [
      "Iteration No: 42 ended. Search finished for the next optimal point.\n",
      "Time taken: 0.7197\n",
      "Function value obtained: -0.7427\n",
      "Current minimum: -0.9054\n",
      "Iteration No: 43 started. Searching for the next optimal point.\n"
     ]
    },
    {
     "name": "stderr",
     "output_type": "stream",
     "text": [
      "/opt/miniconda3/lib/python3.9/site-packages/skopt/optimizer/optimizer.py:517: UserWarning: The objective has been evaluated at point [10, 'best', 'gini', 'log2'] before, using random point [4, 'best', 'entropy', 'sqrt']\n",
      "  warnings.warn(\n"
     ]
    },
    {
     "name": "stdout",
     "output_type": "stream",
     "text": [
      "Iteration No: 43 ended. Search finished for the next optimal point.\n",
      "Time taken: 0.7251\n",
      "Function value obtained: -0.8188\n",
      "Current minimum: -0.9054\n",
      "Iteration No: 44 started. Searching for the next optimal point.\n"
     ]
    },
    {
     "name": "stderr",
     "output_type": "stream",
     "text": [
      "/opt/miniconda3/lib/python3.9/site-packages/skopt/optimizer/optimizer.py:517: UserWarning: The objective has been evaluated at point [10, 'best', 'gini', 'log2'] before, using random point [4, 'best', 'entropy', 'log2']\n",
      "  warnings.warn(\n"
     ]
    },
    {
     "name": "stdout",
     "output_type": "stream",
     "text": [
      "Iteration No: 44 ended. Search finished for the next optimal point.\n",
      "Time taken: 0.7611\n",
      "Function value obtained: -0.8360\n",
      "Current minimum: -0.9054\n",
      "Iteration No: 45 started. Searching for the next optimal point.\n"
     ]
    },
    {
     "name": "stderr",
     "output_type": "stream",
     "text": [
      "/opt/miniconda3/lib/python3.9/site-packages/skopt/optimizer/optimizer.py:517: UserWarning: The objective has been evaluated at point [10, 'best', 'gini', 'log2'] before, using random point [6, 'random', 'gini', 'log2']\n",
      "  warnings.warn(\n"
     ]
    },
    {
     "name": "stdout",
     "output_type": "stream",
     "text": [
      "Iteration No: 45 ended. Search finished for the next optimal point.\n",
      "Time taken: 0.7737\n",
      "Function value obtained: -0.7983\n",
      "Current minimum: -0.9054\n",
      "Iteration No: 46 started. Searching for the next optimal point.\n"
     ]
    },
    {
     "name": "stderr",
     "output_type": "stream",
     "text": [
      "/opt/miniconda3/lib/python3.9/site-packages/skopt/optimizer/optimizer.py:517: UserWarning: The objective has been evaluated at point [10, 'best', 'gini', 'log2'] before, using random point [9, 'random', 'gini', 'sqrt']\n",
      "  warnings.warn(\n"
     ]
    },
    {
     "name": "stdout",
     "output_type": "stream",
     "text": [
      "Iteration No: 46 ended. Search finished for the next optimal point.\n",
      "Time taken: 0.7241\n",
      "Function value obtained: -0.8377\n",
      "Current minimum: -0.9054\n",
      "Iteration No: 47 started. Searching for the next optimal point.\n"
     ]
    },
    {
     "name": "stderr",
     "output_type": "stream",
     "text": [
      "/opt/miniconda3/lib/python3.9/site-packages/skopt/optimizer/optimizer.py:517: UserWarning: The objective has been evaluated at point [10, 'best', 'gini', 'log2'] before, using random point [6, 'best', 'entropy', 'sqrt']\n",
      "  warnings.warn(\n"
     ]
    },
    {
     "name": "stdout",
     "output_type": "stream",
     "text": [
      "Iteration No: 47 ended. Search finished for the next optimal point.\n",
      "Time taken: 0.7867\n",
      "Function value obtained: -0.8435\n",
      "Current minimum: -0.9054\n",
      "Iteration No: 48 started. Searching for the next optimal point.\n"
     ]
    },
    {
     "name": "stderr",
     "output_type": "stream",
     "text": [
      "/opt/miniconda3/lib/python3.9/site-packages/skopt/optimizer/optimizer.py:517: UserWarning: The objective has been evaluated at point [10, 'best', 'gini', 'log2'] before, using random point [7, 'best', 'log_loss', 'log2']\n",
      "  warnings.warn(\n"
     ]
    },
    {
     "name": "stdout",
     "output_type": "stream",
     "text": [
      "Iteration No: 48 ended. Search finished for the next optimal point.\n",
      "Time taken: 0.7986\n",
      "Function value obtained: -0.8473\n",
      "Current minimum: -0.9054\n",
      "Iteration No: 49 started. Searching for the next optimal point.\n"
     ]
    },
    {
     "name": "stderr",
     "output_type": "stream",
     "text": [
      "/opt/miniconda3/lib/python3.9/site-packages/skopt/optimizer/optimizer.py:517: UserWarning: The objective has been evaluated at point [10, 'best', 'gini', 'log2'] before, using random point [7, 'best', 'gini', 'sqrt']\n",
      "  warnings.warn(\n"
     ]
    },
    {
     "name": "stdout",
     "output_type": "stream",
     "text": [
      "Iteration No: 49 ended. Search finished for the next optimal point.\n",
      "Time taken: 0.7630\n",
      "Function value obtained: -0.8799\n",
      "Current minimum: -0.9054\n",
      "Iteration No: 50 started. Searching for the next optimal point.\n"
     ]
    },
    {
     "name": "stderr",
     "output_type": "stream",
     "text": [
      "/opt/miniconda3/lib/python3.9/site-packages/skopt/optimizer/optimizer.py:517: UserWarning: The objective has been evaluated at point [10, 'best', 'gini', 'log2'] before, using random point [7, 'random', 'entropy', 'sqrt']\n",
      "  warnings.warn(\n"
     ]
    },
    {
     "name": "stdout",
     "output_type": "stream",
     "text": [
      "Iteration No: 50 ended. Search finished for the next optimal point.\n",
      "Time taken: 0.8358\n",
      "Function value obtained: -0.8205\n",
      "Current minimum: -0.9054\n"
     ]
    }
   ],
   "source": [
    "result = gp_minimize(func=optimization_function,\n",
    "                     dimensions = param_space,\n",
    "                     n_calls=50,\n",
    "                     n_random_starts=5,\n",
    "                     verbose=10,\n",
    "                     n_jobs=-1)"
   ]
  },
  {
   "cell_type": "code",
   "execution_count": 20,
   "id": "d87f40ad",
   "metadata": {},
   "outputs": [
    {
     "name": "stdout",
     "output_type": "stream",
     "text": [
      "{'max_depth': 10, 'splitter': 'best', 'criterion': 'log_loss', 'max_features': 'log2'}\n"
     ]
    }
   ],
   "source": [
    "best_params_bayesian = dict(zip(param_names, result.x))\n",
    "print(best_params_bayesian)"
   ]
  },
  {
   "cell_type": "code",
   "execution_count": 21,
   "id": "57a0c621",
   "metadata": {},
   "outputs": [
    {
     "data": {
      "text/html": [
       "<style>#sk-container-id-2 {color: black;}#sk-container-id-2 pre{padding: 0;}#sk-container-id-2 div.sk-toggleable {background-color: white;}#sk-container-id-2 label.sk-toggleable__label {cursor: pointer;display: block;width: 100%;margin-bottom: 0;padding: 0.3em;box-sizing: border-box;text-align: center;}#sk-container-id-2 label.sk-toggleable__label-arrow:before {content: \"▸\";float: left;margin-right: 0.25em;color: #696969;}#sk-container-id-2 label.sk-toggleable__label-arrow:hover:before {color: black;}#sk-container-id-2 div.sk-estimator:hover label.sk-toggleable__label-arrow:before {color: black;}#sk-container-id-2 div.sk-toggleable__content {max-height: 0;max-width: 0;overflow: hidden;text-align: left;background-color: #f0f8ff;}#sk-container-id-2 div.sk-toggleable__content pre {margin: 0.2em;color: black;border-radius: 0.25em;background-color: #f0f8ff;}#sk-container-id-2 input.sk-toggleable__control:checked~div.sk-toggleable__content {max-height: 200px;max-width: 100%;overflow: auto;}#sk-container-id-2 input.sk-toggleable__control:checked~label.sk-toggleable__label-arrow:before {content: \"▾\";}#sk-container-id-2 div.sk-estimator input.sk-toggleable__control:checked~label.sk-toggleable__label {background-color: #d4ebff;}#sk-container-id-2 div.sk-label input.sk-toggleable__control:checked~label.sk-toggleable__label {background-color: #d4ebff;}#sk-container-id-2 input.sk-hidden--visually {border: 0;clip: rect(1px 1px 1px 1px);clip: rect(1px, 1px, 1px, 1px);height: 1px;margin: -1px;overflow: hidden;padding: 0;position: absolute;width: 1px;}#sk-container-id-2 div.sk-estimator {font-family: monospace;background-color: #f0f8ff;border: 1px dotted black;border-radius: 0.25em;box-sizing: border-box;margin-bottom: 0.5em;}#sk-container-id-2 div.sk-estimator:hover {background-color: #d4ebff;}#sk-container-id-2 div.sk-parallel-item::after {content: \"\";width: 100%;border-bottom: 1px solid gray;flex-grow: 1;}#sk-container-id-2 div.sk-label:hover label.sk-toggleable__label {background-color: #d4ebff;}#sk-container-id-2 div.sk-serial::before {content: \"\";position: absolute;border-left: 1px solid gray;box-sizing: border-box;top: 0;bottom: 0;left: 50%;z-index: 0;}#sk-container-id-2 div.sk-serial {display: flex;flex-direction: column;align-items: center;background-color: white;padding-right: 0.2em;padding-left: 0.2em;position: relative;}#sk-container-id-2 div.sk-item {position: relative;z-index: 1;}#sk-container-id-2 div.sk-parallel {display: flex;align-items: stretch;justify-content: center;background-color: white;position: relative;}#sk-container-id-2 div.sk-item::before, #sk-container-id-2 div.sk-parallel-item::before {content: \"\";position: absolute;border-left: 1px solid gray;box-sizing: border-box;top: 0;bottom: 0;left: 50%;z-index: -1;}#sk-container-id-2 div.sk-parallel-item {display: flex;flex-direction: column;z-index: 1;position: relative;background-color: white;}#sk-container-id-2 div.sk-parallel-item:first-child::after {align-self: flex-end;width: 50%;}#sk-container-id-2 div.sk-parallel-item:last-child::after {align-self: flex-start;width: 50%;}#sk-container-id-2 div.sk-parallel-item:only-child::after {width: 0;}#sk-container-id-2 div.sk-dashed-wrapped {border: 1px dashed gray;margin: 0 0.4em 0.5em 0.4em;box-sizing: border-box;padding-bottom: 0.4em;background-color: white;}#sk-container-id-2 div.sk-label label {font-family: monospace;font-weight: bold;display: inline-block;line-height: 1.2em;}#sk-container-id-2 div.sk-label-container {text-align: center;}#sk-container-id-2 div.sk-container {/* jupyter's `normalize.less` sets `[hidden] { display: none; }` but bootstrap.min.css set `[hidden] { display: none !important; }` so we also need the `!important` here to be able to override the default hidden behavior on the sphinx rendered scikit-learn.org. See: https://github.com/scikit-learn/scikit-learn/issues/21755 */display: inline-block !important;position: relative;}#sk-container-id-2 div.sk-text-repr-fallback {display: none;}</style><div id=\"sk-container-id-2\" class=\"sk-top-container\"><div class=\"sk-text-repr-fallback\"><pre>DecisionTreeClassifier(criterion=&#x27;log_loss&#x27;, max_depth=10, max_features=&#x27;log2&#x27;)</pre><b>In a Jupyter environment, please rerun this cell to show the HTML representation or trust the notebook. <br />On GitHub, the HTML representation is unable to render, please try loading this page with nbviewer.org.</b></div><div class=\"sk-container\" hidden><div class=\"sk-item\"><div class=\"sk-estimator sk-toggleable\"><input class=\"sk-toggleable__control sk-hidden--visually\" id=\"sk-estimator-id-2\" type=\"checkbox\" checked><label for=\"sk-estimator-id-2\" class=\"sk-toggleable__label sk-toggleable__label-arrow\">DecisionTreeClassifier</label><div class=\"sk-toggleable__content\"><pre>DecisionTreeClassifier(criterion=&#x27;log_loss&#x27;, max_depth=10, max_features=&#x27;log2&#x27;)</pre></div></div></div></div></div>"
      ],
      "text/plain": [
       "DecisionTreeClassifier(criterion='log_loss', max_depth=10, max_features='log2')"
      ]
     },
     "execution_count": 21,
     "metadata": {},
     "output_type": "execute_result"
    }
   ],
   "source": [
    "best_model_tree_bayesian = DecisionTreeClassifier(**best_params_bayesian)\n",
    "\n",
    "best_model_tree_bayesian.fit(X_train_scaled, y_train)"
   ]
  },
  {
   "cell_type": "code",
   "execution_count": 22,
   "id": "936fd2da",
   "metadata": {},
   "outputs": [],
   "source": [
    "y_pred_best_bayesian = best_model_tree_bayesian.predict(X_test_scaled)"
   ]
  },
  {
   "cell_type": "code",
   "execution_count": 23,
   "id": "4e2b9b7e",
   "metadata": {},
   "outputs": [
    {
     "name": "stdout",
     "output_type": "stream",
     "text": [
      "Accuracy of test data using Bayesian Optimization:  0.886\n"
     ]
    }
   ],
   "source": [
    "print(\"Accuracy of test data using Bayesian Optimization: \", round(accuracy_score(y_test, y_pred_best_bayesian), 3))"
   ]
  },
  {
   "cell_type": "code",
   "execution_count": 24,
   "id": "9183e1fd",
   "metadata": {},
   "outputs": [
    {
     "name": "stdout",
     "output_type": "stream",
     "text": [
      "Classification report for test data: \n",
      "\n",
      "               precision    recall  f1-score   support\n",
      "\n",
      "         0.0       0.93      0.87      0.90       338\n",
      "         1.0       0.84      0.91      0.87       260\n",
      "\n",
      "    accuracy                           0.89       598\n",
      "   macro avg       0.88      0.89      0.89       598\n",
      "weighted avg       0.89      0.89      0.89       598\n",
      "\n"
     ]
    }
   ],
   "source": [
    "print(\"Classification report for test data: \\n\\n\", classification_report(y_test, y_pred_best_bayesian))"
   ]
  },
  {
   "cell_type": "code",
   "execution_count": 25,
   "id": "17dcdffd",
   "metadata": {},
   "outputs": [
    {
     "data": {
      "text/plain": [
       "<sklearn.metrics._plot.confusion_matrix.ConfusionMatrixDisplay at 0x13c90f7c0>"
      ]
     },
     "execution_count": 25,
     "metadata": {},
     "output_type": "execute_result"
    },
    {
     "data": {
      "image/png": "[encoded data removed]",
      "text/plain": [
       "<Figure size 640x480 with 2 Axes>"
      ]
     },
     "metadata": {},
     "output_type": "display_data"
    }
   ],
   "source": [
    "cm = confusion_matrix(y_test, y_pred_best_bayesian)\n",
    "\n",
    "ConfusionMatrixDisplay(cm, display_labels=['Barren', 'Fertile']).plot(cmap='OrRd')"
   ]
  },
  {
   "cell_type": "code",
   "execution_count": null,
   "id": "86dafefb",
   "metadata": {},
   "outputs": [],
   "source": []
  },
  {
   "cell_type": "markdown",
   "id": "090ca8c5",
   "metadata": {},
   "source": [
    "### Hyper-Parameter Tuning - Grid search CV"
   ]
  },
  {
   "cell_type": "code",
   "execution_count": 26,
   "id": "dd05999a",
   "metadata": {},
   "outputs": [],
   "source": [
    "Stratified_kf = StratifiedKFold(n_splits=10, shuffle=True)"
   ]
  },
  {
   "cell_type": "code",
   "execution_count": 27,
   "id": "b3b1cd1c",
   "metadata": {},
   "outputs": [],
   "source": [
    "param_grid = {\n",
    "    'max_depth': np.arange(3, 11, 1),\n",
    "    'splitter': ['best', 'random'],\n",
    "    'criterion': ['gini', 'entropy'],\n",
    "    'max_features': ['sqrt', 'log2']\n",
    "}"
   ]
  },
  {
   "cell_type": "code",
   "execution_count": 28,
   "id": "f6c38e74",
   "metadata": {},
   "outputs": [],
   "source": [
    "clf = GridSearchCV(estimator=DecisionTreeClassifier(),\n",
    "                   param_grid=param_grid,\n",
    "                   scoring='accuracy',\n",
    "                   verbose=10,\n",
    "                   n_jobs=-1,\n",
    "                   return_train_score=True\n",
    "                  )"
   ]
  },
  {
   "cell_type": "code",
   "execution_count": 29,
   "id": "0bbb82e9",
   "metadata": {},
   "outputs": [
    {
     "name": "stdout",
     "output_type": "stream",
     "text": [
      "Fitting 5 folds for each of 64 candidates, totalling 320 fits\n"
     ]
    },
    {
     "data": {
      "text/html": [
       "<style>#sk-container-id-3 {color: black;}#sk-container-id-3 pre{padding: 0;}#sk-container-id-3 div.sk-toggleable {background-color: white;}#sk-container-id-3 label.sk-toggleable__label {cursor: pointer;display: block;width: 100%;margin-bottom: 0;padding: 0.3em;box-sizing: border-box;text-align: center;}#sk-container-id-3 label.sk-toggleable__label-arrow:before {content: \"▸\";float: left;margin-right: 0.25em;color: #696969;}#sk-container-id-3 label.sk-toggleable__label-arrow:hover:before {color: black;}#sk-container-id-3 div.sk-estimator:hover label.sk-toggleable__label-arrow:before {color: black;}#sk-container-id-3 div.sk-toggleable__content {max-height: 0;max-width: 0;overflow: hidden;text-align: left;background-color: #f0f8ff;}#sk-container-id-3 div.sk-toggleable__content pre {margin: 0.2em;color: black;border-radius: 0.25em;background-color: #f0f8ff;}#sk-container-id-3 input.sk-toggleable__control:checked~div.sk-toggleable__content {max-height: 200px;max-width: 100%;overflow: auto;}#sk-container-id-3 input.sk-toggleable__control:checked~label.sk-toggleable__label-arrow:before {content: \"▾\";}#sk-container-id-3 div.sk-estimator input.sk-toggleable__control:checked~label.sk-toggleable__label {background-color: #d4ebff;}#sk-container-id-3 div.sk-label input.sk-toggleable__control:checked~label.sk-toggleable__label {background-color: #d4ebff;}#sk-container-id-3 input.sk-hidden--visually {border: 0;clip: rect(1px 1px 1px 1px);clip: rect(1px, 1px, 1px, 1px);height: 1px;margin: -1px;overflow: hidden;padding: 0;position: absolute;width: 1px;}#sk-container-id-3 div.sk-estimator {font-family: monospace;background-color: #f0f8ff;border: 1px dotted black;border-radius: 0.25em;box-sizing: border-box;margin-bottom: 0.5em;}#sk-container-id-3 div.sk-estimator:hover {background-color: #d4ebff;}#sk-container-id-3 div.sk-parallel-item::after {content: \"\";width: 100%;border-bottom: 1px solid gray;flex-grow: 1;}#sk-container-id-3 div.sk-label:hover label.sk-toggleable__label {background-color: #d4ebff;}#sk-container-id-3 div.sk-serial::before {content: \"\";position: absolute;border-left: 1px solid gray;box-sizing: border-box;top: 0;bottom: 0;left: 50%;z-index: 0;}#sk-container-id-3 div.sk-serial {display: flex;flex-direction: column;align-items: center;background-color: white;padding-right: 0.2em;padding-left: 0.2em;position: relative;}#sk-container-id-3 div.sk-item {position: relative;z-index: 1;}#sk-container-id-3 div.sk-parallel {display: flex;align-items: stretch;justify-content: center;background-color: white;position: relative;}#sk-container-id-3 div.sk-item::before, #sk-container-id-3 div.sk-parallel-item::before {content: \"\";position: absolute;border-left: 1px solid gray;box-sizing: border-box;top: 0;bottom: 0;left: 50%;z-index: -1;}#sk-container-id-3 div.sk-parallel-item {display: flex;flex-direction: column;z-index: 1;position: relative;background-color: white;}#sk-container-id-3 div.sk-parallel-item:first-child::after {align-self: flex-end;width: 50%;}#sk-container-id-3 div.sk-parallel-item:last-child::after {align-self: flex-start;width: 50%;}#sk-container-id-3 div.sk-parallel-item:only-child::after {width: 0;}#sk-container-id-3 div.sk-dashed-wrapped {border: 1px dashed gray;margin: 0 0.4em 0.5em 0.4em;box-sizing: border-box;padding-bottom: 0.4em;background-color: white;}#sk-container-id-3 div.sk-label label {font-family: monospace;font-weight: bold;display: inline-block;line-height: 1.2em;}#sk-container-id-3 div.sk-label-container {text-align: center;}#sk-container-id-3 div.sk-container {/* jupyter's `normalize.less` sets `[hidden] { display: none; }` but bootstrap.min.css set `[hidden] { display: none !important; }` so we also need the `!important` here to be able to override the default hidden behavior on the sphinx rendered scikit-learn.org. See: https://github.com/scikit-learn/scikit-learn/issues/21755 */display: inline-block !important;position: relative;}#sk-container-id-3 div.sk-text-repr-fallback {display: none;}</style><div id=\"sk-container-id-3\" class=\"sk-top-container\"><div class=\"sk-text-repr-fallback\"><pre>GridSearchCV(estimator=DecisionTreeClassifier(), n_jobs=-1,\n",
       "             param_grid={&#x27;criterion&#x27;: [&#x27;gini&#x27;, &#x27;entropy&#x27;],\n",
       "                         &#x27;max_depth&#x27;: array([ 3,  4,  5,  6,  7,  8,  9, 10]),\n",
       "                         &#x27;max_features&#x27;: [&#x27;sqrt&#x27;, &#x27;log2&#x27;],\n",
       "                         &#x27;splitter&#x27;: [&#x27;best&#x27;, &#x27;random&#x27;]},\n",
       "             return_train_score=True, scoring=&#x27;accuracy&#x27;, verbose=10)</pre><b>In a Jupyter environment, please rerun this cell to show the HTML representation or trust the notebook. <br />On GitHub, the HTML representation is unable to render, please try loading this page with nbviewer.org.</b></div><div class=\"sk-container\" hidden><div class=\"sk-item sk-dashed-wrapped\"><div class=\"sk-label-container\"><div class=\"sk-label sk-toggleable\"><input class=\"sk-toggleable__control sk-hidden--visually\" id=\"sk-estimator-id-3\" type=\"checkbox\" ><label for=\"sk-estimator-id-3\" class=\"sk-toggleable__label sk-toggleable__label-arrow\">GridSearchCV</label><div class=\"sk-toggleable__content\"><pre>GridSearchCV(estimator=DecisionTreeClassifier(), n_jobs=-1,\n",
       "             param_grid={&#x27;criterion&#x27;: [&#x27;gini&#x27;, &#x27;entropy&#x27;],\n",
       "                         &#x27;max_depth&#x27;: array([ 3,  4,  5,  6,  7,  8,  9, 10]),\n",
       "                         &#x27;max_features&#x27;: [&#x27;sqrt&#x27;, &#x27;log2&#x27;],\n",
       "                         &#x27;splitter&#x27;: [&#x27;best&#x27;, &#x27;random&#x27;]},\n",
       "             return_train_score=True, scoring=&#x27;accuracy&#x27;, verbose=10)</pre></div></div></div><div class=\"sk-parallel\"><div class=\"sk-parallel-item\"><div class=\"sk-item\"><div class=\"sk-label-container\"><div class=\"sk-label sk-toggleable\"><input class=\"sk-toggleable__control sk-hidden--visually\" id=\"sk-estimator-id-4\" type=\"checkbox\" ><label for=\"sk-estimator-id-4\" class=\"sk-toggleable__label sk-toggleable__label-arrow\">estimator: DecisionTreeClassifier</label><div class=\"sk-toggleable__content\"><pre>DecisionTreeClassifier()</pre></div></div></div><div class=\"sk-serial\"><div class=\"sk-item\"><div class=\"sk-estimator sk-toggleable\"><input class=\"sk-toggleable__control sk-hidden--visually\" id=\"sk-estimator-id-5\" type=\"checkbox\" ><label for=\"sk-estimator-id-5\" class=\"sk-toggleable__label sk-toggleable__label-arrow\">DecisionTreeClassifier</label><div class=\"sk-toggleable__content\"><pre>DecisionTreeClassifier()</pre></div></div></div></div></div></div></div></div></div></div>"
      ],
      "text/plain": [
       "GridSearchCV(estimator=DecisionTreeClassifier(), n_jobs=-1,\n",
       "             param_grid={'criterion': ['gini', 'entropy'],\n",
       "                         'max_depth': array([ 3,  4,  5,  6,  7,  8,  9, 10]),\n",
       "                         'max_features': ['sqrt', 'log2'],\n",
       "                         'splitter': ['best', 'random']},\n",
       "             return_train_score=True, scoring='accuracy', verbose=10)"
      ]
     },
     "execution_count": 29,
     "metadata": {},
     "output_type": "execute_result"
    }
   ],
   "source": [
    "clf.fit(X_train_scaled, y_train)"
   ]
  },
  {
   "cell_type": "code",
   "execution_count": 30,
   "id": "46766e8f",
   "metadata": {},
   "outputs": [
    {
     "data": {
      "text/html": [
       "<style>#sk-container-id-4 {color: black;}#sk-container-id-4 pre{padding: 0;}#sk-container-id-4 div.sk-toggleable {background-color: white;}#sk-container-id-4 label.sk-toggleable__label {cursor: pointer;display: block;width: 100%;margin-bottom: 0;padding: 0.3em;box-sizing: border-box;text-align: center;}#sk-container-id-4 label.sk-toggleable__label-arrow:before {content: \"▸\";float: left;margin-right: 0.25em;color: #696969;}#sk-container-id-4 label.sk-toggleable__label-arrow:hover:before {color: black;}#sk-container-id-4 div.sk-estimator:hover label.sk-toggleable__label-arrow:before {color: black;}#sk-container-id-4 div.sk-toggleable__content {max-height: 0;max-width: 0;overflow: hidden;text-align: left;background-color: #f0f8ff;}#sk-container-id-4 div.sk-toggleable__content pre {margin: 0.2em;color: black;border-radius: 0.25em;background-color: #f0f8ff;}#sk-container-id-4 input.sk-toggleable__control:checked~div.sk-toggleable__content {max-height: 200px;max-width: 100%;overflow: auto;}#sk-container-id-4 input.sk-toggleable__control:checked~label.sk-toggleable__label-arrow:before {content: \"▾\";}#sk-container-id-4 div.sk-estimator input.sk-toggleable__control:checked~label.sk-toggleable__label {background-color: #d4ebff;}#sk-container-id-4 div.sk-label input.sk-toggleable__control:checked~label.sk-toggleable__label {background-color: #d4ebff;}#sk-container-id-4 input.sk-hidden--visually {border: 0;clip: rect(1px 1px 1px 1px);clip: rect(1px, 1px, 1px, 1px);height: 1px;margin: -1px;overflow: hidden;padding: 0;position: absolute;width: 1px;}#sk-container-id-4 div.sk-estimator {font-family: monospace;background-color: #f0f8ff;border: 1px dotted black;border-radius: 0.25em;box-sizing: border-box;margin-bottom: 0.5em;}#sk-container-id-4 div.sk-estimator:hover {background-color: #d4ebff;}#sk-container-id-4 div.sk-parallel-item::after {content: \"\";width: 100%;border-bottom: 1px solid gray;flex-grow: 1;}#sk-container-id-4 div.sk-label:hover label.sk-toggleable__label {background-color: #d4ebff;}#sk-container-id-4 div.sk-serial::before {content: \"\";position: absolute;border-left: 1px solid gray;box-sizing: border-box;top: 0;bottom: 0;left: 50%;z-index: 0;}#sk-container-id-4 div.sk-serial {display: flex;flex-direction: column;align-items: center;background-color: white;padding-right: 0.2em;padding-left: 0.2em;position: relative;}#sk-container-id-4 div.sk-item {position: relative;z-index: 1;}#sk-container-id-4 div.sk-parallel {display: flex;align-items: stretch;justify-content: center;background-color: white;position: relative;}#sk-container-id-4 div.sk-item::before, #sk-container-id-4 div.sk-parallel-item::before {content: \"\";position: absolute;border-left: 1px solid gray;box-sizing: border-box;top: 0;bottom: 0;left: 50%;z-index: -1;}#sk-container-id-4 div.sk-parallel-item {display: flex;flex-direction: column;z-index: 1;position: relative;background-color: white;}#sk-container-id-4 div.sk-parallel-item:first-child::after {align-self: flex-end;width: 50%;}#sk-container-id-4 div.sk-parallel-item:last-child::after {align-self: flex-start;width: 50%;}#sk-container-id-4 div.sk-parallel-item:only-child::after {width: 0;}#sk-container-id-4 div.sk-dashed-wrapped {border: 1px dashed gray;margin: 0 0.4em 0.5em 0.4em;box-sizing: border-box;padding-bottom: 0.4em;background-color: white;}#sk-container-id-4 div.sk-label label {font-family: monospace;font-weight: bold;display: inline-block;line-height: 1.2em;}#sk-container-id-4 div.sk-label-container {text-align: center;}#sk-container-id-4 div.sk-container {/* jupyter's `normalize.less` sets `[hidden] { display: none; }` but bootstrap.min.css set `[hidden] { display: none !important; }` so we also need the `!important` here to be able to override the default hidden behavior on the sphinx rendered scikit-learn.org. See: https://github.com/scikit-learn/scikit-learn/issues/21755 */display: inline-block !important;position: relative;}#sk-container-id-4 div.sk-text-repr-fallback {display: none;}</style><div id=\"sk-container-id-4\" class=\"sk-top-container\"><div class=\"sk-text-repr-fallback\"><pre>DecisionTreeClassifier(max_depth=10, max_features=&#x27;sqrt&#x27;)</pre><b>In a Jupyter environment, please rerun this cell to show the HTML representation or trust the notebook. <br />On GitHub, the HTML representation is unable to render, please try loading this page with nbviewer.org.</b></div><div class=\"sk-container\" hidden><div class=\"sk-item\"><div class=\"sk-estimator sk-toggleable\"><input class=\"sk-toggleable__control sk-hidden--visually\" id=\"sk-estimator-id-6\" type=\"checkbox\" checked><label for=\"sk-estimator-id-6\" class=\"sk-toggleable__label sk-toggleable__label-arrow\">DecisionTreeClassifier</label><div class=\"sk-toggleable__content\"><pre>DecisionTreeClassifier(max_depth=10, max_features=&#x27;sqrt&#x27;)</pre></div></div></div></div></div>"
      ],
      "text/plain": [
       "DecisionTreeClassifier(max_depth=10, max_features='sqrt')"
      ]
     },
     "execution_count": 30,
     "metadata": {},
     "output_type": "execute_result"
    }
   ],
   "source": [
    "clf.best_estimator_"
   ]
  },
  {
   "cell_type": "code",
   "execution_count": 31,
   "id": "dd36689c",
   "metadata": {},
   "outputs": [
    {
     "data": {
      "text/plain": [
       "{'criterion': 'gini',\n",
       " 'max_depth': 10,\n",
       " 'max_features': 'sqrt',\n",
       " 'splitter': 'best'}"
      ]
     },
     "execution_count": 31,
     "metadata": {},
     "output_type": "execute_result"
    }
   ],
   "source": [
    "clf.best_params_"
   ]
  },
  {
   "cell_type": "code",
   "execution_count": 32,
   "id": "11bba47a",
   "metadata": {},
   "outputs": [
    {
     "name": "stdout",
     "output_type": "stream",
     "text": [
      "Best Validation set accuracy:  0.904\n"
     ]
    }
   ],
   "source": [
    "print(\"Best Validation set accuracy: \", round(clf.best_score_, 3))"
   ]
  },
  {
   "cell_type": "code",
   "execution_count": 33,
   "id": "12276c35",
   "metadata": {},
   "outputs": [
    {
     "data": {
      "text/html": [
       "<style>#sk-container-id-5 {color: black;}#sk-container-id-5 pre{padding: 0;}#sk-container-id-5 div.sk-toggleable {background-color: white;}#sk-container-id-5 label.sk-toggleable__label {cursor: pointer;display: block;width: 100%;margin-bottom: 0;padding: 0.3em;box-sizing: border-box;text-align: center;}#sk-container-id-5 label.sk-toggleable__label-arrow:before {content: \"▸\";float: left;margin-right: 0.25em;color: #696969;}#sk-container-id-5 label.sk-toggleable__label-arrow:hover:before {color: black;}#sk-container-id-5 div.sk-estimator:hover label.sk-toggleable__label-arrow:before {color: black;}#sk-container-id-5 div.sk-toggleable__content {max-height: 0;max-width: 0;overflow: hidden;text-align: left;background-color: #f0f8ff;}#sk-container-id-5 div.sk-toggleable__content pre {margin: 0.2em;color: black;border-radius: 0.25em;background-color: #f0f8ff;}#sk-container-id-5 input.sk-toggleable__control:checked~div.sk-toggleable__content {max-height: 200px;max-width: 100%;overflow: auto;}#sk-container-id-5 input.sk-toggleable__control:checked~label.sk-toggleable__label-arrow:before {content: \"▾\";}#sk-container-id-5 div.sk-estimator input.sk-toggleable__control:checked~label.sk-toggleable__label {background-color: #d4ebff;}#sk-container-id-5 div.sk-label input.sk-toggleable__control:checked~label.sk-toggleable__label {background-color: #d4ebff;}#sk-container-id-5 input.sk-hidden--visually {border: 0;clip: rect(1px 1px 1px 1px);clip: rect(1px, 1px, 1px, 1px);height: 1px;margin: -1px;overflow: hidden;padding: 0;position: absolute;width: 1px;}#sk-container-id-5 div.sk-estimator {font-family: monospace;background-color: #f0f8ff;border: 1px dotted black;border-radius: 0.25em;box-sizing: border-box;margin-bottom: 0.5em;}#sk-container-id-5 div.sk-estimator:hover {background-color: #d4ebff;}#sk-container-id-5 div.sk-parallel-item::after {content: \"\";width: 100%;border-bottom: 1px solid gray;flex-grow: 1;}#sk-container-id-5 div.sk-label:hover label.sk-toggleable__label {background-color: #d4ebff;}#sk-container-id-5 div.sk-serial::before {content: \"\";position: absolute;border-left: 1px solid gray;box-sizing: border-box;top: 0;bottom: 0;left: 50%;z-index: 0;}#sk-container-id-5 div.sk-serial {display: flex;flex-direction: column;align-items: center;background-color: white;padding-right: 0.2em;padding-left: 0.2em;position: relative;}#sk-container-id-5 div.sk-item {position: relative;z-index: 1;}#sk-container-id-5 div.sk-parallel {display: flex;align-items: stretch;justify-content: center;background-color: white;position: relative;}#sk-container-id-5 div.sk-item::before, #sk-container-id-5 div.sk-parallel-item::before {content: \"\";position: absolute;border-left: 1px solid gray;box-sizing: border-box;top: 0;bottom: 0;left: 50%;z-index: -1;}#sk-container-id-5 div.sk-parallel-item {display: flex;flex-direction: column;z-index: 1;position: relative;background-color: white;}#sk-container-id-5 div.sk-parallel-item:first-child::after {align-self: flex-end;width: 50%;}#sk-container-id-5 div.sk-parallel-item:last-child::after {align-self: flex-start;width: 50%;}#sk-container-id-5 div.sk-parallel-item:only-child::after {width: 0;}#sk-container-id-5 div.sk-dashed-wrapped {border: 1px dashed gray;margin: 0 0.4em 0.5em 0.4em;box-sizing: border-box;padding-bottom: 0.4em;background-color: white;}#sk-container-id-5 div.sk-label label {font-family: monospace;font-weight: bold;display: inline-block;line-height: 1.2em;}#sk-container-id-5 div.sk-label-container {text-align: center;}#sk-container-id-5 div.sk-container {/* jupyter's `normalize.less` sets `[hidden] { display: none; }` but bootstrap.min.css set `[hidden] { display: none !important; }` so we also need the `!important` here to be able to override the default hidden behavior on the sphinx rendered scikit-learn.org. See: https://github.com/scikit-learn/scikit-learn/issues/21755 */display: inline-block !important;position: relative;}#sk-container-id-5 div.sk-text-repr-fallback {display: none;}</style><div id=\"sk-container-id-5\" class=\"sk-top-container\"><div class=\"sk-text-repr-fallback\"><pre>DecisionTreeClassifier(max_depth=10, max_features=&#x27;sqrt&#x27;)</pre><b>In a Jupyter environment, please rerun this cell to show the HTML representation or trust the notebook. <br />On GitHub, the HTML representation is unable to render, please try loading this page with nbviewer.org.</b></div><div class=\"sk-container\" hidden><div class=\"sk-item\"><div class=\"sk-estimator sk-toggleable\"><input class=\"sk-toggleable__control sk-hidden--visually\" id=\"sk-estimator-id-7\" type=\"checkbox\" checked><label for=\"sk-estimator-id-7\" class=\"sk-toggleable__label sk-toggleable__label-arrow\">DecisionTreeClassifier</label><div class=\"sk-toggleable__content\"><pre>DecisionTreeClassifier(max_depth=10, max_features=&#x27;sqrt&#x27;)</pre></div></div></div></div></div>"
      ],
      "text/plain": [
       "DecisionTreeClassifier(max_depth=10, max_features='sqrt')"
      ]
     },
     "execution_count": 33,
     "metadata": {},
     "output_type": "execute_result"
    }
   ],
   "source": [
    "best_model_tree_grid_search = DecisionTreeClassifier(**clf.best_params_)\n",
    "\n",
    "best_model_tree_grid_search.fit(X_train_scaled, y_train)"
   ]
  },
  {
   "cell_type": "code",
   "execution_count": 34,
   "id": "de87b06f",
   "metadata": {},
   "outputs": [],
   "source": [
    "y_pred_best_grid_search = best_model_tree_grid_search.predict(X_test_scaled)"
   ]
  },
  {
   "cell_type": "code",
   "execution_count": 35,
   "id": "20dd1f90",
   "metadata": {},
   "outputs": [
    {
     "name": "stdout",
     "output_type": "stream",
     "text": [
      "Accuracy of test data using Grid Search Optimization:  0.921\n"
     ]
    }
   ],
   "source": [
    "print(\"Accuracy of test data using Grid Search Optimization: \", round(accuracy_score(y_test, y_pred_best_grid_search), 3))"
   ]
  },
  {
   "cell_type": "code",
   "execution_count": 36,
   "id": "2c66eab5",
   "metadata": {},
   "outputs": [
    {
     "name": "stdout",
     "output_type": "stream",
     "text": [
      "Classification report for test data: \n",
      "\n",
      "               precision    recall  f1-score   support\n",
      "\n",
      "         0.0       0.95      0.91      0.93       338\n",
      "         1.0       0.89      0.93      0.91       260\n",
      "\n",
      "    accuracy                           0.92       598\n",
      "   macro avg       0.92      0.92      0.92       598\n",
      "weighted avg       0.92      0.92      0.92       598\n",
      "\n"
     ]
    }
   ],
   "source": [
    "print(\"Classification report for test data: \\n\\n\", classification_report(y_test, y_pred_best_grid_search))"
   ]
  },
  {
   "cell_type": "code",
   "execution_count": 37,
   "id": "3e65d269",
   "metadata": {},
   "outputs": [
    {
     "data": {
      "text/plain": [
       "<sklearn.metrics._plot.confusion_matrix.ConfusionMatrixDisplay at 0x13c89d5e0>"
      ]
     },
     "execution_count": 37,
     "metadata": {},
     "output_type": "execute_result"
    },
    {
     "data": {
      "image/png": "[encoded data removed]",
      "text/plain": [
       "<Figure size 640x480 with 2 Axes>"
      ]
     },
     "metadata": {},
     "output_type": "display_data"
    }
   ],
   "source": [
    "cm_grid_search = confusion_matrix(y_test, y_pred_best_grid_search)\n",
    "\n",
    "ConfusionMatrixDisplay(cm_grid_search, display_labels=['Barren', 'Fertile']).plot(cmap='OrRd')"
   ]
  },
  {
   "cell_type": "code",
   "execution_count": null,
   "id": "3c9b2baa",
   "metadata": {},
   "outputs": [],
   "source": []
  },
  {
   "cell_type": "markdown",
   "id": "dabd3264",
   "metadata": {},
   "source": [
    "### Plotting the decision boundary - Bayesian Optimization"
   ]
  },
  {
   "cell_type": "code",
   "execution_count": 38,
   "id": "5ec713f8",
   "metadata": {},
   "outputs": [],
   "source": [
    "input_features = X_test_scaled.copy()\n",
    "output_feature = y_test.copy()"
   ]
  },
  {
   "cell_type": "code",
   "execution_count": 39,
   "id": "85525f85",
   "metadata": {},
   "outputs": [],
   "source": [
    "pca = PCA(n_components = 2)\n",
    "\n",
    "X_reduced = pca.fit_transform(input_features)"
   ]
  },
  {
   "cell_type": "code",
   "execution_count": 40,
   "id": "30f8e797",
   "metadata": {},
   "outputs": [
    {
     "data": {
      "text/plain": [
       "(598, 2)"
      ]
     },
     "execution_count": 40,
     "metadata": {},
     "output_type": "execute_result"
    }
   ],
   "source": [
    "X_reduced.shape"
   ]
  },
  {
   "cell_type": "code",
   "execution_count": 41,
   "id": "7dcef19e",
   "metadata": {},
   "outputs": [],
   "source": [
    "def make_meshgrid(x, y, h=.02):\n",
    "    x_min, x_max = x.min() - 1, x.max() + 1\n",
    "    y_min, y_max = y.min() - 1, y.max() + 1\n",
    "    xx, yy = np.meshgrid(np.arange(x_min, x_max, h), np.arange(y_min, y_max, h))\n",
    "    return xx, yy"
   ]
  },
  {
   "cell_type": "code",
   "execution_count": 42,
   "id": "5058949b",
   "metadata": {},
   "outputs": [],
   "source": [
    "def plot_contours(ax, clf, xx, yy, **params):\n",
    "    Z = clf.predict(np.c_[xx.ravel(), yy.ravel()])\n",
    "    Z = Z.reshape(xx.shape)\n",
    "    out = ax.contourf(xx, yy, Z, **params)\n",
    "    return out"
   ]
  },
  {
   "cell_type": "code",
   "execution_count": 43,
   "id": "f600e330",
   "metadata": {},
   "outputs": [
    {
     "data": {
      "text/html": [
       "<style>#sk-container-id-6 {color: black;}#sk-container-id-6 pre{padding: 0;}#sk-container-id-6 div.sk-toggleable {background-color: white;}#sk-container-id-6 label.sk-toggleable__label {cursor: pointer;display: block;width: 100%;margin-bottom: 0;padding: 0.3em;box-sizing: border-box;text-align: center;}#sk-container-id-6 label.sk-toggleable__label-arrow:before {content: \"▸\";float: left;margin-right: 0.25em;color: #696969;}#sk-container-id-6 label.sk-toggleable__label-arrow:hover:before {color: black;}#sk-container-id-6 div.sk-estimator:hover label.sk-toggleable__label-arrow:before {color: black;}#sk-container-id-6 div.sk-toggleable__content {max-height: 0;max-width: 0;overflow: hidden;text-align: left;background-color: #f0f8ff;}#sk-container-id-6 div.sk-toggleable__content pre {margin: 0.2em;color: black;border-radius: 0.25em;background-color: #f0f8ff;}#sk-container-id-6 input.sk-toggleable__control:checked~div.sk-toggleable__content {max-height: 200px;max-width: 100%;overflow: auto;}#sk-container-id-6 input.sk-toggleable__control:checked~label.sk-toggleable__label-arrow:before {content: \"▾\";}#sk-container-id-6 div.sk-estimator input.sk-toggleable__control:checked~label.sk-toggleable__label {background-color: #d4ebff;}#sk-container-id-6 div.sk-label input.sk-toggleable__control:checked~label.sk-toggleable__label {background-color: #d4ebff;}#sk-container-id-6 input.sk-hidden--visually {border: 0;clip: rect(1px 1px 1px 1px);clip: rect(1px, 1px, 1px, 1px);height: 1px;margin: -1px;overflow: hidden;padding: 0;position: absolute;width: 1px;}#sk-container-id-6 div.sk-estimator {font-family: monospace;background-color: #f0f8ff;border: 1px dotted black;border-radius: 0.25em;box-sizing: border-box;margin-bottom: 0.5em;}#sk-container-id-6 div.sk-estimator:hover {background-color: #d4ebff;}#sk-container-id-6 div.sk-parallel-item::after {content: \"\";width: 100%;border-bottom: 1px solid gray;flex-grow: 1;}#sk-container-id-6 div.sk-label:hover label.sk-toggleable__label {background-color: #d4ebff;}#sk-container-id-6 div.sk-serial::before {content: \"\";position: absolute;border-left: 1px solid gray;box-sizing: border-box;top: 0;bottom: 0;left: 50%;z-index: 0;}#sk-container-id-6 div.sk-serial {display: flex;flex-direction: column;align-items: center;background-color: white;padding-right: 0.2em;padding-left: 0.2em;position: relative;}#sk-container-id-6 div.sk-item {position: relative;z-index: 1;}#sk-container-id-6 div.sk-parallel {display: flex;align-items: stretch;justify-content: center;background-color: white;position: relative;}#sk-container-id-6 div.sk-item::before, #sk-container-id-6 div.sk-parallel-item::before {content: \"\";position: absolute;border-left: 1px solid gray;box-sizing: border-box;top: 0;bottom: 0;left: 50%;z-index: -1;}#sk-container-id-6 div.sk-parallel-item {display: flex;flex-direction: column;z-index: 1;position: relative;background-color: white;}#sk-container-id-6 div.sk-parallel-item:first-child::after {align-self: flex-end;width: 50%;}#sk-container-id-6 div.sk-parallel-item:last-child::after {align-self: flex-start;width: 50%;}#sk-container-id-6 div.sk-parallel-item:only-child::after {width: 0;}#sk-container-id-6 div.sk-dashed-wrapped {border: 1px dashed gray;margin: 0 0.4em 0.5em 0.4em;box-sizing: border-box;padding-bottom: 0.4em;background-color: white;}#sk-container-id-6 div.sk-label label {font-family: monospace;font-weight: bold;display: inline-block;line-height: 1.2em;}#sk-container-id-6 div.sk-label-container {text-align: center;}#sk-container-id-6 div.sk-container {/* jupyter's `normalize.less` sets `[hidden] { display: none; }` but bootstrap.min.css set `[hidden] { display: none !important; }` so we also need the `!important` here to be able to override the default hidden behavior on the sphinx rendered scikit-learn.org. See: https://github.com/scikit-learn/scikit-learn/issues/21755 */display: inline-block !important;position: relative;}#sk-container-id-6 div.sk-text-repr-fallback {display: none;}</style><div id=\"sk-container-id-6\" class=\"sk-top-container\"><div class=\"sk-text-repr-fallback\"><pre>DecisionTreeClassifier(criterion=&#x27;log_loss&#x27;, max_depth=10, max_features=&#x27;log2&#x27;)</pre><b>In a Jupyter environment, please rerun this cell to show the HTML representation or trust the notebook. <br />On GitHub, the HTML representation is unable to render, please try loading this page with nbviewer.org.</b></div><div class=\"sk-container\" hidden><div class=\"sk-item\"><div class=\"sk-estimator sk-toggleable\"><input class=\"sk-toggleable__control sk-hidden--visually\" id=\"sk-estimator-id-8\" type=\"checkbox\" checked><label for=\"sk-estimator-id-8\" class=\"sk-toggleable__label sk-toggleable__label-arrow\">DecisionTreeClassifier</label><div class=\"sk-toggleable__content\"><pre>DecisionTreeClassifier(criterion=&#x27;log_loss&#x27;, max_depth=10, max_features=&#x27;log2&#x27;)</pre></div></div></div></div></div>"
      ],
      "text/plain": [
       "DecisionTreeClassifier(criterion='log_loss', max_depth=10, max_features='log2')"
      ]
     },
     "execution_count": 43,
     "metadata": {},
     "output_type": "execute_result"
    }
   ],
   "source": [
    "plot_model = DecisionTreeClassifier(**best_params_bayesian)\n",
    "\n",
    "plot_model.fit(X_reduced, output_feature)"
   ]
  },
  {
   "cell_type": "code",
   "execution_count": 44,
   "id": "46883988",
   "metadata": {},
   "outputs": [
    {
     "data": {
      "image/png": "[encoded data removed]",
      "text/plain": [
       "<Figure size 640x480 with 1 Axes>"
      ]
     },
     "metadata": {},
     "output_type": "display_data"
    }
   ],
   "source": [
    "fig, ax = plt.subplots(facecolor='white')\n",
    "\n",
    "# title for the plots\n",
    "title = ('Decision surface of Tuned Decision Tree')\n",
    "\n",
    "# Set-up grid for plotting.\n",
    "X0, X1 = X_reduced[:, 0], X_reduced[:, 1]\n",
    "xx, yy = make_meshgrid(X0, X1)\n",
    "\n",
    "plot_contours(ax, plot_model, xx, yy, cmap=plt.cm.coolwarm, alpha=0.3) # alpha=0.8\n",
    "ax.scatter(X0, X1, c=y_test, edgecolors='k', cmap=plt.cm.coolwarm, s=20)\n",
    "ax.set_ylabel('Principal Component 2')\n",
    "ax.set_xlabel('Principal Component 1')\n",
    "ax.set_xticks(())\n",
    "ax.set_yticks(())\n",
    "ax.set_title('Decision Tree - Decison surface')\n",
    "ax.legend(labels=['Barren', 'Fertile'], fontsize=\"x-small\")\n",
    "plt.show()"
   ]
  },
  {
   "cell_type": "markdown",
   "id": "5587c278",
   "metadata": {},
   "source": [
    "### Save the Best Performing Model"
   ]
  },
  {
   "cell_type": "code",
   "execution_count": 45,
   "id": "c4e11652",
   "metadata": {},
   "outputs": [],
   "source": [
    "import pickle\n",
    "\n",
    "with open('../Best model pickle files/decision_tree_best.pkl', 'wb') as f:\n",
    "    pickle.dump(plot_model, f)"
   ]
  },
  {
   "cell_type": "code",
   "execution_count": 46,
   "id": "5545d8f0",
   "metadata": {},
   "outputs": [],
   "source": [
    "with open('../Best model pickle files/decision_tree_best.pkl', 'rb') as f:\n",
    "    clf_loaded = pickle.load(f)"
   ]
  },
  {
   "cell_type": "code",
   "execution_count": 47,
   "id": "cc90f5a9",
   "metadata": {},
   "outputs": [
    {
     "data": {
      "text/html": [
       "<style>#sk-container-id-7 {color: black;}#sk-container-id-7 pre{padding: 0;}#sk-container-id-7 div.sk-toggleable {background-color: white;}#sk-container-id-7 label.sk-toggleable__label {cursor: pointer;display: block;width: 100%;margin-bottom: 0;padding: 0.3em;box-sizing: border-box;text-align: center;}#sk-container-id-7 label.sk-toggleable__label-arrow:before {content: \"▸\";float: left;margin-right: 0.25em;color: #696969;}#sk-container-id-7 label.sk-toggleable__label-arrow:hover:before {color: black;}#sk-container-id-7 div.sk-estimator:hover label.sk-toggleable__label-arrow:before {color: black;}#sk-container-id-7 div.sk-toggleable__content {max-height: 0;max-width: 0;overflow: hidden;text-align: left;background-color: #f0f8ff;}#sk-container-id-7 div.sk-toggleable__content pre {margin: 0.2em;color: black;border-radius: 0.25em;background-color: #f0f8ff;}#sk-container-id-7 input.sk-toggleable__control:checked~div.sk-toggleable__content {max-height: 200px;max-width: 100%;overflow: auto;}#sk-container-id-7 input.sk-toggleable__control:checked~label.sk-toggleable__label-arrow:before {content: \"▾\";}#sk-container-id-7 div.sk-estimator input.sk-toggleable__control:checked~label.sk-toggleable__label {background-color: #d4ebff;}#sk-container-id-7 div.sk-label input.sk-toggleable__control:checked~label.sk-toggleable__label {background-color: #d4ebff;}#sk-container-id-7 input.sk-hidden--visually {border: 0;clip: rect(1px 1px 1px 1px);clip: rect(1px, 1px, 1px, 1px);height: 1px;margin: -1px;overflow: hidden;padding: 0;position: absolute;width: 1px;}#sk-container-id-7 div.sk-estimator {font-family: monospace;background-color: #f0f8ff;border: 1px dotted black;border-radius: 0.25em;box-sizing: border-box;margin-bottom: 0.5em;}#sk-container-id-7 div.sk-estimator:hover {background-color: #d4ebff;}#sk-container-id-7 div.sk-parallel-item::after {content: \"\";width: 100%;border-bottom: 1px solid gray;flex-grow: 1;}#sk-container-id-7 div.sk-label:hover label.sk-toggleable__label {background-color: #d4ebff;}#sk-container-id-7 div.sk-serial::before {content: \"\";position: absolute;border-left: 1px solid gray;box-sizing: border-box;top: 0;bottom: 0;left: 50%;z-index: 0;}#sk-container-id-7 div.sk-serial {display: flex;flex-direction: column;align-items: center;background-color: white;padding-right: 0.2em;padding-left: 0.2em;position: relative;}#sk-container-id-7 div.sk-item {position: relative;z-index: 1;}#sk-container-id-7 div.sk-parallel {display: flex;align-items: stretch;justify-content: center;background-color: white;position: relative;}#sk-container-id-7 div.sk-item::before, #sk-container-id-7 div.sk-parallel-item::before {content: \"\";position: absolute;border-left: 1px solid gray;box-sizing: border-box;top: 0;bottom: 0;left: 50%;z-index: -1;}#sk-container-id-7 div.sk-parallel-item {display: flex;flex-direction: column;z-index: 1;position: relative;background-color: white;}#sk-container-id-7 div.sk-parallel-item:first-child::after {align-self: flex-end;width: 50%;}#sk-container-id-7 div.sk-parallel-item:last-child::after {align-self: flex-start;width: 50%;}#sk-container-id-7 div.sk-parallel-item:only-child::after {width: 0;}#sk-container-id-7 div.sk-dashed-wrapped {border: 1px dashed gray;margin: 0 0.4em 0.5em 0.4em;box-sizing: border-box;padding-bottom: 0.4em;background-color: white;}#sk-container-id-7 div.sk-label label {font-family: monospace;font-weight: bold;display: inline-block;line-height: 1.2em;}#sk-container-id-7 div.sk-label-container {text-align: center;}#sk-container-id-7 div.sk-container {/* jupyter's `normalize.less` sets `[hidden] { display: none; }` but bootstrap.min.css set `[hidden] { display: none !important; }` so we also need the `!important` here to be able to override the default hidden behavior on the sphinx rendered scikit-learn.org. See: https://github.com/scikit-learn/scikit-learn/issues/21755 */display: inline-block !important;position: relative;}#sk-container-id-7 div.sk-text-repr-fallback {display: none;}</style><div id=\"sk-container-id-7\" class=\"sk-top-container\"><div class=\"sk-text-repr-fallback\"><pre>DecisionTreeClassifier(criterion=&#x27;log_loss&#x27;, max_depth=10, max_features=&#x27;log2&#x27;)</pre><b>In a Jupyter environment, please rerun this cell to show the HTML representation or trust the notebook. <br />On GitHub, the HTML representation is unable to render, please try loading this page with nbviewer.org.</b></div><div class=\"sk-container\" hidden><div class=\"sk-item\"><div class=\"sk-estimator sk-toggleable\"><input class=\"sk-toggleable__control sk-hidden--visually\" id=\"sk-estimator-id-9\" type=\"checkbox\" checked><label for=\"sk-estimator-id-9\" class=\"sk-toggleable__label sk-toggleable__label-arrow\">DecisionTreeClassifier</label><div class=\"sk-toggleable__content\"><pre>DecisionTreeClassifier(criterion=&#x27;log_loss&#x27;, max_depth=10, max_features=&#x27;log2&#x27;)</pre></div></div></div></div></div>"
      ],
      "text/plain": [
       "DecisionTreeClassifier(criterion='log_loss', max_depth=10, max_features='log2')"
      ]
     },
     "execution_count": 47,
     "metadata": {},
     "output_type": "execute_result"
    }
   ],
   "source": [
    "clf_loaded"
   ]
  },
  {
   "cell_type": "code",
   "execution_count": null,
   "id": "7892174c",
   "metadata": {},
   "outputs": [],
   "source": []
  }
 ],
 "metadata": {
  "kernelspec": {
   "display_name": "Python 3 (ipykernel)",
   "language": "python",
   "name": "python3"
  },
  "language_info": {
   "codemirror_mode": {
    "name": "ipython",
    "version": 3
   },
   "file_extension": ".py",
   "mimetype": "text/x-python",
   "name": "python",
   "nbconvert_exporter": "python",
   "pygments_lexer": "ipython3",
   "version": "3.9.15"
  }
 },
 "nbformat": 4,
 "nbformat_minor": 5
}
