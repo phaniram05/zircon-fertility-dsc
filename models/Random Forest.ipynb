{
 "cells": [
  {
   "cell_type": "code",
   "execution_count": 1,
   "id": "3a030934",
   "metadata": {},
   "outputs": [],
   "source": [
    "import pandas as pd\n",
    "import numpy as np\n",
    "import matplotlib.pyplot as plt\n",
    "import seaborn as sns\n",
    "\n",
    "# Logistic Regression library\n",
    "from sklearn.linear_model import LogisticRegression\n",
    "\n",
    "# Libraries to scale the data\n",
    "from sklearn.preprocessing import StandardScaler\n",
    "\n",
    "# Cross Validation\n",
    "from sklearn.model_selection import train_test_split, GridSearchCV, RandomizedSearchCV, StratifiedKFold\n",
    "\n",
    "from sklearn.decomposition import PCA\n",
    "\n",
    "# Bayesian Optimization libraries\n",
    "from functools import partial\n",
    "from skopt import gp_minimize\n",
    "from skopt import space\n",
    "from sklearn import model_selection\n",
    "\n",
    "from sklearn import ensemble\n",
    "\n",
    "# Performance Metrics\n",
    "from sklearn import metrics\n",
    "from sklearn.metrics import accuracy_score, confusion_matrix\n",
    "from sklearn.metrics import classification_report\n",
    "from sklearn.metrics import ConfusionMatrixDisplay\n",
    "\n",
    "# Ignores runtime warnings\n",
    "import warnings\n",
    "warnings.filterwarnings('ignore', category=DeprecationWarning)\n",
    "\n",
    "%matplotlib inline"
   ]
  },
  {
   "cell_type": "markdown",
   "id": "6c0cee2e",
   "metadata": {},
   "source": [
    "### Analysis on K-means Imputed and Outlier handled dataset"
   ]
  },
  {
   "cell_type": "code",
   "execution_count": 2,
   "id": "fcc269e6",
   "metadata": {},
   "outputs": [],
   "source": [
    "df1 = pd.read_csv(\"../processed-datasets/data_outliers_handled_knn_imputed.csv\")"
   ]
  },
  {
   "cell_type": "code",
   "execution_count": 3,
   "id": "999cb4e1",
   "metadata": {},
   "outputs": [
    {
     "data": {
      "text/html": [
       "<div>\n",
       "<style scoped>\n",
       "    .dataframe tbody tr th:only-of-type {\n",
       "        vertical-align: middle;\n",
       "    }\n",
       "\n",
       "    .dataframe tbody tr th {\n",
       "        vertical-align: top;\n",
       "    }\n",
       "\n",
       "    .dataframe thead th {\n",
       "        text-align: right;\n",
       "    }\n",
       "</style>\n",
       "<table border=\"1\" class=\"dataframe\">\n",
       "  <thead>\n",
       "    <tr style=\"text-align: right;\">\n",
       "      <th></th>\n",
       "      <th>Unnamed: 0</th>\n",
       "      <th>age_ma</th>\n",
       "      <th>Feature</th>\n",
       "      <th>Ti</th>\n",
       "      <th>La</th>\n",
       "      <th>Ce</th>\n",
       "      <th>Pr</th>\n",
       "      <th>Nd</th>\n",
       "      <th>Sm</th>\n",
       "      <th>Eu</th>\n",
       "      <th>...</th>\n",
       "      <th>Dy</th>\n",
       "      <th>Ho</th>\n",
       "      <th>Er</th>\n",
       "      <th>Tm</th>\n",
       "      <th>Yb</th>\n",
       "      <th>Lu</th>\n",
       "      <th>Y</th>\n",
       "      <th>Hf</th>\n",
       "      <th>U</th>\n",
       "      <th>Th</th>\n",
       "    </tr>\n",
       "  </thead>\n",
       "  <tbody>\n",
       "    <tr>\n",
       "      <th>0</th>\n",
       "      <td>0</td>\n",
       "      <td>222.0</td>\n",
       "      <td>0.0</td>\n",
       "      <td>7.88</td>\n",
       "      <td>0.050</td>\n",
       "      <td>10.500</td>\n",
       "      <td>0.050</td>\n",
       "      <td>4.25000</td>\n",
       "      <td>11.60000</td>\n",
       "      <td>1.99000</td>\n",
       "      <td>...</td>\n",
       "      <td>259.21625</td>\n",
       "      <td>106.1375</td>\n",
       "      <td>437.54375</td>\n",
       "      <td>97.8675</td>\n",
       "      <td>936.725</td>\n",
       "      <td>172.63875</td>\n",
       "      <td>2737.00000</td>\n",
       "      <td>12390.0</td>\n",
       "      <td>305.0</td>\n",
       "      <td>134.0</td>\n",
       "    </tr>\n",
       "    <tr>\n",
       "      <th>1</th>\n",
       "      <td>1</td>\n",
       "      <td>222.0</td>\n",
       "      <td>0.0</td>\n",
       "      <td>10.90</td>\n",
       "      <td>1.555</td>\n",
       "      <td>61.505</td>\n",
       "      <td>0.725</td>\n",
       "      <td>7.74125</td>\n",
       "      <td>12.56125</td>\n",
       "      <td>2.64375</td>\n",
       "      <td>...</td>\n",
       "      <td>259.21625</td>\n",
       "      <td>106.1375</td>\n",
       "      <td>437.54375</td>\n",
       "      <td>97.8675</td>\n",
       "      <td>936.725</td>\n",
       "      <td>172.63875</td>\n",
       "      <td>2804.03875</td>\n",
       "      <td>12591.0</td>\n",
       "      <td>503.0</td>\n",
       "      <td>272.0</td>\n",
       "    </tr>\n",
       "    <tr>\n",
       "      <th>2</th>\n",
       "      <td>2</td>\n",
       "      <td>222.0</td>\n",
       "      <td>0.0</td>\n",
       "      <td>6.00</td>\n",
       "      <td>0.020</td>\n",
       "      <td>25.100</td>\n",
       "      <td>0.300</td>\n",
       "      <td>4.41000</td>\n",
       "      <td>12.56125</td>\n",
       "      <td>2.30000</td>\n",
       "      <td>...</td>\n",
       "      <td>259.21625</td>\n",
       "      <td>106.1375</td>\n",
       "      <td>437.54375</td>\n",
       "      <td>97.8675</td>\n",
       "      <td>936.725</td>\n",
       "      <td>172.63875</td>\n",
       "      <td>2804.03875</td>\n",
       "      <td>12724.0</td>\n",
       "      <td>639.0</td>\n",
       "      <td>414.0</td>\n",
       "    </tr>\n",
       "    <tr>\n",
       "      <th>3</th>\n",
       "      <td>3</td>\n",
       "      <td>222.0</td>\n",
       "      <td>0.0</td>\n",
       "      <td>9.06</td>\n",
       "      <td>0.280</td>\n",
       "      <td>12.000</td>\n",
       "      <td>0.070</td>\n",
       "      <td>1.88000</td>\n",
       "      <td>5.08000</td>\n",
       "      <td>1.01000</td>\n",
       "      <td>...</td>\n",
       "      <td>194.00000</td>\n",
       "      <td>83.0000</td>\n",
       "      <td>356.00000</td>\n",
       "      <td>89.5000</td>\n",
       "      <td>762.000</td>\n",
       "      <td>144.00000</td>\n",
       "      <td>1832.00000</td>\n",
       "      <td>12894.0</td>\n",
       "      <td>308.0</td>\n",
       "      <td>127.0</td>\n",
       "    </tr>\n",
       "    <tr>\n",
       "      <th>4</th>\n",
       "      <td>4</td>\n",
       "      <td>222.0</td>\n",
       "      <td>0.0</td>\n",
       "      <td>4.93</td>\n",
       "      <td>0.070</td>\n",
       "      <td>16.500</td>\n",
       "      <td>0.150</td>\n",
       "      <td>2.32000</td>\n",
       "      <td>8.23000</td>\n",
       "      <td>1.52000</td>\n",
       "      <td>...</td>\n",
       "      <td>257.00000</td>\n",
       "      <td>106.1375</td>\n",
       "      <td>437.54375</td>\n",
       "      <td>97.8675</td>\n",
       "      <td>936.000</td>\n",
       "      <td>171.00000</td>\n",
       "      <td>2355.00000</td>\n",
       "      <td>12535.0</td>\n",
       "      <td>348.0</td>\n",
       "      <td>155.0</td>\n",
       "    </tr>\n",
       "  </tbody>\n",
       "</table>\n",
       "<p>5 rows × 22 columns</p>\n",
       "</div>"
      ],
      "text/plain": [
       "   Unnamed: 0  age_ma  Feature     Ti     La      Ce     Pr       Nd  \\\n",
       "0           0   222.0      0.0   7.88  0.050  10.500  0.050  4.25000   \n",
       "1           1   222.0      0.0  10.90  1.555  61.505  0.725  7.74125   \n",
       "2           2   222.0      0.0   6.00  0.020  25.100  0.300  4.41000   \n",
       "3           3   222.0      0.0   9.06  0.280  12.000  0.070  1.88000   \n",
       "4           4   222.0      0.0   4.93  0.070  16.500  0.150  2.32000   \n",
       "\n",
       "         Sm       Eu  ...         Dy        Ho         Er       Tm       Yb  \\\n",
       "0  11.60000  1.99000  ...  259.21625  106.1375  437.54375  97.8675  936.725   \n",
       "1  12.56125  2.64375  ...  259.21625  106.1375  437.54375  97.8675  936.725   \n",
       "2  12.56125  2.30000  ...  259.21625  106.1375  437.54375  97.8675  936.725   \n",
       "3   5.08000  1.01000  ...  194.00000   83.0000  356.00000  89.5000  762.000   \n",
       "4   8.23000  1.52000  ...  257.00000  106.1375  437.54375  97.8675  936.000   \n",
       "\n",
       "          Lu           Y       Hf      U     Th  \n",
       "0  172.63875  2737.00000  12390.0  305.0  134.0  \n",
       "1  172.63875  2804.03875  12591.0  503.0  272.0  \n",
       "2  172.63875  2804.03875  12724.0  639.0  414.0  \n",
       "3  144.00000  1832.00000  12894.0  308.0  127.0  \n",
       "4  171.00000  2355.00000  12535.0  348.0  155.0  \n",
       "\n",
       "[5 rows x 22 columns]"
      ]
     },
     "execution_count": 3,
     "metadata": {},
     "output_type": "execute_result"
    }
   ],
   "source": [
    "df1.head()"
   ]
  },
  {
   "cell_type": "code",
   "execution_count": 4,
   "id": "73d1e0fb",
   "metadata": {},
   "outputs": [],
   "source": [
    "df1.drop('Unnamed: 0', axis=1, inplace=True)"
   ]
  },
  {
   "cell_type": "code",
   "execution_count": 5,
   "id": "a4c0ce6d",
   "metadata": {},
   "outputs": [
    {
     "data": {
      "text/html": [
       "<div>\n",
       "<style scoped>\n",
       "    .dataframe tbody tr th:only-of-type {\n",
       "        vertical-align: middle;\n",
       "    }\n",
       "\n",
       "    .dataframe tbody tr th {\n",
       "        vertical-align: top;\n",
       "    }\n",
       "\n",
       "    .dataframe thead th {\n",
       "        text-align: right;\n",
       "    }\n",
       "</style>\n",
       "<table border=\"1\" class=\"dataframe\">\n",
       "  <thead>\n",
       "    <tr style=\"text-align: right;\">\n",
       "      <th></th>\n",
       "      <th>age_ma</th>\n",
       "      <th>Feature</th>\n",
       "      <th>Ti</th>\n",
       "      <th>La</th>\n",
       "      <th>Ce</th>\n",
       "      <th>Pr</th>\n",
       "      <th>Nd</th>\n",
       "      <th>Sm</th>\n",
       "      <th>Eu</th>\n",
       "      <th>Gd</th>\n",
       "      <th>...</th>\n",
       "      <th>Dy</th>\n",
       "      <th>Ho</th>\n",
       "      <th>Er</th>\n",
       "      <th>Tm</th>\n",
       "      <th>Yb</th>\n",
       "      <th>Lu</th>\n",
       "      <th>Y</th>\n",
       "      <th>Hf</th>\n",
       "      <th>U</th>\n",
       "      <th>Th</th>\n",
       "    </tr>\n",
       "  </thead>\n",
       "  <tbody>\n",
       "    <tr>\n",
       "      <th>1219</th>\n",
       "      <td>839.3875</td>\n",
       "      <td>0.0</td>\n",
       "      <td>7.84</td>\n",
       "      <td>0.080</td>\n",
       "      <td>22.08</td>\n",
       "      <td>0.080</td>\n",
       "      <td>1.13000</td>\n",
       "      <td>1.38000</td>\n",
       "      <td>0.34000</td>\n",
       "      <td>7.510</td>\n",
       "      <td>...</td>\n",
       "      <td>30.29</td>\n",
       "      <td>10.75</td>\n",
       "      <td>50.18</td>\n",
       "      <td>11.50</td>\n",
       "      <td>140.25</td>\n",
       "      <td>20.02</td>\n",
       "      <td>346.45</td>\n",
       "      <td>8732.29</td>\n",
       "      <td>112.87</td>\n",
       "      <td>59.04</td>\n",
       "    </tr>\n",
       "    <tr>\n",
       "      <th>1030</th>\n",
       "      <td>123.1900</td>\n",
       "      <td>0.0</td>\n",
       "      <td>4.32</td>\n",
       "      <td>1.555</td>\n",
       "      <td>59.50</td>\n",
       "      <td>0.725</td>\n",
       "      <td>4.56000</td>\n",
       "      <td>3.02000</td>\n",
       "      <td>0.78000</td>\n",
       "      <td>14.020</td>\n",
       "      <td>...</td>\n",
       "      <td>64.24</td>\n",
       "      <td>26.32</td>\n",
       "      <td>132.29</td>\n",
       "      <td>31.80</td>\n",
       "      <td>332.48</td>\n",
       "      <td>68.48</td>\n",
       "      <td>848.89</td>\n",
       "      <td>9060.78</td>\n",
       "      <td>320.67</td>\n",
       "      <td>330.89</td>\n",
       "    </tr>\n",
       "    <tr>\n",
       "      <th>1022</th>\n",
       "      <td>134.7900</td>\n",
       "      <td>0.0</td>\n",
       "      <td>23.76</td>\n",
       "      <td>0.190</td>\n",
       "      <td>40.44</td>\n",
       "      <td>0.700</td>\n",
       "      <td>7.74125</td>\n",
       "      <td>12.56125</td>\n",
       "      <td>2.64375</td>\n",
       "      <td>63.555</td>\n",
       "      <td>...</td>\n",
       "      <td>217.22</td>\n",
       "      <td>73.16</td>\n",
       "      <td>297.60</td>\n",
       "      <td>60.82</td>\n",
       "      <td>547.98</td>\n",
       "      <td>100.53</td>\n",
       "      <td>2118.16</td>\n",
       "      <td>7534.91</td>\n",
       "      <td>246.19</td>\n",
       "      <td>465.44</td>\n",
       "    </tr>\n",
       "    <tr>\n",
       "      <th>1599</th>\n",
       "      <td>16.0000</td>\n",
       "      <td>1.0</td>\n",
       "      <td>6.70</td>\n",
       "      <td>0.010</td>\n",
       "      <td>43.60</td>\n",
       "      <td>0.110</td>\n",
       "      <td>1.78000</td>\n",
       "      <td>3.59000</td>\n",
       "      <td>1.41000</td>\n",
       "      <td>17.300</td>\n",
       "      <td>...</td>\n",
       "      <td>66.00</td>\n",
       "      <td>24.40</td>\n",
       "      <td>123.00</td>\n",
       "      <td>25.90</td>\n",
       "      <td>254.00</td>\n",
       "      <td>57.80</td>\n",
       "      <td>810.00</td>\n",
       "      <td>8850.00</td>\n",
       "      <td>408.00</td>\n",
       "      <td>385.00</td>\n",
       "    </tr>\n",
       "    <tr>\n",
       "      <th>1042</th>\n",
       "      <td>108.4300</td>\n",
       "      <td>0.0</td>\n",
       "      <td>4.55</td>\n",
       "      <td>0.660</td>\n",
       "      <td>43.62</td>\n",
       "      <td>0.240</td>\n",
       "      <td>1.20000</td>\n",
       "      <td>1.63000</td>\n",
       "      <td>0.54000</td>\n",
       "      <td>10.990</td>\n",
       "      <td>...</td>\n",
       "      <td>51.24</td>\n",
       "      <td>20.83</td>\n",
       "      <td>105.39</td>\n",
       "      <td>23.92</td>\n",
       "      <td>252.52</td>\n",
       "      <td>49.75</td>\n",
       "      <td>688.24</td>\n",
       "      <td>9555.18</td>\n",
       "      <td>237.97</td>\n",
       "      <td>232.92</td>\n",
       "    </tr>\n",
       "  </tbody>\n",
       "</table>\n",
       "<p>5 rows × 21 columns</p>\n",
       "</div>"
      ],
      "text/plain": [
       "        age_ma  Feature     Ti     La     Ce     Pr       Nd        Sm  \\\n",
       "1219  839.3875      0.0   7.84  0.080  22.08  0.080  1.13000   1.38000   \n",
       "1030  123.1900      0.0   4.32  1.555  59.50  0.725  4.56000   3.02000   \n",
       "1022  134.7900      0.0  23.76  0.190  40.44  0.700  7.74125  12.56125   \n",
       "1599   16.0000      1.0   6.70  0.010  43.60  0.110  1.78000   3.59000   \n",
       "1042  108.4300      0.0   4.55  0.660  43.62  0.240  1.20000   1.63000   \n",
       "\n",
       "           Eu      Gd  ...      Dy     Ho      Er     Tm      Yb      Lu  \\\n",
       "1219  0.34000   7.510  ...   30.29  10.75   50.18  11.50  140.25   20.02   \n",
       "1030  0.78000  14.020  ...   64.24  26.32  132.29  31.80  332.48   68.48   \n",
       "1022  2.64375  63.555  ...  217.22  73.16  297.60  60.82  547.98  100.53   \n",
       "1599  1.41000  17.300  ...   66.00  24.40  123.00  25.90  254.00   57.80   \n",
       "1042  0.54000  10.990  ...   51.24  20.83  105.39  23.92  252.52   49.75   \n",
       "\n",
       "            Y       Hf       U      Th  \n",
       "1219   346.45  8732.29  112.87   59.04  \n",
       "1030   848.89  9060.78  320.67  330.89  \n",
       "1022  2118.16  7534.91  246.19  465.44  \n",
       "1599   810.00  8850.00  408.00  385.00  \n",
       "1042   688.24  9555.18  237.97  232.92  \n",
       "\n",
       "[5 rows x 21 columns]"
      ]
     },
     "execution_count": 5,
     "metadata": {},
     "output_type": "execute_result"
    }
   ],
   "source": [
    "df1.sample(5)"
   ]
  },
  {
   "cell_type": "code",
   "execution_count": 6,
   "id": "49eb0f1c",
   "metadata": {},
   "outputs": [],
   "source": [
    "X = df1.drop('Feature', axis=1).values\n",
    "y = df1.Feature.values"
   ]
  },
  {
   "cell_type": "markdown",
   "id": "524f0447",
   "metadata": {},
   "source": [
    "### Splitting the dataset"
   ]
  },
  {
   "cell_type": "code",
   "execution_count": 7,
   "id": "4d3ac7ab",
   "metadata": {},
   "outputs": [],
   "source": [
    "X_train, X_test, y_train, y_test = train_test_split(X, y, test_size=0.2, shuffle=True, stratify=y)"
   ]
  },
  {
   "cell_type": "markdown",
   "id": "53573d63",
   "metadata": {},
   "source": [
    "### Scaling the data using Standard Scaler"
   ]
  },
  {
   "cell_type": "code",
   "execution_count": 8,
   "id": "b551ad2f",
   "metadata": {},
   "outputs": [],
   "source": [
    "scaler = StandardScaler()\n",
    "\n",
    "X_train_scaled = scaler.fit_transform(X_train)\n",
    "X_test_scaled = scaler.transform(X_test)"
   ]
  },
  {
   "cell_type": "code",
   "execution_count": 9,
   "id": "ca2db6cb",
   "metadata": {},
   "outputs": [
    {
     "data": {
      "text/plain": [
       "(2390, 20)"
      ]
     },
     "execution_count": 9,
     "metadata": {},
     "output_type": "execute_result"
    }
   ],
   "source": [
    "X_train_scaled.shape"
   ]
  },
  {
   "cell_type": "markdown",
   "id": "bae0d4fb",
   "metadata": {},
   "source": [
    "### Fitting the base model"
   ]
  },
  {
   "cell_type": "code",
   "execution_count": 10,
   "id": "d1a59e7b",
   "metadata": {},
   "outputs": [
    {
     "data": {
      "text/html": [
       "<style>#sk-container-id-1 {color: black;}#sk-container-id-1 pre{padding: 0;}#sk-container-id-1 div.sk-toggleable {background-color: white;}#sk-container-id-1 label.sk-toggleable__label {cursor: pointer;display: block;width: 100%;margin-bottom: 0;padding: 0.3em;box-sizing: border-box;text-align: center;}#sk-container-id-1 label.sk-toggleable__label-arrow:before {content: \"▸\";float: left;margin-right: 0.25em;color: #696969;}#sk-container-id-1 label.sk-toggleable__label-arrow:hover:before {color: black;}#sk-container-id-1 div.sk-estimator:hover label.sk-toggleable__label-arrow:before {color: black;}#sk-container-id-1 div.sk-toggleable__content {max-height: 0;max-width: 0;overflow: hidden;text-align: left;background-color: #f0f8ff;}#sk-container-id-1 div.sk-toggleable__content pre {margin: 0.2em;color: black;border-radius: 0.25em;background-color: #f0f8ff;}#sk-container-id-1 input.sk-toggleable__control:checked~div.sk-toggleable__content {max-height: 200px;max-width: 100%;overflow: auto;}#sk-container-id-1 input.sk-toggleable__control:checked~label.sk-toggleable__label-arrow:before {content: \"▾\";}#sk-container-id-1 div.sk-estimator input.sk-toggleable__control:checked~label.sk-toggleable__label {background-color: #d4ebff;}#sk-container-id-1 div.sk-label input.sk-toggleable__control:checked~label.sk-toggleable__label {background-color: #d4ebff;}#sk-container-id-1 input.sk-hidden--visually {border: 0;clip: rect(1px 1px 1px 1px);clip: rect(1px, 1px, 1px, 1px);height: 1px;margin: -1px;overflow: hidden;padding: 0;position: absolute;width: 1px;}#sk-container-id-1 div.sk-estimator {font-family: monospace;background-color: #f0f8ff;border: 1px dotted black;border-radius: 0.25em;box-sizing: border-box;margin-bottom: 0.5em;}#sk-container-id-1 div.sk-estimator:hover {background-color: #d4ebff;}#sk-container-id-1 div.sk-parallel-item::after {content: \"\";width: 100%;border-bottom: 1px solid gray;flex-grow: 1;}#sk-container-id-1 div.sk-label:hover label.sk-toggleable__label {background-color: #d4ebff;}#sk-container-id-1 div.sk-serial::before {content: \"\";position: absolute;border-left: 1px solid gray;box-sizing: border-box;top: 0;bottom: 0;left: 50%;z-index: 0;}#sk-container-id-1 div.sk-serial {display: flex;flex-direction: column;align-items: center;background-color: white;padding-right: 0.2em;padding-left: 0.2em;position: relative;}#sk-container-id-1 div.sk-item {position: relative;z-index: 1;}#sk-container-id-1 div.sk-parallel {display: flex;align-items: stretch;justify-content: center;background-color: white;position: relative;}#sk-container-id-1 div.sk-item::before, #sk-container-id-1 div.sk-parallel-item::before {content: \"\";position: absolute;border-left: 1px solid gray;box-sizing: border-box;top: 0;bottom: 0;left: 50%;z-index: -1;}#sk-container-id-1 div.sk-parallel-item {display: flex;flex-direction: column;z-index: 1;position: relative;background-color: white;}#sk-container-id-1 div.sk-parallel-item:first-child::after {align-self: flex-end;width: 50%;}#sk-container-id-1 div.sk-parallel-item:last-child::after {align-self: flex-start;width: 50%;}#sk-container-id-1 div.sk-parallel-item:only-child::after {width: 0;}#sk-container-id-1 div.sk-dashed-wrapped {border: 1px dashed gray;margin: 0 0.4em 0.5em 0.4em;box-sizing: border-box;padding-bottom: 0.4em;background-color: white;}#sk-container-id-1 div.sk-label label {font-family: monospace;font-weight: bold;display: inline-block;line-height: 1.2em;}#sk-container-id-1 div.sk-label-container {text-align: center;}#sk-container-id-1 div.sk-container {/* jupyter's `normalize.less` sets `[hidden] { display: none; }` but bootstrap.min.css set `[hidden] { display: none !important; }` so we also need the `!important` here to be able to override the default hidden behavior on the sphinx rendered scikit-learn.org. See: https://github.com/scikit-learn/scikit-learn/issues/21755 */display: inline-block !important;position: relative;}#sk-container-id-1 div.sk-text-repr-fallback {display: none;}</style><div id=\"sk-container-id-1\" class=\"sk-top-container\"><div class=\"sk-text-repr-fallback\"><pre>RandomForestClassifier()</pre><b>In a Jupyter environment, please rerun this cell to show the HTML representation or trust the notebook. <br />On GitHub, the HTML representation is unable to render, please try loading this page with nbviewer.org.</b></div><div class=\"sk-container\" hidden><div class=\"sk-item\"><div class=\"sk-estimator sk-toggleable\"><input class=\"sk-toggleable__control sk-hidden--visually\" id=\"sk-estimator-id-1\" type=\"checkbox\" checked><label for=\"sk-estimator-id-1\" class=\"sk-toggleable__label sk-toggleable__label-arrow\">RandomForestClassifier</label><div class=\"sk-toggleable__content\"><pre>RandomForestClassifier()</pre></div></div></div></div></div>"
      ],
      "text/plain": [
       "RandomForestClassifier()"
      ]
     },
     "execution_count": 10,
     "metadata": {},
     "output_type": "execute_result"
    }
   ],
   "source": [
    "rf_base = ensemble.RandomForestClassifier()\n",
    "\n",
    "rf_base.fit(X_train_scaled, y_train)"
   ]
  },
  {
   "cell_type": "code",
   "execution_count": 11,
   "id": "419fcc64",
   "metadata": {},
   "outputs": [],
   "source": [
    "y_pred = rf_base.predict(X_test_scaled)"
   ]
  },
  {
   "cell_type": "code",
   "execution_count": 12,
   "id": "6b16eadc",
   "metadata": {},
   "outputs": [
    {
     "name": "stdout",
     "output_type": "stream",
     "text": [
      "Accuracy of test set on base model:  0.948\n"
     ]
    }
   ],
   "source": [
    "print(\"Accuracy of test set on base model: \", round(accuracy_score(y_test, y_pred), 3))"
   ]
  },
  {
   "cell_type": "code",
   "execution_count": 13,
   "id": "08a8d1b9",
   "metadata": {},
   "outputs": [
    {
     "name": "stdout",
     "output_type": "stream",
     "text": [
      "Classification report of test set: \n",
      "\n",
      "               precision    recall  f1-score   support\n",
      "\n",
      "         0.0       0.96      0.95      0.95       338\n",
      "         1.0       0.94      0.94      0.94       260\n",
      "\n",
      "    accuracy                           0.95       598\n",
      "   macro avg       0.95      0.95      0.95       598\n",
      "weighted avg       0.95      0.95      0.95       598\n",
      "\n"
     ]
    }
   ],
   "source": [
    "print(\"Classification report of test set: \\n\\n\", classification_report(y_test, y_pred))"
   ]
  },
  {
   "cell_type": "code",
   "execution_count": 14,
   "id": "d6005a7e",
   "metadata": {},
   "outputs": [
    {
     "data": {
      "text/plain": [
       "<sklearn.metrics._plot.confusion_matrix.ConfusionMatrixDisplay at 0x168168970>"
      ]
     },
     "execution_count": 14,
     "metadata": {},
     "output_type": "execute_result"
    },
    {
     "data": {
      "image/png": "[encoded data removed]",
      "text/plain": [
       "<Figure size 640x480 with 2 Axes>"
      ]
     },
     "metadata": {},
     "output_type": "display_data"
    }
   ],
   "source": [
    "cm = confusion_matrix(y_test, y_pred)\n",
    "\n",
    "ConfusionMatrixDisplay(cm, display_labels=['Barren', 'Fertile']).plot(cmap = 'OrRd')"
   ]
  },
  {
   "cell_type": "markdown",
   "id": "d4f550b8",
   "metadata": {},
   "source": [
    "### Hyper-Parameter Tuning"
   ]
  },
  {
   "cell_type": "markdown",
   "id": "dd4f6382",
   "metadata": {},
   "source": [
    "### Grid Search Optimization with stratified K-fold Cross Validation"
   ]
  },
  {
   "cell_type": "code",
   "execution_count": 15,
   "id": "1772d20e",
   "metadata": {},
   "outputs": [],
   "source": [
    "Stratified_kf = StratifiedKFold(n_splits=10, shuffle=True)"
   ]
  },
  {
   "cell_type": "code",
   "execution_count": 16,
   "id": "ff74a689",
   "metadata": {},
   "outputs": [],
   "source": [
    "param_grid = {\n",
    "    \n",
    "    'max_depth': np.arange(3, 15, 2),\n",
    "    'n_estimators': np.arange(100, 500, 100),\n",
    "    'criterion': ['gini', 'entropy'],\n",
    "    'max_features': ['sqrt', 'log2']\n",
    "    \n",
    "}"
   ]
  },
  {
   "cell_type": "code",
   "execution_count": 17,
   "id": "a9e6c686",
   "metadata": {},
   "outputs": [],
   "source": [
    "clf = GridSearchCV(estimator = ensemble.RandomForestClassifier(), \n",
    "                   param_grid=param_grid, \n",
    "                   scoring='accuracy',\n",
    "                   cv = Stratified_kf, \n",
    "                   n_jobs=-1, \n",
    "                   verbose=2, \n",
    "                   return_train_score=True)"
   ]
  },
  {
   "cell_type": "code",
   "execution_count": 18,
   "id": "44ccd89d",
   "metadata": {},
   "outputs": [
    {
     "name": "stdout",
     "output_type": "stream",
     "text": [
      "Fitting 10 folds for each of 96 candidates, totalling 960 fits\n"
     ]
    },
    {
     "data": {
      "text/html": [
       "<style>#sk-container-id-2 {color: black;}#sk-container-id-2 pre{padding: 0;}#sk-container-id-2 div.sk-toggleable {background-color: white;}#sk-container-id-2 label.sk-toggleable__label {cursor: pointer;display: block;width: 100%;margin-bottom: 0;padding: 0.3em;box-sizing: border-box;text-align: center;}#sk-container-id-2 label.sk-toggleable__label-arrow:before {content: \"▸\";float: left;margin-right: 0.25em;color: #696969;}#sk-container-id-2 label.sk-toggleable__label-arrow:hover:before {color: black;}#sk-container-id-2 div.sk-estimator:hover label.sk-toggleable__label-arrow:before {color: black;}#sk-container-id-2 div.sk-toggleable__content {max-height: 0;max-width: 0;overflow: hidden;text-align: left;background-color: #f0f8ff;}#sk-container-id-2 div.sk-toggleable__content pre {margin: 0.2em;color: black;border-radius: 0.25em;background-color: #f0f8ff;}#sk-container-id-2 input.sk-toggleable__control:checked~div.sk-toggleable__content {max-height: 200px;max-width: 100%;overflow: auto;}#sk-container-id-2 input.sk-toggleable__control:checked~label.sk-toggleable__label-arrow:before {content: \"▾\";}#sk-container-id-2 div.sk-estimator input.sk-toggleable__control:checked~label.sk-toggleable__label {background-color: #d4ebff;}#sk-container-id-2 div.sk-label input.sk-toggleable__control:checked~label.sk-toggleable__label {background-color: #d4ebff;}#sk-container-id-2 input.sk-hidden--visually {border: 0;clip: rect(1px 1px 1px 1px);clip: rect(1px, 1px, 1px, 1px);height: 1px;margin: -1px;overflow: hidden;padding: 0;position: absolute;width: 1px;}#sk-container-id-2 div.sk-estimator {font-family: monospace;background-color: #f0f8ff;border: 1px dotted black;border-radius: 0.25em;box-sizing: border-box;margin-bottom: 0.5em;}#sk-container-id-2 div.sk-estimator:hover {background-color: #d4ebff;}#sk-container-id-2 div.sk-parallel-item::after {content: \"\";width: 100%;border-bottom: 1px solid gray;flex-grow: 1;}#sk-container-id-2 div.sk-label:hover label.sk-toggleable__label {background-color: #d4ebff;}#sk-container-id-2 div.sk-serial::before {content: \"\";position: absolute;border-left: 1px solid gray;box-sizing: border-box;top: 0;bottom: 0;left: 50%;z-index: 0;}#sk-container-id-2 div.sk-serial {display: flex;flex-direction: column;align-items: center;background-color: white;padding-right: 0.2em;padding-left: 0.2em;position: relative;}#sk-container-id-2 div.sk-item {position: relative;z-index: 1;}#sk-container-id-2 div.sk-parallel {display: flex;align-items: stretch;justify-content: center;background-color: white;position: relative;}#sk-container-id-2 div.sk-item::before, #sk-container-id-2 div.sk-parallel-item::before {content: \"\";position: absolute;border-left: 1px solid gray;box-sizing: border-box;top: 0;bottom: 0;left: 50%;z-index: -1;}#sk-container-id-2 div.sk-parallel-item {display: flex;flex-direction: column;z-index: 1;position: relative;background-color: white;}#sk-container-id-2 div.sk-parallel-item:first-child::after {align-self: flex-end;width: 50%;}#sk-container-id-2 div.sk-parallel-item:last-child::after {align-self: flex-start;width: 50%;}#sk-container-id-2 div.sk-parallel-item:only-child::after {width: 0;}#sk-container-id-2 div.sk-dashed-wrapped {border: 1px dashed gray;margin: 0 0.4em 0.5em 0.4em;box-sizing: border-box;padding-bottom: 0.4em;background-color: white;}#sk-container-id-2 div.sk-label label {font-family: monospace;font-weight: bold;display: inline-block;line-height: 1.2em;}#sk-container-id-2 div.sk-label-container {text-align: center;}#sk-container-id-2 div.sk-container {/* jupyter's `normalize.less` sets `[hidden] { display: none; }` but bootstrap.min.css set `[hidden] { display: none !important; }` so we also need the `!important` here to be able to override the default hidden behavior on the sphinx rendered scikit-learn.org. See: https://github.com/scikit-learn/scikit-learn/issues/21755 */display: inline-block !important;position: relative;}#sk-container-id-2 div.sk-text-repr-fallback {display: none;}</style><div id=\"sk-container-id-2\" class=\"sk-top-container\"><div class=\"sk-text-repr-fallback\"><pre>GridSearchCV(cv=StratifiedKFold(n_splits=10, random_state=None, shuffle=True),\n",
       "             estimator=RandomForestClassifier(), n_jobs=-1,\n",
       "             param_grid={&#x27;criterion&#x27;: [&#x27;gini&#x27;, &#x27;entropy&#x27;],\n",
       "                         &#x27;max_depth&#x27;: array([ 3,  5,  7,  9, 11, 13]),\n",
       "                         &#x27;max_features&#x27;: [&#x27;sqrt&#x27;, &#x27;log2&#x27;],\n",
       "                         &#x27;n_estimators&#x27;: array([100, 200, 300, 400])},\n",
       "             return_train_score=True, scoring=&#x27;accuracy&#x27;, verbose=2)</pre><b>In a Jupyter environment, please rerun this cell to show the HTML representation or trust the notebook. <br />On GitHub, the HTML representation is unable to render, please try loading this page with nbviewer.org.</b></div><div class=\"sk-container\" hidden><div class=\"sk-item sk-dashed-wrapped\"><div class=\"sk-label-container\"><div class=\"sk-label sk-toggleable\"><input class=\"sk-toggleable__control sk-hidden--visually\" id=\"sk-estimator-id-2\" type=\"checkbox\" ><label for=\"sk-estimator-id-2\" class=\"sk-toggleable__label sk-toggleable__label-arrow\">GridSearchCV</label><div class=\"sk-toggleable__content\"><pre>GridSearchCV(cv=StratifiedKFold(n_splits=10, random_state=None, shuffle=True),\n",
       "             estimator=RandomForestClassifier(), n_jobs=-1,\n",
       "             param_grid={&#x27;criterion&#x27;: [&#x27;gini&#x27;, &#x27;entropy&#x27;],\n",
       "                         &#x27;max_depth&#x27;: array([ 3,  5,  7,  9, 11, 13]),\n",
       "                         &#x27;max_features&#x27;: [&#x27;sqrt&#x27;, &#x27;log2&#x27;],\n",
       "                         &#x27;n_estimators&#x27;: array([100, 200, 300, 400])},\n",
       "             return_train_score=True, scoring=&#x27;accuracy&#x27;, verbose=2)</pre></div></div></div><div class=\"sk-parallel\"><div class=\"sk-parallel-item\"><div class=\"sk-item\"><div class=\"sk-label-container\"><div class=\"sk-label sk-toggleable\"><input class=\"sk-toggleable__control sk-hidden--visually\" id=\"sk-estimator-id-3\" type=\"checkbox\" ><label for=\"sk-estimator-id-3\" class=\"sk-toggleable__label sk-toggleable__label-arrow\">estimator: RandomForestClassifier</label><div class=\"sk-toggleable__content\"><pre>RandomForestClassifier()</pre></div></div></div><div class=\"sk-serial\"><div class=\"sk-item\"><div class=\"sk-estimator sk-toggleable\"><input class=\"sk-toggleable__control sk-hidden--visually\" id=\"sk-estimator-id-4\" type=\"checkbox\" ><label for=\"sk-estimator-id-4\" class=\"sk-toggleable__label sk-toggleable__label-arrow\">RandomForestClassifier</label><div class=\"sk-toggleable__content\"><pre>RandomForestClassifier()</pre></div></div></div></div></div></div></div></div></div></div>"
      ],
      "text/plain": [
       "GridSearchCV(cv=StratifiedKFold(n_splits=10, random_state=None, shuffle=True),\n",
       "             estimator=RandomForestClassifier(), n_jobs=-1,\n",
       "             param_grid={'criterion': ['gini', 'entropy'],\n",
       "                         'max_depth': array([ 3,  5,  7,  9, 11, 13]),\n",
       "                         'max_features': ['sqrt', 'log2'],\n",
       "                         'n_estimators': array([100, 200, 300, 400])},\n",
       "             return_train_score=True, scoring='accuracy', verbose=2)"
      ]
     },
     "execution_count": 18,
     "metadata": {},
     "output_type": "execute_result"
    }
   ],
   "source": [
    "clf.fit(X_train_scaled, y_train)"
   ]
  },
  {
   "cell_type": "code",
   "execution_count": 19,
   "id": "2042dc89",
   "metadata": {},
   "outputs": [
    {
     "data": {
      "text/html": [
       "<style>#sk-container-id-3 {color: black;}#sk-container-id-3 pre{padding: 0;}#sk-container-id-3 div.sk-toggleable {background-color: white;}#sk-container-id-3 label.sk-toggleable__label {cursor: pointer;display: block;width: 100%;margin-bottom: 0;padding: 0.3em;box-sizing: border-box;text-align: center;}#sk-container-id-3 label.sk-toggleable__label-arrow:before {content: \"▸\";float: left;margin-right: 0.25em;color: #696969;}#sk-container-id-3 label.sk-toggleable__label-arrow:hover:before {color: black;}#sk-container-id-3 div.sk-estimator:hover label.sk-toggleable__label-arrow:before {color: black;}#sk-container-id-3 div.sk-toggleable__content {max-height: 0;max-width: 0;overflow: hidden;text-align: left;background-color: #f0f8ff;}#sk-container-id-3 div.sk-toggleable__content pre {margin: 0.2em;color: black;border-radius: 0.25em;background-color: #f0f8ff;}#sk-container-id-3 input.sk-toggleable__control:checked~div.sk-toggleable__content {max-height: 200px;max-width: 100%;overflow: auto;}#sk-container-id-3 input.sk-toggleable__control:checked~label.sk-toggleable__label-arrow:before {content: \"▾\";}#sk-container-id-3 div.sk-estimator input.sk-toggleable__control:checked~label.sk-toggleable__label {background-color: #d4ebff;}#sk-container-id-3 div.sk-label input.sk-toggleable__control:checked~label.sk-toggleable__label {background-color: #d4ebff;}#sk-container-id-3 input.sk-hidden--visually {border: 0;clip: rect(1px 1px 1px 1px);clip: rect(1px, 1px, 1px, 1px);height: 1px;margin: -1px;overflow: hidden;padding: 0;position: absolute;width: 1px;}#sk-container-id-3 div.sk-estimator {font-family: monospace;background-color: #f0f8ff;border: 1px dotted black;border-radius: 0.25em;box-sizing: border-box;margin-bottom: 0.5em;}#sk-container-id-3 div.sk-estimator:hover {background-color: #d4ebff;}#sk-container-id-3 div.sk-parallel-item::after {content: \"\";width: 100%;border-bottom: 1px solid gray;flex-grow: 1;}#sk-container-id-3 div.sk-label:hover label.sk-toggleable__label {background-color: #d4ebff;}#sk-container-id-3 div.sk-serial::before {content: \"\";position: absolute;border-left: 1px solid gray;box-sizing: border-box;top: 0;bottom: 0;left: 50%;z-index: 0;}#sk-container-id-3 div.sk-serial {display: flex;flex-direction: column;align-items: center;background-color: white;padding-right: 0.2em;padding-left: 0.2em;position: relative;}#sk-container-id-3 div.sk-item {position: relative;z-index: 1;}#sk-container-id-3 div.sk-parallel {display: flex;align-items: stretch;justify-content: center;background-color: white;position: relative;}#sk-container-id-3 div.sk-item::before, #sk-container-id-3 div.sk-parallel-item::before {content: \"\";position: absolute;border-left: 1px solid gray;box-sizing: border-box;top: 0;bottom: 0;left: 50%;z-index: -1;}#sk-container-id-3 div.sk-parallel-item {display: flex;flex-direction: column;z-index: 1;position: relative;background-color: white;}#sk-container-id-3 div.sk-parallel-item:first-child::after {align-self: flex-end;width: 50%;}#sk-container-id-3 div.sk-parallel-item:last-child::after {align-self: flex-start;width: 50%;}#sk-container-id-3 div.sk-parallel-item:only-child::after {width: 0;}#sk-container-id-3 div.sk-dashed-wrapped {border: 1px dashed gray;margin: 0 0.4em 0.5em 0.4em;box-sizing: border-box;padding-bottom: 0.4em;background-color: white;}#sk-container-id-3 div.sk-label label {font-family: monospace;font-weight: bold;display: inline-block;line-height: 1.2em;}#sk-container-id-3 div.sk-label-container {text-align: center;}#sk-container-id-3 div.sk-container {/* jupyter's `normalize.less` sets `[hidden] { display: none; }` but bootstrap.min.css set `[hidden] { display: none !important; }` so we also need the `!important` here to be able to override the default hidden behavior on the sphinx rendered scikit-learn.org. See: https://github.com/scikit-learn/scikit-learn/issues/21755 */display: inline-block !important;position: relative;}#sk-container-id-3 div.sk-text-repr-fallback {display: none;}</style><div id=\"sk-container-id-3\" class=\"sk-top-container\"><div class=\"sk-text-repr-fallback\"><pre>RandomForestClassifier(criterion=&#x27;entropy&#x27;, max_depth=11, n_estimators=200)</pre><b>In a Jupyter environment, please rerun this cell to show the HTML representation or trust the notebook. <br />On GitHub, the HTML representation is unable to render, please try loading this page with nbviewer.org.</b></div><div class=\"sk-container\" hidden><div class=\"sk-item\"><div class=\"sk-estimator sk-toggleable\"><input class=\"sk-toggleable__control sk-hidden--visually\" id=\"sk-estimator-id-5\" type=\"checkbox\" checked><label for=\"sk-estimator-id-5\" class=\"sk-toggleable__label sk-toggleable__label-arrow\">RandomForestClassifier</label><div class=\"sk-toggleable__content\"><pre>RandomForestClassifier(criterion=&#x27;entropy&#x27;, max_depth=11, n_estimators=200)</pre></div></div></div></div></div>"
      ],
      "text/plain": [
       "RandomForestClassifier(criterion='entropy', max_depth=11, n_estimators=200)"
      ]
     },
     "execution_count": 19,
     "metadata": {},
     "output_type": "execute_result"
    }
   ],
   "source": [
    "clf.best_estimator_"
   ]
  },
  {
   "cell_type": "code",
   "execution_count": 20,
   "id": "f8ea6dec",
   "metadata": {},
   "outputs": [
    {
     "name": "stdout",
     "output_type": "stream",
     "text": [
      "Best Validation set accuracy:  0.96\n"
     ]
    }
   ],
   "source": [
    "print(\"Best Validation set accuracy: \", round(clf.best_score_, 2))"
   ]
  },
  {
   "cell_type": "code",
   "execution_count": 21,
   "id": "38bb3d19",
   "metadata": {},
   "outputs": [
    {
     "data": {
      "text/plain": [
       "{'criterion': 'entropy',\n",
       " 'max_depth': 11,\n",
       " 'max_features': 'sqrt',\n",
       " 'n_estimators': 200}"
      ]
     },
     "execution_count": 21,
     "metadata": {},
     "output_type": "execute_result"
    }
   ],
   "source": [
    "clf.best_params_"
   ]
  },
  {
   "cell_type": "code",
   "execution_count": 22,
   "id": "131eb047",
   "metadata": {},
   "outputs": [],
   "source": [
    "y_pred_best = clf.predict(X_test_scaled)"
   ]
  },
  {
   "cell_type": "code",
   "execution_count": 23,
   "id": "407c509d",
   "metadata": {},
   "outputs": [
    {
     "name": "stdout",
     "output_type": "stream",
     "text": [
      "Accuracy of test data - GridSearch CV:  0.945\n"
     ]
    }
   ],
   "source": [
    "print(\"Accuracy of test data - GridSearch CV: \", round(accuracy_score(y_test, y_pred_best), 3))"
   ]
  },
  {
   "cell_type": "code",
   "execution_count": 24,
   "id": "c1408016",
   "metadata": {},
   "outputs": [
    {
     "name": "stdout",
     "output_type": "stream",
     "text": [
      "Classification report for test data - Gridsearch CV: \n",
      "\n",
      "               precision    recall  f1-score   support\n",
      "\n",
      "         0.0       0.96      0.94      0.95       338\n",
      "         1.0       0.93      0.95      0.94       260\n",
      "\n",
      "    accuracy                           0.94       598\n",
      "   macro avg       0.94      0.95      0.94       598\n",
      "weighted avg       0.95      0.94      0.94       598\n",
      "\n"
     ]
    }
   ],
   "source": [
    "print(\"Classification report for test data - Gridsearch CV: \\n\\n\", classification_report(y_test, y_pred_best))"
   ]
  },
  {
   "cell_type": "code",
   "execution_count": 25,
   "id": "f4fead4a",
   "metadata": {},
   "outputs": [
    {
     "data": {
      "text/plain": [
       "<sklearn.metrics._plot.confusion_matrix.ConfusionMatrixDisplay at 0x1683627f0>"
      ]
     },
     "execution_count": 25,
     "metadata": {},
     "output_type": "execute_result"
    },
    {
     "data": {
      "image/png": "[encoded data removed]",
      "text/plain": [
       "<Figure size 640x480 with 2 Axes>"
      ]
     },
     "metadata": {},
     "output_type": "display_data"
    }
   ],
   "source": [
    "cm = confusion_matrix(y_test, y_pred_best)\n",
    "\n",
    "ConfusionMatrixDisplay(cm, display_labels=['Barren', 'Fertile']).plot(cmap = 'OrRd')"
   ]
  },
  {
   "cell_type": "code",
   "execution_count": null,
   "id": "7ec74ce3",
   "metadata": {},
   "outputs": [],
   "source": []
  },
  {
   "cell_type": "markdown",
   "id": "015c4ac1",
   "metadata": {},
   "source": [
    "### Hyper-Parameter Tuning using Bayesian Optimization"
   ]
  },
  {
   "cell_type": "code",
   "execution_count": 26,
   "id": "d66eb1ef",
   "metadata": {},
   "outputs": [],
   "source": [
    "def optimize(params, param_names, x, y):\n",
    "    params = dict(zip(param_names, params))\n",
    "    model = ensemble.RandomForestClassifier(**params)\n",
    "    kfold = model_selection.StratifiedKFold(n_splits=10)\n",
    "    accuracies = []\n",
    "    \n",
    "    for idx in kfold.split(X=x, y=y):\n",
    "        train_idx, valid_idx = idx[0], idx[1]        \n",
    "        xtrain = x[train_idx]\n",
    "        ytrain = y[train_idx]\n",
    "        \n",
    "        xvalid = x[valid_idx]\n",
    "        yvalid = y[valid_idx]\n",
    "        \n",
    "        model.fit(xtrain, ytrain)        \n",
    "        preds = model.predict(xvalid)        \n",
    "        fold_accuracy = accuracy_score(yvalid, preds)\n",
    "        \n",
    "        accuracies.append(fold_accuracy)\n",
    "        \n",
    "    return -1.0 * np.mean(accuracies)"
   ]
  },
  {
   "cell_type": "code",
   "execution_count": 27,
   "id": "d1928efb",
   "metadata": {},
   "outputs": [],
   "source": [
    "param_space = [\n",
    "    space.Integer(3, 13, name='max_depth'),\n",
    "    space.Integer(100, 500, name='n_estimators'),\n",
    "    space.Categorical(categories=['gini', 'entropy'], name='criterion'),\n",
    "    space.Categorical(['sqrt', 'log2'], name='max_features')\n",
    "]"
   ]
  },
  {
   "cell_type": "code",
   "execution_count": 28,
   "id": "f8979c02",
   "metadata": {},
   "outputs": [],
   "source": [
    "param_names = ['max_depth', 'n_estimators', 'criterion',  'max_features']"
   ]
  },
  {
   "cell_type": "code",
   "execution_count": 29,
   "id": "cde72943",
   "metadata": {},
   "outputs": [],
   "source": [
    "optimization_function = partial(optimize, param_names = param_names, x = X_train_scaled, y = y_train)"
   ]
  },
  {
   "cell_type": "code",
   "execution_count": 30,
   "id": "0682c588",
   "metadata": {},
   "outputs": [
    {
     "name": "stdout",
     "output_type": "stream",
     "text": [
      "Iteration No: 1 started. Evaluating function at random point.\n",
      "Iteration No: 1 ended. Evaluation done at random point.\n",
      "Time taken: 7.7080\n",
      "Function value obtained: -0.9234\n",
      "Current minimum: -0.9234\n",
      "Iteration No: 2 started. Evaluating function at random point.\n",
      "Iteration No: 2 ended. Evaluation done at random point.\n",
      "Time taken: 13.3212\n",
      "Function value obtained: -0.9469\n",
      "Current minimum: -0.9469\n",
      "Iteration No: 3 started. Evaluating function at random point.\n",
      "Iteration No: 3 ended. Evaluation done at random point.\n",
      "Time taken: 12.8887\n",
      "Function value obtained: -0.9515\n",
      "Current minimum: -0.9515\n",
      "Iteration No: 4 started. Evaluating function at random point.\n",
      "Iteration No: 4 ended. Evaluation done at random point.\n",
      "Time taken: 21.0533\n",
      "Function value obtained: -0.9594\n",
      "Current minimum: -0.9594\n",
      "Iteration No: 5 started. Evaluating function at random point.\n",
      "Iteration No: 5 ended. Evaluation done at random point.\n",
      "Time taken: 13.2871\n",
      "Function value obtained: -0.9569\n",
      "Current minimum: -0.9594\n",
      "Iteration No: 6 started. Searching for the next optimal point.\n",
      "Iteration No: 6 ended. Search finished for the next optimal point.\n",
      "Time taken: 23.7542\n",
      "Function value obtained: -0.9573\n",
      "Current minimum: -0.9594\n",
      "Iteration No: 7 started. Searching for the next optimal point.\n",
      "Iteration No: 7 ended. Search finished for the next optimal point.\n",
      "Time taken: 26.3603\n",
      "Function value obtained: -0.9598\n",
      "Current minimum: -0.9598\n",
      "Iteration No: 8 started. Searching for the next optimal point.\n",
      "Iteration No: 8 ended. Search finished for the next optimal point.\n",
      "Time taken: 5.6764\n",
      "Function value obtained: -0.9569\n",
      "Current minimum: -0.9598\n",
      "Iteration No: 9 started. Searching for the next optimal point.\n",
      "Iteration No: 9 ended. Search finished for the next optimal point.\n",
      "Time taken: 4.9808\n",
      "Function value obtained: -0.9527\n",
      "Current minimum: -0.9598\n",
      "Iteration No: 10 started. Searching for the next optimal point.\n",
      "Iteration No: 10 ended. Search finished for the next optimal point.\n",
      "Time taken: 14.2749\n",
      "Function value obtained: -0.8745\n",
      "Current minimum: -0.9598\n"
     ]
    }
   ],
   "source": [
    "result = gp_minimize(func=optimization_function,\n",
    "                     dimensions = param_space,\n",
    "                     n_calls=10,\n",
    "                     n_random_starts=5,\n",
    "                     verbose=10,\n",
    "                     n_jobs=-1)"
   ]
  },
  {
   "cell_type": "code",
   "execution_count": 31,
   "id": "3202acbc",
   "metadata": {},
   "outputs": [
    {
     "name": "stdout",
     "output_type": "stream",
     "text": [
      "{'max_depth': 11, 'n_estimators': 500, 'criterion': 'entropy', 'max_features': 'log2'}\n"
     ]
    }
   ],
   "source": [
    "best_params_bayesian = dict(zip(param_names, result.x))\n",
    "print(best_params_bayesian)"
   ]
  },
  {
   "cell_type": "code",
   "execution_count": 32,
   "id": "87099733",
   "metadata": {},
   "outputs": [],
   "source": [
    "best_model_rf_bayesian = ensemble.RandomForestClassifier(**best_params_bayesian)"
   ]
  },
  {
   "cell_type": "code",
   "execution_count": 33,
   "id": "27873aae",
   "metadata": {},
   "outputs": [
    {
     "data": {
      "text/html": [
       "<style>#sk-container-id-4 {color: black;}#sk-container-id-4 pre{padding: 0;}#sk-container-id-4 div.sk-toggleable {background-color: white;}#sk-container-id-4 label.sk-toggleable__label {cursor: pointer;display: block;width: 100%;margin-bottom: 0;padding: 0.3em;box-sizing: border-box;text-align: center;}#sk-container-id-4 label.sk-toggleable__label-arrow:before {content: \"▸\";float: left;margin-right: 0.25em;color: #696969;}#sk-container-id-4 label.sk-toggleable__label-arrow:hover:before {color: black;}#sk-container-id-4 div.sk-estimator:hover label.sk-toggleable__label-arrow:before {color: black;}#sk-container-id-4 div.sk-toggleable__content {max-height: 0;max-width: 0;overflow: hidden;text-align: left;background-color: #f0f8ff;}#sk-container-id-4 div.sk-toggleable__content pre {margin: 0.2em;color: black;border-radius: 0.25em;background-color: #f0f8ff;}#sk-container-id-4 input.sk-toggleable__control:checked~div.sk-toggleable__content {max-height: 200px;max-width: 100%;overflow: auto;}#sk-container-id-4 input.sk-toggleable__control:checked~label.sk-toggleable__label-arrow:before {content: \"▾\";}#sk-container-id-4 div.sk-estimator input.sk-toggleable__control:checked~label.sk-toggleable__label {background-color: #d4ebff;}#sk-container-id-4 div.sk-label input.sk-toggleable__control:checked~label.sk-toggleable__label {background-color: #d4ebff;}#sk-container-id-4 input.sk-hidden--visually {border: 0;clip: rect(1px 1px 1px 1px);clip: rect(1px, 1px, 1px, 1px);height: 1px;margin: -1px;overflow: hidden;padding: 0;position: absolute;width: 1px;}#sk-container-id-4 div.sk-estimator {font-family: monospace;background-color: #f0f8ff;border: 1px dotted black;border-radius: 0.25em;box-sizing: border-box;margin-bottom: 0.5em;}#sk-container-id-4 div.sk-estimator:hover {background-color: #d4ebff;}#sk-container-id-4 div.sk-parallel-item::after {content: \"\";width: 100%;border-bottom: 1px solid gray;flex-grow: 1;}#sk-container-id-4 div.sk-label:hover label.sk-toggleable__label {background-color: #d4ebff;}#sk-container-id-4 div.sk-serial::before {content: \"\";position: absolute;border-left: 1px solid gray;box-sizing: border-box;top: 0;bottom: 0;left: 50%;z-index: 0;}#sk-container-id-4 div.sk-serial {display: flex;flex-direction: column;align-items: center;background-color: white;padding-right: 0.2em;padding-left: 0.2em;position: relative;}#sk-container-id-4 div.sk-item {position: relative;z-index: 1;}#sk-container-id-4 div.sk-parallel {display: flex;align-items: stretch;justify-content: center;background-color: white;position: relative;}#sk-container-id-4 div.sk-item::before, #sk-container-id-4 div.sk-parallel-item::before {content: \"\";position: absolute;border-left: 1px solid gray;box-sizing: border-box;top: 0;bottom: 0;left: 50%;z-index: -1;}#sk-container-id-4 div.sk-parallel-item {display: flex;flex-direction: column;z-index: 1;position: relative;background-color: white;}#sk-container-id-4 div.sk-parallel-item:first-child::after {align-self: flex-end;width: 50%;}#sk-container-id-4 div.sk-parallel-item:last-child::after {align-self: flex-start;width: 50%;}#sk-container-id-4 div.sk-parallel-item:only-child::after {width: 0;}#sk-container-id-4 div.sk-dashed-wrapped {border: 1px dashed gray;margin: 0 0.4em 0.5em 0.4em;box-sizing: border-box;padding-bottom: 0.4em;background-color: white;}#sk-container-id-4 div.sk-label label {font-family: monospace;font-weight: bold;display: inline-block;line-height: 1.2em;}#sk-container-id-4 div.sk-label-container {text-align: center;}#sk-container-id-4 div.sk-container {/* jupyter's `normalize.less` sets `[hidden] { display: none; }` but bootstrap.min.css set `[hidden] { display: none !important; }` so we also need the `!important` here to be able to override the default hidden behavior on the sphinx rendered scikit-learn.org. See: https://github.com/scikit-learn/scikit-learn/issues/21755 */display: inline-block !important;position: relative;}#sk-container-id-4 div.sk-text-repr-fallback {display: none;}</style><div id=\"sk-container-id-4\" class=\"sk-top-container\"><div class=\"sk-text-repr-fallback\"><pre>RandomForestClassifier(criterion=&#x27;entropy&#x27;, max_depth=11, max_features=&#x27;log2&#x27;,\n",
       "                       n_estimators=500)</pre><b>In a Jupyter environment, please rerun this cell to show the HTML representation or trust the notebook. <br />On GitHub, the HTML representation is unable to render, please try loading this page with nbviewer.org.</b></div><div class=\"sk-container\" hidden><div class=\"sk-item\"><div class=\"sk-estimator sk-toggleable\"><input class=\"sk-toggleable__control sk-hidden--visually\" id=\"sk-estimator-id-6\" type=\"checkbox\" checked><label for=\"sk-estimator-id-6\" class=\"sk-toggleable__label sk-toggleable__label-arrow\">RandomForestClassifier</label><div class=\"sk-toggleable__content\"><pre>RandomForestClassifier(criterion=&#x27;entropy&#x27;, max_depth=11, max_features=&#x27;log2&#x27;,\n",
       "                       n_estimators=500)</pre></div></div></div></div></div>"
      ],
      "text/plain": [
       "RandomForestClassifier(criterion='entropy', max_depth=11, max_features='log2',\n",
       "                       n_estimators=500)"
      ]
     },
     "execution_count": 33,
     "metadata": {},
     "output_type": "execute_result"
    }
   ],
   "source": [
    "best_model_rf_bayesian.fit(X_train_scaled, y_train)"
   ]
  },
  {
   "cell_type": "code",
   "execution_count": 34,
   "id": "9e32677d",
   "metadata": {},
   "outputs": [],
   "source": [
    "y_preds_best_bayesian = best_model_rf_bayesian.predict(X_test_scaled)"
   ]
  },
  {
   "cell_type": "code",
   "execution_count": 35,
   "id": "1ce0a9c8",
   "metadata": {},
   "outputs": [
    {
     "name": "stdout",
     "output_type": "stream",
     "text": [
      "Accuracy of test data using Bayesian Optimization:  0.943\n"
     ]
    }
   ],
   "source": [
    "print(\"Accuracy of test data using Bayesian Optimization: \", round(accuracy_score(y_test, y_preds_best_bayesian), 3))"
   ]
  },
  {
   "cell_type": "code",
   "execution_count": 36,
   "id": "bbf5dd96",
   "metadata": {},
   "outputs": [
    {
     "name": "stdout",
     "output_type": "stream",
     "text": [
      "Classification report for test data - Gridsearch CV: \n",
      "\n",
      "               precision    recall  f1-score   support\n",
      "\n",
      "         0.0       0.96      0.94      0.95       338\n",
      "         1.0       0.92      0.95      0.94       260\n",
      "\n",
      "    accuracy                           0.94       598\n",
      "   macro avg       0.94      0.94      0.94       598\n",
      "weighted avg       0.94      0.94      0.94       598\n",
      "\n"
     ]
    }
   ],
   "source": [
    "print(\"Classification report for test data - Gridsearch CV: \\n\\n\", classification_report(y_test, y_preds_best_bayesian))"
   ]
  },
  {
   "cell_type": "code",
   "execution_count": 37,
   "id": "1b4a69ad",
   "metadata": {},
   "outputs": [
    {
     "data": {
      "text/plain": [
       "<sklearn.metrics._plot.confusion_matrix.ConfusionMatrixDisplay at 0x1683d4d60>"
      ]
     },
     "execution_count": 37,
     "metadata": {},
     "output_type": "execute_result"
    },
    {
     "data": {
      "image/png": "[encoded data removed]",
      "text/plain": [
       "<Figure size 640x480 with 2 Axes>"
      ]
     },
     "metadata": {},
     "output_type": "display_data"
    }
   ],
   "source": [
    "cm_bayesian = confusion_matrix(y_test, y_preds_best_bayesian)\n",
    "\n",
    "ConfusionMatrixDisplay(cm_bayesian, display_labels=['Barren', 'Fertile']).plot(cmap = 'OrRd')"
   ]
  },
  {
   "cell_type": "code",
   "execution_count": null,
   "id": "26311071",
   "metadata": {},
   "outputs": [],
   "source": []
  },
  {
   "cell_type": "markdown",
   "id": "dabd3264",
   "metadata": {},
   "source": [
    "### Plotting the decision boundary"
   ]
  },
  {
   "cell_type": "code",
   "execution_count": 38,
   "id": "5ec713f8",
   "metadata": {},
   "outputs": [],
   "source": [
    "input_features = X_test_scaled.copy()\n",
    "output_feature = y_test.copy()"
   ]
  },
  {
   "cell_type": "code",
   "execution_count": 39,
   "id": "85525f85",
   "metadata": {},
   "outputs": [],
   "source": [
    "pca = PCA(n_components = 2)\n",
    "\n",
    "X_reduced = pca.fit_transform(input_features)"
   ]
  },
  {
   "cell_type": "code",
   "execution_count": 40,
   "id": "30f8e797",
   "metadata": {},
   "outputs": [
    {
     "data": {
      "text/plain": [
       "(598, 2)"
      ]
     },
     "execution_count": 40,
     "metadata": {},
     "output_type": "execute_result"
    }
   ],
   "source": [
    "X_reduced.shape"
   ]
  },
  {
   "cell_type": "code",
   "execution_count": 41,
   "id": "7dcef19e",
   "metadata": {},
   "outputs": [],
   "source": [
    "def make_meshgrid(x, y, h=.02):\n",
    "    x_min, x_max = x.min() - 1, x.max() + 1\n",
    "    y_min, y_max = y.min() - 1, y.max() + 1\n",
    "    xx, yy = np.meshgrid(np.arange(x_min, x_max, h), np.arange(y_min, y_max, h))\n",
    "    return xx, yy"
   ]
  },
  {
   "cell_type": "code",
   "execution_count": 42,
   "id": "5058949b",
   "metadata": {},
   "outputs": [],
   "source": [
    "def plot_contours(ax, clf, xx, yy, **params):\n",
    "    Z = clf.predict(np.c_[xx.ravel(), yy.ravel()])\n",
    "    Z = Z.reshape(xx.shape)\n",
    "    out = ax.contourf(xx, yy, Z, **params)\n",
    "    return out"
   ]
  },
  {
   "cell_type": "code",
   "execution_count": 43,
   "id": "f600e330",
   "metadata": {},
   "outputs": [
    {
     "data": {
      "text/html": [
       "<style>#sk-container-id-5 {color: black;}#sk-container-id-5 pre{padding: 0;}#sk-container-id-5 div.sk-toggleable {background-color: white;}#sk-container-id-5 label.sk-toggleable__label {cursor: pointer;display: block;width: 100%;margin-bottom: 0;padding: 0.3em;box-sizing: border-box;text-align: center;}#sk-container-id-5 label.sk-toggleable__label-arrow:before {content: \"▸\";float: left;margin-right: 0.25em;color: #696969;}#sk-container-id-5 label.sk-toggleable__label-arrow:hover:before {color: black;}#sk-container-id-5 div.sk-estimator:hover label.sk-toggleable__label-arrow:before {color: black;}#sk-container-id-5 div.sk-toggleable__content {max-height: 0;max-width: 0;overflow: hidden;text-align: left;background-color: #f0f8ff;}#sk-container-id-5 div.sk-toggleable__content pre {margin: 0.2em;color: black;border-radius: 0.25em;background-color: #f0f8ff;}#sk-container-id-5 input.sk-toggleable__control:checked~div.sk-toggleable__content {max-height: 200px;max-width: 100%;overflow: auto;}#sk-container-id-5 input.sk-toggleable__control:checked~label.sk-toggleable__label-arrow:before {content: \"▾\";}#sk-container-id-5 div.sk-estimator input.sk-toggleable__control:checked~label.sk-toggleable__label {background-color: #d4ebff;}#sk-container-id-5 div.sk-label input.sk-toggleable__control:checked~label.sk-toggleable__label {background-color: #d4ebff;}#sk-container-id-5 input.sk-hidden--visually {border: 0;clip: rect(1px 1px 1px 1px);clip: rect(1px, 1px, 1px, 1px);height: 1px;margin: -1px;overflow: hidden;padding: 0;position: absolute;width: 1px;}#sk-container-id-5 div.sk-estimator {font-family: monospace;background-color: #f0f8ff;border: 1px dotted black;border-radius: 0.25em;box-sizing: border-box;margin-bottom: 0.5em;}#sk-container-id-5 div.sk-estimator:hover {background-color: #d4ebff;}#sk-container-id-5 div.sk-parallel-item::after {content: \"\";width: 100%;border-bottom: 1px solid gray;flex-grow: 1;}#sk-container-id-5 div.sk-label:hover label.sk-toggleable__label {background-color: #d4ebff;}#sk-container-id-5 div.sk-serial::before {content: \"\";position: absolute;border-left: 1px solid gray;box-sizing: border-box;top: 0;bottom: 0;left: 50%;z-index: 0;}#sk-container-id-5 div.sk-serial {display: flex;flex-direction: column;align-items: center;background-color: white;padding-right: 0.2em;padding-left: 0.2em;position: relative;}#sk-container-id-5 div.sk-item {position: relative;z-index: 1;}#sk-container-id-5 div.sk-parallel {display: flex;align-items: stretch;justify-content: center;background-color: white;position: relative;}#sk-container-id-5 div.sk-item::before, #sk-container-id-5 div.sk-parallel-item::before {content: \"\";position: absolute;border-left: 1px solid gray;box-sizing: border-box;top: 0;bottom: 0;left: 50%;z-index: -1;}#sk-container-id-5 div.sk-parallel-item {display: flex;flex-direction: column;z-index: 1;position: relative;background-color: white;}#sk-container-id-5 div.sk-parallel-item:first-child::after {align-self: flex-end;width: 50%;}#sk-container-id-5 div.sk-parallel-item:last-child::after {align-self: flex-start;width: 50%;}#sk-container-id-5 div.sk-parallel-item:only-child::after {width: 0;}#sk-container-id-5 div.sk-dashed-wrapped {border: 1px dashed gray;margin: 0 0.4em 0.5em 0.4em;box-sizing: border-box;padding-bottom: 0.4em;background-color: white;}#sk-container-id-5 div.sk-label label {font-family: monospace;font-weight: bold;display: inline-block;line-height: 1.2em;}#sk-container-id-5 div.sk-label-container {text-align: center;}#sk-container-id-5 div.sk-container {/* jupyter's `normalize.less` sets `[hidden] { display: none; }` but bootstrap.min.css set `[hidden] { display: none !important; }` so we also need the `!important` here to be able to override the default hidden behavior on the sphinx rendered scikit-learn.org. See: https://github.com/scikit-learn/scikit-learn/issues/21755 */display: inline-block !important;position: relative;}#sk-container-id-5 div.sk-text-repr-fallback {display: none;}</style><div id=\"sk-container-id-5\" class=\"sk-top-container\"><div class=\"sk-text-repr-fallback\"><pre>RandomForestClassifier(criterion=&#x27;entropy&#x27;, max_depth=11, max_features=&#x27;log2&#x27;,\n",
       "                       n_estimators=500)</pre><b>In a Jupyter environment, please rerun this cell to show the HTML representation or trust the notebook. <br />On GitHub, the HTML representation is unable to render, please try loading this page with nbviewer.org.</b></div><div class=\"sk-container\" hidden><div class=\"sk-item\"><div class=\"sk-estimator sk-toggleable\"><input class=\"sk-toggleable__control sk-hidden--visually\" id=\"sk-estimator-id-7\" type=\"checkbox\" checked><label for=\"sk-estimator-id-7\" class=\"sk-toggleable__label sk-toggleable__label-arrow\">RandomForestClassifier</label><div class=\"sk-toggleable__content\"><pre>RandomForestClassifier(criterion=&#x27;entropy&#x27;, max_depth=11, max_features=&#x27;log2&#x27;,\n",
       "                       n_estimators=500)</pre></div></div></div></div></div>"
      ],
      "text/plain": [
       "RandomForestClassifier(criterion='entropy', max_depth=11, max_features='log2',\n",
       "                       n_estimators=500)"
      ]
     },
     "execution_count": 43,
     "metadata": {},
     "output_type": "execute_result"
    }
   ],
   "source": [
    "plot_model = ensemble.RandomForestClassifier(**best_params_bayesian)\n",
    "\n",
    "plot_model.fit(X_reduced, output_feature)"
   ]
  },
  {
   "cell_type": "code",
   "execution_count": 44,
   "id": "46883988",
   "metadata": {},
   "outputs": [
    {
     "data": {
      "image/png": "[encoded data removed]",
      "text/plain": [
       "<Figure size 640x480 with 1 Axes>"
      ]
     },
     "metadata": {},
     "output_type": "display_data"
    }
   ],
   "source": [
    "fig, ax = plt.subplots(facecolor='white')\n",
    "\n",
    "# title for the plots\n",
    "title = ('Decision surface of Tuned Random Forest')\n",
    "\n",
    "# Set-up grid for plotting.\n",
    "X0, X1 = X_reduced[:, 0], X_reduced[:, 1]\n",
    "xx, yy = make_meshgrid(X0, X1)\n",
    "\n",
    "plot_contours(ax, plot_model, xx, yy, cmap=plt.cm.coolwarm, alpha=0.3) # alpha=0.8\n",
    "ax.scatter(X0, X1, c=y_test, edgecolors='k', cmap=plt.cm.coolwarm, s=20)\n",
    "ax.set_ylabel('Principal Component 2')\n",
    "ax.set_xlabel('Principal Component 1')\n",
    "ax.set_xticks(())\n",
    "ax.set_yticks(())\n",
    "ax.set_title('Random Forest - Decison surface')\n",
    "ax.legend(labels=['Barren', 'Fertile'], fontsize=\"x-small\")\n",
    "plt.show()"
   ]
  },
  {
   "cell_type": "markdown",
   "id": "53cdaae6",
   "metadata": {},
   "source": [
    "### Save the Best Performing Model"
   ]
  },
  {
   "cell_type": "code",
   "execution_count": 45,
   "id": "b9cc3c68",
   "metadata": {},
   "outputs": [],
   "source": [
    "import pickle\n",
    "\n",
    "with open('../Best model pickle files/random_forest_best.pkl', 'wb') as f:\n",
    "    pickle.dump(plot_model, f)"
   ]
  },
  {
   "cell_type": "code",
   "execution_count": 46,
   "id": "e696e824",
   "metadata": {},
   "outputs": [],
   "source": [
    "with open('../Best model pickle files/random_forest_best.pkl', 'rb') as f:\n",
    "    clf_loaded = pickle.load(f)"
   ]
  },
  {
   "cell_type": "code",
   "execution_count": 47,
   "id": "0eb447fd",
   "metadata": {},
   "outputs": [
    {
     "data": {
      "text/html": [
       "<style>#sk-container-id-6 {color: black;}#sk-container-id-6 pre{padding: 0;}#sk-container-id-6 div.sk-toggleable {background-color: white;}#sk-container-id-6 label.sk-toggleable__label {cursor: pointer;display: block;width: 100%;margin-bottom: 0;padding: 0.3em;box-sizing: border-box;text-align: center;}#sk-container-id-6 label.sk-toggleable__label-arrow:before {content: \"▸\";float: left;margin-right: 0.25em;color: #696969;}#sk-container-id-6 label.sk-toggleable__label-arrow:hover:before {color: black;}#sk-container-id-6 div.sk-estimator:hover label.sk-toggleable__label-arrow:before {color: black;}#sk-container-id-6 div.sk-toggleable__content {max-height: 0;max-width: 0;overflow: hidden;text-align: left;background-color: #f0f8ff;}#sk-container-id-6 div.sk-toggleable__content pre {margin: 0.2em;color: black;border-radius: 0.25em;background-color: #f0f8ff;}#sk-container-id-6 input.sk-toggleable__control:checked~div.sk-toggleable__content {max-height: 200px;max-width: 100%;overflow: auto;}#sk-container-id-6 input.sk-toggleable__control:checked~label.sk-toggleable__label-arrow:before {content: \"▾\";}#sk-container-id-6 div.sk-estimator input.sk-toggleable__control:checked~label.sk-toggleable__label {background-color: #d4ebff;}#sk-container-id-6 div.sk-label input.sk-toggleable__control:checked~label.sk-toggleable__label {background-color: #d4ebff;}#sk-container-id-6 input.sk-hidden--visually {border: 0;clip: rect(1px 1px 1px 1px);clip: rect(1px, 1px, 1px, 1px);height: 1px;margin: -1px;overflow: hidden;padding: 0;position: absolute;width: 1px;}#sk-container-id-6 div.sk-estimator {font-family: monospace;background-color: #f0f8ff;border: 1px dotted black;border-radius: 0.25em;box-sizing: border-box;margin-bottom: 0.5em;}#sk-container-id-6 div.sk-estimator:hover {background-color: #d4ebff;}#sk-container-id-6 div.sk-parallel-item::after {content: \"\";width: 100%;border-bottom: 1px solid gray;flex-grow: 1;}#sk-container-id-6 div.sk-label:hover label.sk-toggleable__label {background-color: #d4ebff;}#sk-container-id-6 div.sk-serial::before {content: \"\";position: absolute;border-left: 1px solid gray;box-sizing: border-box;top: 0;bottom: 0;left: 50%;z-index: 0;}#sk-container-id-6 div.sk-serial {display: flex;flex-direction: column;align-items: center;background-color: white;padding-right: 0.2em;padding-left: 0.2em;position: relative;}#sk-container-id-6 div.sk-item {position: relative;z-index: 1;}#sk-container-id-6 div.sk-parallel {display: flex;align-items: stretch;justify-content: center;background-color: white;position: relative;}#sk-container-id-6 div.sk-item::before, #sk-container-id-6 div.sk-parallel-item::before {content: \"\";position: absolute;border-left: 1px solid gray;box-sizing: border-box;top: 0;bottom: 0;left: 50%;z-index: -1;}#sk-container-id-6 div.sk-parallel-item {display: flex;flex-direction: column;z-index: 1;position: relative;background-color: white;}#sk-container-id-6 div.sk-parallel-item:first-child::after {align-self: flex-end;width: 50%;}#sk-container-id-6 div.sk-parallel-item:last-child::after {align-self: flex-start;width: 50%;}#sk-container-id-6 div.sk-parallel-item:only-child::after {width: 0;}#sk-container-id-6 div.sk-dashed-wrapped {border: 1px dashed gray;margin: 0 0.4em 0.5em 0.4em;box-sizing: border-box;padding-bottom: 0.4em;background-color: white;}#sk-container-id-6 div.sk-label label {font-family: monospace;font-weight: bold;display: inline-block;line-height: 1.2em;}#sk-container-id-6 div.sk-label-container {text-align: center;}#sk-container-id-6 div.sk-container {/* jupyter's `normalize.less` sets `[hidden] { display: none; }` but bootstrap.min.css set `[hidden] { display: none !important; }` so we also need the `!important` here to be able to override the default hidden behavior on the sphinx rendered scikit-learn.org. See: https://github.com/scikit-learn/scikit-learn/issues/21755 */display: inline-block !important;position: relative;}#sk-container-id-6 div.sk-text-repr-fallback {display: none;}</style><div id=\"sk-container-id-6\" class=\"sk-top-container\"><div class=\"sk-text-repr-fallback\"><pre>RandomForestClassifier(criterion=&#x27;entropy&#x27;, max_depth=11, max_features=&#x27;log2&#x27;,\n",
       "                       n_estimators=500)</pre><b>In a Jupyter environment, please rerun this cell to show the HTML representation or trust the notebook. <br />On GitHub, the HTML representation is unable to render, please try loading this page with nbviewer.org.</b></div><div class=\"sk-container\" hidden><div class=\"sk-item\"><div class=\"sk-estimator sk-toggleable\"><input class=\"sk-toggleable__control sk-hidden--visually\" id=\"sk-estimator-id-8\" type=\"checkbox\" checked><label for=\"sk-estimator-id-8\" class=\"sk-toggleable__label sk-toggleable__label-arrow\">RandomForestClassifier</label><div class=\"sk-toggleable__content\"><pre>RandomForestClassifier(criterion=&#x27;entropy&#x27;, max_depth=11, max_features=&#x27;log2&#x27;,\n",
       "                       n_estimators=500)</pre></div></div></div></div></div>"
      ],
      "text/plain": [
       "RandomForestClassifier(criterion='entropy', max_depth=11, max_features='log2',\n",
       "                       n_estimators=500)"
      ]
     },
     "execution_count": 47,
     "metadata": {},
     "output_type": "execute_result"
    },
    {
     "name": "stdout",
     "output_type": "stream",
     "text": [
      "[CV] END criterion=gini, max_depth=3, max_features=sqrt, n_estimators=100; total time=   0.5s\n",
      "[CV] END criterion=gini, max_depth=3, max_features=sqrt, n_estimators=200; total time=   0.9s\n",
      "[CV] END criterion=gini, max_depth=3, max_features=sqrt, n_estimators=300; total time=   1.3s\n",
      "[CV] END criterion=gini, max_depth=3, max_features=sqrt, n_estimators=400; total time=   1.7s\n",
      "[CV] END criterion=gini, max_depth=3, max_features=sqrt, n_estimators=400; total time=   1.7s\n",
      "[CV] END criterion=gini, max_depth=3, max_features=log2, n_estimators=200; total time=   0.8s\n",
      "[CV] END criterion=gini, max_depth=3, max_features=log2, n_estimators=300; total time=   1.3s\n",
      "[CV] END criterion=gini, max_depth=3, max_features=log2, n_estimators=400; total time=   1.7s\n",
      "[CV] END criterion=gini, max_depth=3, max_features=log2, n_estimators=400; total time=   1.6s\n",
      "[CV] END criterion=gini, max_depth=5, max_features=sqrt, n_estimators=200; total time=   1.1s\n",
      "[CV] END criterion=gini, max_depth=5, max_features=sqrt, n_estimators=300; total time=   1.7s\n",
      "[CV] END criterion=gini, max_depth=5, max_features=sqrt, n_estimators=400; total time=   2.2s\n",
      "[CV] END criterion=gini, max_depth=5, max_features=sqrt, n_estimators=400; total time=   2.2s\n",
      "[CV] END criterion=gini, max_depth=5, max_features=log2, n_estimators=200; total time=   1.1s\n",
      "[CV] END criterion=gini, max_depth=5, max_features=log2, n_estimators=300; total time=   1.7s\n",
      "[CV] END criterion=gini, max_depth=5, max_features=log2, n_estimators=400; total time=   2.2s\n",
      "[CV] END criterion=gini, max_depth=7, max_features=sqrt, n_estimators=100; total time=   0.7s\n",
      "[CV] END criterion=gini, max_depth=7, max_features=sqrt, n_estimators=100; total time=   0.7s\n",
      "[CV] END criterion=gini, max_depth=7, max_features=sqrt, n_estimators=200; total time=   1.4s\n",
      "[CV] END criterion=gini, max_depth=7, max_features=sqrt, n_estimators=200; total time=   1.3s\n",
      "[CV] END criterion=gini, max_depth=7, max_features=sqrt, n_estimators=300; total time=   2.4s\n",
      "[CV] END criterion=gini, max_depth=7, max_features=sqrt, n_estimators=400; total time=   2.9s\n",
      "[CV] END criterion=gini, max_depth=7, max_features=log2, n_estimators=100; total time=   0.7s\n",
      "[CV] END criterion=gini, max_depth=7, max_features=log2, n_estimators=100; total time=   0.7s\n",
      "[CV] END criterion=gini, max_depth=7, max_features=log2, n_estimators=200; total time=   1.3s\n",
      "[CV] END criterion=gini, max_depth=7, max_features=log2, n_estimators=300; total time=   2.0s\n",
      "[CV] END criterion=gini, max_depth=7, max_features=log2, n_estimators=300; total time=   2.0s\n",
      "[CV] END criterion=gini, max_depth=7, max_features=log2, n_estimators=400; total time=   2.6s\n",
      "[CV] END criterion=gini, max_depth=9, max_features=sqrt, n_estimators=200; total time=   1.4s\n",
      "[CV] END criterion=gini, max_depth=9, max_features=sqrt, n_estimators=200; total time=   1.5s\n",
      "[CV] END criterion=gini, max_depth=9, max_features=sqrt, n_estimators=300; total time=   2.3s\n",
      "[CV] END criterion=gini, max_depth=9, max_features=sqrt, n_estimators=400; total time=   3.0s\n",
      "[CV] END criterion=gini, max_depth=9, max_features=log2, n_estimators=100; total time=   0.7s\n",
      "[CV] END criterion=gini, max_depth=9, max_features=log2, n_estimators=100; total time=   0.7s\n",
      "[CV] END criterion=gini, max_depth=9, max_features=log2, n_estimators=200; total time=   1.5s\n",
      "[CV] END criterion=gini, max_depth=9, max_features=log2, n_estimators=300; total time=   2.2s\n",
      "[CV] END criterion=gini, max_depth=9, max_features=log2, n_estimators=300; total time=   2.2s\n",
      "[CV] END criterion=gini, max_depth=9, max_features=log2, n_estimators=400; total time=   3.0s\n",
      "[CV] END criterion=gini, max_depth=11, max_features=sqrt, n_estimators=100; total time=   0.7s\n",
      "[CV] END criterion=gini, max_depth=11, max_features=sqrt, n_estimators=200; total time=   1.5s\n",
      "[CV] END criterion=gini, max_depth=11, max_features=sqrt, n_estimators=300; total time=   2.2s\n",
      "[CV] END criterion=gini, max_depth=11, max_features=sqrt, n_estimators=400; total time=   3.0s\n",
      "[CV] END criterion=gini, max_depth=11, max_features=sqrt, n_estimators=400; total time=   3.0s\n",
      "[CV] END criterion=gini, max_depth=11, max_features=log2, n_estimators=200; total time=   1.6s\n",
      "[CV] END criterion=gini, max_depth=11, max_features=log2, n_estimators=300; total time=   2.4s\n",
      "[CV] END criterion=gini, max_depth=11, max_features=log2, n_estimators=400; total time=   3.1s\n",
      "[CV] END criterion=gini, max_depth=13, max_features=sqrt, n_estimators=100; total time=   0.8s\n",
      "[CV] END criterion=gini, max_depth=13, max_features=sqrt, n_estimators=100; total time=   0.8s\n",
      "[CV] END criterion=gini, max_depth=13, max_features=sqrt, n_estimators=200; total time=   1.5s\n",
      "[CV] END criterion=gini, max_depth=13, max_features=sqrt, n_estimators=200; total time=   1.5s\n",
      "[CV] END criterion=gini, max_depth=13, max_features=sqrt, n_estimators=300; total time=   2.3s\n",
      "[CV] END criterion=gini, max_depth=13, max_features=sqrt, n_estimators=400; total time=   3.9s\n",
      "[CV] END criterion=gini, max_depth=13, max_features=log2, n_estimators=100; total time=   1.0s\n",
      "[CV] END criterion=gini, max_depth=13, max_features=log2, n_estimators=100; total time=   0.8s\n",
      "[CV] END criterion=gini, max_depth=13, max_features=log2, n_estimators=200; total time=   1.7s\n",
      "[CV] END criterion=gini, max_depth=13, max_features=log2, n_estimators=200; total time=   1.7s\n",
      "[CV] END criterion=gini, max_depth=13, max_features=log2, n_estimators=300; total time=   2.5s\n",
      "[CV] END criterion=gini, max_depth=13, max_features=log2, n_estimators=400; total time=   3.7s\n",
      "[CV] END criterion=entropy, max_depth=3, max_features=sqrt, n_estimators=100; total time=   0.5s\n",
      "[CV] END criterion=entropy, max_depth=3, max_features=sqrt, n_estimators=100; total time=   0.5s\n",
      "[CV] END criterion=entropy, max_depth=3, max_features=sqrt, n_estimators=200; total time=   1.0s\n",
      "[CV] END criterion=entropy, max_depth=3, max_features=sqrt, n_estimators=300; total time=   1.5s\n",
      "[CV] END criterion=entropy, max_depth=3, max_features=sqrt, n_estimators=400; total time=   2.0s\n",
      "[CV] END criterion=entropy, max_depth=3, max_features=sqrt, n_estimators=400; total time=   2.0s\n",
      "[CV] END criterion=entropy, max_depth=3, max_features=log2, n_estimators=200; total time=   1.0s\n",
      "[CV] END criterion=entropy, max_depth=3, max_features=log2, n_estimators=300; total time=   2.1s\n",
      "[CV] END criterion=entropy, max_depth=3, max_features=log2, n_estimators=400; total time=   2.1s\n",
      "[CV] END criterion=entropy, max_depth=5, max_features=sqrt, n_estimators=100; total time=   0.8s\n",
      "[CV] END criterion=entropy, max_depth=5, max_features=sqrt, n_estimators=100; total time=   0.7s\n",
      "[CV] END criterion=entropy, max_depth=5, max_features=sqrt, n_estimators=200; total time=   1.4s\n",
      "[CV] END criterion=entropy, max_depth=5, max_features=sqrt, n_estimators=200; total time=   1.4s\n",
      "[CV] END criterion=entropy, max_depth=5, max_features=sqrt, n_estimators=300; total time=   2.2s\n",
      "[CV] END criterion=entropy, max_depth=5, max_features=sqrt, n_estimators=400; total time=   3.2s\n",
      "[CV] END criterion=entropy, max_depth=5, max_features=log2, n_estimators=100; total time=   0.7s\n",
      "[CV] END criterion=entropy, max_depth=5, max_features=log2, n_estimators=100; total time=   0.8s\n",
      "[CV] END criterion=entropy, max_depth=5, max_features=log2, n_estimators=200; total time=   1.6s\n",
      "[CV] END criterion=entropy, max_depth=5, max_features=log2, n_estimators=300; total time=   2.2s\n",
      "[CV] END criterion=entropy, max_depth=5, max_features=log2, n_estimators=300; total time=   2.1s\n",
      "[CV] END criterion=entropy, max_depth=5, max_features=log2, n_estimators=400; total time=   2.7s\n",
      "[CV] END criterion=entropy, max_depth=7, max_features=sqrt, n_estimators=100; total time=   0.8s\n",
      "[CV] END criterion=entropy, max_depth=7, max_features=sqrt, n_estimators=200; total time=   1.6s\n",
      "[CV] END criterion=entropy, max_depth=7, max_features=sqrt, n_estimators=300; total time=   2.4s\n",
      "[CV] END criterion=entropy, max_depth=7, max_features=sqrt, n_estimators=400; total time=   3.2s\n",
      "[CV] END criterion=entropy, max_depth=7, max_features=log2, n_estimators=100; total time=   0.8s\n",
      "[CV] END criterion=entropy, max_depth=7, max_features=log2, n_estimators=100; total time=   0.8s\n",
      "[CV] END criterion=entropy, max_depth=7, max_features=log2, n_estimators=100; total time=   0.8s\n",
      "[CV] END criterion=entropy, max_depth=7, max_features=log2, n_estimators=200; total time=   1.8s\n",
      "[CV] END criterion=entropy, max_depth=7, max_features=log2, n_estimators=300; total time=   2.6s\n",
      "[CV] END criterion=entropy, max_depth=7, max_features=log2, n_estimators=300; total time=   2.6s\n",
      "[CV] END criterion=entropy, max_depth=7, max_features=log2, n_estimators=400; total time=   3.8s\n",
      "[CV] END criterion=entropy, max_depth=9, max_features=sqrt, n_estimators=100; total time=   1.0s\n",
      "[CV] END criterion=entropy, max_depth=9, max_features=sqrt, n_estimators=200; total time=   1.9s\n",
      "[CV] END criterion=entropy, max_depth=9, max_features=sqrt, n_estimators=300; total time=   2.7s\n",
      "[CV] END criterion=entropy, max_depth=9, max_features=sqrt, n_estimators=400; total time=   3.7s\n",
      "[CV] END criterion=entropy, max_depth=9, max_features=sqrt, n_estimators=400; total time=   3.6s\n",
      "[CV] END criterion=entropy, max_depth=9, max_features=log2, n_estimators=200; total time=   2.3s\n",
      "[CV] END criterion=entropy, max_depth=9, max_features=log2, n_estimators=300; total time=   3.3s\n",
      "[CV] END criterion=entropy, max_depth=9, max_features=log2, n_estimators=400; total time=   4.8s\n",
      "[CV] END criterion=entropy, max_depth=11, max_features=sqrt, n_estimators=100; total time=   1.2s\n",
      "[CV] END criterion=entropy, max_depth=11, max_features=sqrt, n_estimators=100; total time=   1.1s\n",
      "[CV] END criterion=entropy, max_depth=11, max_features=sqrt, n_estimators=100; total time=   1.3s\n",
      "[CV] END criterion=entropy, max_depth=11, max_features=sqrt, n_estimators=200; total time=   2.3s\n",
      "[CV] END criterion=entropy, max_depth=11, max_features=sqrt, n_estimators=300; total time=   2.8s\n",
      "[CV] END criterion=entropy, max_depth=11, max_features=sqrt, n_estimators=300; total time=   2.7s\n",
      "[CV] END criterion=entropy, max_depth=11, max_features=sqrt, n_estimators=400; total time=   3.7s\n",
      "[CV] END criterion=entropy, max_depth=11, max_features=log2, n_estimators=200; total time=   2.1s\n",
      "[CV] END criterion=entropy, max_depth=11, max_features=log2, n_estimators=200; total time=   1.8s\n",
      "[CV] END criterion=entropy, max_depth=11, max_features=log2, n_estimators=300; total time=   2.7s\n",
      "[CV] END criterion=entropy, max_depth=11, max_features=log2, n_estimators=400; total time=   3.6s\n",
      "[CV] END criterion=entropy, max_depth=13, max_features=sqrt, n_estimators=100; total time=   0.9s\n",
      "[CV] END criterion=entropy, max_depth=13, max_features=sqrt, n_estimators=100; total time=   0.9s\n",
      "[CV] END criterion=entropy, max_depth=13, max_features=sqrt, n_estimators=200; total time=   1.8s\n",
      "[CV] END criterion=entropy, max_depth=13, max_features=sqrt, n_estimators=300; total time=   2.7s\n",
      "[CV] END criterion=entropy, max_depth=13, max_features=sqrt, n_estimators=300; total time=   2.7s\n",
      "[CV] END criterion=entropy, max_depth=13, max_features=sqrt, n_estimators=400; total time=   3.6s\n",
      "[CV] END criterion=entropy, max_depth=13, max_features=log2, n_estimators=200; total time=   1.8s\n",
      "[CV] END criterion=entropy, max_depth=13, max_features=log2, n_estimators=200; total time=   1.8s\n",
      "[CV] END criterion=entropy, max_depth=13, max_features=log2, n_estimators=300; total time=   2.7s\n",
      "[CV] END criterion=entropy, max_depth=13, max_features=log2, n_estimators=400; total time=   3.6s\n"
     ]
    },
    {
     "name": "stdout",
     "output_type": "stream",
     "text": [
      "[CV] END criterion=gini, max_depth=3, max_features=sqrt, n_estimators=100; total time=   0.5s\n",
      "[CV] END criterion=gini, max_depth=3, max_features=sqrt, n_estimators=200; total time=   0.9s\n",
      "[CV] END criterion=gini, max_depth=3, max_features=sqrt, n_estimators=300; total time=   1.3s\n",
      "[CV] END criterion=gini, max_depth=3, max_features=sqrt, n_estimators=400; total time=   1.7s\n",
      "[CV] END criterion=gini, max_depth=3, max_features=sqrt, n_estimators=400; total time=   1.7s\n",
      "[CV] END criterion=gini, max_depth=3, max_features=log2, n_estimators=200; total time=   0.8s\n",
      "[CV] END criterion=gini, max_depth=3, max_features=log2, n_estimators=300; total time=   1.2s\n",
      "[CV] END criterion=gini, max_depth=3, max_features=log2, n_estimators=400; total time=   1.7s\n",
      "[CV] END criterion=gini, max_depth=5, max_features=sqrt, n_estimators=100; total time=   0.6s\n",
      "[CV] END criterion=gini, max_depth=5, max_features=sqrt, n_estimators=100; total time=   0.6s\n",
      "[CV] END criterion=gini, max_depth=5, max_features=sqrt, n_estimators=100; total time=   0.6s\n",
      "[CV] END criterion=gini, max_depth=5, max_features=sqrt, n_estimators=200; total time=   1.1s\n",
      "[CV] END criterion=gini, max_depth=5, max_features=sqrt, n_estimators=300; total time=   1.7s\n",
      "[CV] END criterion=gini, max_depth=5, max_features=sqrt, n_estimators=400; total time=   2.2s\n",
      "[CV] END criterion=gini, max_depth=5, max_features=log2, n_estimators=100; total time=   0.6s\n",
      "[CV] END criterion=gini, max_depth=5, max_features=log2, n_estimators=100; total time=   0.6s\n",
      "[CV] END criterion=gini, max_depth=5, max_features=log2, n_estimators=100; total time=   0.6s\n",
      "[CV] END criterion=gini, max_depth=5, max_features=log2, n_estimators=200; total time=   1.1s\n",
      "[CV] END criterion=gini, max_depth=5, max_features=log2, n_estimators=300; total time=   1.7s\n",
      "[CV] END criterion=gini, max_depth=5, max_features=log2, n_estimators=300; total time=   1.7s\n",
      "[CV] END criterion=gini, max_depth=5, max_features=log2, n_estimators=400; total time=   2.2s\n",
      "[CV] END criterion=gini, max_depth=7, max_features=sqrt, n_estimators=100; total time=   0.7s\n",
      "[CV] END criterion=gini, max_depth=7, max_features=sqrt, n_estimators=200; total time=   1.3s\n",
      "[CV] END criterion=gini, max_depth=7, max_features=sqrt, n_estimators=300; total time=   2.0s\n",
      "[CV] END criterion=gini, max_depth=7, max_features=sqrt, n_estimators=400; total time=   3.2s\n",
      "[CV] END criterion=gini, max_depth=7, max_features=log2, n_estimators=100; total time=   0.7s\n",
      "[CV] END criterion=gini, max_depth=7, max_features=log2, n_estimators=100; total time=   0.7s\n",
      "[CV] END criterion=gini, max_depth=7, max_features=log2, n_estimators=100; total time=   0.7s\n",
      "[CV] END criterion=gini, max_depth=7, max_features=log2, n_estimators=200; total time=   1.3s\n",
      "[CV] END criterion=gini, max_depth=7, max_features=log2, n_estimators=300; total time=   2.0s\n",
      "[CV] END criterion=gini, max_depth=7, max_features=log2, n_estimators=300; total time=   2.0s\n",
      "[CV] END criterion=gini, max_depth=7, max_features=log2, n_estimators=400; total time=   2.7s\n",
      "[CV] END criterion=gini, max_depth=9, max_features=sqrt, n_estimators=100; total time=   0.7s\n",
      "[CV] END criterion=gini, max_depth=9, max_features=sqrt, n_estimators=200; total time=   1.4s\n",
      "[CV] END criterion=gini, max_depth=9, max_features=sqrt, n_estimators=300; total time=   2.2s\n",
      "[CV] END criterion=gini, max_depth=9, max_features=sqrt, n_estimators=300; total time=   2.3s\n",
      "[CV] END criterion=gini, max_depth=9, max_features=sqrt, n_estimators=400; total time=   2.9s\n",
      "[CV] END criterion=gini, max_depth=9, max_features=log2, n_estimators=200; total time=   1.5s\n",
      "[CV] END criterion=gini, max_depth=9, max_features=log2, n_estimators=200; total time=   1.5s\n",
      "[CV] END criterion=gini, max_depth=9, max_features=log2, n_estimators=300; total time=   2.2s\n",
      "[CV] END criterion=gini, max_depth=9, max_features=log2, n_estimators=400; total time=   3.2s\n",
      "[CV] END criterion=gini, max_depth=11, max_features=sqrt, n_estimators=100; total time=   0.7s\n",
      "[CV] END criterion=gini, max_depth=11, max_features=sqrt, n_estimators=100; total time=   0.7s\n",
      "[CV] END criterion=gini, max_depth=11, max_features=sqrt, n_estimators=200; total time=   1.5s\n",
      "[CV] END criterion=gini, max_depth=11, max_features=sqrt, n_estimators=300; total time=   2.2s\n",
      "[CV] END criterion=gini, max_depth=11, max_features=sqrt, n_estimators=300; total time=   2.3s\n",
      "[CV] END criterion=gini, max_depth=11, max_features=sqrt, n_estimators=400; total time=   3.0s\n",
      "[CV] END criterion=gini, max_depth=11, max_features=log2, n_estimators=200; total time=   1.6s\n",
      "[CV] END criterion=gini, max_depth=11, max_features=log2, n_estimators=200; total time=   1.6s\n",
      "[CV] END criterion=gini, max_depth=11, max_features=log2, n_estimators=300; total time=   2.3s\n",
      "[CV] END criterion=gini, max_depth=11, max_features=log2, n_estimators=400; total time=   3.1s\n",
      "[CV] END criterion=gini, max_depth=13, max_features=sqrt, n_estimators=100; total time=   0.8s\n",
      "[CV] END criterion=gini, max_depth=13, max_features=sqrt, n_estimators=100; total time=   0.8s\n",
      "[CV] END criterion=gini, max_depth=13, max_features=sqrt, n_estimators=200; total time=   1.5s\n",
      "[CV] END criterion=gini, max_depth=13, max_features=sqrt, n_estimators=300; total time=   2.3s\n",
      "[CV] END criterion=gini, max_depth=13, max_features=sqrt, n_estimators=300; total time=   2.5s\n",
      "[CV] END criterion=gini, max_depth=13, max_features=sqrt, n_estimators=400; total time=   3.9s\n",
      "[CV] END criterion=gini, max_depth=13, max_features=log2, n_estimators=200; total time=   1.7s\n",
      "[CV] END criterion=gini, max_depth=13, max_features=log2, n_estimators=300; total time=   2.6s\n",
      "[CV] END criterion=gini, max_depth=13, max_features=log2, n_estimators=300; total time=   2.4s\n",
      "[CV] END criterion=gini, max_depth=13, max_features=log2, n_estimators=400; total time=   3.7s\n",
      "[CV] END criterion=entropy, max_depth=3, max_features=sqrt, n_estimators=200; total time=   1.0s\n",
      "[CV] END criterion=entropy, max_depth=3, max_features=sqrt, n_estimators=200; total time=   1.0s\n",
      "[CV] END criterion=entropy, max_depth=3, max_features=sqrt, n_estimators=300; total time=   1.5s\n",
      "[CV] END criterion=entropy, max_depth=3, max_features=sqrt, n_estimators=400; total time=   2.0s\n",
      "[CV] END criterion=entropy, max_depth=3, max_features=log2, n_estimators=100; total time=   0.5s\n",
      "[CV] END criterion=entropy, max_depth=3, max_features=log2, n_estimators=100; total time=   0.5s\n",
      "[CV] END criterion=entropy, max_depth=3, max_features=log2, n_estimators=200; total time=   1.0s\n",
      "[CV] END criterion=entropy, max_depth=3, max_features=log2, n_estimators=300; total time=   2.0s\n",
      "[CV] END criterion=entropy, max_depth=3, max_features=log2, n_estimators=400; total time=   2.1s\n",
      "[CV] END criterion=entropy, max_depth=3, max_features=log2, n_estimators=400; total time=   2.1s\n",
      "[CV] END criterion=entropy, max_depth=5, max_features=sqrt, n_estimators=200; total time=   1.4s\n",
      "[CV] END criterion=entropy, max_depth=5, max_features=sqrt, n_estimators=300; total time=   2.2s\n",
      "[CV] END criterion=entropy, max_depth=5, max_features=sqrt, n_estimators=300; total time=   2.4s\n",
      "[CV] END criterion=entropy, max_depth=5, max_features=sqrt, n_estimators=400; total time=   2.9s\n",
      "[CV] END criterion=entropy, max_depth=5, max_features=log2, n_estimators=200; total time=   1.6s\n",
      "[CV] END criterion=entropy, max_depth=5, max_features=log2, n_estimators=200; total time=   1.5s\n",
      "[CV] END criterion=entropy, max_depth=5, max_features=log2, n_estimators=300; total time=   2.1s\n",
      "[CV] END criterion=entropy, max_depth=5, max_features=log2, n_estimators=400; total time=   2.7s\n",
      "[CV] END criterion=entropy, max_depth=7, max_features=sqrt, n_estimators=100; total time=   0.8s\n",
      "[CV] END criterion=entropy, max_depth=7, max_features=sqrt, n_estimators=100; total time=   0.8s\n",
      "[CV] END criterion=entropy, max_depth=7, max_features=sqrt, n_estimators=200; total time=   1.6s\n",
      "[CV] END criterion=entropy, max_depth=7, max_features=sqrt, n_estimators=300; total time=   2.3s\n",
      "[CV] END criterion=entropy, max_depth=7, max_features=sqrt, n_estimators=300; total time=   2.4s\n",
      "[CV] END criterion=entropy, max_depth=7, max_features=sqrt, n_estimators=400; total time=   3.2s\n",
      "[CV] END criterion=entropy, max_depth=7, max_features=log2, n_estimators=200; total time=   1.9s\n",
      "[CV] END criterion=entropy, max_depth=7, max_features=log2, n_estimators=200; total time=   1.6s\n",
      "[CV] END criterion=entropy, max_depth=7, max_features=log2, n_estimators=300; total time=   2.6s\n",
      "[CV] END criterion=entropy, max_depth=7, max_features=log2, n_estimators=400; total time=   3.6s\n",
      "[CV] END criterion=entropy, max_depth=9, max_features=sqrt, n_estimators=100; total time=   0.9s\n",
      "[CV] END criterion=entropy, max_depth=9, max_features=sqrt, n_estimators=100; total time=   1.0s\n",
      "[CV] END criterion=entropy, max_depth=9, max_features=sqrt, n_estimators=200; total time=   1.9s\n",
      "[CV] END criterion=entropy, max_depth=9, max_features=sqrt, n_estimators=300; total time=   2.7s\n",
      "[CV] END criterion=entropy, max_depth=9, max_features=sqrt, n_estimators=300; total time=   2.8s\n",
      "[CV] END criterion=entropy, max_depth=9, max_features=sqrt, n_estimators=400; total time=   3.6s\n",
      "[CV] END criterion=entropy, max_depth=9, max_features=log2, n_estimators=200; total time=   1.9s\n",
      "[CV] END criterion=entropy, max_depth=9, max_features=log2, n_estimators=200; total time=   2.3s\n",
      "[CV] END criterion=entropy, max_depth=9, max_features=log2, n_estimators=300; total time=   3.4s\n",
      "[CV] END criterion=entropy, max_depth=9, max_features=log2, n_estimators=400; total time=   4.8s\n",
      "[CV] END criterion=entropy, max_depth=11, max_features=sqrt, n_estimators=100; total time=   1.0s\n",
      "[CV] END criterion=entropy, max_depth=11, max_features=sqrt, n_estimators=100; total time=   1.3s\n",
      "[CV] END criterion=entropy, max_depth=11, max_features=sqrt, n_estimators=200; total time=   2.3s\n",
      "[CV] END criterion=entropy, max_depth=11, max_features=sqrt, n_estimators=300; total time=   2.8s\n",
      "[CV] END criterion=entropy, max_depth=11, max_features=sqrt, n_estimators=300; total time=   2.7s\n",
      "[CV] END criterion=entropy, max_depth=11, max_features=sqrt, n_estimators=400; total time=   3.7s\n",
      "[CV] END criterion=entropy, max_depth=11, max_features=log2, n_estimators=200; total time=   2.1s\n",
      "[CV] END criterion=entropy, max_depth=11, max_features=log2, n_estimators=200; total time=   1.9s\n",
      "[CV] END criterion=entropy, max_depth=11, max_features=log2, n_estimators=300; total time=   2.7s\n",
      "[CV] END criterion=entropy, max_depth=11, max_features=log2, n_estimators=400; total time=   3.5s\n",
      "[CV] END criterion=entropy, max_depth=13, max_features=sqrt, n_estimators=100; total time=   0.9s\n",
      "[CV] END criterion=entropy, max_depth=13, max_features=sqrt, n_estimators=100; total time=   0.9s\n",
      "[CV] END criterion=entropy, max_depth=13, max_features=sqrt, n_estimators=200; total time=   1.8s\n",
      "[CV] END criterion=entropy, max_depth=13, max_features=sqrt, n_estimators=300; total time=   2.7s\n",
      "[CV] END criterion=entropy, max_depth=13, max_features=sqrt, n_estimators=300; total time=   2.7s\n",
      "[CV] END criterion=entropy, max_depth=13, max_features=sqrt, n_estimators=400; total time=   3.6s\n",
      "[CV] END criterion=entropy, max_depth=13, max_features=log2, n_estimators=200; total time=   1.8s\n",
      "[CV] END criterion=entropy, max_depth=13, max_features=log2, n_estimators=200; total time=   1.8s\n",
      "[CV] END criterion=entropy, max_depth=13, max_features=log2, n_estimators=300; total time=   2.7s\n",
      "[CV] END criterion=entropy, max_depth=13, max_features=log2, n_estimators=400; total time=   3.5s\n"
     ]
    },
    {
     "name": "stdout",
     "output_type": "stream",
     "text": [
      "[CV] END criterion=gini, max_depth=3, max_features=sqrt, n_estimators=100; total time=   0.5s\n",
      "[CV] END criterion=gini, max_depth=3, max_features=sqrt, n_estimators=100; total time=   0.5s\n",
      "[CV] END criterion=gini, max_depth=3, max_features=sqrt, n_estimators=200; total time=   0.9s\n",
      "[CV] END criterion=gini, max_depth=3, max_features=sqrt, n_estimators=300; total time=   1.3s\n",
      "[CV] END criterion=gini, max_depth=3, max_features=sqrt, n_estimators=400; total time=   1.7s\n",
      "[CV] END criterion=gini, max_depth=3, max_features=log2, n_estimators=100; total time=   0.4s\n",
      "[CV] END criterion=gini, max_depth=3, max_features=log2, n_estimators=100; total time=   0.4s\n",
      "[CV] END criterion=gini, max_depth=3, max_features=log2, n_estimators=100; total time=   0.4s\n",
      "[CV] END criterion=gini, max_depth=3, max_features=log2, n_estimators=200; total time=   0.8s\n",
      "[CV] END criterion=gini, max_depth=3, max_features=log2, n_estimators=300; total time=   1.3s\n",
      "[CV] END criterion=gini, max_depth=3, max_features=log2, n_estimators=300; total time=   1.3s\n",
      "[CV] END criterion=gini, max_depth=3, max_features=log2, n_estimators=400; total time=   1.7s\n",
      "[CV] END criterion=gini, max_depth=5, max_features=sqrt, n_estimators=200; total time=   1.1s\n",
      "[CV] END criterion=gini, max_depth=5, max_features=sqrt, n_estimators=200; total time=   1.1s\n",
      "[CV] END criterion=gini, max_depth=5, max_features=sqrt, n_estimators=300; total time=   1.7s\n",
      "[CV] END criterion=gini, max_depth=5, max_features=sqrt, n_estimators=400; total time=   2.2s\n",
      "[CV] END criterion=gini, max_depth=5, max_features=log2, n_estimators=100; total time=   0.6s\n",
      "[CV] END criterion=gini, max_depth=5, max_features=log2, n_estimators=100; total time=   0.6s\n",
      "[CV] END criterion=gini, max_depth=5, max_features=log2, n_estimators=200; total time=   1.1s\n",
      "[CV] END criterion=gini, max_depth=5, max_features=log2, n_estimators=300; total time=   1.7s\n",
      "[CV] END criterion=gini, max_depth=5, max_features=log2, n_estimators=400; total time=   2.2s\n",
      "[CV] END criterion=gini, max_depth=5, max_features=log2, n_estimators=400; total time=   2.2s\n",
      "[CV] END criterion=gini, max_depth=7, max_features=sqrt, n_estimators=200; total time=   1.4s\n",
      "[CV] END criterion=gini, max_depth=7, max_features=sqrt, n_estimators=300; total time=   2.0s\n",
      "[CV] END criterion=gini, max_depth=7, max_features=sqrt, n_estimators=300; total time=   2.5s\n",
      "[CV] END criterion=gini, max_depth=7, max_features=sqrt, n_estimators=400; total time=   2.7s\n",
      "[CV] END criterion=gini, max_depth=7, max_features=log2, n_estimators=200; total time=   1.3s\n",
      "[CV] END criterion=gini, max_depth=7, max_features=log2, n_estimators=200; total time=   1.3s\n",
      "[CV] END criterion=gini, max_depth=7, max_features=log2, n_estimators=300; total time=   2.0s\n",
      "[CV] END criterion=gini, max_depth=7, max_features=log2, n_estimators=400; total time=   2.7s\n",
      "[CV] END criterion=gini, max_depth=9, max_features=sqrt, n_estimators=100; total time=   0.7s\n",
      "[CV] END criterion=gini, max_depth=9, max_features=sqrt, n_estimators=100; total time=   0.7s\n",
      "[CV] END criterion=gini, max_depth=9, max_features=sqrt, n_estimators=200; total time=   1.4s\n",
      "[CV] END criterion=gini, max_depth=9, max_features=sqrt, n_estimators=300; total time=   2.2s\n",
      "[CV] END criterion=gini, max_depth=9, max_features=sqrt, n_estimators=300; total time=   2.4s\n",
      "[CV] END criterion=gini, max_depth=9, max_features=sqrt, n_estimators=400; total time=   2.9s\n",
      "[CV] END criterion=gini, max_depth=9, max_features=log2, n_estimators=200; total time=   1.5s\n",
      "[CV] END criterion=gini, max_depth=9, max_features=log2, n_estimators=200; total time=   1.4s\n",
      "[CV] END criterion=gini, max_depth=9, max_features=log2, n_estimators=300; total time=   2.2s\n",
      "[CV] END criterion=gini, max_depth=9, max_features=log2, n_estimators=400; total time=   3.2s\n",
      "[CV] END criterion=gini, max_depth=11, max_features=sqrt, n_estimators=100; total time=   0.8s\n",
      "[CV] END criterion=gini, max_depth=11, max_features=sqrt, n_estimators=100; total time=   0.8s\n",
      "[CV] END criterion=gini, max_depth=11, max_features=sqrt, n_estimators=200; total time=   1.5s\n",
      "[CV] END criterion=gini, max_depth=11, max_features=sqrt, n_estimators=300; total time=   2.2s\n",
      "[CV] END criterion=gini, max_depth=11, max_features=sqrt, n_estimators=300; total time=   2.2s\n",
      "[CV] END criterion=gini, max_depth=11, max_features=sqrt, n_estimators=400; total time=   3.0s\n",
      "[CV] END criterion=gini, max_depth=11, max_features=log2, n_estimators=200; total time=   1.5s\n",
      "[CV] END criterion=gini, max_depth=11, max_features=log2, n_estimators=200; total time=   1.6s\n",
      "[CV] END criterion=gini, max_depth=11, max_features=log2, n_estimators=300; total time=   2.4s\n",
      "[CV] END criterion=gini, max_depth=11, max_features=log2, n_estimators=400; total time=   3.1s\n",
      "[CV] END criterion=gini, max_depth=13, max_features=sqrt, n_estimators=100; total time=   0.8s\n",
      "[CV] END criterion=gini, max_depth=13, max_features=sqrt, n_estimators=100; total time=   0.8s\n",
      "[CV] END criterion=gini, max_depth=13, max_features=sqrt, n_estimators=200; total time=   1.5s\n",
      "[CV] END criterion=gini, max_depth=13, max_features=sqrt, n_estimators=300; total time=   2.2s\n",
      "[CV] END criterion=gini, max_depth=13, max_features=sqrt, n_estimators=300; total time=   2.5s\n",
      "[CV] END criterion=gini, max_depth=13, max_features=sqrt, n_estimators=400; total time=   4.0s\n",
      "[CV] END criterion=gini, max_depth=13, max_features=log2, n_estimators=200; total time=   1.8s\n",
      "[CV] END criterion=gini, max_depth=13, max_features=log2, n_estimators=200; total time=   1.8s\n",
      "[CV] END criterion=gini, max_depth=13, max_features=log2, n_estimators=300; total time=   2.5s\n",
      "[CV] END criterion=gini, max_depth=13, max_features=log2, n_estimators=400; total time=   3.6s\n",
      "[CV] END criterion=entropy, max_depth=3, max_features=sqrt, n_estimators=100; total time=   0.5s\n",
      "[CV] END criterion=entropy, max_depth=3, max_features=sqrt, n_estimators=100; total time=   0.5s\n",
      "[CV] END criterion=entropy, max_depth=3, max_features=sqrt, n_estimators=200; total time=   1.0s\n",
      "[CV] END criterion=entropy, max_depth=3, max_features=sqrt, n_estimators=300; total time=   1.5s\n",
      "[CV] END criterion=entropy, max_depth=3, max_features=sqrt, n_estimators=300; total time=   1.5s\n",
      "[CV] END criterion=entropy, max_depth=3, max_features=sqrt, n_estimators=400; total time=   2.0s\n",
      "[CV] END criterion=entropy, max_depth=3, max_features=log2, n_estimators=100; total time=   0.5s\n",
      "[CV] END criterion=entropy, max_depth=3, max_features=log2, n_estimators=200; total time=   1.0s\n",
      "[CV] END criterion=entropy, max_depth=3, max_features=log2, n_estimators=300; total time=   2.0s\n",
      "[CV] END criterion=entropy, max_depth=3, max_features=log2, n_estimators=300; total time=   1.5s\n",
      "[CV] END criterion=entropy, max_depth=3, max_features=log2, n_estimators=400; total time=   2.1s\n",
      "[CV] END criterion=entropy, max_depth=5, max_features=sqrt, n_estimators=100; total time=   0.7s\n",
      "[CV] END criterion=entropy, max_depth=5, max_features=sqrt, n_estimators=200; total time=   1.4s\n",
      "[CV] END criterion=entropy, max_depth=5, max_features=sqrt, n_estimators=300; total time=   2.2s\n",
      "[CV] END criterion=entropy, max_depth=5, max_features=sqrt, n_estimators=400; total time=   3.1s\n",
      "[CV] END criterion=entropy, max_depth=5, max_features=log2, n_estimators=100; total time=   0.8s\n",
      "[CV] END criterion=entropy, max_depth=5, max_features=log2, n_estimators=100; total time=   0.7s\n",
      "[CV] END criterion=entropy, max_depth=5, max_features=log2, n_estimators=100; total time=   0.8s\n",
      "[CV] END criterion=entropy, max_depth=5, max_features=log2, n_estimators=200; total time=   1.7s\n",
      "[CV] END criterion=entropy, max_depth=5, max_features=log2, n_estimators=300; total time=   2.3s\n",
      "[CV] END criterion=entropy, max_depth=5, max_features=log2, n_estimators=400; total time=   2.7s\n",
      "[CV] END criterion=entropy, max_depth=5, max_features=log2, n_estimators=400; total time=   2.7s\n",
      "[CV] END criterion=entropy, max_depth=7, max_features=sqrt, n_estimators=200; total time=   1.6s\n",
      "[CV] END criterion=entropy, max_depth=7, max_features=sqrt, n_estimators=300; total time=   2.3s\n",
      "[CV] END criterion=entropy, max_depth=7, max_features=sqrt, n_estimators=400; total time=   3.1s\n",
      "[CV] END criterion=entropy, max_depth=7, max_features=sqrt, n_estimators=400; total time=   3.3s\n",
      "[CV] END criterion=entropy, max_depth=7, max_features=log2, n_estimators=200; total time=   1.7s\n",
      "[CV] END criterion=entropy, max_depth=7, max_features=log2, n_estimators=300; total time=   2.6s\n",
      "[CV] END criterion=entropy, max_depth=7, max_features=log2, n_estimators=400; total time=   3.5s\n",
      "[CV] END criterion=entropy, max_depth=9, max_features=sqrt, n_estimators=100; total time=   1.0s\n",
      "[CV] END criterion=entropy, max_depth=9, max_features=sqrt, n_estimators=100; total time=   0.9s\n",
      "[CV] END criterion=entropy, max_depth=9, max_features=sqrt, n_estimators=100; total time=   1.0s\n",
      "[CV] END criterion=entropy, max_depth=9, max_features=sqrt, n_estimators=200; total time=   1.9s\n",
      "[CV] END criterion=entropy, max_depth=9, max_features=sqrt, n_estimators=300; total time=   2.7s\n",
      "[CV] END criterion=entropy, max_depth=9, max_features=sqrt, n_estimators=300; total time=   2.7s\n",
      "[CV] END criterion=entropy, max_depth=9, max_features=sqrt, n_estimators=400; total time=   3.7s\n",
      "[CV] END criterion=entropy, max_depth=9, max_features=log2, n_estimators=200; total time=   1.9s\n",
      "[CV] END criterion=entropy, max_depth=9, max_features=log2, n_estimators=200; total time=   2.4s\n",
      "[CV] END criterion=entropy, max_depth=9, max_features=log2, n_estimators=300; total time=   3.4s\n",
      "[CV] END criterion=entropy, max_depth=9, max_features=log2, n_estimators=400; total time=   4.8s\n",
      "[CV] END criterion=entropy, max_depth=11, max_features=sqrt, n_estimators=100; total time=   1.0s\n",
      "[CV] END criterion=entropy, max_depth=11, max_features=sqrt, n_estimators=100; total time=   1.5s\n",
      "[CV] END criterion=entropy, max_depth=11, max_features=sqrt, n_estimators=200; total time=   2.2s\n",
      "[CV] END criterion=entropy, max_depth=11, max_features=sqrt, n_estimators=300; total time=   2.8s\n",
      "[CV] END criterion=entropy, max_depth=11, max_features=sqrt, n_estimators=400; total time=   3.6s\n",
      "[CV] END criterion=entropy, max_depth=11, max_features=sqrt, n_estimators=400; total time=   3.7s\n",
      "[CV] END criterion=entropy, max_depth=11, max_features=log2, n_estimators=200; total time=   2.0s\n",
      "[CV] END criterion=entropy, max_depth=11, max_features=log2, n_estimators=300; total time=   2.7s\n",
      "[CV] END criterion=entropy, max_depth=11, max_features=log2, n_estimators=400; total time=   3.6s\n",
      "[CV] END criterion=entropy, max_depth=13, max_features=sqrt, n_estimators=100; total time=   0.9s\n",
      "[CV] END criterion=entropy, max_depth=13, max_features=sqrt, n_estimators=100; total time=   0.9s\n",
      "[CV] END criterion=entropy, max_depth=13, max_features=sqrt, n_estimators=100; total time=   0.9s\n",
      "[CV] END criterion=entropy, max_depth=13, max_features=sqrt, n_estimators=200; total time=   1.8s\n",
      "[CV] END criterion=entropy, max_depth=13, max_features=sqrt, n_estimators=300; total time=   2.7s\n",
      "[CV] END criterion=entropy, max_depth=13, max_features=sqrt, n_estimators=400; total time=   3.6s\n",
      "[CV] END criterion=entropy, max_depth=13, max_features=sqrt, n_estimators=400; total time=   3.6s\n",
      "[CV] END criterion=entropy, max_depth=13, max_features=log2, n_estimators=200; total time=   1.8s\n",
      "[CV] END criterion=entropy, max_depth=13, max_features=log2, n_estimators=300; total time=   2.7s\n",
      "[CV] END criterion=entropy, max_depth=13, max_features=log2, n_estimators=400; total time=   3.6s\n",
      "[CV] END criterion=gini, max_depth=3, max_features=sqrt, n_estimators=100; total time=   0.5s\n",
      "[CV] END criterion=gini, max_depth=3, max_features=sqrt, n_estimators=200; total time=   0.9s\n",
      "[CV] END criterion=gini, max_depth=3, max_features=sqrt, n_estimators=300; total time=   1.3s\n",
      "[CV] END criterion=gini, max_depth=3, max_features=sqrt, n_estimators=300; total time=   1.2s\n",
      "[CV] END criterion=gini, max_depth=3, max_features=sqrt, n_estimators=400; total time=   1.7s\n",
      "[CV] END criterion=gini, max_depth=3, max_features=log2, n_estimators=100; total time=   0.4s\n",
      "[CV] END criterion=gini, max_depth=3, max_features=log2, n_estimators=200; total time=   0.8s\n",
      "[CV] END criterion=gini, max_depth=3, max_features=log2, n_estimators=300; total time=   1.3s\n",
      "[CV] END criterion=gini, max_depth=3, max_features=log2, n_estimators=400; total time=   1.7s\n",
      "[CV] END criterion=gini, max_depth=3, max_features=log2, n_estimators=400; total time=   1.6s\n",
      "[CV] END criterion=gini, max_depth=5, max_features=sqrt, n_estimators=200; total time=   1.1s\n",
      "[CV] END criterion=gini, max_depth=5, max_features=sqrt, n_estimators=300; total time=   1.7s\n",
      "[CV] END criterion=gini, max_depth=5, max_features=sqrt, n_estimators=400; total time=   2.2s\n",
      "[CV] END criterion=gini, max_depth=5, max_features=sqrt, n_estimators=400; total time=   2.2s\n",
      "[CV] END criterion=gini, max_depth=5, max_features=log2, n_estimators=200; total time=   1.1s\n",
      "[CV] END criterion=gini, max_depth=5, max_features=log2, n_estimators=300; total time=   1.7s\n",
      "[CV] END criterion=gini, max_depth=5, max_features=log2, n_estimators=400; total time=   2.2s\n",
      "[CV] END criterion=gini, max_depth=7, max_features=sqrt, n_estimators=100; total time=   0.7s\n",
      "[CV] END criterion=gini, max_depth=7, max_features=sqrt, n_estimators=100; total time=   0.7s\n",
      "[CV] END criterion=gini, max_depth=7, max_features=sqrt, n_estimators=200; total time=   1.4s\n",
      "[CV] END criterion=gini, max_depth=7, max_features=sqrt, n_estimators=200; total time=   1.3s\n",
      "[CV] END criterion=gini, max_depth=7, max_features=sqrt, n_estimators=300; total time=   2.4s\n",
      "[CV] END criterion=gini, max_depth=7, max_features=sqrt, n_estimators=400; total time=   2.9s\n",
      "[CV] END criterion=gini, max_depth=7, max_features=log2, n_estimators=100; total time=   0.7s\n",
      "[CV] END criterion=gini, max_depth=7, max_features=log2, n_estimators=100; total time=   0.7s\n",
      "[CV] END criterion=gini, max_depth=7, max_features=log2, n_estimators=200; total time=   1.3s\n",
      "[CV] END criterion=gini, max_depth=7, max_features=log2, n_estimators=300; total time=   2.0s\n",
      "[CV] END criterion=gini, max_depth=7, max_features=log2, n_estimators=400; total time=   2.7s\n",
      "[CV] END criterion=gini, max_depth=7, max_features=log2, n_estimators=400; total time=   2.6s\n",
      "[CV] END criterion=gini, max_depth=9, max_features=sqrt, n_estimators=200; total time=   1.5s\n",
      "[CV] END criterion=gini, max_depth=9, max_features=sqrt, n_estimators=300; total time=   2.2s\n",
      "[CV] END criterion=gini, max_depth=9, max_features=sqrt, n_estimators=400; total time=   3.0s\n",
      "[CV] END criterion=gini, max_depth=9, max_features=log2, n_estimators=100; total time=   0.7s\n",
      "[CV] END criterion=gini, max_depth=9, max_features=log2, n_estimators=100; total time=   0.7s\n",
      "[CV] END criterion=gini, max_depth=9, max_features=log2, n_estimators=100; total time=   0.7s\n",
      "[CV] END criterion=gini, max_depth=9, max_features=log2, n_estimators=200; total time=   1.5s\n",
      "[CV] END criterion=gini, max_depth=9, max_features=log2, n_estimators=300; total time=   2.2s\n",
      "[CV] END criterion=gini, max_depth=9, max_features=log2, n_estimators=400; total time=   3.2s\n",
      "[CV] END criterion=gini, max_depth=9, max_features=log2, n_estimators=400; total time=   2.9s\n",
      "[CV] END criterion=gini, max_depth=11, max_features=sqrt, n_estimators=200; total time=   1.5s\n",
      "[CV] END criterion=gini, max_depth=11, max_features=sqrt, n_estimators=300; total time=   2.2s\n",
      "[CV] END criterion=gini, max_depth=11, max_features=sqrt, n_estimators=400; total time=   3.0s\n",
      "[CV] END criterion=gini, max_depth=11, max_features=log2, n_estimators=100; total time=   0.7s\n",
      "[CV] END criterion=gini, max_depth=11, max_features=log2, n_estimators=100; total time=   0.7s\n",
      "[CV] END criterion=gini, max_depth=11, max_features=log2, n_estimators=100; total time=   0.7s\n",
      "[CV] END criterion=gini, max_depth=11, max_features=log2, n_estimators=200; total time=   1.5s\n",
      "[CV] END criterion=gini, max_depth=11, max_features=log2, n_estimators=300; total time=   2.4s\n",
      "[CV] END criterion=gini, max_depth=11, max_features=log2, n_estimators=300; total time=   2.3s\n",
      "[CV] END criterion=gini, max_depth=11, max_features=log2, n_estimators=400; total time=   3.1s\n",
      "[CV] END criterion=gini, max_depth=13, max_features=sqrt, n_estimators=100; total time=   0.8s\n",
      "[CV] END criterion=gini, max_depth=13, max_features=sqrt, n_estimators=200; total time=   1.5s\n",
      "[CV] END criterion=gini, max_depth=13, max_features=sqrt, n_estimators=300; total time=   2.3s\n",
      "[CV] END criterion=gini, max_depth=13, max_features=sqrt, n_estimators=400; total time=   3.5s\n",
      "[CV] END criterion=gini, max_depth=13, max_features=sqrt, n_estimators=400; total time=   3.8s\n",
      "[CV] END criterion=gini, max_depth=13, max_features=log2, n_estimators=200; total time=   1.8s\n",
      "[CV] END criterion=gini, max_depth=13, max_features=log2, n_estimators=300; total time=   2.5s\n",
      "[CV] END criterion=gini, max_depth=13, max_features=log2, n_estimators=400; total time=   3.4s\n",
      "[CV] END criterion=entropy, max_depth=3, max_features=sqrt, n_estimators=100; total time=   0.7s\n",
      "[CV] END criterion=entropy, max_depth=3, max_features=sqrt, n_estimators=100; total time=   0.5s\n",
      "[CV] END criterion=entropy, max_depth=3, max_features=sqrt, n_estimators=100; total time=   0.5s\n",
      "[CV] END criterion=entropy, max_depth=3, max_features=sqrt, n_estimators=200; total time=   1.0s\n",
      "[CV] END criterion=entropy, max_depth=3, max_features=sqrt, n_estimators=200; total time=   1.0s\n",
      "[CV] END criterion=entropy, max_depth=3, max_features=sqrt, n_estimators=300; total time=   1.5s\n",
      "[CV] END criterion=entropy, max_depth=3, max_features=sqrt, n_estimators=400; total time=   2.0s\n",
      "[CV] END criterion=entropy, max_depth=3, max_features=log2, n_estimators=100; total time=   0.6s\n",
      "[CV] END criterion=entropy, max_depth=3, max_features=log2, n_estimators=100; total time=   0.6s\n",
      "[CV] END criterion=entropy, max_depth=3, max_features=log2, n_estimators=200; total time=   1.0s\n",
      "[CV] END criterion=entropy, max_depth=3, max_features=log2, n_estimators=300; total time=   2.0s\n",
      "[CV] END criterion=entropy, max_depth=3, max_features=log2, n_estimators=300; total time=   1.5s\n",
      "[CV] END criterion=entropy, max_depth=3, max_features=log2, n_estimators=400; total time=   2.1s\n",
      "[CV] END criterion=entropy, max_depth=5, max_features=sqrt, n_estimators=100; total time=   0.7s\n",
      "[CV] END criterion=entropy, max_depth=5, max_features=sqrt, n_estimators=200; total time=   1.4s\n",
      "[CV] END criterion=entropy, max_depth=5, max_features=sqrt, n_estimators=300; total time=   2.2s\n",
      "[CV] END criterion=entropy, max_depth=5, max_features=sqrt, n_estimators=400; total time=   3.1s\n",
      "[CV] END criterion=entropy, max_depth=5, max_features=log2, n_estimators=100; total time=   0.8s\n",
      "[CV] END criterion=entropy, max_depth=5, max_features=log2, n_estimators=100; total time=   0.7s\n",
      "[CV] END criterion=entropy, max_depth=5, max_features=log2, n_estimators=100; total time=   0.8s\n",
      "[CV] END criterion=entropy, max_depth=5, max_features=log2, n_estimators=200; total time=   1.6s\n",
      "[CV] END criterion=entropy, max_depth=5, max_features=log2, n_estimators=300; total time=   2.2s\n",
      "[CV] END criterion=entropy, max_depth=5, max_features=log2, n_estimators=300; total time=   2.0s\n",
      "[CV] END criterion=entropy, max_depth=5, max_features=log2, n_estimators=400; total time=   2.7s\n",
      "[CV] END criterion=entropy, max_depth=7, max_features=sqrt, n_estimators=100; total time=   0.8s\n",
      "[CV] END criterion=entropy, max_depth=7, max_features=sqrt, n_estimators=200; total time=   1.6s\n",
      "[CV] END criterion=entropy, max_depth=7, max_features=sqrt, n_estimators=300; total time=   2.4s\n",
      "[CV] END criterion=entropy, max_depth=7, max_features=sqrt, n_estimators=300; total time=   2.4s\n",
      "[CV] END criterion=entropy, max_depth=7, max_features=sqrt, n_estimators=400; total time=   3.2s\n",
      "[CV] END criterion=entropy, max_depth=7, max_features=log2, n_estimators=200; total time=   1.8s\n",
      "[CV] END criterion=entropy, max_depth=7, max_features=log2, n_estimators=200; total time=   1.7s\n",
      "[CV] END criterion=entropy, max_depth=7, max_features=log2, n_estimators=300; total time=   2.6s\n",
      "[CV] END criterion=entropy, max_depth=7, max_features=log2, n_estimators=400; total time=   3.8s\n",
      "[CV] END criterion=entropy, max_depth=9, max_features=sqrt, n_estimators=100; total time=   0.9s\n",
      "[CV] END criterion=entropy, max_depth=9, max_features=sqrt, n_estimators=100; total time=   1.0s\n",
      "[CV] END criterion=entropy, max_depth=9, max_features=sqrt, n_estimators=200; total time=   1.9s\n",
      "[CV] END criterion=entropy, max_depth=9, max_features=sqrt, n_estimators=300; total time=   2.7s\n",
      "[CV] END criterion=entropy, max_depth=9, max_features=sqrt, n_estimators=400; total time=   3.8s\n",
      "[CV] END criterion=entropy, max_depth=9, max_features=log2, n_estimators=100; total time=   0.9s\n",
      "[CV] END criterion=entropy, max_depth=9, max_features=log2, n_estimators=100; total time=   0.9s\n",
      "[CV] END criterion=entropy, max_depth=9, max_features=log2, n_estimators=100; total time=   0.9s\n",
      "[CV] END criterion=entropy, max_depth=9, max_features=log2, n_estimators=200; total time=   2.0s\n",
      "[CV] END criterion=entropy, max_depth=9, max_features=log2, n_estimators=300; total time=   3.4s\n",
      "[CV] END criterion=entropy, max_depth=9, max_features=log2, n_estimators=400; total time=   4.8s\n",
      "[CV] END criterion=entropy, max_depth=9, max_features=log2, n_estimators=400; total time=   4.7s\n",
      "[CV] END criterion=entropy, max_depth=11, max_features=sqrt, n_estimators=200; total time=   2.2s\n",
      "[CV] END criterion=entropy, max_depth=11, max_features=sqrt, n_estimators=300; total time=   2.8s\n",
      "[CV] END criterion=entropy, max_depth=11, max_features=sqrt, n_estimators=400; total time=   3.6s\n",
      "[CV] END criterion=entropy, max_depth=11, max_features=log2, n_estimators=100; total time=   0.9s\n",
      "[CV] END criterion=entropy, max_depth=11, max_features=log2, n_estimators=100; total time=   0.9s\n",
      "[CV] END criterion=entropy, max_depth=11, max_features=log2, n_estimators=100; total time=   0.9s\n",
      "[CV] END criterion=entropy, max_depth=11, max_features=log2, n_estimators=200; total time=   2.1s\n",
      "[CV] END criterion=entropy, max_depth=11, max_features=log2, n_estimators=300; total time=   2.7s\n",
      "[CV] END criterion=entropy, max_depth=11, max_features=log2, n_estimators=300; total time=   2.7s\n",
      "[CV] END criterion=entropy, max_depth=11, max_features=log2, n_estimators=400; total time=   3.5s\n",
      "[CV] END criterion=entropy, max_depth=13, max_features=sqrt, n_estimators=200; total time=   1.8s\n",
      "[CV] END criterion=entropy, max_depth=13, max_features=sqrt, n_estimators=200; total time=   1.8s\n",
      "[CV] END criterion=entropy, max_depth=13, max_features=sqrt, n_estimators=300; total time=   2.7s\n",
      "[CV] END criterion=entropy, max_depth=13, max_features=sqrt, n_estimators=400; total time=   3.6s\n",
      "[CV] END criterion=entropy, max_depth=13, max_features=log2, n_estimators=100; total time=   0.9s\n",
      "[CV] END criterion=entropy, max_depth=13, max_features=log2, n_estimators=100; total time=   0.9s\n",
      "[CV] END criterion=entropy, max_depth=13, max_features=log2, n_estimators=200; total time=   1.8s\n",
      "[CV] END criterion=entropy, max_depth=13, max_features=log2, n_estimators=300; total time=   2.7s\n",
      "[CV] END criterion=entropy, max_depth=13, max_features=log2, n_estimators=400; total time=   3.6s\n",
      "[CV] END criterion=entropy, max_depth=13, max_features=log2, n_estimators=400; total time=   3.1s\n"
     ]
    },
    {
     "name": "stdout",
     "output_type": "stream",
     "text": [
      "[CV] END criterion=gini, max_depth=3, max_features=sqrt, n_estimators=100; total time=   0.5s\n",
      "[CV] END criterion=gini, max_depth=3, max_features=sqrt, n_estimators=200; total time=   0.9s\n",
      "[CV] END criterion=gini, max_depth=3, max_features=sqrt, n_estimators=300; total time=   1.3s\n",
      "[CV] END criterion=gini, max_depth=3, max_features=sqrt, n_estimators=300; total time=   1.3s\n",
      "[CV] END criterion=gini, max_depth=3, max_features=sqrt, n_estimators=400; total time=   1.7s\n",
      "[CV] END criterion=gini, max_depth=3, max_features=log2, n_estimators=200; total time=   0.8s\n",
      "[CV] END criterion=gini, max_depth=3, max_features=log2, n_estimators=200; total time=   0.9s\n",
      "[CV] END criterion=gini, max_depth=3, max_features=log2, n_estimators=300; total time=   1.3s\n",
      "[CV] END criterion=gini, max_depth=3, max_features=log2, n_estimators=400; total time=   1.7s\n",
      "[CV] END criterion=gini, max_depth=5, max_features=sqrt, n_estimators=100; total time=   0.6s\n",
      "[CV] END criterion=gini, max_depth=5, max_features=sqrt, n_estimators=100; total time=   0.6s\n",
      "[CV] END criterion=gini, max_depth=5, max_features=sqrt, n_estimators=200; total time=   1.1s\n",
      "[CV] END criterion=gini, max_depth=5, max_features=sqrt, n_estimators=300; total time=   1.7s\n",
      "[CV] END criterion=gini, max_depth=5, max_features=sqrt, n_estimators=300; total time=   1.7s\n",
      "[CV] END criterion=gini, max_depth=5, max_features=sqrt, n_estimators=400; total time=   2.2s\n",
      "[CV] END criterion=gini, max_depth=5, max_features=log2, n_estimators=200; total time=   1.1s\n",
      "[CV] END criterion=gini, max_depth=5, max_features=log2, n_estimators=200; total time=   1.1s\n",
      "[CV] END criterion=gini, max_depth=5, max_features=log2, n_estimators=300; total time=   1.7s\n",
      "[CV] END criterion=gini, max_depth=5, max_features=log2, n_estimators=400; total time=   2.2s\n",
      "[CV] END criterion=gini, max_depth=7, max_features=sqrt, n_estimators=100; total time=   0.7s\n",
      "[CV] END criterion=gini, max_depth=7, max_features=sqrt, n_estimators=100; total time=   0.7s\n",
      "[CV] END criterion=gini, max_depth=7, max_features=sqrt, n_estimators=200; total time=   1.3s\n",
      "[CV] END criterion=gini, max_depth=7, max_features=sqrt, n_estimators=300; total time=   2.0s\n",
      "[CV] END criterion=gini, max_depth=7, max_features=sqrt, n_estimators=400; total time=   3.3s\n",
      "[CV] END criterion=gini, max_depth=7, max_features=sqrt, n_estimators=400; total time=   2.7s\n",
      "[CV] END criterion=gini, max_depth=7, max_features=log2, n_estimators=200; total time=   1.3s\n",
      "[CV] END criterion=gini, max_depth=7, max_features=log2, n_estimators=300; total time=   2.0s\n",
      "[CV] END criterion=gini, max_depth=7, max_features=log2, n_estimators=400; total time=   2.7s\n",
      "[CV] END criterion=gini, max_depth=9, max_features=sqrt, n_estimators=100; total time=   0.7s\n",
      "[CV] END criterion=gini, max_depth=9, max_features=sqrt, n_estimators=100; total time=   0.7s\n",
      "[CV] END criterion=gini, max_depth=9, max_features=sqrt, n_estimators=100; total time=   0.7s\n",
      "[CV] END criterion=gini, max_depth=9, max_features=sqrt, n_estimators=200; total time=   1.5s\n",
      "[CV] END criterion=gini, max_depth=9, max_features=sqrt, n_estimators=300; total time=   2.2s\n",
      "[CV] END criterion=gini, max_depth=9, max_features=sqrt, n_estimators=400; total time=   3.1s\n",
      "[CV] END criterion=gini, max_depth=9, max_features=log2, n_estimators=100; total time=   0.7s\n",
      "[CV] END criterion=gini, max_depth=9, max_features=log2, n_estimators=100; total time=   0.7s\n",
      "[CV] END criterion=gini, max_depth=9, max_features=log2, n_estimators=100; total time=   0.7s\n",
      "[CV] END criterion=gini, max_depth=9, max_features=log2, n_estimators=200; total time=   1.5s\n",
      "[CV] END criterion=gini, max_depth=9, max_features=log2, n_estimators=300; total time=   2.2s\n",
      "[CV] END criterion=gini, max_depth=9, max_features=log2, n_estimators=300; total time=   2.3s\n",
      "[CV] END criterion=gini, max_depth=9, max_features=log2, n_estimators=400; total time=   3.0s\n",
      "[CV] END criterion=gini, max_depth=11, max_features=sqrt, n_estimators=200; total time=   1.5s\n",
      "[CV] END criterion=gini, max_depth=11, max_features=sqrt, n_estimators=200; total time=   1.5s\n",
      "[CV] END criterion=gini, max_depth=11, max_features=sqrt, n_estimators=300; total time=   2.3s\n",
      "[CV] END criterion=gini, max_depth=11, max_features=sqrt, n_estimators=400; total time=   3.0s\n",
      "[CV] END criterion=gini, max_depth=11, max_features=log2, n_estimators=100; total time=   0.8s\n",
      "[CV] END criterion=gini, max_depth=11, max_features=log2, n_estimators=100; total time=   0.8s\n",
      "[CV] END criterion=gini, max_depth=11, max_features=log2, n_estimators=200; total time=   1.6s\n",
      "[CV] END criterion=gini, max_depth=11, max_features=log2, n_estimators=300; total time=   2.4s\n",
      "[CV] END criterion=gini, max_depth=11, max_features=log2, n_estimators=300; total time=   2.3s\n",
      "[CV] END criterion=gini, max_depth=11, max_features=log2, n_estimators=400; total time=   3.1s\n",
      "[CV] END criterion=gini, max_depth=13, max_features=sqrt, n_estimators=200; total time=   1.5s\n",
      "[CV] END criterion=gini, max_depth=13, max_features=sqrt, n_estimators=200; total time=   1.5s\n",
      "[CV] END criterion=gini, max_depth=13, max_features=sqrt, n_estimators=300; total time=   2.3s\n",
      "[CV] END criterion=gini, max_depth=13, max_features=sqrt, n_estimators=400; total time=   3.9s\n",
      "[CV] END criterion=gini, max_depth=13, max_features=log2, n_estimators=100; total time=   1.0s\n",
      "[CV] END criterion=gini, max_depth=13, max_features=log2, n_estimators=100; total time=   0.8s\n",
      "[CV] END criterion=gini, max_depth=13, max_features=log2, n_estimators=200; total time=   1.7s\n",
      "[CV] END criterion=gini, max_depth=13, max_features=log2, n_estimators=300; total time=   2.7s\n",
      "[CV] END criterion=gini, max_depth=13, max_features=log2, n_estimators=300; total time=   2.4s\n",
      "[CV] END criterion=gini, max_depth=13, max_features=log2, n_estimators=400; total time=   3.7s\n",
      "[CV] END criterion=entropy, max_depth=3, max_features=sqrt, n_estimators=200; total time=   1.0s\n",
      "[CV] END criterion=entropy, max_depth=3, max_features=sqrt, n_estimators=300; total time=   1.5s\n",
      "[CV] END criterion=entropy, max_depth=3, max_features=sqrt, n_estimators=400; total time=   2.0s\n",
      "[CV] END criterion=entropy, max_depth=3, max_features=sqrt, n_estimators=400; total time=   2.1s\n",
      "[CV] END criterion=entropy, max_depth=3, max_features=log2, n_estimators=200; total time=   1.0s\n",
      "[CV] END criterion=entropy, max_depth=3, max_features=log2, n_estimators=300; total time=   2.0s\n",
      "[CV] END criterion=entropy, max_depth=3, max_features=log2, n_estimators=400; total time=   2.1s\n",
      "[CV] END criterion=entropy, max_depth=5, max_features=sqrt, n_estimators=100; total time=   0.7s\n",
      "[CV] END criterion=entropy, max_depth=5, max_features=sqrt, n_estimators=100; total time=   0.7s\n",
      "[CV] END criterion=entropy, max_depth=5, max_features=sqrt, n_estimators=100; total time=   0.7s\n",
      "[CV] END criterion=entropy, max_depth=5, max_features=sqrt, n_estimators=200; total time=   1.4s\n",
      "[CV] END criterion=entropy, max_depth=5, max_features=sqrt, n_estimators=300; total time=   2.2s\n",
      "[CV] END criterion=entropy, max_depth=5, max_features=sqrt, n_estimators=400; total time=   3.0s\n",
      "[CV] END criterion=entropy, max_depth=5, max_features=sqrt, n_estimators=400; total time=   3.1s\n",
      "[CV] END criterion=entropy, max_depth=5, max_features=log2, n_estimators=200; total time=   1.5s\n",
      "[CV] END criterion=entropy, max_depth=5, max_features=log2, n_estimators=300; total time=   2.2s\n",
      "[CV] END criterion=entropy, max_depth=5, max_features=log2, n_estimators=400; total time=   2.7s\n",
      "[CV] END criterion=entropy, max_depth=7, max_features=sqrt, n_estimators=100; total time=   0.8s\n",
      "[CV] END criterion=entropy, max_depth=7, max_features=sqrt, n_estimators=100; total time=   0.8s\n",
      "[CV] END criterion=entropy, max_depth=7, max_features=sqrt, n_estimators=200; total time=   1.6s\n",
      "[CV] END criterion=entropy, max_depth=7, max_features=sqrt, n_estimators=200; total time=   1.6s\n",
      "[CV] END criterion=entropy, max_depth=7, max_features=sqrt, n_estimators=300; total time=   2.4s\n",
      "[CV] END criterion=entropy, max_depth=7, max_features=sqrt, n_estimators=400; total time=   3.2s\n",
      "[CV] END criterion=entropy, max_depth=7, max_features=log2, n_estimators=100; total time=   0.8s\n",
      "[CV] END criterion=entropy, max_depth=7, max_features=log2, n_estimators=100; total time=   0.8s\n",
      "[CV] END criterion=entropy, max_depth=7, max_features=log2, n_estimators=200; total time=   1.8s\n",
      "[CV] END criterion=entropy, max_depth=7, max_features=log2, n_estimators=300; total time=   2.6s\n",
      "[CV] END criterion=entropy, max_depth=7, max_features=log2, n_estimators=400; total time=   3.5s\n",
      "[CV] END criterion=entropy, max_depth=7, max_features=log2, n_estimators=400; total time=   3.6s\n",
      "[CV] END criterion=entropy, max_depth=9, max_features=sqrt, n_estimators=200; total time=   1.9s\n",
      "[CV] END criterion=entropy, max_depth=9, max_features=sqrt, n_estimators=300; total time=   2.7s\n",
      "[CV] END criterion=entropy, max_depth=9, max_features=sqrt, n_estimators=400; total time=   3.7s\n",
      "[CV] END criterion=entropy, max_depth=9, max_features=sqrt, n_estimators=400; total time=   3.6s\n",
      "[CV] END criterion=entropy, max_depth=9, max_features=log2, n_estimators=200; total time=   2.4s\n",
      "[CV] END criterion=entropy, max_depth=9, max_features=log2, n_estimators=300; total time=   3.2s\n",
      "[CV] END criterion=entropy, max_depth=9, max_features=log2, n_estimators=400; total time=   4.9s\n",
      "[CV] END criterion=entropy, max_depth=11, max_features=sqrt, n_estimators=100; total time=   1.1s\n",
      "[CV] END criterion=entropy, max_depth=11, max_features=sqrt, n_estimators=100; total time=   1.0s\n",
      "[CV] END criterion=entropy, max_depth=11, max_features=sqrt, n_estimators=200; total time=   2.6s\n",
      "[CV] END criterion=entropy, max_depth=11, max_features=sqrt, n_estimators=200; total time=   1.8s\n",
      "[CV] END criterion=entropy, max_depth=11, max_features=sqrt, n_estimators=300; total time=   2.9s\n",
      "[CV] END criterion=entropy, max_depth=11, max_features=sqrt, n_estimators=400; total time=   3.7s\n",
      "[CV] END criterion=entropy, max_depth=11, max_features=log2, n_estimators=100; total time=   0.9s\n",
      "[CV] END criterion=entropy, max_depth=11, max_features=log2, n_estimators=100; total time=   0.9s\n",
      "[CV] END criterion=entropy, max_depth=11, max_features=log2, n_estimators=200; total time=   2.1s\n",
      "[CV] END criterion=entropy, max_depth=11, max_features=log2, n_estimators=300; total time=   2.7s\n",
      "[CV] END criterion=entropy, max_depth=11, max_features=log2, n_estimators=300; total time=   2.7s\n",
      "[CV] END criterion=entropy, max_depth=11, max_features=log2, n_estimators=400; total time=   3.5s\n",
      "[CV] END criterion=entropy, max_depth=13, max_features=sqrt, n_estimators=200; total time=   1.8s\n",
      "[CV] END criterion=entropy, max_depth=13, max_features=sqrt, n_estimators=200; total time=   1.8s\n",
      "[CV] END criterion=entropy, max_depth=13, max_features=sqrt, n_estimators=300; total time=   2.7s\n",
      "[CV] END criterion=entropy, max_depth=13, max_features=sqrt, n_estimators=400; total time=   3.6s\n",
      "[CV] END criterion=entropy, max_depth=13, max_features=log2, n_estimators=100; total time=   0.9s\n",
      "[CV] END criterion=entropy, max_depth=13, max_features=log2, n_estimators=100; total time=   0.9s\n",
      "[CV] END criterion=entropy, max_depth=13, max_features=log2, n_estimators=200; total time=   1.8s\n",
      "[CV] END criterion=entropy, max_depth=13, max_features=log2, n_estimators=300; total time=   2.7s\n",
      "[CV] END criterion=entropy, max_depth=13, max_features=log2, n_estimators=300; total time=   2.7s\n",
      "[CV] END criterion=entropy, max_depth=13, max_features=log2, n_estimators=400; total time=   3.5s\n"
     ]
    }
   ],
   "source": [
    "clf_loaded"
   ]
  },
  {
   "cell_type": "code",
   "execution_count": null,
   "id": "4ed83abf",
   "metadata": {},
   "outputs": [],
   "source": []
  }
 ],
 "metadata": {
  "kernelspec": {
   "display_name": "Python 3 (ipykernel)",
   "language": "python",
   "name": "python3"
  },
  "language_info": {
   "codemirror_mode": {
    "name": "ipython",
    "version": 3
   },
   "file_extension": ".py",
   "mimetype": "text/x-python",
   "name": "python",
   "nbconvert_exporter": "python",
   "pygments_lexer": "ipython3",
   "version": "3.9.15"
  }
 },
 "nbformat": 4,
 "nbformat_minor": 5
}
