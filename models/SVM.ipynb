{
 "cells": [
  {
   "cell_type": "code",
   "execution_count": 1,
   "id": "853a0aa5",
   "metadata": {},
   "outputs": [],
   "source": [
    "import pandas as pd\n",
    "import numpy as np\n",
    "import matplotlib.pyplot as plt\n",
    "import seaborn as sns\n",
    "\n",
    "# Support Vector Machines library\n",
    "from sklearn import svm\n",
    "\n",
    "# Libraries to scale the data\n",
    "from sklearn.preprocessing import StandardScaler\n",
    "\n",
    "# Cross Validation\n",
    "from sklearn.model_selection import train_test_split, GridSearchCV, StratifiedKFold\n",
    "\n",
    "from sklearn.decomposition import PCA\n",
    "\n",
    "# Bayesian Optimization libraries\n",
    "from functools import partial\n",
    "from skopt import gp_minimize\n",
    "from skopt import space\n",
    "from sklearn import model_selection\n",
    "\n",
    "from sklearn import ensemble\n",
    "\n",
    "# Performance Metrics\n",
    "from sklearn import metrics\n",
    "from sklearn.metrics import accuracy_score, confusion_matrix\n",
    "from sklearn.metrics import classification_report\n",
    "from sklearn.metrics import ConfusionMatrixDisplay\n",
    "\n",
    "# Ignores runtime warnings\n",
    "import warnings\n",
    "warnings.filterwarnings('ignore', category=DeprecationWarning)\n",
    "\n",
    "%matplotlib inline\n",
    "plt.rcParams[\"figure.facecolor\"] = 'w'"
   ]
  },
  {
   "cell_type": "markdown",
   "id": "6c0cee2e",
   "metadata": {},
   "source": [
    "### Analysis on K-means Imputed and Outlier Presence dataset"
   ]
  },
  {
   "cell_type": "code",
   "execution_count": 2,
   "id": "fcc269e6",
   "metadata": {},
   "outputs": [],
   "source": [
    "df1 = pd.read_csv(\"../processed-datasets/data_outliers_handled_knn_imputed.csv\")"
   ]
  },
  {
   "cell_type": "code",
   "execution_count": 3,
   "id": "999cb4e1",
   "metadata": {},
   "outputs": [
    {
     "data": {
      "text/html": [
       "<div>\n",
       "<style scoped>\n",
       "    .dataframe tbody tr th:only-of-type {\n",
       "        vertical-align: middle;\n",
       "    }\n",
       "\n",
       "    .dataframe tbody tr th {\n",
       "        vertical-align: top;\n",
       "    }\n",
       "\n",
       "    .dataframe thead th {\n",
       "        text-align: right;\n",
       "    }\n",
       "</style>\n",
       "<table border=\"1\" class=\"dataframe\">\n",
       "  <thead>\n",
       "    <tr style=\"text-align: right;\">\n",
       "      <th></th>\n",
       "      <th>Unnamed: 0</th>\n",
       "      <th>age_ma</th>\n",
       "      <th>Feature</th>\n",
       "      <th>Ti</th>\n",
       "      <th>La</th>\n",
       "      <th>Ce</th>\n",
       "      <th>Pr</th>\n",
       "      <th>Nd</th>\n",
       "      <th>Sm</th>\n",
       "      <th>Eu</th>\n",
       "      <th>...</th>\n",
       "      <th>Dy</th>\n",
       "      <th>Ho</th>\n",
       "      <th>Er</th>\n",
       "      <th>Tm</th>\n",
       "      <th>Yb</th>\n",
       "      <th>Lu</th>\n",
       "      <th>Y</th>\n",
       "      <th>Hf</th>\n",
       "      <th>U</th>\n",
       "      <th>Th</th>\n",
       "    </tr>\n",
       "  </thead>\n",
       "  <tbody>\n",
       "    <tr>\n",
       "      <th>0</th>\n",
       "      <td>0</td>\n",
       "      <td>222.0</td>\n",
       "      <td>0.0</td>\n",
       "      <td>7.88</td>\n",
       "      <td>0.050</td>\n",
       "      <td>10.500</td>\n",
       "      <td>0.050</td>\n",
       "      <td>4.25000</td>\n",
       "      <td>11.60000</td>\n",
       "      <td>1.99000</td>\n",
       "      <td>...</td>\n",
       "      <td>259.21625</td>\n",
       "      <td>106.1375</td>\n",
       "      <td>437.54375</td>\n",
       "      <td>97.8675</td>\n",
       "      <td>936.725</td>\n",
       "      <td>172.63875</td>\n",
       "      <td>2737.00000</td>\n",
       "      <td>12390.0</td>\n",
       "      <td>305.0</td>\n",
       "      <td>134.0</td>\n",
       "    </tr>\n",
       "    <tr>\n",
       "      <th>1</th>\n",
       "      <td>1</td>\n",
       "      <td>222.0</td>\n",
       "      <td>0.0</td>\n",
       "      <td>10.90</td>\n",
       "      <td>1.555</td>\n",
       "      <td>61.505</td>\n",
       "      <td>0.725</td>\n",
       "      <td>7.74125</td>\n",
       "      <td>12.56125</td>\n",
       "      <td>2.64375</td>\n",
       "      <td>...</td>\n",
       "      <td>259.21625</td>\n",
       "      <td>106.1375</td>\n",
       "      <td>437.54375</td>\n",
       "      <td>97.8675</td>\n",
       "      <td>936.725</td>\n",
       "      <td>172.63875</td>\n",
       "      <td>2804.03875</td>\n",
       "      <td>12591.0</td>\n",
       "      <td>503.0</td>\n",
       "      <td>272.0</td>\n",
       "    </tr>\n",
       "    <tr>\n",
       "      <th>2</th>\n",
       "      <td>2</td>\n",
       "      <td>222.0</td>\n",
       "      <td>0.0</td>\n",
       "      <td>6.00</td>\n",
       "      <td>0.020</td>\n",
       "      <td>25.100</td>\n",
       "      <td>0.300</td>\n",
       "      <td>4.41000</td>\n",
       "      <td>12.56125</td>\n",
       "      <td>2.30000</td>\n",
       "      <td>...</td>\n",
       "      <td>259.21625</td>\n",
       "      <td>106.1375</td>\n",
       "      <td>437.54375</td>\n",
       "      <td>97.8675</td>\n",
       "      <td>936.725</td>\n",
       "      <td>172.63875</td>\n",
       "      <td>2804.03875</td>\n",
       "      <td>12724.0</td>\n",
       "      <td>639.0</td>\n",
       "      <td>414.0</td>\n",
       "    </tr>\n",
       "    <tr>\n",
       "      <th>3</th>\n",
       "      <td>3</td>\n",
       "      <td>222.0</td>\n",
       "      <td>0.0</td>\n",
       "      <td>9.06</td>\n",
       "      <td>0.280</td>\n",
       "      <td>12.000</td>\n",
       "      <td>0.070</td>\n",
       "      <td>1.88000</td>\n",
       "      <td>5.08000</td>\n",
       "      <td>1.01000</td>\n",
       "      <td>...</td>\n",
       "      <td>194.00000</td>\n",
       "      <td>83.0000</td>\n",
       "      <td>356.00000</td>\n",
       "      <td>89.5000</td>\n",
       "      <td>762.000</td>\n",
       "      <td>144.00000</td>\n",
       "      <td>1832.00000</td>\n",
       "      <td>12894.0</td>\n",
       "      <td>308.0</td>\n",
       "      <td>127.0</td>\n",
       "    </tr>\n",
       "    <tr>\n",
       "      <th>4</th>\n",
       "      <td>4</td>\n",
       "      <td>222.0</td>\n",
       "      <td>0.0</td>\n",
       "      <td>4.93</td>\n",
       "      <td>0.070</td>\n",
       "      <td>16.500</td>\n",
       "      <td>0.150</td>\n",
       "      <td>2.32000</td>\n",
       "      <td>8.23000</td>\n",
       "      <td>1.52000</td>\n",
       "      <td>...</td>\n",
       "      <td>257.00000</td>\n",
       "      <td>106.1375</td>\n",
       "      <td>437.54375</td>\n",
       "      <td>97.8675</td>\n",
       "      <td>936.000</td>\n",
       "      <td>171.00000</td>\n",
       "      <td>2355.00000</td>\n",
       "      <td>12535.0</td>\n",
       "      <td>348.0</td>\n",
       "      <td>155.0</td>\n",
       "    </tr>\n",
       "  </tbody>\n",
       "</table>\n",
       "<p>5 rows × 22 columns</p>\n",
       "</div>"
      ],
      "text/plain": [
       "   Unnamed: 0  age_ma  Feature     Ti     La      Ce     Pr       Nd  \\\n",
       "0           0   222.0      0.0   7.88  0.050  10.500  0.050  4.25000   \n",
       "1           1   222.0      0.0  10.90  1.555  61.505  0.725  7.74125   \n",
       "2           2   222.0      0.0   6.00  0.020  25.100  0.300  4.41000   \n",
       "3           3   222.0      0.0   9.06  0.280  12.000  0.070  1.88000   \n",
       "4           4   222.0      0.0   4.93  0.070  16.500  0.150  2.32000   \n",
       "\n",
       "         Sm       Eu  ...         Dy        Ho         Er       Tm       Yb  \\\n",
       "0  11.60000  1.99000  ...  259.21625  106.1375  437.54375  97.8675  936.725   \n",
       "1  12.56125  2.64375  ...  259.21625  106.1375  437.54375  97.8675  936.725   \n",
       "2  12.56125  2.30000  ...  259.21625  106.1375  437.54375  97.8675  936.725   \n",
       "3   5.08000  1.01000  ...  194.00000   83.0000  356.00000  89.5000  762.000   \n",
       "4   8.23000  1.52000  ...  257.00000  106.1375  437.54375  97.8675  936.000   \n",
       "\n",
       "          Lu           Y       Hf      U     Th  \n",
       "0  172.63875  2737.00000  12390.0  305.0  134.0  \n",
       "1  172.63875  2804.03875  12591.0  503.0  272.0  \n",
       "2  172.63875  2804.03875  12724.0  639.0  414.0  \n",
       "3  144.00000  1832.00000  12894.0  308.0  127.0  \n",
       "4  171.00000  2355.00000  12535.0  348.0  155.0  \n",
       "\n",
       "[5 rows x 22 columns]"
      ]
     },
     "execution_count": 3,
     "metadata": {},
     "output_type": "execute_result"
    }
   ],
   "source": [
    "df1.head()"
   ]
  },
  {
   "cell_type": "code",
   "execution_count": 4,
   "id": "73d1e0fb",
   "metadata": {},
   "outputs": [],
   "source": [
    "df1.drop('Unnamed: 0', axis=1, inplace=True)"
   ]
  },
  {
   "cell_type": "code",
   "execution_count": 5,
   "id": "a4c0ce6d",
   "metadata": {},
   "outputs": [
    {
     "data": {
      "text/html": [
       "<div>\n",
       "<style scoped>\n",
       "    .dataframe tbody tr th:only-of-type {\n",
       "        vertical-align: middle;\n",
       "    }\n",
       "\n",
       "    .dataframe tbody tr th {\n",
       "        vertical-align: top;\n",
       "    }\n",
       "\n",
       "    .dataframe thead th {\n",
       "        text-align: right;\n",
       "    }\n",
       "</style>\n",
       "<table border=\"1\" class=\"dataframe\">\n",
       "  <thead>\n",
       "    <tr style=\"text-align: right;\">\n",
       "      <th></th>\n",
       "      <th>age_ma</th>\n",
       "      <th>Feature</th>\n",
       "      <th>Ti</th>\n",
       "      <th>La</th>\n",
       "      <th>Ce</th>\n",
       "      <th>Pr</th>\n",
       "      <th>Nd</th>\n",
       "      <th>Sm</th>\n",
       "      <th>Eu</th>\n",
       "      <th>Gd</th>\n",
       "      <th>...</th>\n",
       "      <th>Dy</th>\n",
       "      <th>Ho</th>\n",
       "      <th>Er</th>\n",
       "      <th>Tm</th>\n",
       "      <th>Yb</th>\n",
       "      <th>Lu</th>\n",
       "      <th>Y</th>\n",
       "      <th>Hf</th>\n",
       "      <th>U</th>\n",
       "      <th>Th</th>\n",
       "    </tr>\n",
       "  </thead>\n",
       "  <tbody>\n",
       "    <tr>\n",
       "      <th>1913</th>\n",
       "      <td>3.8</td>\n",
       "      <td>1.0</td>\n",
       "      <td>6.60</td>\n",
       "      <td>0.01</td>\n",
       "      <td>5.29</td>\n",
       "      <td>0.02</td>\n",
       "      <td>0.35</td>\n",
       "      <td>0.69</td>\n",
       "      <td>0.38</td>\n",
       "      <td>3.14</td>\n",
       "      <td>...</td>\n",
       "      <td>18.00</td>\n",
       "      <td>7.17</td>\n",
       "      <td>40.4</td>\n",
       "      <td>9.84</td>\n",
       "      <td>112.00</td>\n",
       "      <td>26.23</td>\n",
       "      <td>247.30</td>\n",
       "      <td>7350.00</td>\n",
       "      <td>44.60</td>\n",
       "      <td>27.4</td>\n",
       "    </tr>\n",
       "    <tr>\n",
       "      <th>1954</th>\n",
       "      <td>16.0</td>\n",
       "      <td>1.0</td>\n",
       "      <td>1.20</td>\n",
       "      <td>0.01</td>\n",
       "      <td>17.80</td>\n",
       "      <td>0.05</td>\n",
       "      <td>1.00</td>\n",
       "      <td>3.39</td>\n",
       "      <td>1.20</td>\n",
       "      <td>26.80</td>\n",
       "      <td>...</td>\n",
       "      <td>151.00</td>\n",
       "      <td>62.90</td>\n",
       "      <td>322.0</td>\n",
       "      <td>70.90</td>\n",
       "      <td>688.00</td>\n",
       "      <td>147.00</td>\n",
       "      <td>2420.00</td>\n",
       "      <td>10250.00</td>\n",
       "      <td>528.00</td>\n",
       "      <td>316.0</td>\n",
       "    </tr>\n",
       "    <tr>\n",
       "      <th>2569</th>\n",
       "      <td>370.0</td>\n",
       "      <td>1.0</td>\n",
       "      <td>3.44</td>\n",
       "      <td>0.07</td>\n",
       "      <td>5.40</td>\n",
       "      <td>0.05</td>\n",
       "      <td>0.72</td>\n",
       "      <td>1.23</td>\n",
       "      <td>0.78</td>\n",
       "      <td>6.71</td>\n",
       "      <td>...</td>\n",
       "      <td>31.76</td>\n",
       "      <td>13.97</td>\n",
       "      <td>85.3</td>\n",
       "      <td>24.38</td>\n",
       "      <td>331.31</td>\n",
       "      <td>64.79</td>\n",
       "      <td>511.25</td>\n",
       "      <td>6999.07</td>\n",
       "      <td>65.04</td>\n",
       "      <td>29.5</td>\n",
       "    </tr>\n",
       "    <tr>\n",
       "      <th>2002</th>\n",
       "      <td>36.0</td>\n",
       "      <td>1.0</td>\n",
       "      <td>3.80</td>\n",
       "      <td>0.04</td>\n",
       "      <td>14.30</td>\n",
       "      <td>0.02</td>\n",
       "      <td>0.39</td>\n",
       "      <td>0.88</td>\n",
       "      <td>0.45</td>\n",
       "      <td>6.14</td>\n",
       "      <td>...</td>\n",
       "      <td>31.30</td>\n",
       "      <td>14.00</td>\n",
       "      <td>81.1</td>\n",
       "      <td>21.30</td>\n",
       "      <td>252.00</td>\n",
       "      <td>64.00</td>\n",
       "      <td>489.00</td>\n",
       "      <td>10693.00</td>\n",
       "      <td>313.00</td>\n",
       "      <td>249.0</td>\n",
       "    </tr>\n",
       "    <tr>\n",
       "      <th>640</th>\n",
       "      <td>254.0</td>\n",
       "      <td>0.0</td>\n",
       "      <td>11.60</td>\n",
       "      <td>0.01</td>\n",
       "      <td>1.02</td>\n",
       "      <td>0.03</td>\n",
       "      <td>1.02</td>\n",
       "      <td>2.97</td>\n",
       "      <td>0.07</td>\n",
       "      <td>23.10</td>\n",
       "      <td>...</td>\n",
       "      <td>134.00</td>\n",
       "      <td>55.00</td>\n",
       "      <td>254.0</td>\n",
       "      <td>56.60</td>\n",
       "      <td>525.00</td>\n",
       "      <td>90.20</td>\n",
       "      <td>1631.00</td>\n",
       "      <td>12496.00</td>\n",
       "      <td>208.00</td>\n",
       "      <td>58.5</td>\n",
       "    </tr>\n",
       "  </tbody>\n",
       "</table>\n",
       "<p>5 rows × 21 columns</p>\n",
       "</div>"
      ],
      "text/plain": [
       "      age_ma  Feature     Ti    La     Ce    Pr    Nd    Sm    Eu     Gd  ...  \\\n",
       "1913     3.8      1.0   6.60  0.01   5.29  0.02  0.35  0.69  0.38   3.14  ...   \n",
       "1954    16.0      1.0   1.20  0.01  17.80  0.05  1.00  3.39  1.20  26.80  ...   \n",
       "2569   370.0      1.0   3.44  0.07   5.40  0.05  0.72  1.23  0.78   6.71  ...   \n",
       "2002    36.0      1.0   3.80  0.04  14.30  0.02  0.39  0.88  0.45   6.14  ...   \n",
       "640    254.0      0.0  11.60  0.01   1.02  0.03  1.02  2.97  0.07  23.10  ...   \n",
       "\n",
       "          Dy     Ho     Er     Tm      Yb      Lu        Y        Hf       U  \\\n",
       "1913   18.00   7.17   40.4   9.84  112.00   26.23   247.30   7350.00   44.60   \n",
       "1954  151.00  62.90  322.0  70.90  688.00  147.00  2420.00  10250.00  528.00   \n",
       "2569   31.76  13.97   85.3  24.38  331.31   64.79   511.25   6999.07   65.04   \n",
       "2002   31.30  14.00   81.1  21.30  252.00   64.00   489.00  10693.00  313.00   \n",
       "640   134.00  55.00  254.0  56.60  525.00   90.20  1631.00  12496.00  208.00   \n",
       "\n",
       "         Th  \n",
       "1913   27.4  \n",
       "1954  316.0  \n",
       "2569   29.5  \n",
       "2002  249.0  \n",
       "640    58.5  \n",
       "\n",
       "[5 rows x 21 columns]"
      ]
     },
     "execution_count": 5,
     "metadata": {},
     "output_type": "execute_result"
    }
   ],
   "source": [
    "df1.sample(5)"
   ]
  },
  {
   "cell_type": "code",
   "execution_count": 6,
   "id": "49eb0f1c",
   "metadata": {},
   "outputs": [],
   "source": [
    "X = df1.drop('Feature', axis=1).values\n",
    "y = df1.Feature.values.astype(int)"
   ]
  },
  {
   "cell_type": "markdown",
   "id": "524f0447",
   "metadata": {},
   "source": [
    "### Splitting the dataset"
   ]
  },
  {
   "cell_type": "code",
   "execution_count": 7,
   "id": "4d3ac7ab",
   "metadata": {},
   "outputs": [],
   "source": [
    "X_train, X_test, y_train, y_test = train_test_split(X, y, test_size=0.2, shuffle=True)"
   ]
  },
  {
   "cell_type": "markdown",
   "id": "53573d63",
   "metadata": {},
   "source": [
    "### Scaling the data using Standard Scaler"
   ]
  },
  {
   "cell_type": "code",
   "execution_count": 8,
   "id": "b551ad2f",
   "metadata": {},
   "outputs": [],
   "source": [
    "scaler = StandardScaler()\n",
    "\n",
    "X_train_scaled = scaler.fit_transform(X_train)\n",
    "X_test_scaled = scaler.transform(X_test)"
   ]
  },
  {
   "cell_type": "code",
   "execution_count": 9,
   "id": "ca2db6cb",
   "metadata": {},
   "outputs": [
    {
     "data": {
      "text/plain": [
       "(2390, 20)"
      ]
     },
     "execution_count": 9,
     "metadata": {},
     "output_type": "execute_result"
    }
   ],
   "source": [
    "X_train_scaled.shape"
   ]
  },
  {
   "cell_type": "code",
   "execution_count": null,
   "id": "30d8a42e",
   "metadata": {},
   "outputs": [],
   "source": []
  },
  {
   "cell_type": "markdown",
   "id": "f23c7c2e",
   "metadata": {},
   "source": [
    "### Fitting the base model of SVM"
   ]
  },
  {
   "cell_type": "code",
   "execution_count": 10,
   "id": "7cea49d6",
   "metadata": {},
   "outputs": [],
   "source": [
    "svm_base = svm.SVC()"
   ]
  },
  {
   "cell_type": "code",
   "execution_count": 11,
   "id": "0289c979",
   "metadata": {},
   "outputs": [
    {
     "data": {
      "text/html": [
       "<style>#sk-container-id-1 {color: black;}#sk-container-id-1 pre{padding: 0;}#sk-container-id-1 div.sk-toggleable {background-color: white;}#sk-container-id-1 label.sk-toggleable__label {cursor: pointer;display: block;width: 100%;margin-bottom: 0;padding: 0.3em;box-sizing: border-box;text-align: center;}#sk-container-id-1 label.sk-toggleable__label-arrow:before {content: \"▸\";float: left;margin-right: 0.25em;color: #696969;}#sk-container-id-1 label.sk-toggleable__label-arrow:hover:before {color: black;}#sk-container-id-1 div.sk-estimator:hover label.sk-toggleable__label-arrow:before {color: black;}#sk-container-id-1 div.sk-toggleable__content {max-height: 0;max-width: 0;overflow: hidden;text-align: left;background-color: #f0f8ff;}#sk-container-id-1 div.sk-toggleable__content pre {margin: 0.2em;color: black;border-radius: 0.25em;background-color: #f0f8ff;}#sk-container-id-1 input.sk-toggleable__control:checked~div.sk-toggleable__content {max-height: 200px;max-width: 100%;overflow: auto;}#sk-container-id-1 input.sk-toggleable__control:checked~label.sk-toggleable__label-arrow:before {content: \"▾\";}#sk-container-id-1 div.sk-estimator input.sk-toggleable__control:checked~label.sk-toggleable__label {background-color: #d4ebff;}#sk-container-id-1 div.sk-label input.sk-toggleable__control:checked~label.sk-toggleable__label {background-color: #d4ebff;}#sk-container-id-1 input.sk-hidden--visually {border: 0;clip: rect(1px 1px 1px 1px);clip: rect(1px, 1px, 1px, 1px);height: 1px;margin: -1px;overflow: hidden;padding: 0;position: absolute;width: 1px;}#sk-container-id-1 div.sk-estimator {font-family: monospace;background-color: #f0f8ff;border: 1px dotted black;border-radius: 0.25em;box-sizing: border-box;margin-bottom: 0.5em;}#sk-container-id-1 div.sk-estimator:hover {background-color: #d4ebff;}#sk-container-id-1 div.sk-parallel-item::after {content: \"\";width: 100%;border-bottom: 1px solid gray;flex-grow: 1;}#sk-container-id-1 div.sk-label:hover label.sk-toggleable__label {background-color: #d4ebff;}#sk-container-id-1 div.sk-serial::before {content: \"\";position: absolute;border-left: 1px solid gray;box-sizing: border-box;top: 0;bottom: 0;left: 50%;z-index: 0;}#sk-container-id-1 div.sk-serial {display: flex;flex-direction: column;align-items: center;background-color: white;padding-right: 0.2em;padding-left: 0.2em;position: relative;}#sk-container-id-1 div.sk-item {position: relative;z-index: 1;}#sk-container-id-1 div.sk-parallel {display: flex;align-items: stretch;justify-content: center;background-color: white;position: relative;}#sk-container-id-1 div.sk-item::before, #sk-container-id-1 div.sk-parallel-item::before {content: \"\";position: absolute;border-left: 1px solid gray;box-sizing: border-box;top: 0;bottom: 0;left: 50%;z-index: -1;}#sk-container-id-1 div.sk-parallel-item {display: flex;flex-direction: column;z-index: 1;position: relative;background-color: white;}#sk-container-id-1 div.sk-parallel-item:first-child::after {align-self: flex-end;width: 50%;}#sk-container-id-1 div.sk-parallel-item:last-child::after {align-self: flex-start;width: 50%;}#sk-container-id-1 div.sk-parallel-item:only-child::after {width: 0;}#sk-container-id-1 div.sk-dashed-wrapped {border: 1px dashed gray;margin: 0 0.4em 0.5em 0.4em;box-sizing: border-box;padding-bottom: 0.4em;background-color: white;}#sk-container-id-1 div.sk-label label {font-family: monospace;font-weight: bold;display: inline-block;line-height: 1.2em;}#sk-container-id-1 div.sk-label-container {text-align: center;}#sk-container-id-1 div.sk-container {/* jupyter's `normalize.less` sets `[hidden] { display: none; }` but bootstrap.min.css set `[hidden] { display: none !important; }` so we also need the `!important` here to be able to override the default hidden behavior on the sphinx rendered scikit-learn.org. See: https://github.com/scikit-learn/scikit-learn/issues/21755 */display: inline-block !important;position: relative;}#sk-container-id-1 div.sk-text-repr-fallback {display: none;}</style><div id=\"sk-container-id-1\" class=\"sk-top-container\"><div class=\"sk-text-repr-fallback\"><pre>SVC()</pre><b>In a Jupyter environment, please rerun this cell to show the HTML representation or trust the notebook. <br />On GitHub, the HTML representation is unable to render, please try loading this page with nbviewer.org.</b></div><div class=\"sk-container\" hidden><div class=\"sk-item\"><div class=\"sk-estimator sk-toggleable\"><input class=\"sk-toggleable__control sk-hidden--visually\" id=\"sk-estimator-id-1\" type=\"checkbox\" checked><label for=\"sk-estimator-id-1\" class=\"sk-toggleable__label sk-toggleable__label-arrow\">SVC</label><div class=\"sk-toggleable__content\"><pre>SVC()</pre></div></div></div></div></div>"
      ],
      "text/plain": [
       "SVC()"
      ]
     },
     "execution_count": 11,
     "metadata": {},
     "output_type": "execute_result"
    }
   ],
   "source": [
    "svm_base.fit(X_train_scaled, y_train)"
   ]
  },
  {
   "cell_type": "code",
   "execution_count": 12,
   "id": "a384f0f8",
   "metadata": {},
   "outputs": [],
   "source": [
    "y_pred = svm_base.predict(X_test_scaled)"
   ]
  },
  {
   "cell_type": "code",
   "execution_count": 13,
   "id": "9b0bc04a",
   "metadata": {},
   "outputs": [
    {
     "name": "stdout",
     "output_type": "stream",
     "text": [
      "Accuracy of test set on base model:  0.91\n"
     ]
    }
   ],
   "source": [
    "print(\"Accuracy of test set on base model: \", round(accuracy_score(y_test, y_pred), 2))"
   ]
  },
  {
   "cell_type": "code",
   "execution_count": 14,
   "id": "c83f3c34",
   "metadata": {
    "scrolled": true
   },
   "outputs": [
    {
     "name": "stdout",
     "output_type": "stream",
     "text": [
      "Classification report of test set: \n",
      "\n",
      "               precision    recall  f1-score   support\n",
      "\n",
      "           0       0.95      0.89      0.92       341\n",
      "           1       0.86      0.94      0.90       257\n",
      "\n",
      "    accuracy                           0.91       598\n",
      "   macro avg       0.91      0.91      0.91       598\n",
      "weighted avg       0.91      0.91      0.91       598\n",
      "\n"
     ]
    }
   ],
   "source": [
    "print(\"Classification report of test set: \\n\\n\", classification_report(y_test, y_pred))"
   ]
  },
  {
   "cell_type": "code",
   "execution_count": 15,
   "id": "e8289378",
   "metadata": {},
   "outputs": [
    {
     "data": {
      "text/plain": [
       "<sklearn.metrics._plot.confusion_matrix.ConfusionMatrixDisplay at 0x168c65be0>"
      ]
     },
     "execution_count": 15,
     "metadata": {},
     "output_type": "execute_result"
    },
    {
     "data": {
      "image/png": "[encoded data removed]",
      "text/plain": [
       "<Figure size 640x480 with 2 Axes>"
      ]
     },
     "metadata": {},
     "output_type": "display_data"
    }
   ],
   "source": [
    "cm = confusion_matrix(y_test, y_pred)\n",
    "\n",
    "ConfusionMatrixDisplay(cm, display_labels=['Barren', 'Fertile']).plot()"
   ]
  },
  {
   "cell_type": "code",
   "execution_count": null,
   "id": "30a24315",
   "metadata": {},
   "outputs": [],
   "source": []
  },
  {
   "cell_type": "markdown",
   "id": "2dcbdc68",
   "metadata": {},
   "source": [
    "### Hyper-parameter tuning"
   ]
  },
  {
   "cell_type": "markdown",
   "id": "dd4f6382",
   "metadata": {},
   "source": [
    "### Grid Search Optimization with stratified K-fold Cross Validation"
   ]
  },
  {
   "cell_type": "code",
   "execution_count": 16,
   "id": "1772d20e",
   "metadata": {},
   "outputs": [],
   "source": [
    "Stratified_kf = StratifiedKFold(n_splits=10, shuffle=True)"
   ]
  },
  {
   "cell_type": "code",
   "execution_count": 17,
   "id": "eaa7aa38",
   "metadata": {},
   "outputs": [],
   "source": [
    "param_grid = {\n",
    "    'C': np.arange(0, 6, 1),\n",
    "    'kernel': ['linear', 'poly', 'rbf', 'sigmoid'],\n",
    "    'degree': [3, 4],\n",
    "    'gamma': ['scale', 'auto']\n",
    "}"
   ]
  },
  {
   "cell_type": "code",
   "execution_count": 18,
   "id": "eea6b9a6",
   "metadata": {},
   "outputs": [],
   "source": [
    "clf = GridSearchCV(estimator = svm.SVC(), cv = Stratified_kf, param_grid = param_grid, \n",
    "                   n_jobs = -1, verbose = 10, return_train_score = True)"
   ]
  },
  {
   "cell_type": "code",
   "execution_count": 19,
   "id": "90fe8272",
   "metadata": {},
   "outputs": [
    {
     "name": "stdout",
     "output_type": "stream",
     "text": [
      "Fitting 10 folds for each of 96 candidates, totalling 960 fits\n",
      "[CV 1/10; 1/96] START C=0, degree=3, gamma=scale, kernel=linear.................\n",
      "[CV 1/10; 1/96] END C=0, degree=3, gamma=scale, kernel=linear;, score=(train=nan, test=nan) total time=   0.0s\n",
      "[CV 9/10; 1/96] START C=0, degree=3, gamma=scale, kernel=linear.................\n",
      "[CV 9/10; 1/96] END C=0, degree=3, gamma=scale, kernel=linear;, score=(train=nan, test=nan) total time=   0.0s\n",
      "[CV 10/10; 1/96] START C=0, degree=3, gamma=scale, kernel=linear................\n",
      "[CV 10/10; 1/96] END C=0, degree=3, gamma=scale, kernel=linear;, score=(train=nan, test=nan) total time=   0.0s\n",
      "[CV 1/10; 2/96] START C=0, degree=3, gamma=scale, kernel=poly...................\n",
      "[CV 1/10; 2/96] END C=0, degree=3, gamma=scale, kernel=poly;, score=(train=nan, test=nan) total time=   0.0s\n",
      "[CV 2/10; 2/96] START C=0, degree=3, gamma=scale, kernel=poly...................\n",
      "[CV 2/10; 2/96] END C=0, degree=3, gamma=scale, kernel=poly;, score=(train=nan, test=nan) total time=   0.0s\n",
      "[CV 3/10; 2/96] START C=0, degree=3, gamma=scale, kernel=poly...................\n",
      "[CV 3/10; 2/96] END C=0, degree=3, gamma=scale, kernel=poly;, score=(train=nan, test=nan) total time=   0.0s\n",
      "[CV 4/10; 2/96] START C=0, degree=3, gamma=scale, kernel=poly...................\n",
      "[CV 4/10; 2/96] END C=0, degree=3, gamma=scale, kernel=poly;, score=(train=nan, test=nan) total time=   0.0s\n",
      "[CV 5/10; 2/96] START C=0, degree=3, gamma=scale, kernel=poly...................\n",
      "[CV 5/10; 2/96] END C=0, degree=3, gamma=scale, kernel=poly;, score=(train=nan, test=nan) total time=   0.0s\n",
      "[CV 6/10; 2/96] START C=0, degree=3, gamma=scale, kernel=poly...................\n",
      "[CV 6/10; 2/96] END C=0, degree=3, gamma=scale, kernel=poly;, score=(train=nan, test=nan) total time=   0.0s\n",
      "[CV 7/10; 2/96] START C=0, degree=3, gamma=scale, kernel=poly...................\n",
      "[CV 7/10; 2/96] END C=0, degree=3, gamma=scale, kernel=poly;, score=(train=nan, test=nan) total time=   0.0s\n",
      "[CV 8/10; 2/96] START C=0, degree=3, gamma=scale, kernel=poly...................\n",
      "[CV 8/10; 2/96] END C=0, degree=3, gamma=scale, kernel=poly;, score=(train=nan, test=nan) total time=   0.0s\n",
      "[CV 9/10; 2/96] START C=0, degree=3, gamma=scale, kernel=poly...................\n",
      "[CV 9/10; 2/96] END C=0, degree=3, gamma=scale, kernel=poly;, score=(train=nan, test=nan) total time=   0.0s\n",
      "[CV 10/10; 2/96] START C=0, degree=3, gamma=scale, kernel=poly..................\n",
      "[CV 10/10; 2/96] END C=0, degree=3, gamma=scale, kernel=poly;, score=(train=nan, test=nan) total time=   0.0s\n",
      "[CV 1/10; 3/96] START C=0, degree=3, gamma=scale, kernel=rbf....................\n",
      "[CV 1/10; 3/96] END C=0, degree=3, gamma=scale, kernel=rbf;, score=(train=nan, test=nan) total time=   0.0s\n",
      "[CV 2/10; 3/96] START C=0, degree=3, gamma=scale, kernel=rbf....................\n",
      "[CV 2/10; 3/96] END C=0, degree=3, gamma=scale, kernel=rbf;, score=(train=nan, test=nan) total time=   0.0s\n",
      "[CV 3/10; 3/96] START C=0, degree=3, gamma=scale, kernel=rbf....................\n",
      "[CV 3/10; 3/96] END C=0, degree=3, gamma=scale, kernel=rbf;, score=(train=nan, test=nan) total time=   0.0s\n",
      "[CV 4/10; 3/96] START C=0, degree=3, gamma=scale, kernel=rbf....................\n",
      "[CV 4/10; 3/96] END C=0, degree=3, gamma=scale, kernel=rbf;, score=(train=nan, test=nan) total time=   0.0s\n",
      "[CV 5/10; 3/96] START C=0, degree=3, gamma=scale, kernel=rbf....................\n",
      "[CV 5/10; 3/96] END C=0, degree=3, gamma=scale, kernel=rbf;, score=(train=nan, test=nan) total time=   0.0s\n",
      "[CV 6/10; 3/96] START C=0, degree=3, gamma=scale, kernel=rbf....................\n",
      "[CV 6/10; 3/96] END C=0, degree=3, gamma=scale, kernel=rbf;, score=(train=nan, test=nan) total time=   0.0s\n",
      "[CV 7/10; 3/96] START C=0, degree=3, gamma=scale, kernel=rbf....................\n",
      "[CV 7/10; 3/96] END C=0, degree=3, gamma=scale, kernel=rbf;, score=(train=nan, test=nan) total time=   0.0s\n",
      "[CV 8/10; 3/96] START C=0, degree=3, gamma=scale, kernel=rbf....................\n",
      "[CV 8/10; 3/96] END C=0, degree=3, gamma=scale, kernel=rbf;, score=(train=nan, test=nan) total time=   0.0s\n",
      "[CV 9/10; 3/96] START C=0, degree=3, gamma=scale, kernel=rbf....................\n",
      "[CV 9/10; 3/96] END C=0, degree=3, gamma=scale, kernel=rbf;, score=(train=nan, test=nan) total time=   0.0s\n",
      "[CV 10/10; 3/96] START C=0, degree=3, gamma=scale, kernel=rbf...................\n",
      "[CV 10/10; 3/96] END C=0, degree=3, gamma=scale, kernel=rbf;, score=(train=nan, test=nan) total time=   0.0s\n",
      "[CV 2/10; 4/96] START C=0, degree=3, gamma=scale, kernel=sigmoid................\n",
      "[CV 2/10; 4/96] END C=0, degree=3, gamma=scale, kernel=sigmoid;, score=(train=nan, test=nan) total time=   0.0s\n",
      "[CV 4/10; 4/96] START C=0, degree=3, gamma=scale, kernel=sigmoid................\n",
      "[CV 4/10; 4/96] END C=0, degree=3, gamma=scale, kernel=sigmoid;, score=(train=nan, test=nan) total time=   0.0s\n",
      "[CV 6/10; 4/96] START C=0, degree=3, gamma=scale, kernel=sigmoid................\n",
      "[CV 6/10; 4/96] END C=0, degree=3, gamma=scale, kernel=sigmoid;, score=(train=nan, test=nan) total time=   0.0s\n",
      "[CV 8/10; 5/96] START C=0, degree=3, gamma=auto, kernel=linear..................\n",
      "[CV 8/10; 5/96] END C=0, degree=3, gamma=auto, kernel=linear;, score=(train=nan, test=nan) total time=   0.0s\n",
      "[CV 1/10; 6/96] START C=0, degree=3, gamma=auto, kernel=poly....................\n",
      "[CV 1/10; 6/96] END C=0, degree=3, gamma=auto, kernel=poly;, score=(train=nan, test=nan) total time=   0.0s\n",
      "[CV 2/10; 6/96] START C=0, degree=3, gamma=auto, kernel=poly....................\n",
      "[CV 2/10; 6/96] END C=0, degree=3, gamma=auto, kernel=poly;, score=(train=nan, test=nan) total time=   0.0s\n",
      "[CV 5/10; 6/96] START C=0, degree=3, gamma=auto, kernel=poly....................\n",
      "[CV 5/10; 6/96] END C=0, degree=3, gamma=auto, kernel=poly;, score=(train=nan, test=nan) total time=   0.0s\n",
      "[CV 6/10; 6/96] START C=0, degree=3, gamma=auto, kernel=poly....................\n",
      "[CV 6/10; 6/96] END C=0, degree=3, gamma=auto, kernel=poly;, score=(train=nan, test=nan) total time=   0.0s\n",
      "[CV 7/10; 8/96] START C=0, degree=3, gamma=auto, kernel=sigmoid.................\n",
      "[CV 7/10; 8/96] END C=0, degree=3, gamma=auto, kernel=sigmoid;, score=(train=nan, test=nan) total time=   0.0s\n",
      "[CV 8/10; 8/96] START C=0, degree=3, gamma=auto, kernel=sigmoid.................\n",
      "[CV 8/10; 8/96] END C=0, degree=3, gamma=auto, kernel=sigmoid;, score=(train=nan, test=nan) total time=   0.0s\n",
      "[CV 1/10; 11/96] START C=0, degree=4, gamma=scale, kernel=rbf...................\n",
      "[CV 1/10; 11/96] END C=0, degree=4, gamma=scale, kernel=rbf;, score=(train=nan, test=nan) total time=   0.0s\n",
      "[CV 2/10; 11/96] START C=0, degree=4, gamma=scale, kernel=rbf...................\n",
      "[CV 2/10; 11/96] END C=0, degree=4, gamma=scale, kernel=rbf;, score=(train=nan, test=nan) total time=   0.0s\n",
      "[CV 3/10; 11/96] START C=0, degree=4, gamma=scale, kernel=rbf...................\n",
      "[CV 3/10; 11/96] END C=0, degree=4, gamma=scale, kernel=rbf;, score=(train=nan, test=nan) total time=   0.0s\n",
      "[CV 4/10; 11/96] START C=0, degree=4, gamma=scale, kernel=rbf...................\n",
      "[CV 4/10; 11/96] END C=0, degree=4, gamma=scale, kernel=rbf;, score=(train=nan, test=nan) total time=   0.0s\n",
      "[CV 9/10; 11/96] START C=0, degree=4, gamma=scale, kernel=rbf...................\n",
      "[CV 9/10; 11/96] END C=0, degree=4, gamma=scale, kernel=rbf;, score=(train=nan, test=nan) total time=   0.0s\n",
      "[CV 10/10; 11/96] START C=0, degree=4, gamma=scale, kernel=rbf..................\n",
      "[CV 10/10; 11/96] END C=0, degree=4, gamma=scale, kernel=rbf;, score=(train=nan, test=nan) total time=   0.0s\n",
      "[CV 1/10; 12/96] START C=0, degree=4, gamma=scale, kernel=sigmoid...............\n",
      "[CV 1/10; 12/96] END C=0, degree=4, gamma=scale, kernel=sigmoid;, score=(train=nan, test=nan) total time=   0.0s\n",
      "[CV 2/10; 12/96] START C=0, degree=4, gamma=scale, kernel=sigmoid...............\n",
      "[CV 2/10; 12/96] END C=0, degree=4, gamma=scale, kernel=sigmoid;, score=(train=nan, test=nan) total time=   0.0s\n",
      "[CV 1/10; 13/96] START C=0, degree=4, gamma=auto, kernel=linear.................\n",
      "[CV 1/10; 13/96] END C=0, degree=4, gamma=auto, kernel=linear;, score=(train=nan, test=nan) total time=   0.0s\n",
      "[CV 2/10; 13/96] START C=0, degree=4, gamma=auto, kernel=linear.................\n",
      "[CV 2/10; 13/96] END C=0, degree=4, gamma=auto, kernel=linear;, score=(train=nan, test=nan) total time=   0.0s\n",
      "[CV 3/10; 13/96] START C=0, degree=4, gamma=auto, kernel=linear.................\n",
      "[CV 3/10; 13/96] END C=0, degree=4, gamma=auto, kernel=linear;, score=(train=nan, test=nan) total time=   0.0s\n",
      "[CV 4/10; 13/96] START C=0, degree=4, gamma=auto, kernel=linear.................\n",
      "[CV 4/10; 13/96] END C=0, degree=4, gamma=auto, kernel=linear;, score=(train=nan, test=nan) total time=   0.0s\n",
      "[CV 7/10; 14/96] START C=0, degree=4, gamma=auto, kernel=poly...................\n",
      "[CV 7/10; 14/96] END C=0, degree=4, gamma=auto, kernel=poly;, score=(train=nan, test=nan) total time=   0.0s\n",
      "[CV 8/10; 14/96] START C=0, degree=4, gamma=auto, kernel=poly...................\n",
      "[CV 8/10; 14/96] END C=0, degree=4, gamma=auto, kernel=poly;, score=(train=nan, test=nan) total time=   0.0s\n",
      "[CV 9/10; 14/96] START C=0, degree=4, gamma=auto, kernel=poly...................\n",
      "[CV 9/10; 14/96] END C=0, degree=4, gamma=auto, kernel=poly;, score=(train=nan, test=nan) total time=   0.0s\n",
      "[CV 10/10; 14/96] START C=0, degree=4, gamma=auto, kernel=poly..................\n",
      "[CV 10/10; 14/96] END C=0, degree=4, gamma=auto, kernel=poly;, score=(train=nan, test=nan) total time=   0.0s\n",
      "[CV 5/10; 15/96] START C=0, degree=4, gamma=auto, kernel=rbf....................\n",
      "[CV 5/10; 15/96] END C=0, degree=4, gamma=auto, kernel=rbf;, score=(train=nan, test=nan) total time=   0.0s\n",
      "[CV 6/10; 15/96] START C=0, degree=4, gamma=auto, kernel=rbf....................\n",
      "[CV 6/10; 15/96] END C=0, degree=4, gamma=auto, kernel=rbf;, score=(train=nan, test=nan) total time=   0.0s\n",
      "[CV 7/10; 15/96] START C=0, degree=4, gamma=auto, kernel=rbf....................\n",
      "[CV 7/10; 15/96] END C=0, degree=4, gamma=auto, kernel=rbf;, score=(train=nan, test=nan) total time=   0.0s\n",
      "[CV 8/10; 15/96] START C=0, degree=4, gamma=auto, kernel=rbf....................\n",
      "[CV 8/10; 15/96] END C=0, degree=4, gamma=auto, kernel=rbf;, score=(train=nan, test=nan) total time=   0.0s\n",
      "[CV 9/10; 15/96] START C=0, degree=4, gamma=auto, kernel=rbf....................\n",
      "[CV 9/10; 15/96] END C=0, degree=4, gamma=auto, kernel=rbf;, score=(train=nan, test=nan) total time=   0.0s\n",
      "[CV 10/10; 15/96] START C=0, degree=4, gamma=auto, kernel=rbf...................\n",
      "[CV 10/10; 15/96] END C=0, degree=4, gamma=auto, kernel=rbf;, score=(train=nan, test=nan) total time=   0.0s\n",
      "[CV 1/10; 16/96] START C=0, degree=4, gamma=auto, kernel=sigmoid................\n",
      "[CV 1/10; 16/96] END C=0, degree=4, gamma=auto, kernel=sigmoid;, score=(train=nan, test=nan) total time=   0.0s\n",
      "[CV 2/10; 16/96] START C=0, degree=4, gamma=auto, kernel=sigmoid................\n",
      "[CV 2/10; 16/96] END C=0, degree=4, gamma=auto, kernel=sigmoid;, score=(train=nan, test=nan) total time=   0.0s\n",
      "[CV 1/10; 21/96] START C=1, degree=3, gamma=auto, kernel=linear.................\n",
      "[CV 1/10; 21/96] END C=1, degree=3, gamma=auto, kernel=linear;, score=(train=0.886, test=0.874) total time=   0.1s\n",
      "[CV 2/10; 21/96] START C=1, degree=3, gamma=auto, kernel=linear.................\n",
      "[CV 2/10; 21/96] END C=1, degree=3, gamma=auto, kernel=linear;, score=(train=0.886, test=0.874) total time=   0.2s\n",
      "[CV 3/10; 21/96] START C=1, degree=3, gamma=auto, kernel=linear.................\n",
      "[CV 3/10; 21/96] END C=1, degree=3, gamma=auto, kernel=linear;, score=(train=0.884, test=0.900) total time=   0.2s\n",
      "[CV 4/10; 21/96] START C=1, degree=3, gamma=auto, kernel=linear.................\n",
      "[CV 4/10; 21/96] END C=1, degree=3, gamma=auto, kernel=linear;, score=(train=0.886, test=0.887) total time=   0.1s\n",
      "[CV 5/10; 21/96] START C=1, degree=3, gamma=auto, kernel=linear.................\n",
      "[CV 5/10; 21/96] END C=1, degree=3, gamma=auto, kernel=linear;, score=(train=0.885, test=0.887) total time=   0.1s\n",
      "[CV 6/10; 21/96] START C=1, degree=3, gamma=auto, kernel=linear.................\n",
      "[CV 6/10; 21/96] END C=1, degree=3, gamma=auto, kernel=linear;, score=(train=0.883, test=0.883) total time=   0.1s\n",
      "[CV 7/10; 21/96] START C=1, degree=3, gamma=auto, kernel=linear.................\n",
      "[CV 7/10; 21/96] END C=1, degree=3, gamma=auto, kernel=linear;, score=(train=0.884, test=0.874) total time=   0.1s\n",
      "[CV 8/10; 21/96] START C=1, degree=3, gamma=auto, kernel=linear.................\n",
      "[CV 8/10; 21/96] END C=1, degree=3, gamma=auto, kernel=linear;, score=(train=0.883, test=0.904) total time=   0.1s\n",
      "[CV 3/10; 24/96] START C=1, degree=3, gamma=auto, kernel=sigmoid................\n",
      "[CV 3/10; 24/96] END C=1, degree=3, gamma=auto, kernel=sigmoid;, score=(train=0.724, test=0.728) total time=   0.1s\n",
      "[CV 4/10; 24/96] START C=1, degree=3, gamma=auto, kernel=sigmoid................\n",
      "[CV 4/10; 24/96] END C=1, degree=3, gamma=auto, kernel=sigmoid;, score=(train=0.718, test=0.770) total time=   0.1s\n",
      "[CV 5/10; 24/96] START C=1, degree=3, gamma=auto, kernel=sigmoid................\n",
      "[CV 5/10; 24/96] END C=1, degree=3, gamma=auto, kernel=sigmoid;, score=(train=0.723, test=0.757) total time=   0.2s\n",
      "[CV 6/10; 24/96] START C=1, degree=3, gamma=auto, kernel=sigmoid................\n",
      "[CV 6/10; 24/96] END C=1, degree=3, gamma=auto, kernel=sigmoid;, score=(train=0.770, test=0.782) total time=   0.1s\n",
      "[CV 7/10; 24/96] START C=1, degree=3, gamma=auto, kernel=sigmoid................\n",
      "[CV 7/10; 24/96] END C=1, degree=3, gamma=auto, kernel=sigmoid;, score=(train=0.775, test=0.770) total time=   0.2s\n",
      "[CV 8/10; 24/96] START C=1, degree=3, gamma=auto, kernel=sigmoid................\n",
      "[CV 8/10; 24/96] END C=1, degree=3, gamma=auto, kernel=sigmoid;, score=(train=0.724, test=0.736) total time=   0.2s\n",
      "[CV 9/10; 24/96] START C=1, degree=3, gamma=auto, kernel=sigmoid................\n",
      "[CV 9/10; 24/96] END C=1, degree=3, gamma=auto, kernel=sigmoid;, score=(train=0.732, test=0.665) total time=   0.2s\n",
      "[CV 10/10; 24/96] START C=1, degree=3, gamma=auto, kernel=sigmoid...............\n",
      "[CV 10/10; 24/96] END C=1, degree=3, gamma=auto, kernel=sigmoid;, score=(train=0.737, test=0.669) total time=   0.1s\n",
      "[CV 1/10; 33/96] START C=2, degree=3, gamma=scale, kernel=linear................\n",
      "[CV 1/10; 33/96] END C=2, degree=3, gamma=scale, kernel=linear;, score=(train=0.886, test=0.874) total time=   0.2s\n",
      "[CV 2/10; 33/96] START C=2, degree=3, gamma=scale, kernel=linear................\n",
      "[CV 2/10; 33/96] END C=2, degree=3, gamma=scale, kernel=linear;, score=(train=0.886, test=0.874) total time=   0.2s\n",
      "[CV 3/10; 33/96] START C=2, degree=3, gamma=scale, kernel=linear................\n",
      "[CV 3/10; 33/96] END C=2, degree=3, gamma=scale, kernel=linear;, score=(train=0.883, test=0.895) total time=   0.2s\n",
      "[CV 4/10; 33/96] START C=2, degree=3, gamma=scale, kernel=linear................\n",
      "[CV 4/10; 33/96] END C=2, degree=3, gamma=scale, kernel=linear;, score=(train=0.885, test=0.887) total time=   0.2s\n",
      "[CV 5/10; 33/96] START C=2, degree=3, gamma=scale, kernel=linear................\n",
      "[CV 5/10; 33/96] END C=2, degree=3, gamma=scale, kernel=linear;, score=(train=0.887, test=0.883) total time=   0.2s\n",
      "[CV 6/10; 33/96] START C=2, degree=3, gamma=scale, kernel=linear................\n",
      "[CV 6/10; 33/96] END C=2, degree=3, gamma=scale, kernel=linear;, score=(train=0.883, test=0.883) total time=   0.2s\n",
      "[CV 7/10; 33/96] START C=2, degree=3, gamma=scale, kernel=linear................\n",
      "[CV 7/10; 33/96] END C=2, degree=3, gamma=scale, kernel=linear;, score=(train=0.885, test=0.874) total time=   0.2s\n",
      "[CV 8/10; 33/96] START C=2, degree=3, gamma=scale, kernel=linear................\n",
      "[CV 8/10; 33/96] END C=2, degree=3, gamma=scale, kernel=linear;, score=(train=0.884, test=0.904) total time=   0.2s\n",
      "[CV 9/10; 33/96] START C=2, degree=3, gamma=scale, kernel=linear................\n",
      "[CV 9/10; 33/96] END C=2, degree=3, gamma=scale, kernel=linear;, score=(train=0.885, test=0.883) total time=   0.2s\n",
      "[CV 10/10; 33/96] START C=2, degree=3, gamma=scale, kernel=linear...............\n",
      "[CV 10/10; 33/96] END C=2, degree=3, gamma=scale, kernel=linear;, score=(train=0.887, test=0.833) total time=   0.2s\n",
      "[CV 1/10; 34/96] START C=2, degree=3, gamma=scale, kernel=poly..................\n",
      "[CV 1/10; 34/96] END C=2, degree=3, gamma=scale, kernel=poly;, score=(train=0.924, test=0.908) total time=   0.1s\n",
      "[CV 2/10; 34/96] START C=2, degree=3, gamma=scale, kernel=poly..................\n",
      "[CV 2/10; 34/96] END C=2, degree=3, gamma=scale, kernel=poly;, score=(train=0.923, test=0.929) total time=   0.1s\n"
     ]
    },
    {
     "name": "stdout",
     "output_type": "stream",
     "text": [
      "[CV 4/10; 1/96] START C=0, degree=3, gamma=scale, kernel=linear.................\n",
      "[CV 4/10; 1/96] END C=0, degree=3, gamma=scale, kernel=linear;, score=(train=nan, test=nan) total time=   0.0s\n",
      "[CV 7/10; 7/96] START C=0, degree=3, gamma=auto, kernel=rbf.....................\n",
      "[CV 7/10; 7/96] END C=0, degree=3, gamma=auto, kernel=rbf;, score=(train=nan, test=nan) total time=   0.0s\n",
      "[CV 8/10; 7/96] START C=0, degree=3, gamma=auto, kernel=rbf.....................\n",
      "[CV 8/10; 7/96] END C=0, degree=3, gamma=auto, kernel=rbf;, score=(train=nan, test=nan) total time=   0.0s\n",
      "[CV 1/10; 8/96] START C=0, degree=3, gamma=auto, kernel=sigmoid.................\n",
      "[CV 1/10; 8/96] END C=0, degree=3, gamma=auto, kernel=sigmoid;, score=(train=nan, test=nan) total time=   0.0s\n",
      "[CV 2/10; 8/96] START C=0, degree=3, gamma=auto, kernel=sigmoid.................\n",
      "[CV 2/10; 8/96] END C=0, degree=3, gamma=auto, kernel=sigmoid;, score=(train=nan, test=nan) total time=   0.0s\n",
      "[CV 3/10; 10/96] START C=0, degree=4, gamma=scale, kernel=poly..................\n",
      "[CV 3/10; 10/96] END C=0, degree=4, gamma=scale, kernel=poly;, score=(train=nan, test=nan) total time=   0.0s\n",
      "[CV 4/10; 10/96] START C=0, degree=4, gamma=scale, kernel=poly..................\n",
      "[CV 4/10; 10/96] END C=0, degree=4, gamma=scale, kernel=poly;, score=(train=nan, test=nan) total time=   0.0s\n",
      "[CV 5/10; 10/96] START C=0, degree=4, gamma=scale, kernel=poly..................\n",
      "[CV 5/10; 10/96] END C=0, degree=4, gamma=scale, kernel=poly;, score=(train=nan, test=nan) total time=   0.0s\n",
      "[CV 6/10; 10/96] START C=0, degree=4, gamma=scale, kernel=poly..................\n",
      "[CV 6/10; 10/96] END C=0, degree=4, gamma=scale, kernel=poly;, score=(train=nan, test=nan) total time=   0.0s\n",
      "[CV 3/10; 12/96] START C=0, degree=4, gamma=scale, kernel=sigmoid...............\n",
      "[CV 3/10; 12/96] END C=0, degree=4, gamma=scale, kernel=sigmoid;, score=(train=nan, test=nan) total time=   0.0s\n",
      "[CV 4/10; 12/96] START C=0, degree=4, gamma=scale, kernel=sigmoid...............\n",
      "[CV 4/10; 12/96] END C=0, degree=4, gamma=scale, kernel=sigmoid;, score=(train=nan, test=nan) total time=   0.0s\n",
      "[CV 5/10; 12/96] START C=0, degree=4, gamma=scale, kernel=sigmoid...............\n",
      "[CV 5/10; 12/96] END C=0, degree=4, gamma=scale, kernel=sigmoid;, score=(train=nan, test=nan) total time=   0.0s\n",
      "[CV 6/10; 12/96] START C=0, degree=4, gamma=scale, kernel=sigmoid...............\n",
      "[CV 6/10; 12/96] END C=0, degree=4, gamma=scale, kernel=sigmoid;, score=(train=nan, test=nan) total time=   0.0s\n",
      "[CV 5/10; 13/96] START C=0, degree=4, gamma=auto, kernel=linear.................\n",
      "[CV 5/10; 13/96] END C=0, degree=4, gamma=auto, kernel=linear;, score=(train=nan, test=nan) total time=   0.0s\n",
      "[CV 6/10; 13/96] START C=0, degree=4, gamma=auto, kernel=linear.................\n",
      "[CV 6/10; 13/96] END C=0, degree=4, gamma=auto, kernel=linear;, score=(train=nan, test=nan) total time=   0.0s\n",
      "[CV 7/10; 13/96] START C=0, degree=4, gamma=auto, kernel=linear.................\n",
      "[CV 7/10; 13/96] END C=0, degree=4, gamma=auto, kernel=linear;, score=(train=nan, test=nan) total time=   0.0s\n",
      "[CV 8/10; 13/96] START C=0, degree=4, gamma=auto, kernel=linear.................\n",
      "[CV 8/10; 13/96] END C=0, degree=4, gamma=auto, kernel=linear;, score=(train=nan, test=nan) total time=   0.0s\n",
      "[CV 3/10; 14/96] START C=0, degree=4, gamma=auto, kernel=poly...................\n",
      "[CV 3/10; 14/96] END C=0, degree=4, gamma=auto, kernel=poly;, score=(train=nan, test=nan) total time=   0.0s\n",
      "[CV 4/10; 14/96] START C=0, degree=4, gamma=auto, kernel=poly...................\n",
      "[CV 4/10; 14/96] END C=0, degree=4, gamma=auto, kernel=poly;, score=(train=nan, test=nan) total time=   0.0s\n",
      "[CV 5/10; 14/96] START C=0, degree=4, gamma=auto, kernel=poly...................\n",
      "[CV 5/10; 14/96] END C=0, degree=4, gamma=auto, kernel=poly;, score=(train=nan, test=nan) total time=   0.0s\n",
      "[CV 6/10; 14/96] START C=0, degree=4, gamma=auto, kernel=poly...................\n",
      "[CV 6/10; 14/96] END C=0, degree=4, gamma=auto, kernel=poly;, score=(train=nan, test=nan) total time=   0.0s\n",
      "[CV 1/10; 15/96] START C=0, degree=4, gamma=auto, kernel=rbf....................\n",
      "[CV 1/10; 15/96] END C=0, degree=4, gamma=auto, kernel=rbf;, score=(train=nan, test=nan) total time=   0.0s\n",
      "[CV 2/10; 15/96] START C=0, degree=4, gamma=auto, kernel=rbf....................\n",
      "[CV 2/10; 15/96] END C=0, degree=4, gamma=auto, kernel=rbf;, score=(train=nan, test=nan) total time=   0.0s\n",
      "[CV 3/10; 15/96] START C=0, degree=4, gamma=auto, kernel=rbf....................\n",
      "[CV 3/10; 15/96] END C=0, degree=4, gamma=auto, kernel=rbf;, score=(train=nan, test=nan) total time=   0.0s\n",
      "[CV 4/10; 15/96] START C=0, degree=4, gamma=auto, kernel=rbf....................\n",
      "[CV 4/10; 15/96] END C=0, degree=4, gamma=auto, kernel=rbf;, score=(train=nan, test=nan) total time=   0.0s\n",
      "[CV 3/10; 16/96] START C=0, degree=4, gamma=auto, kernel=sigmoid................\n",
      "[CV 3/10; 16/96] END C=0, degree=4, gamma=auto, kernel=sigmoid;, score=(train=nan, test=nan) total time=   0.0s\n",
      "[CV 4/10; 16/96] START C=0, degree=4, gamma=auto, kernel=sigmoid................\n",
      "[CV 4/10; 16/96] END C=0, degree=4, gamma=auto, kernel=sigmoid;, score=(train=nan, test=nan) total time=   0.0s\n",
      "[CV 5/10; 16/96] START C=0, degree=4, gamma=auto, kernel=sigmoid................\n",
      "[CV 5/10; 16/96] END C=0, degree=4, gamma=auto, kernel=sigmoid;, score=(train=nan, test=nan) total time=   0.0s\n",
      "[CV 6/10; 16/96] START C=0, degree=4, gamma=auto, kernel=sigmoid................\n",
      "[CV 6/10; 16/96] END C=0, degree=4, gamma=auto, kernel=sigmoid;, score=(train=nan, test=nan) total time=   0.0s\n",
      "[CV 7/10; 16/96] START C=0, degree=4, gamma=auto, kernel=sigmoid................\n",
      "[CV 7/10; 16/96] END C=0, degree=4, gamma=auto, kernel=sigmoid;, score=(train=nan, test=nan) total time=   0.0s\n",
      "[CV 8/10; 16/96] START C=0, degree=4, gamma=auto, kernel=sigmoid................\n",
      "[CV 8/10; 16/96] END C=0, degree=4, gamma=auto, kernel=sigmoid;, score=(train=nan, test=nan) total time=   0.0s\n",
      "[CV 9/10; 16/96] START C=0, degree=4, gamma=auto, kernel=sigmoid................\n",
      "[CV 9/10; 16/96] END C=0, degree=4, gamma=auto, kernel=sigmoid;, score=(train=nan, test=nan) total time=   0.0s\n",
      "[CV 10/10; 16/96] START C=0, degree=4, gamma=auto, kernel=sigmoid...............\n",
      "[CV 10/10; 16/96] END C=0, degree=4, gamma=auto, kernel=sigmoid;, score=(train=nan, test=nan) total time=   0.0s\n",
      "[CV 9/10; 17/96] START C=1, degree=3, gamma=scale, kernel=linear................\n",
      "[CV 9/10; 17/96] END C=1, degree=3, gamma=scale, kernel=linear;, score=(train=0.887, test=0.879) total time=   0.1s\n",
      "[CV 10/10; 17/96] START C=1, degree=3, gamma=scale, kernel=linear...............\n",
      "[CV 10/10; 17/96] END C=1, degree=3, gamma=scale, kernel=linear;, score=(train=0.888, test=0.828) total time=   0.2s\n",
      "[CV 1/10; 18/96] START C=1, degree=3, gamma=scale, kernel=poly..................\n",
      "[CV 1/10; 18/96] END C=1, degree=3, gamma=scale, kernel=poly;, score=(train=0.915, test=0.891) total time=   0.1s\n",
      "[CV 2/10; 18/96] START C=1, degree=3, gamma=scale, kernel=poly..................\n",
      "[CV 2/10; 18/96] END C=1, degree=3, gamma=scale, kernel=poly;, score=(train=0.914, test=0.929) total time=   0.1s\n",
      "[CV 3/10; 18/96] START C=1, degree=3, gamma=scale, kernel=poly..................\n",
      "[CV 3/10; 18/96] END C=1, degree=3, gamma=scale, kernel=poly;, score=(train=0.916, test=0.904) total time=   0.1s\n",
      "[CV 4/10; 18/96] START C=1, degree=3, gamma=scale, kernel=poly..................\n",
      "[CV 4/10; 18/96] END C=1, degree=3, gamma=scale, kernel=poly;, score=(train=0.915, test=0.912) total time=   0.1s\n",
      "[CV 5/10; 18/96] START C=1, degree=3, gamma=scale, kernel=poly..................\n",
      "[CV 5/10; 18/96] END C=1, degree=3, gamma=scale, kernel=poly;, score=(train=0.919, test=0.912) total time=   0.1s\n",
      "[CV 6/10; 18/96] START C=1, degree=3, gamma=scale, kernel=poly..................\n",
      "[CV 6/10; 18/96] END C=1, degree=3, gamma=scale, kernel=poly;, score=(train=0.913, test=0.912) total time=   0.1s\n",
      "[CV 1/10; 25/96] START C=1, degree=4, gamma=scale, kernel=linear................\n",
      "[CV 1/10; 25/96] END C=1, degree=4, gamma=scale, kernel=linear;, score=(train=0.886, test=0.874) total time=   0.2s\n",
      "[CV 2/10; 25/96] START C=1, degree=4, gamma=scale, kernel=linear................\n",
      "[CV 2/10; 25/96] END C=1, degree=4, gamma=scale, kernel=linear;, score=(train=0.886, test=0.874) total time=   0.1s\n",
      "[CV 3/10; 25/96] START C=1, degree=4, gamma=scale, kernel=linear................\n",
      "[CV 3/10; 25/96] END C=1, degree=4, gamma=scale, kernel=linear;, score=(train=0.884, test=0.900) total time=   0.2s\n",
      "[CV 4/10; 25/96] START C=1, degree=4, gamma=scale, kernel=linear................\n",
      "[CV 4/10; 25/96] END C=1, degree=4, gamma=scale, kernel=linear;, score=(train=0.886, test=0.887) total time=   0.1s\n",
      "[CV 5/10; 25/96] START C=1, degree=4, gamma=scale, kernel=linear................\n",
      "[CV 5/10; 25/96] END C=1, degree=4, gamma=scale, kernel=linear;, score=(train=0.885, test=0.887) total time=   0.2s\n",
      "[CV 6/10; 25/96] START C=1, degree=4, gamma=scale, kernel=linear................\n",
      "[CV 6/10; 25/96] END C=1, degree=4, gamma=scale, kernel=linear;, score=(train=0.883, test=0.883) total time=   0.2s\n",
      "[CV 7/10; 25/96] START C=1, degree=4, gamma=scale, kernel=linear................\n",
      "[CV 7/10; 25/96] END C=1, degree=4, gamma=scale, kernel=linear;, score=(train=0.884, test=0.874) total time=   0.2s\n",
      "[CV 8/10; 25/96] START C=1, degree=4, gamma=scale, kernel=linear................\n",
      "[CV 8/10; 25/96] END C=1, degree=4, gamma=scale, kernel=linear;, score=(train=0.883, test=0.904) total time=   0.2s\n",
      "[CV 5/10; 31/96] START C=1, degree=4, gamma=auto, kernel=rbf....................\n",
      "[CV 5/10; 31/96] END C=1, degree=4, gamma=auto, kernel=rbf;, score=(train=0.936, test=0.904) total time=   0.1s\n",
      "[CV 6/10; 31/96] START C=1, degree=4, gamma=auto, kernel=rbf....................\n",
      "[CV 6/10; 31/96] END C=1, degree=4, gamma=auto, kernel=rbf;, score=(train=0.936, test=0.933) total time=   0.1s\n",
      "[CV 7/10; 31/96] START C=1, degree=4, gamma=auto, kernel=rbf....................\n",
      "[CV 7/10; 31/96] END C=1, degree=4, gamma=auto, kernel=rbf;, score=(train=0.930, test=0.925) total time=   0.1s\n",
      "[CV 8/10; 31/96] START C=1, degree=4, gamma=auto, kernel=rbf....................\n",
      "[CV 8/10; 31/96] END C=1, degree=4, gamma=auto, kernel=rbf;, score=(train=0.934, test=0.912) total time=   0.1s\n",
      "[CV 9/10; 31/96] START C=1, degree=4, gamma=auto, kernel=rbf....................\n",
      "[CV 9/10; 31/96] END C=1, degree=4, gamma=auto, kernel=rbf;, score=(train=0.932, test=0.921) total time=   0.1s\n",
      "[CV 10/10; 31/96] START C=1, degree=4, gamma=auto, kernel=rbf...................\n",
      "[CV 10/10; 31/96] END C=1, degree=4, gamma=auto, kernel=rbf;, score=(train=0.937, test=0.879) total time=   0.1s\n",
      "[CV 1/10; 32/96] START C=1, degree=4, gamma=auto, kernel=sigmoid................\n",
      "[CV 1/10; 32/96] END C=1, degree=4, gamma=auto, kernel=sigmoid;, score=(train=0.772, test=0.778) total time=   0.2s\n",
      "[CV 2/10; 32/96] START C=1, degree=4, gamma=auto, kernel=sigmoid................\n",
      "[CV 2/10; 32/96] END C=1, degree=4, gamma=auto, kernel=sigmoid;, score=(train=0.721, test=0.749) total time=   0.2s\n",
      "[CV 3/10; 32/96] START C=1, degree=4, gamma=auto, kernel=sigmoid................\n",
      "[CV 3/10; 32/96] END C=1, degree=4, gamma=auto, kernel=sigmoid;, score=(train=0.724, test=0.728) total time=   0.2s\n",
      "[CV 4/10; 32/96] START C=1, degree=4, gamma=auto, kernel=sigmoid................\n",
      "[CV 4/10; 32/96] END C=1, degree=4, gamma=auto, kernel=sigmoid;, score=(train=0.718, test=0.770) total time=   0.1s\n",
      "[CV 5/10; 32/96] START C=1, degree=4, gamma=auto, kernel=sigmoid................\n",
      "[CV 5/10; 32/96] END C=1, degree=4, gamma=auto, kernel=sigmoid;, score=(train=0.723, test=0.757) total time=   0.2s\n",
      "[CV 6/10; 32/96] START C=1, degree=4, gamma=auto, kernel=sigmoid................\n",
      "[CV 6/10; 32/96] END C=1, degree=4, gamma=auto, kernel=sigmoid;, score=(train=0.770, test=0.782) total time=   0.2s\n",
      "[CV 7/10; 32/96] START C=1, degree=4, gamma=auto, kernel=sigmoid................\n",
      "[CV 7/10; 32/96] END C=1, degree=4, gamma=auto, kernel=sigmoid;, score=(train=0.775, test=0.770) total time=   0.2s\n",
      "[CV 8/10; 32/96] START C=1, degree=4, gamma=auto, kernel=sigmoid................\n",
      "[CV 8/10; 32/96] END C=1, degree=4, gamma=auto, kernel=sigmoid;, score=(train=0.724, test=0.736) total time=   0.2s\n",
      "[CV 9/10; 32/96] START C=1, degree=4, gamma=auto, kernel=sigmoid................\n",
      "[CV 9/10; 32/96] END C=1, degree=4, gamma=auto, kernel=sigmoid;, score=(train=0.732, test=0.665) total time=   0.2s\n",
      "[CV 10/10; 32/96] START C=1, degree=4, gamma=auto, kernel=sigmoid...............\n",
      "[CV 10/10; 32/96] END C=1, degree=4, gamma=auto, kernel=sigmoid;, score=(train=0.737, test=0.669) total time=   0.1s\n",
      "[CV 9/10; 45/96] START C=2, degree=4, gamma=auto, kernel=linear.................\n",
      "[CV 9/10; 45/96] END C=2, degree=4, gamma=auto, kernel=linear;, score=(train=0.885, test=0.883) total time=   0.2s\n",
      "[CV 10/10; 45/96] START C=2, degree=4, gamma=auto, kernel=linear................\n",
      "[CV 10/10; 45/96] END C=2, degree=4, gamma=auto, kernel=linear;, score=(train=0.887, test=0.833) total time=   0.2s\n",
      "[CV 1/10; 46/96] START C=2, degree=4, gamma=auto, kernel=poly...................\n",
      "[CV 1/10; 46/96] END C=2, degree=4, gamma=auto, kernel=poly;, score=(train=0.841, test=0.791) total time=   0.2s\n",
      "[CV 2/10; 46/96] START C=2, degree=4, gamma=auto, kernel=poly...................\n",
      "[CV 2/10; 46/96] END C=2, degree=4, gamma=auto, kernel=poly;, score=(train=0.834, test=0.803) total time=   0.2s\n",
      "[CV 3/10; 46/96] START C=2, degree=4, gamma=auto, kernel=poly...................\n",
      "[CV 3/10; 46/96] END C=2, degree=4, gamma=auto, kernel=poly;, score=(train=0.841, test=0.828) total time=   0.2s\n",
      "[CV 4/10; 46/96] START C=2, degree=4, gamma=auto, kernel=poly...................\n",
      "[CV 4/10; 46/96] END C=2, degree=4, gamma=auto, kernel=poly;, score=(train=0.834, test=0.824) total time=   0.2s\n",
      "[CV 5/10; 46/96] START C=2, degree=4, gamma=auto, kernel=poly...................\n",
      "[CV 5/10; 46/96] END C=2, degree=4, gamma=auto, kernel=poly;, score=(train=0.841, test=0.820) total time=   0.2s\n",
      "[CV 6/10; 46/96] START C=2, degree=4, gamma=auto, kernel=poly...................\n",
      "[CV 6/10; 46/96] END C=2, degree=4, gamma=auto, kernel=poly;, score=(train=0.838, test=0.824) total time=   0.2s\n",
      "[CV 7/10; 46/96] START C=2, degree=4, gamma=auto, kernel=poly...................\n",
      "[CV 7/10; 46/96] END C=2, degree=4, gamma=auto, kernel=poly;, score=(train=0.839, test=0.799) total time=   0.2s\n",
      "[CV 8/10; 46/96] START C=2, degree=4, gamma=auto, kernel=poly...................\n",
      "[CV 8/10; 46/96] END C=2, degree=4, gamma=auto, kernel=poly;, score=(train=0.837, test=0.833) total time=   0.2s\n",
      "[CV 9/10; 46/96] START C=2, degree=4, gamma=auto, kernel=poly...................\n",
      "[CV 9/10; 46/96] END C=2, degree=4, gamma=auto, kernel=poly;, score=(train=0.837, test=0.803) total time=   0.2s\n",
      "[CV 10/10; 46/96] START C=2, degree=4, gamma=auto, kernel=poly..................\n",
      "[CV 10/10; 46/96] END C=2, degree=4, gamma=auto, kernel=poly;, score=(train=0.841, test=0.762) total time=   0.2s\n",
      "[CV 1/10; 47/96] START C=2, degree=4, gamma=auto, kernel=rbf....................\n",
      "[CV 1/10; 47/96] END C=2, degree=4, gamma=auto, kernel=rbf;, score=(train=0.944, test=0.946) total time=   0.1s\n",
      "[CV 2/10; 47/96] START C=2, degree=4, gamma=auto, kernel=rbf....................\n",
      "[CV 2/10; 47/96] END C=2, degree=4, gamma=auto, kernel=rbf;, score=(train=0.946, test=0.950) total time=   0.1s\n",
      "[CV 3/10; 47/96] START C=2, degree=4, gamma=auto, kernel=rbf....................\n",
      "[CV 3/10; 47/96] END C=2, degree=4, gamma=auto, kernel=rbf;, score=(train=0.945, test=0.954) total time=   0.1s\n",
      "[CV 4/10; 47/96] START C=2, degree=4, gamma=auto, kernel=rbf....................\n",
      "[CV 4/10; 47/96] END C=2, degree=4, gamma=auto, kernel=rbf;, score=(train=0.945, test=0.933) total time=   0.1s\n",
      "[CV 5/10; 56/96] START C=3, degree=3, gamma=auto, kernel=sigmoid................\n",
      "[CV 5/10; 56/96] END C=3, degree=3, gamma=auto, kernel=sigmoid;, score=(train=0.721, test=0.762) total time=   0.1s\n",
      "[CV 3/10; 57/96] START C=3, degree=4, gamma=scale, kernel=linear................\n",
      "[CV 3/10; 57/96] END C=3, degree=4, gamma=scale, kernel=linear;, score=(train=0.883, test=0.895) total time=   0.2s\n",
      "[CV 1/10; 58/96] START C=3, degree=4, gamma=scale, kernel=poly..................\n",
      "[CV 1/10; 58/96] END C=3, degree=4, gamma=scale, kernel=poly;, score=(train=0.855, test=0.803) total time=   0.2s\n"
     ]
    },
    {
     "name": "stdout",
     "output_type": "stream",
     "text": [
      "[CV 7/10; 1/96] START C=0, degree=3, gamma=scale, kernel=linear.................\n",
      "[CV 7/10; 1/96] END C=0, degree=3, gamma=scale, kernel=linear;, score=(train=nan, test=nan) total time=   0.0s\n",
      "[CV 1/10; 7/96] START C=0, degree=3, gamma=auto, kernel=rbf.....................\n",
      "[CV 1/10; 7/96] END C=0, degree=3, gamma=auto, kernel=rbf;, score=(train=nan, test=nan) total time=   0.0s\n",
      "[CV 2/10; 7/96] START C=0, degree=3, gamma=auto, kernel=rbf.....................\n",
      "[CV 2/10; 7/96] END C=0, degree=3, gamma=auto, kernel=rbf;, score=(train=nan, test=nan) total time=   0.0s\n",
      "[CV 5/10; 7/96] START C=0, degree=3, gamma=auto, kernel=rbf.....................\n",
      "[CV 5/10; 7/96] END C=0, degree=3, gamma=auto, kernel=rbf;, score=(train=nan, test=nan) total time=   0.0s\n",
      "[CV 6/10; 7/96] START C=0, degree=3, gamma=auto, kernel=rbf.....................\n",
      "[CV 6/10; 7/96] END C=0, degree=3, gamma=auto, kernel=rbf;, score=(train=nan, test=nan) total time=   0.0s\n",
      "[CV 5/10; 8/96] START C=0, degree=3, gamma=auto, kernel=sigmoid.................\n",
      "[CV 5/10; 8/96] END C=0, degree=3, gamma=auto, kernel=sigmoid;, score=(train=nan, test=nan) total time=   0.0s\n",
      "[CV 6/10; 8/96] START C=0, degree=3, gamma=auto, kernel=sigmoid.................\n",
      "[CV 6/10; 8/96] END C=0, degree=3, gamma=auto, kernel=sigmoid;, score=(train=nan, test=nan) total time=   0.0s\n",
      "[CV 9/10; 8/96] START C=0, degree=3, gamma=auto, kernel=sigmoid.................\n",
      "[CV 9/10; 8/96] END C=0, degree=3, gamma=auto, kernel=sigmoid;, score=(train=nan, test=nan) total time=   0.0s\n",
      "[CV 10/10; 8/96] START C=0, degree=3, gamma=auto, kernel=sigmoid................\n",
      "[CV 10/10; 8/96] END C=0, degree=3, gamma=auto, kernel=sigmoid;, score=(train=nan, test=nan) total time=   0.0s\n",
      "[CV 5/10; 9/96] START C=0, degree=4, gamma=scale, kernel=linear.................\n",
      "[CV 5/10; 9/96] END C=0, degree=4, gamma=scale, kernel=linear;, score=(train=nan, test=nan) total time=   0.0s\n",
      "[CV 6/10; 9/96] START C=0, degree=4, gamma=scale, kernel=linear.................\n",
      "[CV 6/10; 9/96] END C=0, degree=4, gamma=scale, kernel=linear;, score=(train=nan, test=nan) total time=   0.0s\n",
      "[CV 7/10; 9/96] START C=0, degree=4, gamma=scale, kernel=linear.................\n",
      "[CV 7/10; 9/96] END C=0, degree=4, gamma=scale, kernel=linear;, score=(train=nan, test=nan) total time=   0.0s\n",
      "[CV 8/10; 9/96] START C=0, degree=4, gamma=scale, kernel=linear.................\n",
      "[CV 8/10; 9/96] END C=0, degree=4, gamma=scale, kernel=linear;, score=(train=nan, test=nan) total time=   0.0s\n",
      "[CV 7/10; 10/96] START C=0, degree=4, gamma=scale, kernel=poly..................\n",
      "[CV 7/10; 10/96] END C=0, degree=4, gamma=scale, kernel=poly;, score=(train=nan, test=nan) total time=   0.0s\n",
      "[CV 8/10; 10/96] START C=0, degree=4, gamma=scale, kernel=poly..................\n",
      "[CV 8/10; 10/96] END C=0, degree=4, gamma=scale, kernel=poly;, score=(train=nan, test=nan) total time=   0.0s\n",
      "[CV 9/10; 10/96] START C=0, degree=4, gamma=scale, kernel=poly..................\n",
      "[CV 9/10; 10/96] END C=0, degree=4, gamma=scale, kernel=poly;, score=(train=nan, test=nan) total time=   0.0s\n",
      "[CV 10/10; 10/96] START C=0, degree=4, gamma=scale, kernel=poly.................\n",
      "[CV 10/10; 10/96] END C=0, degree=4, gamma=scale, kernel=poly;, score=(train=nan, test=nan) total time=   0.0s\n",
      "[CV 5/10; 11/96] START C=0, degree=4, gamma=scale, kernel=rbf...................\n",
      "[CV 5/10; 11/96] END C=0, degree=4, gamma=scale, kernel=rbf;, score=(train=nan, test=nan) total time=   0.0s\n",
      "[CV 6/10; 11/96] START C=0, degree=4, gamma=scale, kernel=rbf...................\n",
      "[CV 6/10; 11/96] END C=0, degree=4, gamma=scale, kernel=rbf;, score=(train=nan, test=nan) total time=   0.0s\n",
      "[CV 7/10; 11/96] START C=0, degree=4, gamma=scale, kernel=rbf...................\n",
      "[CV 7/10; 11/96] END C=0, degree=4, gamma=scale, kernel=rbf;, score=(train=nan, test=nan) total time=   0.0s\n",
      "[CV 8/10; 11/96] START C=0, degree=4, gamma=scale, kernel=rbf...................\n",
      "[CV 8/10; 11/96] END C=0, degree=4, gamma=scale, kernel=rbf;, score=(train=nan, test=nan) total time=   0.0s\n",
      "[CV 7/10; 12/96] START C=0, degree=4, gamma=scale, kernel=sigmoid...............\n",
      "[CV 7/10; 12/96] END C=0, degree=4, gamma=scale, kernel=sigmoid;, score=(train=nan, test=nan) total time=   0.0s\n",
      "[CV 8/10; 12/96] START C=0, degree=4, gamma=scale, kernel=sigmoid...............\n",
      "[CV 8/10; 12/96] END C=0, degree=4, gamma=scale, kernel=sigmoid;, score=(train=nan, test=nan) total time=   0.0s\n",
      "[CV 9/10; 12/96] START C=0, degree=4, gamma=scale, kernel=sigmoid...............\n",
      "[CV 9/10; 12/96] END C=0, degree=4, gamma=scale, kernel=sigmoid;, score=(train=nan, test=nan) total time=   0.0s\n",
      "[CV 10/10; 12/96] START C=0, degree=4, gamma=scale, kernel=sigmoid..............\n",
      "[CV 10/10; 12/96] END C=0, degree=4, gamma=scale, kernel=sigmoid;, score=(train=nan, test=nan) total time=   0.0s\n",
      "[CV 1/10; 17/96] START C=1, degree=3, gamma=scale, kernel=linear................\n",
      "[CV 1/10; 17/96] END C=1, degree=3, gamma=scale, kernel=linear;, score=(train=0.886, test=0.874) total time=   0.1s\n",
      "[CV 2/10; 17/96] START C=1, degree=3, gamma=scale, kernel=linear................\n",
      "[CV 2/10; 17/96] END C=1, degree=3, gamma=scale, kernel=linear;, score=(train=0.886, test=0.874) total time=   0.2s\n",
      "[CV 3/10; 17/96] START C=1, degree=3, gamma=scale, kernel=linear................\n",
      "[CV 3/10; 17/96] END C=1, degree=3, gamma=scale, kernel=linear;, score=(train=0.884, test=0.900) total time=   0.2s\n",
      "[CV 4/10; 17/96] START C=1, degree=3, gamma=scale, kernel=linear................\n",
      "[CV 4/10; 17/96] END C=1, degree=3, gamma=scale, kernel=linear;, score=(train=0.886, test=0.887) total time=   0.1s\n",
      "[CV 5/10; 17/96] START C=1, degree=3, gamma=scale, kernel=linear................\n",
      "[CV 5/10; 17/96] END C=1, degree=3, gamma=scale, kernel=linear;, score=(train=0.885, test=0.887) total time=   0.1s\n",
      "[CV 6/10; 17/96] START C=1, degree=3, gamma=scale, kernel=linear................\n",
      "[CV 6/10; 17/96] END C=1, degree=3, gamma=scale, kernel=linear;, score=(train=0.883, test=0.883) total time=   0.1s\n",
      "[CV 7/10; 17/96] START C=1, degree=3, gamma=scale, kernel=linear................\n",
      "[CV 7/10; 17/96] END C=1, degree=3, gamma=scale, kernel=linear;, score=(train=0.884, test=0.874) total time=   0.1s\n",
      "[CV 8/10; 17/96] START C=1, degree=3, gamma=scale, kernel=linear................\n",
      "[CV 8/10; 17/96] END C=1, degree=3, gamma=scale, kernel=linear;, score=(train=0.883, test=0.904) total time=   0.1s\n",
      "[CV 5/10; 23/96] START C=1, degree=3, gamma=auto, kernel=rbf....................\n",
      "[CV 5/10; 23/96] END C=1, degree=3, gamma=auto, kernel=rbf;, score=(train=0.936, test=0.904) total time=   0.1s\n",
      "[CV 6/10; 23/96] START C=1, degree=3, gamma=auto, kernel=rbf....................\n",
      "[CV 6/10; 23/96] END C=1, degree=3, gamma=auto, kernel=rbf;, score=(train=0.936, test=0.933) total time=   0.1s\n",
      "[CV 7/10; 23/96] START C=1, degree=3, gamma=auto, kernel=rbf....................\n",
      "[CV 7/10; 23/96] END C=1, degree=3, gamma=auto, kernel=rbf;, score=(train=0.930, test=0.925) total time=   0.1s\n",
      "[CV 8/10; 23/96] START C=1, degree=3, gamma=auto, kernel=rbf....................\n",
      "[CV 8/10; 23/96] END C=1, degree=3, gamma=auto, kernel=rbf;, score=(train=0.934, test=0.912) total time=   0.1s\n",
      "[CV 9/10; 23/96] START C=1, degree=3, gamma=auto, kernel=rbf....................\n",
      "[CV 9/10; 23/96] END C=1, degree=3, gamma=auto, kernel=rbf;, score=(train=0.932, test=0.921) total time=   0.2s\n",
      "[CV 10/10; 23/96] START C=1, degree=3, gamma=auto, kernel=rbf...................\n",
      "[CV 10/10; 23/96] END C=1, degree=3, gamma=auto, kernel=rbf;, score=(train=0.937, test=0.879) total time=   0.1s\n",
      "[CV 1/10; 24/96] START C=1, degree=3, gamma=auto, kernel=sigmoid................\n",
      "[CV 1/10; 24/96] END C=1, degree=3, gamma=auto, kernel=sigmoid;, score=(train=0.772, test=0.778) total time=   0.2s\n",
      "[CV 2/10; 24/96] START C=1, degree=3, gamma=auto, kernel=sigmoid................\n",
      "[CV 2/10; 24/96] END C=1, degree=3, gamma=auto, kernel=sigmoid;, score=(train=0.721, test=0.749) total time=   0.2s\n",
      "[CV 7/10; 34/96] START C=2, degree=3, gamma=scale, kernel=poly..................\n",
      "[CV 7/10; 34/96] END C=2, degree=3, gamma=scale, kernel=poly;, score=(train=0.924, test=0.925) total time=   0.1s\n",
      "[CV 8/10; 34/96] START C=2, degree=3, gamma=scale, kernel=poly..................\n",
      "[CV 8/10; 34/96] END C=2, degree=3, gamma=scale, kernel=poly;, score=(train=0.927, test=0.900) total time=   0.1s\n",
      "[CV 9/10; 34/96] START C=2, degree=3, gamma=scale, kernel=poly..................\n",
      "[CV 9/10; 34/96] END C=2, degree=3, gamma=scale, kernel=poly;, score=(train=0.925, test=0.908) total time=   0.1s\n",
      "[CV 10/10; 34/96] START C=2, degree=3, gamma=scale, kernel=poly.................\n",
      "[CV 10/10; 34/96] END C=2, degree=3, gamma=scale, kernel=poly;, score=(train=0.930, test=0.874) total time=   0.1s\n",
      "[CV 1/10; 35/96] START C=2, degree=3, gamma=scale, kernel=rbf...................\n",
      "[CV 1/10; 35/96] END C=2, degree=3, gamma=scale, kernel=rbf;, score=(train=0.944, test=0.946) total time=   0.1s\n",
      "[CV 2/10; 35/96] START C=2, degree=3, gamma=scale, kernel=rbf...................\n",
      "[CV 2/10; 35/96] END C=2, degree=3, gamma=scale, kernel=rbf;, score=(train=0.946, test=0.950) total time=   0.1s\n",
      "[CV 3/10; 35/96] START C=2, degree=3, gamma=scale, kernel=rbf...................\n",
      "[CV 3/10; 35/96] END C=2, degree=3, gamma=scale, kernel=rbf;, score=(train=0.945, test=0.954) total time=   0.1s\n",
      "[CV 4/10; 35/96] START C=2, degree=3, gamma=scale, kernel=rbf...................\n",
      "[CV 4/10; 35/96] END C=2, degree=3, gamma=scale, kernel=rbf;, score=(train=0.945, test=0.937) total time=   0.1s\n",
      "[CV 5/10; 35/96] START C=2, degree=3, gamma=scale, kernel=rbf...................\n",
      "[CV 5/10; 35/96] END C=2, degree=3, gamma=scale, kernel=rbf;, score=(train=0.947, test=0.916) total time=   0.1s\n",
      "[CV 6/10; 35/96] START C=2, degree=3, gamma=scale, kernel=rbf...................\n",
      "[CV 6/10; 35/96] END C=2, degree=3, gamma=scale, kernel=rbf;, score=(train=0.947, test=0.933) total time=   0.1s\n",
      "[CV 7/10; 35/96] START C=2, degree=3, gamma=scale, kernel=rbf...................\n",
      "[CV 7/10; 35/96] END C=2, degree=3, gamma=scale, kernel=rbf;, score=(train=0.947, test=0.937) total time=   0.1s\n",
      "[CV 8/10; 35/96] START C=2, degree=3, gamma=scale, kernel=rbf...................\n",
      "[CV 8/10; 35/96] END C=2, degree=3, gamma=scale, kernel=rbf;, score=(train=0.947, test=0.929) total time=   0.1s\n",
      "[CV 9/10; 35/96] START C=2, degree=3, gamma=scale, kernel=rbf...................\n",
      "[CV 9/10; 35/96] END C=2, degree=3, gamma=scale, kernel=rbf;, score=(train=0.945, test=0.941) total time=   0.1s\n",
      "[CV 10/10; 35/96] START C=2, degree=3, gamma=scale, kernel=rbf..................\n",
      "[CV 10/10; 35/96] END C=2, degree=3, gamma=scale, kernel=rbf;, score=(train=0.950, test=0.904) total time=   0.1s\n",
      "[CV 1/10; 36/96] START C=2, degree=3, gamma=scale, kernel=sigmoid...............\n",
      "[CV 1/10; 36/96] END C=2, degree=3, gamma=scale, kernel=sigmoid;, score=(train=0.720, test=0.720) total time=   0.1s\n",
      "[CV 2/10; 36/96] START C=2, degree=3, gamma=scale, kernel=sigmoid...............\n",
      "[CV 2/10; 36/96] END C=2, degree=3, gamma=scale, kernel=sigmoid;, score=(train=0.719, test=0.749) total time=   0.1s\n",
      "[CV 5/10; 47/96] START C=2, degree=4, gamma=auto, kernel=rbf....................\n",
      "[CV 5/10; 47/96] END C=2, degree=4, gamma=auto, kernel=rbf;, score=(train=0.947, test=0.916) total time=   0.1s\n",
      "[CV 6/10; 47/96] START C=2, degree=4, gamma=auto, kernel=rbf....................\n",
      "[CV 6/10; 47/96] END C=2, degree=4, gamma=auto, kernel=rbf;, score=(train=0.947, test=0.933) total time=   0.1s\n",
      "[CV 7/10; 47/96] START C=2, degree=4, gamma=auto, kernel=rbf....................\n",
      "[CV 7/10; 47/96] END C=2, degree=4, gamma=auto, kernel=rbf;, score=(train=0.947, test=0.937) total time=   0.1s\n",
      "[CV 8/10; 47/96] START C=2, degree=4, gamma=auto, kernel=rbf....................\n",
      "[CV 8/10; 47/96] END C=2, degree=4, gamma=auto, kernel=rbf;, score=(train=0.947, test=0.929) total time=   0.1s\n",
      "[CV 9/10; 47/96] START C=2, degree=4, gamma=auto, kernel=rbf....................\n",
      "[CV 9/10; 47/96] END C=2, degree=4, gamma=auto, kernel=rbf;, score=(train=0.945, test=0.941) total time=   0.1s\n",
      "[CV 10/10; 47/96] START C=2, degree=4, gamma=auto, kernel=rbf...................\n",
      "[CV 10/10; 47/96] END C=2, degree=4, gamma=auto, kernel=rbf;, score=(train=0.950, test=0.904) total time=   0.1s\n",
      "[CV 1/10; 48/96] START C=2, degree=4, gamma=auto, kernel=sigmoid................\n",
      "[CV 1/10; 48/96] END C=2, degree=4, gamma=auto, kernel=sigmoid;, score=(train=0.720, test=0.720) total time=   0.1s\n",
      "[CV 2/10; 48/96] START C=2, degree=4, gamma=auto, kernel=sigmoid................\n",
      "[CV 2/10; 48/96] END C=2, degree=4, gamma=auto, kernel=sigmoid;, score=(train=0.719, test=0.749) total time=   0.1s\n",
      "[CV 3/10; 48/96] START C=2, degree=4, gamma=auto, kernel=sigmoid................\n",
      "[CV 3/10; 48/96] END C=2, degree=4, gamma=auto, kernel=sigmoid;, score=(train=0.723, test=0.728) total time=   0.1s\n",
      "[CV 4/10; 48/96] START C=2, degree=4, gamma=auto, kernel=sigmoid................\n",
      "[CV 4/10; 48/96] END C=2, degree=4, gamma=auto, kernel=sigmoid;, score=(train=0.716, test=0.774) total time=   0.1s\n",
      "[CV 5/10; 48/96] START C=2, degree=4, gamma=auto, kernel=sigmoid................\n",
      "[CV 5/10; 48/96] END C=2, degree=4, gamma=auto, kernel=sigmoid;, score=(train=0.721, test=0.762) total time=   0.1s\n",
      "[CV 6/10; 48/96] START C=2, degree=4, gamma=auto, kernel=sigmoid................\n",
      "[CV 6/10; 48/96] END C=2, degree=4, gamma=auto, kernel=sigmoid;, score=(train=0.763, test=0.749) total time=   0.1s\n",
      "[CV 7/10; 48/96] START C=2, degree=4, gamma=auto, kernel=sigmoid................\n",
      "[CV 7/10; 48/96] END C=2, degree=4, gamma=auto, kernel=sigmoid;, score=(train=0.764, test=0.762) total time=   0.1s\n",
      "[CV 8/10; 48/96] START C=2, degree=4, gamma=auto, kernel=sigmoid................\n",
      "[CV 8/10; 48/96] END C=2, degree=4, gamma=auto, kernel=sigmoid;, score=(train=0.766, test=0.791) total time=   0.1s\n",
      "[CV 9/10; 48/96] START C=2, degree=4, gamma=auto, kernel=sigmoid................\n",
      "[CV 9/10; 48/96] END C=2, degree=4, gamma=auto, kernel=sigmoid;, score=(train=0.728, test=0.665) total time=   0.1s\n",
      "[CV 10/10; 48/96] START C=2, degree=4, gamma=auto, kernel=sigmoid...............\n",
      "[CV 10/10; 48/96] END C=2, degree=4, gamma=auto, kernel=sigmoid;, score=(train=0.733, test=0.669) total time=   0.1s\n",
      "[CV 2/10; 55/96] START C=3, degree=3, gamma=auto, kernel=rbf....................\n",
      "[CV 2/10; 55/96] END C=3, degree=3, gamma=auto, kernel=rbf;, score=(train=0.950, test=0.958) total time=   0.1s\n",
      "[CV 8/10; 55/96] START C=3, degree=3, gamma=auto, kernel=rbf....................\n",
      "[CV 8/10; 55/96] END C=3, degree=3, gamma=auto, kernel=rbf;, score=(train=0.950, test=0.946) total time=   0.1s\n",
      "[CV 4/10; 56/96] START C=3, degree=3, gamma=auto, kernel=sigmoid................\n",
      "[CV 4/10; 56/96] END C=3, degree=3, gamma=auto, kernel=sigmoid;, score=(train=0.715, test=0.774) total time=   0.1s\n",
      "[CV 1/10; 57/96] START C=3, degree=4, gamma=scale, kernel=linear................\n",
      "[CV 1/10; 57/96] END C=3, degree=4, gamma=scale, kernel=linear;, score=(train=0.887, test=0.883) total time=   0.2s\n",
      "[CV 9/10; 57/96] START C=3, degree=4, gamma=scale, kernel=linear................\n",
      "[CV 9/10; 57/96] END C=3, degree=4, gamma=scale, kernel=linear;, score=(train=0.885, test=0.887) total time=   0.2s\n",
      "[CV 7/10; 58/96] START C=3, degree=4, gamma=scale, kernel=poly..................\n",
      "[CV 7/10; 58/96] END C=3, degree=4, gamma=scale, kernel=poly;, score=(train=0.850, test=0.820) total time=   0.2s\n",
      "[CV 5/10; 59/96] START C=3, degree=4, gamma=scale, kernel=rbf...................\n",
      "[CV 5/10; 59/96] END C=3, degree=4, gamma=scale, kernel=rbf;, score=(train=0.954, test=0.925) total time=   0.1s\n",
      "[CV 3/10; 60/96] START C=3, degree=4, gamma=scale, kernel=sigmoid...............\n",
      "[CV 3/10; 60/96] END C=3, degree=4, gamma=scale, kernel=sigmoid;, score=(train=0.721, test=0.720) total time=   0.1s\n",
      "[CV 1/10; 61/96] START C=3, degree=4, gamma=auto, kernel=linear.................\n",
      "[CV 1/10; 61/96] END C=3, degree=4, gamma=auto, kernel=linear;, score=(train=0.887, test=0.883) total time=   0.2s\n",
      "[CV 9/10; 61/96] START C=3, degree=4, gamma=auto, kernel=linear.................\n",
      "[CV 9/10; 61/96] END C=3, degree=4, gamma=auto, kernel=linear;, score=(train=0.885, test=0.887) total time=   0.2s\n",
      "[CV 7/10; 62/96] START C=3, degree=4, gamma=auto, kernel=poly...................\n",
      "[CV 7/10; 62/96] END C=3, degree=4, gamma=auto, kernel=poly;, score=(train=0.850, test=0.820) total time=   0.2s\n"
     ]
    },
    {
     "name": "stderr",
     "output_type": "stream",
     "text": [
      "/opt/miniconda3/lib/python3.9/site-packages/sklearn/model_selection/_validation.py:425: FitFailedWarning: \n",
      "160 fits failed out of a total of 960.\n",
      "The score on these train-test partitions for these parameters will be set to nan.\n",
      "If these failures are not expected, you can try to debug them by setting error_score='raise'.\n",
      "\n",
      "Below are more details about the failures:\n",
      "--------------------------------------------------------------------------------\n",
      "160 fits failed with the following error:\n",
      "Traceback (most recent call last):\n",
      "  File \"/opt/miniconda3/lib/python3.9/site-packages/sklearn/model_selection/_validation.py\", line 729, in _fit_and_score\n",
      "    estimator.fit(X_train, y_train, **fit_params)\n",
      "  File \"/opt/miniconda3/lib/python3.9/site-packages/sklearn/base.py\", line 1145, in wrapper\n",
      "    estimator._validate_params()\n",
      "  File \"/opt/miniconda3/lib/python3.9/site-packages/sklearn/base.py\", line 638, in _validate_params\n",
      "    validate_parameter_constraints(\n",
      "  File \"/opt/miniconda3/lib/python3.9/site-packages/sklearn/utils/_param_validation.py\", line 95, in validate_parameter_constraints\n",
      "    raise InvalidParameterError(\n",
      "sklearn.utils._param_validation.InvalidParameterError: The 'C' parameter of SVC must be a float in the range (0.0, inf). Got 0 instead.\n",
      "\n",
      "  warnings.warn(some_fits_failed_message, FitFailedWarning)\n",
      "/opt/miniconda3/lib/python3.9/site-packages/sklearn/model_selection/_search.py:979: UserWarning: One or more of the test scores are non-finite: [       nan        nan        nan        nan        nan        nan\n",
      "        nan        nan        nan        nan        nan        nan\n",
      "        nan        nan        nan        nan 0.8790795  0.90334728\n",
      " 0.92008368 0.741841   0.8790795  0.90292887 0.92008368 0.74058577\n",
      " 0.8790795  0.78619247 0.92008368 0.741841   0.8790795  0.78619247\n",
      " 0.92008368 0.74058577 0.8790795  0.90962343 0.93472803 0.73221757\n",
      " 0.8790795  0.90962343 0.93430962 0.73682008 0.8790795  0.80962343\n",
      " 0.93472803 0.73221757 0.8790795  0.80878661 0.93430962 0.73682008\n",
      " 0.88158996 0.9125523  0.94142259 0.7209205  0.88158996 0.91213389\n",
      " 0.94142259 0.72594142 0.88158996 0.82259414 0.94142259 0.7209205\n",
      " 0.88158996 0.82259414 0.94142259 0.72594142 0.88200837 0.91631799\n",
      " 0.94393305 0.7209205  0.88200837 0.9167364  0.94393305 0.7209205\n",
      " 0.88200837 0.82887029 0.94393305 0.7209205  0.88200837 0.83012552\n",
      " 0.94393305 0.7209205  0.88158996 0.91882845 0.94435146 0.72008368\n",
      " 0.88158996 0.91841004 0.94435146 0.72050209 0.88158996 0.83430962\n",
      " 0.94435146 0.72008368 0.88158996 0.83430962 0.94435146 0.72050209]\n",
      "  warnings.warn(\n",
      "/opt/miniconda3/lib/python3.9/site-packages/sklearn/model_selection/_search.py:979: UserWarning: One or more of the train scores are non-finite: [       nan        nan        nan        nan        nan        nan\n",
      "        nan        nan        nan        nan        nan        nan\n",
      "        nan        nan        nan        nan 0.88516969 0.91515574\n",
      " 0.93314737 0.73960948 0.88516969 0.91515574 0.93324035 0.73965597\n",
      " 0.88516969 0.80906555 0.93314737 0.73960948 0.88516969 0.80943747\n",
      " 0.93324035 0.73965597 0.8851232  0.92635983 0.94635053 0.73100883\n",
      " 0.8851232  0.92631334 0.94625755 0.73542538 0.8851232  0.83793584\n",
      " 0.94635053 0.73100883 0.8851232  0.83807531 0.94625755 0.73542538\n",
      " 0.88661088 0.9311483  0.95030219 0.72250116 0.88661088 0.93128777\n",
      " 0.9502557  0.72622036 0.88661088 0.85244073 0.95030219 0.72250116\n",
      " 0.88661088 0.85267318 0.9502557  0.72622036 0.88768015 0.93607624\n",
      " 0.95402139 0.72212924 0.88768015 0.93616922 0.95402139 0.72236169\n",
      " 0.88768015 0.86220363 0.95402139 0.72212924 0.88768015 0.86220363\n",
      " 0.95402139 0.72236169 0.88874942 0.93900511 0.95695026 0.7223152\n",
      " 0.88874942 0.9390516  0.95690377 0.72194328 0.88874942 0.86820084\n",
      " 0.95695026 0.7223152  0.88874942 0.86834031 0.95690377 0.72194328]\n",
      "  warnings.warn(\n"
     ]
    },
    {
     "data": {
      "text/html": [
       "<style>#sk-container-id-2 {color: black;}#sk-container-id-2 pre{padding: 0;}#sk-container-id-2 div.sk-toggleable {background-color: white;}#sk-container-id-2 label.sk-toggleable__label {cursor: pointer;display: block;width: 100%;margin-bottom: 0;padding: 0.3em;box-sizing: border-box;text-align: center;}#sk-container-id-2 label.sk-toggleable__label-arrow:before {content: \"▸\";float: left;margin-right: 0.25em;color: #696969;}#sk-container-id-2 label.sk-toggleable__label-arrow:hover:before {color: black;}#sk-container-id-2 div.sk-estimator:hover label.sk-toggleable__label-arrow:before {color: black;}#sk-container-id-2 div.sk-toggleable__content {max-height: 0;max-width: 0;overflow: hidden;text-align: left;background-color: #f0f8ff;}#sk-container-id-2 div.sk-toggleable__content pre {margin: 0.2em;color: black;border-radius: 0.25em;background-color: #f0f8ff;}#sk-container-id-2 input.sk-toggleable__control:checked~div.sk-toggleable__content {max-height: 200px;max-width: 100%;overflow: auto;}#sk-container-id-2 input.sk-toggleable__control:checked~label.sk-toggleable__label-arrow:before {content: \"▾\";}#sk-container-id-2 div.sk-estimator input.sk-toggleable__control:checked~label.sk-toggleable__label {background-color: #d4ebff;}#sk-container-id-2 div.sk-label input.sk-toggleable__control:checked~label.sk-toggleable__label {background-color: #d4ebff;}#sk-container-id-2 input.sk-hidden--visually {border: 0;clip: rect(1px 1px 1px 1px);clip: rect(1px, 1px, 1px, 1px);height: 1px;margin: -1px;overflow: hidden;padding: 0;position: absolute;width: 1px;}#sk-container-id-2 div.sk-estimator {font-family: monospace;background-color: #f0f8ff;border: 1px dotted black;border-radius: 0.25em;box-sizing: border-box;margin-bottom: 0.5em;}#sk-container-id-2 div.sk-estimator:hover {background-color: #d4ebff;}#sk-container-id-2 div.sk-parallel-item::after {content: \"\";width: 100%;border-bottom: 1px solid gray;flex-grow: 1;}#sk-container-id-2 div.sk-label:hover label.sk-toggleable__label {background-color: #d4ebff;}#sk-container-id-2 div.sk-serial::before {content: \"\";position: absolute;border-left: 1px solid gray;box-sizing: border-box;top: 0;bottom: 0;left: 50%;z-index: 0;}#sk-container-id-2 div.sk-serial {display: flex;flex-direction: column;align-items: center;background-color: white;padding-right: 0.2em;padding-left: 0.2em;position: relative;}#sk-container-id-2 div.sk-item {position: relative;z-index: 1;}#sk-container-id-2 div.sk-parallel {display: flex;align-items: stretch;justify-content: center;background-color: white;position: relative;}#sk-container-id-2 div.sk-item::before, #sk-container-id-2 div.sk-parallel-item::before {content: \"\";position: absolute;border-left: 1px solid gray;box-sizing: border-box;top: 0;bottom: 0;left: 50%;z-index: -1;}#sk-container-id-2 div.sk-parallel-item {display: flex;flex-direction: column;z-index: 1;position: relative;background-color: white;}#sk-container-id-2 div.sk-parallel-item:first-child::after {align-self: flex-end;width: 50%;}#sk-container-id-2 div.sk-parallel-item:last-child::after {align-self: flex-start;width: 50%;}#sk-container-id-2 div.sk-parallel-item:only-child::after {width: 0;}#sk-container-id-2 div.sk-dashed-wrapped {border: 1px dashed gray;margin: 0 0.4em 0.5em 0.4em;box-sizing: border-box;padding-bottom: 0.4em;background-color: white;}#sk-container-id-2 div.sk-label label {font-family: monospace;font-weight: bold;display: inline-block;line-height: 1.2em;}#sk-container-id-2 div.sk-label-container {text-align: center;}#sk-container-id-2 div.sk-container {/* jupyter's `normalize.less` sets `[hidden] { display: none; }` but bootstrap.min.css set `[hidden] { display: none !important; }` so we also need the `!important` here to be able to override the default hidden behavior on the sphinx rendered scikit-learn.org. See: https://github.com/scikit-learn/scikit-learn/issues/21755 */display: inline-block !important;position: relative;}#sk-container-id-2 div.sk-text-repr-fallback {display: none;}</style><div id=\"sk-container-id-2\" class=\"sk-top-container\"><div class=\"sk-text-repr-fallback\"><pre>GridSearchCV(cv=StratifiedKFold(n_splits=10, random_state=None, shuffle=True),\n",
       "             estimator=SVC(), n_jobs=-1,\n",
       "             param_grid={&#x27;C&#x27;: array([0, 1, 2, 3, 4, 5]), &#x27;degree&#x27;: [3, 4],\n",
       "                         &#x27;gamma&#x27;: [&#x27;scale&#x27;, &#x27;auto&#x27;],\n",
       "                         &#x27;kernel&#x27;: [&#x27;linear&#x27;, &#x27;poly&#x27;, &#x27;rbf&#x27;, &#x27;sigmoid&#x27;]},\n",
       "             return_train_score=True, verbose=10)</pre><b>In a Jupyter environment, please rerun this cell to show the HTML representation or trust the notebook. <br />On GitHub, the HTML representation is unable to render, please try loading this page with nbviewer.org.</b></div><div class=\"sk-container\" hidden><div class=\"sk-item sk-dashed-wrapped\"><div class=\"sk-label-container\"><div class=\"sk-label sk-toggleable\"><input class=\"sk-toggleable__control sk-hidden--visually\" id=\"sk-estimator-id-2\" type=\"checkbox\" ><label for=\"sk-estimator-id-2\" class=\"sk-toggleable__label sk-toggleable__label-arrow\">GridSearchCV</label><div class=\"sk-toggleable__content\"><pre>GridSearchCV(cv=StratifiedKFold(n_splits=10, random_state=None, shuffle=True),\n",
       "             estimator=SVC(), n_jobs=-1,\n",
       "             param_grid={&#x27;C&#x27;: array([0, 1, 2, 3, 4, 5]), &#x27;degree&#x27;: [3, 4],\n",
       "                         &#x27;gamma&#x27;: [&#x27;scale&#x27;, &#x27;auto&#x27;],\n",
       "                         &#x27;kernel&#x27;: [&#x27;linear&#x27;, &#x27;poly&#x27;, &#x27;rbf&#x27;, &#x27;sigmoid&#x27;]},\n",
       "             return_train_score=True, verbose=10)</pre></div></div></div><div class=\"sk-parallel\"><div class=\"sk-parallel-item\"><div class=\"sk-item\"><div class=\"sk-label-container\"><div class=\"sk-label sk-toggleable\"><input class=\"sk-toggleable__control sk-hidden--visually\" id=\"sk-estimator-id-3\" type=\"checkbox\" ><label for=\"sk-estimator-id-3\" class=\"sk-toggleable__label sk-toggleable__label-arrow\">estimator: SVC</label><div class=\"sk-toggleable__content\"><pre>SVC()</pre></div></div></div><div class=\"sk-serial\"><div class=\"sk-item\"><div class=\"sk-estimator sk-toggleable\"><input class=\"sk-toggleable__control sk-hidden--visually\" id=\"sk-estimator-id-4\" type=\"checkbox\" ><label for=\"sk-estimator-id-4\" class=\"sk-toggleable__label sk-toggleable__label-arrow\">SVC</label><div class=\"sk-toggleable__content\"><pre>SVC()</pre></div></div></div></div></div></div></div></div></div></div>"
      ],
      "text/plain": [
       "GridSearchCV(cv=StratifiedKFold(n_splits=10, random_state=None, shuffle=True),\n",
       "             estimator=SVC(), n_jobs=-1,\n",
       "             param_grid={'C': array([0, 1, 2, 3, 4, 5]), 'degree': [3, 4],\n",
       "                         'gamma': ['scale', 'auto'],\n",
       "                         'kernel': ['linear', 'poly', 'rbf', 'sigmoid']},\n",
       "             return_train_score=True, verbose=10)"
      ]
     },
     "execution_count": 19,
     "metadata": {},
     "output_type": "execute_result"
    }
   ],
   "source": [
    "clf.fit(X_train_scaled, y_train)"
   ]
  },
  {
   "cell_type": "code",
   "execution_count": 20,
   "id": "9f13c574",
   "metadata": {},
   "outputs": [
    {
     "data": {
      "text/html": [
       "<style>#sk-container-id-3 {color: black;}#sk-container-id-3 pre{padding: 0;}#sk-container-id-3 div.sk-toggleable {background-color: white;}#sk-container-id-3 label.sk-toggleable__label {cursor: pointer;display: block;width: 100%;margin-bottom: 0;padding: 0.3em;box-sizing: border-box;text-align: center;}#sk-container-id-3 label.sk-toggleable__label-arrow:before {content: \"▸\";float: left;margin-right: 0.25em;color: #696969;}#sk-container-id-3 label.sk-toggleable__label-arrow:hover:before {color: black;}#sk-container-id-3 div.sk-estimator:hover label.sk-toggleable__label-arrow:before {color: black;}#sk-container-id-3 div.sk-toggleable__content {max-height: 0;max-width: 0;overflow: hidden;text-align: left;background-color: #f0f8ff;}#sk-container-id-3 div.sk-toggleable__content pre {margin: 0.2em;color: black;border-radius: 0.25em;background-color: #f0f8ff;}#sk-container-id-3 input.sk-toggleable__control:checked~div.sk-toggleable__content {max-height: 200px;max-width: 100%;overflow: auto;}#sk-container-id-3 input.sk-toggleable__control:checked~label.sk-toggleable__label-arrow:before {content: \"▾\";}#sk-container-id-3 div.sk-estimator input.sk-toggleable__control:checked~label.sk-toggleable__label {background-color: #d4ebff;}#sk-container-id-3 div.sk-label input.sk-toggleable__control:checked~label.sk-toggleable__label {background-color: #d4ebff;}#sk-container-id-3 input.sk-hidden--visually {border: 0;clip: rect(1px 1px 1px 1px);clip: rect(1px, 1px, 1px, 1px);height: 1px;margin: -1px;overflow: hidden;padding: 0;position: absolute;width: 1px;}#sk-container-id-3 div.sk-estimator {font-family: monospace;background-color: #f0f8ff;border: 1px dotted black;border-radius: 0.25em;box-sizing: border-box;margin-bottom: 0.5em;}#sk-container-id-3 div.sk-estimator:hover {background-color: #d4ebff;}#sk-container-id-3 div.sk-parallel-item::after {content: \"\";width: 100%;border-bottom: 1px solid gray;flex-grow: 1;}#sk-container-id-3 div.sk-label:hover label.sk-toggleable__label {background-color: #d4ebff;}#sk-container-id-3 div.sk-serial::before {content: \"\";position: absolute;border-left: 1px solid gray;box-sizing: border-box;top: 0;bottom: 0;left: 50%;z-index: 0;}#sk-container-id-3 div.sk-serial {display: flex;flex-direction: column;align-items: center;background-color: white;padding-right: 0.2em;padding-left: 0.2em;position: relative;}#sk-container-id-3 div.sk-item {position: relative;z-index: 1;}#sk-container-id-3 div.sk-parallel {display: flex;align-items: stretch;justify-content: center;background-color: white;position: relative;}#sk-container-id-3 div.sk-item::before, #sk-container-id-3 div.sk-parallel-item::before {content: \"\";position: absolute;border-left: 1px solid gray;box-sizing: border-box;top: 0;bottom: 0;left: 50%;z-index: -1;}#sk-container-id-3 div.sk-parallel-item {display: flex;flex-direction: column;z-index: 1;position: relative;background-color: white;}#sk-container-id-3 div.sk-parallel-item:first-child::after {align-self: flex-end;width: 50%;}#sk-container-id-3 div.sk-parallel-item:last-child::after {align-self: flex-start;width: 50%;}#sk-container-id-3 div.sk-parallel-item:only-child::after {width: 0;}#sk-container-id-3 div.sk-dashed-wrapped {border: 1px dashed gray;margin: 0 0.4em 0.5em 0.4em;box-sizing: border-box;padding-bottom: 0.4em;background-color: white;}#sk-container-id-3 div.sk-label label {font-family: monospace;font-weight: bold;display: inline-block;line-height: 1.2em;}#sk-container-id-3 div.sk-label-container {text-align: center;}#sk-container-id-3 div.sk-container {/* jupyter's `normalize.less` sets `[hidden] { display: none; }` but bootstrap.min.css set `[hidden] { display: none !important; }` so we also need the `!important` here to be able to override the default hidden behavior on the sphinx rendered scikit-learn.org. See: https://github.com/scikit-learn/scikit-learn/issues/21755 */display: inline-block !important;position: relative;}#sk-container-id-3 div.sk-text-repr-fallback {display: none;}</style><div id=\"sk-container-id-3\" class=\"sk-top-container\"><div class=\"sk-text-repr-fallback\"><pre>SVC(C=5)</pre><b>In a Jupyter environment, please rerun this cell to show the HTML representation or trust the notebook. <br />On GitHub, the HTML representation is unable to render, please try loading this page with nbviewer.org.</b></div><div class=\"sk-container\" hidden><div class=\"sk-item\"><div class=\"sk-estimator sk-toggleable\"><input class=\"sk-toggleable__control sk-hidden--visually\" id=\"sk-estimator-id-5\" type=\"checkbox\" checked><label for=\"sk-estimator-id-5\" class=\"sk-toggleable__label sk-toggleable__label-arrow\">SVC</label><div class=\"sk-toggleable__content\"><pre>SVC(C=5)</pre></div></div></div></div></div>"
      ],
      "text/plain": [
       "SVC(C=5)"
      ]
     },
     "execution_count": 20,
     "metadata": {},
     "output_type": "execute_result"
    }
   ],
   "source": [
    "clf.best_estimator_"
   ]
  },
  {
   "cell_type": "code",
   "execution_count": 21,
   "id": "eef19bbc",
   "metadata": {},
   "outputs": [],
   "source": [
    "best_params = clf.best_params_"
   ]
  },
  {
   "cell_type": "code",
   "execution_count": 22,
   "id": "a3aa28b0",
   "metadata": {},
   "outputs": [
    {
     "data": {
      "text/plain": [
       "0.94"
      ]
     },
     "execution_count": 22,
     "metadata": {},
     "output_type": "execute_result"
    }
   ],
   "source": [
    "round(clf.best_score_, 2)"
   ]
  },
  {
   "cell_type": "code",
   "execution_count": 23,
   "id": "c4c5cc0c",
   "metadata": {},
   "outputs": [],
   "source": [
    "best_model_svc = svm.SVC(**best_params)"
   ]
  },
  {
   "cell_type": "code",
   "execution_count": 24,
   "id": "12f295be",
   "metadata": {},
   "outputs": [
    {
     "data": {
      "text/html": [
       "<style>#sk-container-id-4 {color: black;}#sk-container-id-4 pre{padding: 0;}#sk-container-id-4 div.sk-toggleable {background-color: white;}#sk-container-id-4 label.sk-toggleable__label {cursor: pointer;display: block;width: 100%;margin-bottom: 0;padding: 0.3em;box-sizing: border-box;text-align: center;}#sk-container-id-4 label.sk-toggleable__label-arrow:before {content: \"▸\";float: left;margin-right: 0.25em;color: #696969;}#sk-container-id-4 label.sk-toggleable__label-arrow:hover:before {color: black;}#sk-container-id-4 div.sk-estimator:hover label.sk-toggleable__label-arrow:before {color: black;}#sk-container-id-4 div.sk-toggleable__content {max-height: 0;max-width: 0;overflow: hidden;text-align: left;background-color: #f0f8ff;}#sk-container-id-4 div.sk-toggleable__content pre {margin: 0.2em;color: black;border-radius: 0.25em;background-color: #f0f8ff;}#sk-container-id-4 input.sk-toggleable__control:checked~div.sk-toggleable__content {max-height: 200px;max-width: 100%;overflow: auto;}#sk-container-id-4 input.sk-toggleable__control:checked~label.sk-toggleable__label-arrow:before {content: \"▾\";}#sk-container-id-4 div.sk-estimator input.sk-toggleable__control:checked~label.sk-toggleable__label {background-color: #d4ebff;}#sk-container-id-4 div.sk-label input.sk-toggleable__control:checked~label.sk-toggleable__label {background-color: #d4ebff;}#sk-container-id-4 input.sk-hidden--visually {border: 0;clip: rect(1px 1px 1px 1px);clip: rect(1px, 1px, 1px, 1px);height: 1px;margin: -1px;overflow: hidden;padding: 0;position: absolute;width: 1px;}#sk-container-id-4 div.sk-estimator {font-family: monospace;background-color: #f0f8ff;border: 1px dotted black;border-radius: 0.25em;box-sizing: border-box;margin-bottom: 0.5em;}#sk-container-id-4 div.sk-estimator:hover {background-color: #d4ebff;}#sk-container-id-4 div.sk-parallel-item::after {content: \"\";width: 100%;border-bottom: 1px solid gray;flex-grow: 1;}#sk-container-id-4 div.sk-label:hover label.sk-toggleable__label {background-color: #d4ebff;}#sk-container-id-4 div.sk-serial::before {content: \"\";position: absolute;border-left: 1px solid gray;box-sizing: border-box;top: 0;bottom: 0;left: 50%;z-index: 0;}#sk-container-id-4 div.sk-serial {display: flex;flex-direction: column;align-items: center;background-color: white;padding-right: 0.2em;padding-left: 0.2em;position: relative;}#sk-container-id-4 div.sk-item {position: relative;z-index: 1;}#sk-container-id-4 div.sk-parallel {display: flex;align-items: stretch;justify-content: center;background-color: white;position: relative;}#sk-container-id-4 div.sk-item::before, #sk-container-id-4 div.sk-parallel-item::before {content: \"\";position: absolute;border-left: 1px solid gray;box-sizing: border-box;top: 0;bottom: 0;left: 50%;z-index: -1;}#sk-container-id-4 div.sk-parallel-item {display: flex;flex-direction: column;z-index: 1;position: relative;background-color: white;}#sk-container-id-4 div.sk-parallel-item:first-child::after {align-self: flex-end;width: 50%;}#sk-container-id-4 div.sk-parallel-item:last-child::after {align-self: flex-start;width: 50%;}#sk-container-id-4 div.sk-parallel-item:only-child::after {width: 0;}#sk-container-id-4 div.sk-dashed-wrapped {border: 1px dashed gray;margin: 0 0.4em 0.5em 0.4em;box-sizing: border-box;padding-bottom: 0.4em;background-color: white;}#sk-container-id-4 div.sk-label label {font-family: monospace;font-weight: bold;display: inline-block;line-height: 1.2em;}#sk-container-id-4 div.sk-label-container {text-align: center;}#sk-container-id-4 div.sk-container {/* jupyter's `normalize.less` sets `[hidden] { display: none; }` but bootstrap.min.css set `[hidden] { display: none !important; }` so we also need the `!important` here to be able to override the default hidden behavior on the sphinx rendered scikit-learn.org. See: https://github.com/scikit-learn/scikit-learn/issues/21755 */display: inline-block !important;position: relative;}#sk-container-id-4 div.sk-text-repr-fallback {display: none;}</style><div id=\"sk-container-id-4\" class=\"sk-top-container\"><div class=\"sk-text-repr-fallback\"><pre>SVC(C=5)</pre><b>In a Jupyter environment, please rerun this cell to show the HTML representation or trust the notebook. <br />On GitHub, the HTML representation is unable to render, please try loading this page with nbviewer.org.</b></div><div class=\"sk-container\" hidden><div class=\"sk-item\"><div class=\"sk-estimator sk-toggleable\"><input class=\"sk-toggleable__control sk-hidden--visually\" id=\"sk-estimator-id-6\" type=\"checkbox\" checked><label for=\"sk-estimator-id-6\" class=\"sk-toggleable__label sk-toggleable__label-arrow\">SVC</label><div class=\"sk-toggleable__content\"><pre>SVC(C=5)</pre></div></div></div></div></div>"
      ],
      "text/plain": [
       "SVC(C=5)"
      ]
     },
     "execution_count": 24,
     "metadata": {},
     "output_type": "execute_result"
    }
   ],
   "source": [
    "best_model_svc.fit(X_train_scaled, y_train)"
   ]
  },
  {
   "cell_type": "code",
   "execution_count": 25,
   "id": "e4259bd2",
   "metadata": {},
   "outputs": [],
   "source": [
    "y_pred_best = best_model_svc.predict(X_test_scaled)"
   ]
  },
  {
   "cell_type": "code",
   "execution_count": 26,
   "id": "5dc56ace",
   "metadata": {},
   "outputs": [
    {
     "name": "stdout",
     "output_type": "stream",
     "text": [
      "Accuracy of tuned model over test set:  0.94\n"
     ]
    }
   ],
   "source": [
    "print(\"Accuracy of tuned model over test set: \", round(accuracy_score(y_test, y_pred_best), 2))"
   ]
  },
  {
   "cell_type": "code",
   "execution_count": 27,
   "id": "ecc819ce",
   "metadata": {},
   "outputs": [
    {
     "name": "stdout",
     "output_type": "stream",
     "text": [
      "Classification report of test set: \n",
      "\n",
      "               precision    recall  f1-score   support\n",
      "\n",
      "           0       0.97      0.92      0.94       341\n",
      "           1       0.90      0.96      0.93       257\n",
      "\n",
      "    accuracy                           0.94       598\n",
      "   macro avg       0.94      0.94      0.94       598\n",
      "weighted avg       0.94      0.94      0.94       598\n",
      "\n"
     ]
    }
   ],
   "source": [
    "print(\"Classification report of test set: \\n\\n\", classification_report(y_test, y_pred_best))"
   ]
  },
  {
   "cell_type": "code",
   "execution_count": 28,
   "id": "8fde8b18",
   "metadata": {},
   "outputs": [
    {
     "data": {
      "text/plain": [
       "<sklearn.metrics._plot.confusion_matrix.ConfusionMatrixDisplay at 0x105f0c610>"
      ]
     },
     "execution_count": 28,
     "metadata": {},
     "output_type": "execute_result"
    },
    {
     "data": {
      "image/png": "[encoded data removed]",
      "text/plain": [
       "<Figure size 640x480 with 2 Axes>"
      ]
     },
     "metadata": {},
     "output_type": "display_data"
    }
   ],
   "source": [
    "cm = confusion_matrix(y_test, y_pred_best)\n",
    "\n",
    "ConfusionMatrixDisplay(cm, display_labels=['Barren', 'Fertile']).plot()"
   ]
  },
  {
   "cell_type": "code",
   "execution_count": null,
   "id": "513f2af3",
   "metadata": {},
   "outputs": [],
   "source": []
  },
  {
   "cell_type": "markdown",
   "id": "dabd3264",
   "metadata": {},
   "source": [
    "### Plotting the decision boundary"
   ]
  },
  {
   "cell_type": "code",
   "execution_count": 29,
   "id": "5ec713f8",
   "metadata": {},
   "outputs": [],
   "source": [
    "input_features = X_test_scaled.copy()\n",
    "output_feature = y_test.copy()"
   ]
  },
  {
   "cell_type": "code",
   "execution_count": 30,
   "id": "85525f85",
   "metadata": {},
   "outputs": [],
   "source": [
    "pca = PCA(n_components = 2)\n",
    "\n",
    "X_reduced = pca.fit_transform(input_features)"
   ]
  },
  {
   "cell_type": "code",
   "execution_count": 31,
   "id": "30f8e797",
   "metadata": {},
   "outputs": [
    {
     "data": {
      "text/plain": [
       "(598, 2)"
      ]
     },
     "execution_count": 31,
     "metadata": {},
     "output_type": "execute_result"
    }
   ],
   "source": [
    "X_reduced.shape"
   ]
  },
  {
   "cell_type": "code",
   "execution_count": 32,
   "id": "7dcef19e",
   "metadata": {},
   "outputs": [],
   "source": [
    "def make_meshgrid(x, y, h=.02):\n",
    "    x_min, x_max = x.min() - 1, x.max() + 1\n",
    "    y_min, y_max = y.min() - 1, y.max() + 1\n",
    "    xx, yy = np.meshgrid(np.arange(x_min, x_max, h), np.arange(y_min, y_max, h))\n",
    "    return xx, yy"
   ]
  },
  {
   "cell_type": "code",
   "execution_count": 33,
   "id": "5058949b",
   "metadata": {},
   "outputs": [],
   "source": [
    "def plot_contours(ax, clf, xx, yy, **params):\n",
    "    Z = clf.predict(np.c_[xx.ravel(), yy.ravel()])\n",
    "    Z = Z.reshape(xx.shape)\n",
    "    out = ax.contourf(xx, yy, Z, **params)\n",
    "    return out"
   ]
  },
  {
   "cell_type": "code",
   "execution_count": 34,
   "id": "f600e330",
   "metadata": {},
   "outputs": [
    {
     "data": {
      "text/html": [
       "<style>#sk-container-id-5 {color: black;}#sk-container-id-5 pre{padding: 0;}#sk-container-id-5 div.sk-toggleable {background-color: white;}#sk-container-id-5 label.sk-toggleable__label {cursor: pointer;display: block;width: 100%;margin-bottom: 0;padding: 0.3em;box-sizing: border-box;text-align: center;}#sk-container-id-5 label.sk-toggleable__label-arrow:before {content: \"▸\";float: left;margin-right: 0.25em;color: #696969;}#sk-container-id-5 label.sk-toggleable__label-arrow:hover:before {color: black;}#sk-container-id-5 div.sk-estimator:hover label.sk-toggleable__label-arrow:before {color: black;}#sk-container-id-5 div.sk-toggleable__content {max-height: 0;max-width: 0;overflow: hidden;text-align: left;background-color: #f0f8ff;}#sk-container-id-5 div.sk-toggleable__content pre {margin: 0.2em;color: black;border-radius: 0.25em;background-color: #f0f8ff;}#sk-container-id-5 input.sk-toggleable__control:checked~div.sk-toggleable__content {max-height: 200px;max-width: 100%;overflow: auto;}#sk-container-id-5 input.sk-toggleable__control:checked~label.sk-toggleable__label-arrow:before {content: \"▾\";}#sk-container-id-5 div.sk-estimator input.sk-toggleable__control:checked~label.sk-toggleable__label {background-color: #d4ebff;}#sk-container-id-5 div.sk-label input.sk-toggleable__control:checked~label.sk-toggleable__label {background-color: #d4ebff;}#sk-container-id-5 input.sk-hidden--visually {border: 0;clip: rect(1px 1px 1px 1px);clip: rect(1px, 1px, 1px, 1px);height: 1px;margin: -1px;overflow: hidden;padding: 0;position: absolute;width: 1px;}#sk-container-id-5 div.sk-estimator {font-family: monospace;background-color: #f0f8ff;border: 1px dotted black;border-radius: 0.25em;box-sizing: border-box;margin-bottom: 0.5em;}#sk-container-id-5 div.sk-estimator:hover {background-color: #d4ebff;}#sk-container-id-5 div.sk-parallel-item::after {content: \"\";width: 100%;border-bottom: 1px solid gray;flex-grow: 1;}#sk-container-id-5 div.sk-label:hover label.sk-toggleable__label {background-color: #d4ebff;}#sk-container-id-5 div.sk-serial::before {content: \"\";position: absolute;border-left: 1px solid gray;box-sizing: border-box;top: 0;bottom: 0;left: 50%;z-index: 0;}#sk-container-id-5 div.sk-serial {display: flex;flex-direction: column;align-items: center;background-color: white;padding-right: 0.2em;padding-left: 0.2em;position: relative;}#sk-container-id-5 div.sk-item {position: relative;z-index: 1;}#sk-container-id-5 div.sk-parallel {display: flex;align-items: stretch;justify-content: center;background-color: white;position: relative;}#sk-container-id-5 div.sk-item::before, #sk-container-id-5 div.sk-parallel-item::before {content: \"\";position: absolute;border-left: 1px solid gray;box-sizing: border-box;top: 0;bottom: 0;left: 50%;z-index: -1;}#sk-container-id-5 div.sk-parallel-item {display: flex;flex-direction: column;z-index: 1;position: relative;background-color: white;}#sk-container-id-5 div.sk-parallel-item:first-child::after {align-self: flex-end;width: 50%;}#sk-container-id-5 div.sk-parallel-item:last-child::after {align-self: flex-start;width: 50%;}#sk-container-id-5 div.sk-parallel-item:only-child::after {width: 0;}#sk-container-id-5 div.sk-dashed-wrapped {border: 1px dashed gray;margin: 0 0.4em 0.5em 0.4em;box-sizing: border-box;padding-bottom: 0.4em;background-color: white;}#sk-container-id-5 div.sk-label label {font-family: monospace;font-weight: bold;display: inline-block;line-height: 1.2em;}#sk-container-id-5 div.sk-label-container {text-align: center;}#sk-container-id-5 div.sk-container {/* jupyter's `normalize.less` sets `[hidden] { display: none; }` but bootstrap.min.css set `[hidden] { display: none !important; }` so we also need the `!important` here to be able to override the default hidden behavior on the sphinx rendered scikit-learn.org. See: https://github.com/scikit-learn/scikit-learn/issues/21755 */display: inline-block !important;position: relative;}#sk-container-id-5 div.sk-text-repr-fallback {display: none;}</style><div id=\"sk-container-id-5\" class=\"sk-top-container\"><div class=\"sk-text-repr-fallback\"><pre>SVC(C=5)</pre><b>In a Jupyter environment, please rerun this cell to show the HTML representation or trust the notebook. <br />On GitHub, the HTML representation is unable to render, please try loading this page with nbviewer.org.</b></div><div class=\"sk-container\" hidden><div class=\"sk-item\"><div class=\"sk-estimator sk-toggleable\"><input class=\"sk-toggleable__control sk-hidden--visually\" id=\"sk-estimator-id-7\" type=\"checkbox\" checked><label for=\"sk-estimator-id-7\" class=\"sk-toggleable__label sk-toggleable__label-arrow\">SVC</label><div class=\"sk-toggleable__content\"><pre>SVC(C=5)</pre></div></div></div></div></div>"
      ],
      "text/plain": [
       "SVC(C=5)"
      ]
     },
     "execution_count": 34,
     "metadata": {},
     "output_type": "execute_result"
    }
   ],
   "source": [
    "plot_model = svm.SVC(**best_params)\n",
    "\n",
    "plot_model.fit(X_reduced, output_feature)"
   ]
  },
  {
   "cell_type": "code",
   "execution_count": 35,
   "id": "46883988",
   "metadata": {},
   "outputs": [
    {
     "data": {
      "image/png": "[encoded data removed]",
      "text/plain": [
       "<Figure size 640x480 with 1 Axes>"
      ]
     },
     "metadata": {},
     "output_type": "display_data"
    }
   ],
   "source": [
    "fig, ax = plt.subplots(facecolor='white')\n",
    "\n",
    "# title for the plots\n",
    "title = ('Decision surface of Tuned SVC ')\n",
    "\n",
    "# Set-up grid for plotting.\n",
    "X0, X1 = X_reduced[:, 0], X_reduced[:, 1]\n",
    "xx, yy = make_meshgrid(X0, X1)\n",
    "\n",
    "plot_contours(ax, plot_model, xx, yy, cmap=plt.cm.coolwarm, alpha=0.3) # alpha=0.8\n",
    "ax.scatter(X0, X1, c=y_test, edgecolors='k', cmap=plt.cm.coolwarm, s=20)\n",
    "ax.set_ylabel('PC2')\n",
    "ax.set_xlabel('PC1')\n",
    "ax.set_xticks(())\n",
    "ax.set_yticks(())\n",
    "ax.set_title('Decison surface using the PCA transformed features')\n",
    "ax.legend(labels=['Barren', 'Fertile'], fontsize=\"x-small\")\n",
    "plt.show()"
   ]
  },
  {
   "cell_type": "code",
   "execution_count": null,
   "id": "e05e7a0f",
   "metadata": {},
   "outputs": [],
   "source": []
  }
 ],
 "metadata": {
  "kernelspec": {
   "display_name": "Python 3 (ipykernel)",
   "language": "python",
   "name": "python3"
  },
  "language_info": {
   "codemirror_mode": {
    "name": "ipython",
    "version": 3
   },
   "file_extension": ".py",
   "mimetype": "text/x-python",
   "name": "python",
   "nbconvert_exporter": "python",
   "pygments_lexer": "ipython3",
   "version": "3.9.15"
  }
 },
 "nbformat": 4,
 "nbformat_minor": 5
}
