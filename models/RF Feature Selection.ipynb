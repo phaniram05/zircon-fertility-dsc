{
 "cells": [
  {
   "cell_type": "code",
   "execution_count": 1,
   "id": "4a1b78ee",
   "metadata": {},
   "outputs": [],
   "source": [
    "import pandas as pd\n",
    "import numpy as np\n",
    "\n",
    "import matplotlib.pyplot as plt\n",
    "import seaborn as sns\n",
    "\n",
    "from sklearn.ensemble import RandomForestClassifier\n",
    "from sklearn.model_selection import train_test_split\n",
    "\n",
    "from sklearn.metrics import accuracy_score, classification_report, confusion_matrix, ConfusionMatrixDisplay\n",
    "\n",
    "%matplotlib inline"
   ]
  },
  {
   "cell_type": "code",
   "execution_count": 2,
   "id": "3d8fe6f0",
   "metadata": {},
   "outputs": [],
   "source": [
    "df = pd.read_csv(\"../processed-datasets/data_outliers_handled_knn_imputed.csv\")"
   ]
  },
  {
   "cell_type": "code",
   "execution_count": 3,
   "id": "84f4dace",
   "metadata": {},
   "outputs": [],
   "source": [
    "df.drop(columns=['Unnamed: 0'], axis=1,inplace=True)"
   ]
  },
  {
   "cell_type": "code",
   "execution_count": 4,
   "id": "514eba43",
   "metadata": {},
   "outputs": [
    {
     "data": {
      "text/html": [
       "<div>\n",
       "<style scoped>\n",
       "    .dataframe tbody tr th:only-of-type {\n",
       "        vertical-align: middle;\n",
       "    }\n",
       "\n",
       "    .dataframe tbody tr th {\n",
       "        vertical-align: top;\n",
       "    }\n",
       "\n",
       "    .dataframe thead th {\n",
       "        text-align: right;\n",
       "    }\n",
       "</style>\n",
       "<table border=\"1\" class=\"dataframe\">\n",
       "  <thead>\n",
       "    <tr style=\"text-align: right;\">\n",
       "      <th></th>\n",
       "      <th>age_ma</th>\n",
       "      <th>Feature</th>\n",
       "      <th>Ti</th>\n",
       "      <th>La</th>\n",
       "      <th>Ce</th>\n",
       "      <th>Pr</th>\n",
       "      <th>Nd</th>\n",
       "      <th>Sm</th>\n",
       "      <th>Eu</th>\n",
       "      <th>Gd</th>\n",
       "      <th>...</th>\n",
       "      <th>Dy</th>\n",
       "      <th>Ho</th>\n",
       "      <th>Er</th>\n",
       "      <th>Tm</th>\n",
       "      <th>Yb</th>\n",
       "      <th>Lu</th>\n",
       "      <th>Y</th>\n",
       "      <th>Hf</th>\n",
       "      <th>U</th>\n",
       "      <th>Th</th>\n",
       "    </tr>\n",
       "  </thead>\n",
       "  <tbody>\n",
       "    <tr>\n",
       "      <th>0</th>\n",
       "      <td>222.0</td>\n",
       "      <td>0.0</td>\n",
       "      <td>7.88</td>\n",
       "      <td>0.050</td>\n",
       "      <td>10.500</td>\n",
       "      <td>0.050</td>\n",
       "      <td>4.25000</td>\n",
       "      <td>11.60000</td>\n",
       "      <td>1.99000</td>\n",
       "      <td>61.600</td>\n",
       "      <td>...</td>\n",
       "      <td>259.21625</td>\n",
       "      <td>106.1375</td>\n",
       "      <td>437.54375</td>\n",
       "      <td>97.8675</td>\n",
       "      <td>936.725</td>\n",
       "      <td>172.63875</td>\n",
       "      <td>2737.00000</td>\n",
       "      <td>12390.0</td>\n",
       "      <td>305.0</td>\n",
       "      <td>134.0</td>\n",
       "    </tr>\n",
       "    <tr>\n",
       "      <th>1</th>\n",
       "      <td>222.0</td>\n",
       "      <td>0.0</td>\n",
       "      <td>10.90</td>\n",
       "      <td>1.555</td>\n",
       "      <td>61.505</td>\n",
       "      <td>0.725</td>\n",
       "      <td>7.74125</td>\n",
       "      <td>12.56125</td>\n",
       "      <td>2.64375</td>\n",
       "      <td>63.555</td>\n",
       "      <td>...</td>\n",
       "      <td>259.21625</td>\n",
       "      <td>106.1375</td>\n",
       "      <td>437.54375</td>\n",
       "      <td>97.8675</td>\n",
       "      <td>936.725</td>\n",
       "      <td>172.63875</td>\n",
       "      <td>2804.03875</td>\n",
       "      <td>12591.0</td>\n",
       "      <td>503.0</td>\n",
       "      <td>272.0</td>\n",
       "    </tr>\n",
       "    <tr>\n",
       "      <th>2</th>\n",
       "      <td>222.0</td>\n",
       "      <td>0.0</td>\n",
       "      <td>6.00</td>\n",
       "      <td>0.020</td>\n",
       "      <td>25.100</td>\n",
       "      <td>0.300</td>\n",
       "      <td>4.41000</td>\n",
       "      <td>12.56125</td>\n",
       "      <td>2.30000</td>\n",
       "      <td>63.555</td>\n",
       "      <td>...</td>\n",
       "      <td>259.21625</td>\n",
       "      <td>106.1375</td>\n",
       "      <td>437.54375</td>\n",
       "      <td>97.8675</td>\n",
       "      <td>936.725</td>\n",
       "      <td>172.63875</td>\n",
       "      <td>2804.03875</td>\n",
       "      <td>12724.0</td>\n",
       "      <td>639.0</td>\n",
       "      <td>414.0</td>\n",
       "    </tr>\n",
       "    <tr>\n",
       "      <th>3</th>\n",
       "      <td>222.0</td>\n",
       "      <td>0.0</td>\n",
       "      <td>9.06</td>\n",
       "      <td>0.280</td>\n",
       "      <td>12.000</td>\n",
       "      <td>0.070</td>\n",
       "      <td>1.88000</td>\n",
       "      <td>5.08000</td>\n",
       "      <td>1.01000</td>\n",
       "      <td>33.800</td>\n",
       "      <td>...</td>\n",
       "      <td>194.00000</td>\n",
       "      <td>83.0000</td>\n",
       "      <td>356.00000</td>\n",
       "      <td>89.5000</td>\n",
       "      <td>762.000</td>\n",
       "      <td>144.00000</td>\n",
       "      <td>1832.00000</td>\n",
       "      <td>12894.0</td>\n",
       "      <td>308.0</td>\n",
       "      <td>127.0</td>\n",
       "    </tr>\n",
       "    <tr>\n",
       "      <th>4</th>\n",
       "      <td>222.0</td>\n",
       "      <td>0.0</td>\n",
       "      <td>4.93</td>\n",
       "      <td>0.070</td>\n",
       "      <td>16.500</td>\n",
       "      <td>0.150</td>\n",
       "      <td>2.32000</td>\n",
       "      <td>8.23000</td>\n",
       "      <td>1.52000</td>\n",
       "      <td>45.600</td>\n",
       "      <td>...</td>\n",
       "      <td>257.00000</td>\n",
       "      <td>106.1375</td>\n",
       "      <td>437.54375</td>\n",
       "      <td>97.8675</td>\n",
       "      <td>936.000</td>\n",
       "      <td>171.00000</td>\n",
       "      <td>2355.00000</td>\n",
       "      <td>12535.0</td>\n",
       "      <td>348.0</td>\n",
       "      <td>155.0</td>\n",
       "    </tr>\n",
       "  </tbody>\n",
       "</table>\n",
       "<p>5 rows × 21 columns</p>\n",
       "</div>"
      ],
      "text/plain": [
       "   age_ma  Feature     Ti     La      Ce     Pr       Nd        Sm       Eu  \\\n",
       "0   222.0      0.0   7.88  0.050  10.500  0.050  4.25000  11.60000  1.99000   \n",
       "1   222.0      0.0  10.90  1.555  61.505  0.725  7.74125  12.56125  2.64375   \n",
       "2   222.0      0.0   6.00  0.020  25.100  0.300  4.41000  12.56125  2.30000   \n",
       "3   222.0      0.0   9.06  0.280  12.000  0.070  1.88000   5.08000  1.01000   \n",
       "4   222.0      0.0   4.93  0.070  16.500  0.150  2.32000   8.23000  1.52000   \n",
       "\n",
       "       Gd  ...         Dy        Ho         Er       Tm       Yb         Lu  \\\n",
       "0  61.600  ...  259.21625  106.1375  437.54375  97.8675  936.725  172.63875   \n",
       "1  63.555  ...  259.21625  106.1375  437.54375  97.8675  936.725  172.63875   \n",
       "2  63.555  ...  259.21625  106.1375  437.54375  97.8675  936.725  172.63875   \n",
       "3  33.800  ...  194.00000   83.0000  356.00000  89.5000  762.000  144.00000   \n",
       "4  45.600  ...  257.00000  106.1375  437.54375  97.8675  936.000  171.00000   \n",
       "\n",
       "            Y       Hf      U     Th  \n",
       "0  2737.00000  12390.0  305.0  134.0  \n",
       "1  2804.03875  12591.0  503.0  272.0  \n",
       "2  2804.03875  12724.0  639.0  414.0  \n",
       "3  1832.00000  12894.0  308.0  127.0  \n",
       "4  2355.00000  12535.0  348.0  155.0  \n",
       "\n",
       "[5 rows x 21 columns]"
      ]
     },
     "execution_count": 4,
     "metadata": {},
     "output_type": "execute_result"
    }
   ],
   "source": [
    "df.head()"
   ]
  },
  {
   "cell_type": "code",
   "execution_count": 5,
   "id": "7920d164",
   "metadata": {},
   "outputs": [],
   "source": [
    "X = df.drop(columns = ['Feature'], axis=1)\n",
    "y = df.Feature"
   ]
  },
  {
   "cell_type": "code",
   "execution_count": 6,
   "id": "9a57e4eb",
   "metadata": {},
   "outputs": [],
   "source": [
    "X_train, X_test, y_train, y_test = train_test_split(X, y, test_size=0.2, shuffle=True)"
   ]
  },
  {
   "cell_type": "code",
   "execution_count": 7,
   "id": "9f4d8594",
   "metadata": {},
   "outputs": [
    {
     "data": {
      "text/html": [
       "<style>#sk-container-id-1 {color: black;}#sk-container-id-1 pre{padding: 0;}#sk-container-id-1 div.sk-toggleable {background-color: white;}#sk-container-id-1 label.sk-toggleable__label {cursor: pointer;display: block;width: 100%;margin-bottom: 0;padding: 0.3em;box-sizing: border-box;text-align: center;}#sk-container-id-1 label.sk-toggleable__label-arrow:before {content: \"▸\";float: left;margin-right: 0.25em;color: #696969;}#sk-container-id-1 label.sk-toggleable__label-arrow:hover:before {color: black;}#sk-container-id-1 div.sk-estimator:hover label.sk-toggleable__label-arrow:before {color: black;}#sk-container-id-1 div.sk-toggleable__content {max-height: 0;max-width: 0;overflow: hidden;text-align: left;background-color: #f0f8ff;}#sk-container-id-1 div.sk-toggleable__content pre {margin: 0.2em;color: black;border-radius: 0.25em;background-color: #f0f8ff;}#sk-container-id-1 input.sk-toggleable__control:checked~div.sk-toggleable__content {max-height: 200px;max-width: 100%;overflow: auto;}#sk-container-id-1 input.sk-toggleable__control:checked~label.sk-toggleable__label-arrow:before {content: \"▾\";}#sk-container-id-1 div.sk-estimator input.sk-toggleable__control:checked~label.sk-toggleable__label {background-color: #d4ebff;}#sk-container-id-1 div.sk-label input.sk-toggleable__control:checked~label.sk-toggleable__label {background-color: #d4ebff;}#sk-container-id-1 input.sk-hidden--visually {border: 0;clip: rect(1px 1px 1px 1px);clip: rect(1px, 1px, 1px, 1px);height: 1px;margin: -1px;overflow: hidden;padding: 0;position: absolute;width: 1px;}#sk-container-id-1 div.sk-estimator {font-family: monospace;background-color: #f0f8ff;border: 1px dotted black;border-radius: 0.25em;box-sizing: border-box;margin-bottom: 0.5em;}#sk-container-id-1 div.sk-estimator:hover {background-color: #d4ebff;}#sk-container-id-1 div.sk-parallel-item::after {content: \"\";width: 100%;border-bottom: 1px solid gray;flex-grow: 1;}#sk-container-id-1 div.sk-label:hover label.sk-toggleable__label {background-color: #d4ebff;}#sk-container-id-1 div.sk-serial::before {content: \"\";position: absolute;border-left: 1px solid gray;box-sizing: border-box;top: 0;bottom: 0;left: 50%;z-index: 0;}#sk-container-id-1 div.sk-serial {display: flex;flex-direction: column;align-items: center;background-color: white;padding-right: 0.2em;padding-left: 0.2em;position: relative;}#sk-container-id-1 div.sk-item {position: relative;z-index: 1;}#sk-container-id-1 div.sk-parallel {display: flex;align-items: stretch;justify-content: center;background-color: white;position: relative;}#sk-container-id-1 div.sk-item::before, #sk-container-id-1 div.sk-parallel-item::before {content: \"\";position: absolute;border-left: 1px solid gray;box-sizing: border-box;top: 0;bottom: 0;left: 50%;z-index: -1;}#sk-container-id-1 div.sk-parallel-item {display: flex;flex-direction: column;z-index: 1;position: relative;background-color: white;}#sk-container-id-1 div.sk-parallel-item:first-child::after {align-self: flex-end;width: 50%;}#sk-container-id-1 div.sk-parallel-item:last-child::after {align-self: flex-start;width: 50%;}#sk-container-id-1 div.sk-parallel-item:only-child::after {width: 0;}#sk-container-id-1 div.sk-dashed-wrapped {border: 1px dashed gray;margin: 0 0.4em 0.5em 0.4em;box-sizing: border-box;padding-bottom: 0.4em;background-color: white;}#sk-container-id-1 div.sk-label label {font-family: monospace;font-weight: bold;display: inline-block;line-height: 1.2em;}#sk-container-id-1 div.sk-label-container {text-align: center;}#sk-container-id-1 div.sk-container {/* jupyter's `normalize.less` sets `[hidden] { display: none; }` but bootstrap.min.css set `[hidden] { display: none !important; }` so we also need the `!important` here to be able to override the default hidden behavior on the sphinx rendered scikit-learn.org. See: https://github.com/scikit-learn/scikit-learn/issues/21755 */display: inline-block !important;position: relative;}#sk-container-id-1 div.sk-text-repr-fallback {display: none;}</style><div id=\"sk-container-id-1\" class=\"sk-top-container\"><div class=\"sk-text-repr-fallback\"><pre>RandomForestClassifier()</pre><b>In a Jupyter environment, please rerun this cell to show the HTML representation or trust the notebook. <br />On GitHub, the HTML representation is unable to render, please try loading this page with nbviewer.org.</b></div><div class=\"sk-container\" hidden><div class=\"sk-item\"><div class=\"sk-estimator sk-toggleable\"><input class=\"sk-toggleable__control sk-hidden--visually\" id=\"sk-estimator-id-1\" type=\"checkbox\" checked><label for=\"sk-estimator-id-1\" class=\"sk-toggleable__label sk-toggleable__label-arrow\">RandomForestClassifier</label><div class=\"sk-toggleable__content\"><pre>RandomForestClassifier()</pre></div></div></div></div></div>"
      ],
      "text/plain": [
       "RandomForestClassifier()"
      ]
     },
     "execution_count": 7,
     "metadata": {},
     "output_type": "execute_result"
    }
   ],
   "source": [
    "rf = RandomForestClassifier()\n",
    "rf.fit(X_train, y_train)"
   ]
  },
  {
   "cell_type": "code",
   "execution_count": 8,
   "id": "c71db1d6",
   "metadata": {},
   "outputs": [
    {
     "data": {
      "text/plain": [
       "array([0.17968452, 0.03601088, 0.02732641, 0.04217627, 0.05770951,\n",
       "       0.09333172, 0.07220728, 0.07182686, 0.02091584, 0.02984033,\n",
       "       0.06381946, 0.01803936, 0.01857586, 0.01733879, 0.02202623,\n",
       "       0.02937206, 0.01564125, 0.06906014, 0.06332417, 0.05177308])"
      ]
     },
     "execution_count": 8,
     "metadata": {},
     "output_type": "execute_result"
    }
   ],
   "source": [
    "rf.feature_importances_"
   ]
  },
  {
   "cell_type": "code",
   "execution_count": 9,
   "id": "6466082b",
   "metadata": {},
   "outputs": [
    {
     "data": {
      "text/plain": [
       "Text(0.5, 1.0, 'Feature Importance - Random Forest')"
      ]
     },
     "execution_count": 9,
     "metadata": {},
     "output_type": "execute_result"
    },
    {
     "data": {
      "image/png": "[encoded data removed]",
      "text/plain": [
       "<Figure size 640x480 with 1 Axes>"
      ]
     },
     "metadata": {},
     "output_type": "display_data"
    }
   ],
   "source": [
    "global_importances = pd.Series(rf.feature_importances_, index=X_train.columns)\n",
    "global_importances.sort_values(ascending=True, inplace=True)\n",
    "global_importances.plot.barh(color='grey')\n",
    "plt.xlabel(\"Importance\")\n",
    "plt.ylabel(\"Feature\")\n",
    "plt.title(\"Feature Importance - Random Forest\")"
   ]
  },
  {
   "cell_type": "code",
   "execution_count": 11,
   "id": "7e54fd43",
   "metadata": {},
   "outputs": [
    {
     "data": {
      "text/plain": [
       "age_ma    0.179685\n",
       "Nd        0.093332\n",
       "Sm        0.072207\n",
       "Eu        0.071827\n",
       "Hf        0.069060\n",
       "Dy        0.063819\n",
       "U         0.063324\n",
       "Pr        0.057710\n",
       "Th        0.051773\n",
       "Ce        0.042176\n",
       "Ti        0.036011\n",
       "Tb        0.029840\n",
       "Lu        0.029372\n",
       "La        0.027326\n",
       "Yb        0.022026\n",
       "Gd        0.020916\n",
       "Er        0.018576\n",
       "Ho        0.018039\n",
       "Tm        0.017339\n",
       "Y         0.015641\n",
       "dtype: float64"
      ]
     },
     "execution_count": 11,
     "metadata": {},
     "output_type": "execute_result"
    }
   ],
   "source": [
    "global_importances.sort_values(ascending=False)"
   ]
  },
  {
   "cell_type": "code",
   "execution_count": 10,
   "id": "4ebb1e70",
   "metadata": {},
   "outputs": [
    {
     "data": {
      "text/plain": [
       "array([0.2420064 , 0.03489497, 0.07023126, 0.02573852, 0.0302316 ,\n",
       "       0.02971244, 0.04356971, 0.05412296, 0.01261222, 0.00330723,\n",
       "       0.23974317, 0.00319999, 0.02581396, 0.02042253, 0.01531374,\n",
       "       0.02825823, 0.01952711, 0.03406183, 0.04490773, 0.02232439])"
      ]
     },
     "execution_count": 10,
     "metadata": {},
     "output_type": "execute_result"
    }
   ],
   "source": [
    "rf.estimators_[0].feature_importances_"
   ]
  },
  {
   "cell_type": "code",
   "execution_count": 11,
   "id": "3ca4283b",
   "metadata": {},
   "outputs": [
    {
     "data": {
      "text/plain": [
       "age_ma    0.187468\n",
       "Nd        0.081075\n",
       "Sm        0.076586\n",
       "U         0.076472\n",
       "Eu        0.072796\n",
       "Hf        0.070224\n",
       "Dy        0.061621\n",
       "Pr        0.060709\n",
       "Th        0.046368\n",
       "Ce        0.040714\n",
       "Lu        0.033922\n",
       "La        0.031364\n",
       "Ti        0.029102\n",
       "Tb        0.026808\n",
       "Yb        0.020911\n",
       "Tm        0.019393\n",
       "Gd        0.019110\n",
       "Ho        0.017352\n",
       "Y         0.015390\n",
       "Er        0.012614\n",
       "dtype: float64"
      ]
     },
     "execution_count": 11,
     "metadata": {},
     "output_type": "execute_result"
    }
   ],
   "source": [
    "global_importances.sort_values(ascending=False)"
   ]
  },
  {
   "cell_type": "code",
   "execution_count": 12,
   "id": "11d5726c",
   "metadata": {},
   "outputs": [],
   "source": [
    "selected_features = global_importances.sort_values(ascending=False).index[:10]"
   ]
  },
  {
   "cell_type": "code",
   "execution_count": 13,
   "id": "aefc8c79",
   "metadata": {},
   "outputs": [],
   "source": [
    "df_selected = df[selected_features]"
   ]
  },
  {
   "cell_type": "code",
   "execution_count": 14,
   "id": "9e11595c",
   "metadata": {},
   "outputs": [
    {
     "data": {
      "text/html": [
       "<div>\n",
       "<style scoped>\n",
       "    .dataframe tbody tr th:only-of-type {\n",
       "        vertical-align: middle;\n",
       "    }\n",
       "\n",
       "    .dataframe tbody tr th {\n",
       "        vertical-align: top;\n",
       "    }\n",
       "\n",
       "    .dataframe thead th {\n",
       "        text-align: right;\n",
       "    }\n",
       "</style>\n",
       "<table border=\"1\" class=\"dataframe\">\n",
       "  <thead>\n",
       "    <tr style=\"text-align: right;\">\n",
       "      <th></th>\n",
       "      <th>age_ma</th>\n",
       "      <th>Nd</th>\n",
       "      <th>Sm</th>\n",
       "      <th>U</th>\n",
       "      <th>Eu</th>\n",
       "      <th>Hf</th>\n",
       "      <th>Dy</th>\n",
       "      <th>Pr</th>\n",
       "      <th>Th</th>\n",
       "      <th>Ce</th>\n",
       "    </tr>\n",
       "  </thead>\n",
       "  <tbody>\n",
       "    <tr>\n",
       "      <th>0</th>\n",
       "      <td>222.00</td>\n",
       "      <td>4.25000</td>\n",
       "      <td>11.60000</td>\n",
       "      <td>305.0</td>\n",
       "      <td>1.99000</td>\n",
       "      <td>12390.0</td>\n",
       "      <td>259.21625</td>\n",
       "      <td>0.050</td>\n",
       "      <td>134.0</td>\n",
       "      <td>10.500</td>\n",
       "    </tr>\n",
       "    <tr>\n",
       "      <th>1</th>\n",
       "      <td>222.00</td>\n",
       "      <td>7.74125</td>\n",
       "      <td>12.56125</td>\n",
       "      <td>503.0</td>\n",
       "      <td>2.64375</td>\n",
       "      <td>12591.0</td>\n",
       "      <td>259.21625</td>\n",
       "      <td>0.725</td>\n",
       "      <td>272.0</td>\n",
       "      <td>61.505</td>\n",
       "    </tr>\n",
       "    <tr>\n",
       "      <th>2</th>\n",
       "      <td>222.00</td>\n",
       "      <td>4.41000</td>\n",
       "      <td>12.56125</td>\n",
       "      <td>639.0</td>\n",
       "      <td>2.30000</td>\n",
       "      <td>12724.0</td>\n",
       "      <td>259.21625</td>\n",
       "      <td>0.300</td>\n",
       "      <td>414.0</td>\n",
       "      <td>25.100</td>\n",
       "    </tr>\n",
       "    <tr>\n",
       "      <th>3</th>\n",
       "      <td>222.00</td>\n",
       "      <td>1.88000</td>\n",
       "      <td>5.08000</td>\n",
       "      <td>308.0</td>\n",
       "      <td>1.01000</td>\n",
       "      <td>12894.0</td>\n",
       "      <td>194.00000</td>\n",
       "      <td>0.070</td>\n",
       "      <td>127.0</td>\n",
       "      <td>12.000</td>\n",
       "    </tr>\n",
       "    <tr>\n",
       "      <th>4</th>\n",
       "      <td>222.00</td>\n",
       "      <td>2.32000</td>\n",
       "      <td>8.23000</td>\n",
       "      <td>348.0</td>\n",
       "      <td>1.52000</td>\n",
       "      <td>12535.0</td>\n",
       "      <td>257.00000</td>\n",
       "      <td>0.150</td>\n",
       "      <td>155.0</td>\n",
       "      <td>16.500</td>\n",
       "    </tr>\n",
       "    <tr>\n",
       "      <th>...</th>\n",
       "      <td>...</td>\n",
       "      <td>...</td>\n",
       "      <td>...</td>\n",
       "      <td>...</td>\n",
       "      <td>...</td>\n",
       "      <td>...</td>\n",
       "      <td>...</td>\n",
       "      <td>...</td>\n",
       "      <td>...</td>\n",
       "      <td>...</td>\n",
       "    </tr>\n",
       "    <tr>\n",
       "      <th>2983</th>\n",
       "      <td>150.31</td>\n",
       "      <td>0.83000</td>\n",
       "      <td>1.75000</td>\n",
       "      <td>92.0</td>\n",
       "      <td>0.27000</td>\n",
       "      <td>8803.0</td>\n",
       "      <td>40.90000</td>\n",
       "      <td>0.050</td>\n",
       "      <td>66.0</td>\n",
       "      <td>8.000</td>\n",
       "    </tr>\n",
       "    <tr>\n",
       "      <th>2984</th>\n",
       "      <td>55.92</td>\n",
       "      <td>2.00000</td>\n",
       "      <td>3.76000</td>\n",
       "      <td>100.0</td>\n",
       "      <td>0.52000</td>\n",
       "      <td>8854.0</td>\n",
       "      <td>69.50000</td>\n",
       "      <td>0.140</td>\n",
       "      <td>90.0</td>\n",
       "      <td>9.000</td>\n",
       "    </tr>\n",
       "    <tr>\n",
       "      <th>2985</th>\n",
       "      <td>76.25</td>\n",
       "      <td>2.82000</td>\n",
       "      <td>4.31000</td>\n",
       "      <td>97.0</td>\n",
       "      <td>0.53000</td>\n",
       "      <td>8890.0</td>\n",
       "      <td>69.20000</td>\n",
       "      <td>0.170</td>\n",
       "      <td>86.0</td>\n",
       "      <td>9.000</td>\n",
       "    </tr>\n",
       "    <tr>\n",
       "      <th>2986</th>\n",
       "      <td>127.39</td>\n",
       "      <td>0.70000</td>\n",
       "      <td>1.56000</td>\n",
       "      <td>82.0</td>\n",
       "      <td>0.23000</td>\n",
       "      <td>9032.0</td>\n",
       "      <td>34.20000</td>\n",
       "      <td>0.040</td>\n",
       "      <td>55.0</td>\n",
       "      <td>8.000</td>\n",
       "    </tr>\n",
       "    <tr>\n",
       "      <th>2987</th>\n",
       "      <td>129.45</td>\n",
       "      <td>0.99000</td>\n",
       "      <td>2.04000</td>\n",
       "      <td>90.0</td>\n",
       "      <td>0.34000</td>\n",
       "      <td>8773.0</td>\n",
       "      <td>51.70000</td>\n",
       "      <td>0.080</td>\n",
       "      <td>73.0</td>\n",
       "      <td>8.000</td>\n",
       "    </tr>\n",
       "  </tbody>\n",
       "</table>\n",
       "<p>2988 rows × 10 columns</p>\n",
       "</div>"
      ],
      "text/plain": [
       "      age_ma       Nd        Sm      U       Eu       Hf         Dy     Pr  \\\n",
       "0     222.00  4.25000  11.60000  305.0  1.99000  12390.0  259.21625  0.050   \n",
       "1     222.00  7.74125  12.56125  503.0  2.64375  12591.0  259.21625  0.725   \n",
       "2     222.00  4.41000  12.56125  639.0  2.30000  12724.0  259.21625  0.300   \n",
       "3     222.00  1.88000   5.08000  308.0  1.01000  12894.0  194.00000  0.070   \n",
       "4     222.00  2.32000   8.23000  348.0  1.52000  12535.0  257.00000  0.150   \n",
       "...      ...      ...       ...    ...      ...      ...        ...    ...   \n",
       "2983  150.31  0.83000   1.75000   92.0  0.27000   8803.0   40.90000  0.050   \n",
       "2984   55.92  2.00000   3.76000  100.0  0.52000   8854.0   69.50000  0.140   \n",
       "2985   76.25  2.82000   4.31000   97.0  0.53000   8890.0   69.20000  0.170   \n",
       "2986  127.39  0.70000   1.56000   82.0  0.23000   9032.0   34.20000  0.040   \n",
       "2987  129.45  0.99000   2.04000   90.0  0.34000   8773.0   51.70000  0.080   \n",
       "\n",
       "         Th      Ce  \n",
       "0     134.0  10.500  \n",
       "1     272.0  61.505  \n",
       "2     414.0  25.100  \n",
       "3     127.0  12.000  \n",
       "4     155.0  16.500  \n",
       "...     ...     ...  \n",
       "2983   66.0   8.000  \n",
       "2984   90.0   9.000  \n",
       "2985   86.0   9.000  \n",
       "2986   55.0   8.000  \n",
       "2987   73.0   8.000  \n",
       "\n",
       "[2988 rows x 10 columns]"
      ]
     },
     "execution_count": 14,
     "metadata": {},
     "output_type": "execute_result"
    }
   ],
   "source": [
    "df_selected"
   ]
  },
  {
   "cell_type": "code",
   "execution_count": 15,
   "id": "dc330c3e",
   "metadata": {},
   "outputs": [],
   "source": [
    "X_train_sel, X_test_sel, y_train_sel, y_test_sel = train_test_split(df_selected, y, test_size=0.2, shuffle=True)"
   ]
  },
  {
   "cell_type": "code",
   "execution_count": 16,
   "id": "1117e603",
   "metadata": {},
   "outputs": [
    {
     "data": {
      "text/html": [
       "<style>#sk-container-id-2 {color: black;}#sk-container-id-2 pre{padding: 0;}#sk-container-id-2 div.sk-toggleable {background-color: white;}#sk-container-id-2 label.sk-toggleable__label {cursor: pointer;display: block;width: 100%;margin-bottom: 0;padding: 0.3em;box-sizing: border-box;text-align: center;}#sk-container-id-2 label.sk-toggleable__label-arrow:before {content: \"▸\";float: left;margin-right: 0.25em;color: #696969;}#sk-container-id-2 label.sk-toggleable__label-arrow:hover:before {color: black;}#sk-container-id-2 div.sk-estimator:hover label.sk-toggleable__label-arrow:before {color: black;}#sk-container-id-2 div.sk-toggleable__content {max-height: 0;max-width: 0;overflow: hidden;text-align: left;background-color: #f0f8ff;}#sk-container-id-2 div.sk-toggleable__content pre {margin: 0.2em;color: black;border-radius: 0.25em;background-color: #f0f8ff;}#sk-container-id-2 input.sk-toggleable__control:checked~div.sk-toggleable__content {max-height: 200px;max-width: 100%;overflow: auto;}#sk-container-id-2 input.sk-toggleable__control:checked~label.sk-toggleable__label-arrow:before {content: \"▾\";}#sk-container-id-2 div.sk-estimator input.sk-toggleable__control:checked~label.sk-toggleable__label {background-color: #d4ebff;}#sk-container-id-2 div.sk-label input.sk-toggleable__control:checked~label.sk-toggleable__label {background-color: #d4ebff;}#sk-container-id-2 input.sk-hidden--visually {border: 0;clip: rect(1px 1px 1px 1px);clip: rect(1px, 1px, 1px, 1px);height: 1px;margin: -1px;overflow: hidden;padding: 0;position: absolute;width: 1px;}#sk-container-id-2 div.sk-estimator {font-family: monospace;background-color: #f0f8ff;border: 1px dotted black;border-radius: 0.25em;box-sizing: border-box;margin-bottom: 0.5em;}#sk-container-id-2 div.sk-estimator:hover {background-color: #d4ebff;}#sk-container-id-2 div.sk-parallel-item::after {content: \"\";width: 100%;border-bottom: 1px solid gray;flex-grow: 1;}#sk-container-id-2 div.sk-label:hover label.sk-toggleable__label {background-color: #d4ebff;}#sk-container-id-2 div.sk-serial::before {content: \"\";position: absolute;border-left: 1px solid gray;box-sizing: border-box;top: 0;bottom: 0;left: 50%;z-index: 0;}#sk-container-id-2 div.sk-serial {display: flex;flex-direction: column;align-items: center;background-color: white;padding-right: 0.2em;padding-left: 0.2em;position: relative;}#sk-container-id-2 div.sk-item {position: relative;z-index: 1;}#sk-container-id-2 div.sk-parallel {display: flex;align-items: stretch;justify-content: center;background-color: white;position: relative;}#sk-container-id-2 div.sk-item::before, #sk-container-id-2 div.sk-parallel-item::before {content: \"\";position: absolute;border-left: 1px solid gray;box-sizing: border-box;top: 0;bottom: 0;left: 50%;z-index: -1;}#sk-container-id-2 div.sk-parallel-item {display: flex;flex-direction: column;z-index: 1;position: relative;background-color: white;}#sk-container-id-2 div.sk-parallel-item:first-child::after {align-self: flex-end;width: 50%;}#sk-container-id-2 div.sk-parallel-item:last-child::after {align-self: flex-start;width: 50%;}#sk-container-id-2 div.sk-parallel-item:only-child::after {width: 0;}#sk-container-id-2 div.sk-dashed-wrapped {border: 1px dashed gray;margin: 0 0.4em 0.5em 0.4em;box-sizing: border-box;padding-bottom: 0.4em;background-color: white;}#sk-container-id-2 div.sk-label label {font-family: monospace;font-weight: bold;display: inline-block;line-height: 1.2em;}#sk-container-id-2 div.sk-label-container {text-align: center;}#sk-container-id-2 div.sk-container {/* jupyter's `normalize.less` sets `[hidden] { display: none; }` but bootstrap.min.css set `[hidden] { display: none !important; }` so we also need the `!important` here to be able to override the default hidden behavior on the sphinx rendered scikit-learn.org. See: https://github.com/scikit-learn/scikit-learn/issues/21755 */display: inline-block !important;position: relative;}#sk-container-id-2 div.sk-text-repr-fallback {display: none;}</style><div id=\"sk-container-id-2\" class=\"sk-top-container\"><div class=\"sk-text-repr-fallback\"><pre>RandomForestClassifier()</pre><b>In a Jupyter environment, please rerun this cell to show the HTML representation or trust the notebook. <br />On GitHub, the HTML representation is unable to render, please try loading this page with nbviewer.org.</b></div><div class=\"sk-container\" hidden><div class=\"sk-item\"><div class=\"sk-estimator sk-toggleable\"><input class=\"sk-toggleable__control sk-hidden--visually\" id=\"sk-estimator-id-2\" type=\"checkbox\" checked><label for=\"sk-estimator-id-2\" class=\"sk-toggleable__label sk-toggleable__label-arrow\">RandomForestClassifier</label><div class=\"sk-toggleable__content\"><pre>RandomForestClassifier()</pre></div></div></div></div></div>"
      ],
      "text/plain": [
       "RandomForestClassifier()"
      ]
     },
     "execution_count": 16,
     "metadata": {},
     "output_type": "execute_result"
    }
   ],
   "source": [
    "rf = RandomForestClassifier()\n",
    "rf.fit(X_train_sel, y_train_sel)"
   ]
  },
  {
   "cell_type": "code",
   "execution_count": 17,
   "id": "46fdc54e",
   "metadata": {},
   "outputs": [],
   "source": [
    "y_pred_sel = rf.predict(X_test_sel)"
   ]
  },
  {
   "cell_type": "code",
   "execution_count": 18,
   "id": "04802368",
   "metadata": {},
   "outputs": [
    {
     "data": {
      "text/plain": [
       "0.9531772575250836"
      ]
     },
     "execution_count": 18,
     "metadata": {},
     "output_type": "execute_result"
    }
   ],
   "source": [
    "accuracy_score(y_test_sel, y_pred_sel)"
   ]
  },
  {
   "cell_type": "code",
   "execution_count": 19,
   "id": "4c9a8bf4",
   "metadata": {},
   "outputs": [
    {
     "data": {
      "text/plain": [
       "<sklearn.metrics._plot.confusion_matrix.ConfusionMatrixDisplay at 0x15fef4d60>"
      ]
     },
     "execution_count": 19,
     "metadata": {},
     "output_type": "execute_result"
    },
    {
     "data": {
      "image/png": "[encoded data removed]",
      "text/plain": [
       "<Figure size 640x480 with 2 Axes>"
      ]
     },
     "metadata": {},
     "output_type": "display_data"
    }
   ],
   "source": [
    "cm = confusion_matrix(y_test_sel, y_pred_sel)\n",
    "\n",
    "ConfusionMatrixDisplay(cm, display_labels=['Barren', 'Fertile']).plot(cmap = 'OrRd')"
   ]
  },
  {
   "cell_type": "code",
   "execution_count": null,
   "id": "2b4780d8",
   "metadata": {},
   "outputs": [],
   "source": []
  }
 ],
 "metadata": {
  "kernelspec": {
   "display_name": "Python 3 (ipykernel)",
   "language": "python",
   "name": "python3"
  },
  "language_info": {
   "codemirror_mode": {
    "name": "ipython",
    "version": 3
   },
   "file_extension": ".py",
   "mimetype": "text/x-python",
   "name": "python",
   "nbconvert_exporter": "python",
   "pygments_lexer": "ipython3",
   "version": "3.9.15"
  }
 },
 "nbformat": 4,
 "nbformat_minor": 5
}
