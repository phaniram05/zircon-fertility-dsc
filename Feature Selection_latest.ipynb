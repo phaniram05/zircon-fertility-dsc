{
 "cells": [
  {
   "cell_type": "markdown",
   "id": "eebbca50",
   "metadata": {},
   "source": [
    " ## Importing necessary libraries"
   ]
  },
  {
   "cell_type": "code",
   "execution_count": 8,
   "id": "000e4b88",
   "metadata": {},
   "outputs": [],
   "source": [
    "import pandas as pd\n",
    "import numpy as np\n",
    "import matplotlib.pyplot as plt\n",
    "import seaborn as sns\n",
    "\n",
    "# from pandasql import sqldf\n",
    "\n",
    "import warnings\n",
    "warnings.filterwarnings('ignore')\n",
    "\n",
    "%matplotlib inline"
   ]
  },
  {
   "cell_type": "markdown",
   "id": "614d3178",
   "metadata": {},
   "source": [
    "### Reading the datasets"
   ]
  },
  {
   "cell_type": "code",
   "execution_count": 9,
   "id": "f812a2bd",
   "metadata": {},
   "outputs": [
    {
     "data": {
      "text/html": [
       "<div>\n",
       "<style scoped>\n",
       "    .dataframe tbody tr th:only-of-type {\n",
       "        vertical-align: middle;\n",
       "    }\n",
       "\n",
       "    .dataframe tbody tr th {\n",
       "        vertical-align: top;\n",
       "    }\n",
       "\n",
       "    .dataframe thead th {\n",
       "        text-align: right;\n",
       "    }\n",
       "</style>\n",
       "<table border=\"1\" class=\"dataframe\">\n",
       "  <thead>\n",
       "    <tr style=\"text-align: right;\">\n",
       "      <th></th>\n",
       "      <th>Unnamed: 0</th>\n",
       "      <th>age_ma</th>\n",
       "      <th>Feature</th>\n",
       "      <th>Ti</th>\n",
       "      <th>La</th>\n",
       "      <th>Ce</th>\n",
       "      <th>Pr</th>\n",
       "      <th>Nd</th>\n",
       "      <th>Sm</th>\n",
       "      <th>Eu</th>\n",
       "      <th>...</th>\n",
       "      <th>Dy</th>\n",
       "      <th>Ho</th>\n",
       "      <th>Er</th>\n",
       "      <th>Tm</th>\n",
       "      <th>Yb</th>\n",
       "      <th>Lu</th>\n",
       "      <th>Y</th>\n",
       "      <th>Hf</th>\n",
       "      <th>U</th>\n",
       "      <th>Th</th>\n",
       "    </tr>\n",
       "  </thead>\n",
       "  <tbody>\n",
       "    <tr>\n",
       "      <th>0</th>\n",
       "      <td>0</td>\n",
       "      <td>222.00</td>\n",
       "      <td>0.0</td>\n",
       "      <td>7.88</td>\n",
       "      <td>0.050</td>\n",
       "      <td>10.500</td>\n",
       "      <td>0.050</td>\n",
       "      <td>4.25000</td>\n",
       "      <td>11.60000</td>\n",
       "      <td>1.99000</td>\n",
       "      <td>...</td>\n",
       "      <td>259.21625</td>\n",
       "      <td>106.1375</td>\n",
       "      <td>437.54375</td>\n",
       "      <td>97.8675</td>\n",
       "      <td>936.725</td>\n",
       "      <td>172.63875</td>\n",
       "      <td>2737.00000</td>\n",
       "      <td>12390.0</td>\n",
       "      <td>305.0</td>\n",
       "      <td>134.0</td>\n",
       "    </tr>\n",
       "    <tr>\n",
       "      <th>1</th>\n",
       "      <td>1</td>\n",
       "      <td>222.00</td>\n",
       "      <td>0.0</td>\n",
       "      <td>10.90</td>\n",
       "      <td>1.555</td>\n",
       "      <td>61.505</td>\n",
       "      <td>0.725</td>\n",
       "      <td>7.74125</td>\n",
       "      <td>12.56125</td>\n",
       "      <td>2.64375</td>\n",
       "      <td>...</td>\n",
       "      <td>259.21625</td>\n",
       "      <td>106.1375</td>\n",
       "      <td>437.54375</td>\n",
       "      <td>97.8675</td>\n",
       "      <td>936.725</td>\n",
       "      <td>172.63875</td>\n",
       "      <td>2804.03875</td>\n",
       "      <td>12591.0</td>\n",
       "      <td>503.0</td>\n",
       "      <td>272.0</td>\n",
       "    </tr>\n",
       "    <tr>\n",
       "      <th>2</th>\n",
       "      <td>2</td>\n",
       "      <td>222.00</td>\n",
       "      <td>0.0</td>\n",
       "      <td>6.00</td>\n",
       "      <td>0.020</td>\n",
       "      <td>25.100</td>\n",
       "      <td>0.300</td>\n",
       "      <td>4.41000</td>\n",
       "      <td>12.56125</td>\n",
       "      <td>2.30000</td>\n",
       "      <td>...</td>\n",
       "      <td>259.21625</td>\n",
       "      <td>106.1375</td>\n",
       "      <td>437.54375</td>\n",
       "      <td>97.8675</td>\n",
       "      <td>936.725</td>\n",
       "      <td>172.63875</td>\n",
       "      <td>2804.03875</td>\n",
       "      <td>12724.0</td>\n",
       "      <td>639.0</td>\n",
       "      <td>414.0</td>\n",
       "    </tr>\n",
       "    <tr>\n",
       "      <th>3</th>\n",
       "      <td>3</td>\n",
       "      <td>222.00</td>\n",
       "      <td>0.0</td>\n",
       "      <td>9.06</td>\n",
       "      <td>0.280</td>\n",
       "      <td>12.000</td>\n",
       "      <td>0.070</td>\n",
       "      <td>1.88000</td>\n",
       "      <td>5.08000</td>\n",
       "      <td>1.01000</td>\n",
       "      <td>...</td>\n",
       "      <td>194.00000</td>\n",
       "      <td>83.0000</td>\n",
       "      <td>356.00000</td>\n",
       "      <td>89.5000</td>\n",
       "      <td>762.000</td>\n",
       "      <td>144.00000</td>\n",
       "      <td>1832.00000</td>\n",
       "      <td>12894.0</td>\n",
       "      <td>308.0</td>\n",
       "      <td>127.0</td>\n",
       "    </tr>\n",
       "    <tr>\n",
       "      <th>4</th>\n",
       "      <td>4</td>\n",
       "      <td>222.00</td>\n",
       "      <td>0.0</td>\n",
       "      <td>4.93</td>\n",
       "      <td>0.070</td>\n",
       "      <td>16.500</td>\n",
       "      <td>0.150</td>\n",
       "      <td>2.32000</td>\n",
       "      <td>8.23000</td>\n",
       "      <td>1.52000</td>\n",
       "      <td>...</td>\n",
       "      <td>257.00000</td>\n",
       "      <td>106.1375</td>\n",
       "      <td>437.54375</td>\n",
       "      <td>97.8675</td>\n",
       "      <td>936.000</td>\n",
       "      <td>171.00000</td>\n",
       "      <td>2355.00000</td>\n",
       "      <td>12535.0</td>\n",
       "      <td>348.0</td>\n",
       "      <td>155.0</td>\n",
       "    </tr>\n",
       "    <tr>\n",
       "      <th>...</th>\n",
       "      <td>...</td>\n",
       "      <td>...</td>\n",
       "      <td>...</td>\n",
       "      <td>...</td>\n",
       "      <td>...</td>\n",
       "      <td>...</td>\n",
       "      <td>...</td>\n",
       "      <td>...</td>\n",
       "      <td>...</td>\n",
       "      <td>...</td>\n",
       "      <td>...</td>\n",
       "      <td>...</td>\n",
       "      <td>...</td>\n",
       "      <td>...</td>\n",
       "      <td>...</td>\n",
       "      <td>...</td>\n",
       "      <td>...</td>\n",
       "      <td>...</td>\n",
       "      <td>...</td>\n",
       "      <td>...</td>\n",
       "      <td>...</td>\n",
       "    </tr>\n",
       "    <tr>\n",
       "      <th>2983</th>\n",
       "      <td>2983</td>\n",
       "      <td>150.31</td>\n",
       "      <td>0.0</td>\n",
       "      <td>14.02</td>\n",
       "      <td>0.010</td>\n",
       "      <td>8.000</td>\n",
       "      <td>0.050</td>\n",
       "      <td>0.83000</td>\n",
       "      <td>1.75000</td>\n",
       "      <td>0.27000</td>\n",
       "      <td>...</td>\n",
       "      <td>40.90000</td>\n",
       "      <td>14.6000</td>\n",
       "      <td>65.30000</td>\n",
       "      <td>14.9000</td>\n",
       "      <td>137.000</td>\n",
       "      <td>24.80000</td>\n",
       "      <td>448.00000</td>\n",
       "      <td>8803.0</td>\n",
       "      <td>92.0</td>\n",
       "      <td>66.0</td>\n",
       "    </tr>\n",
       "    <tr>\n",
       "      <th>2984</th>\n",
       "      <td>2984</td>\n",
       "      <td>55.92</td>\n",
       "      <td>0.0</td>\n",
       "      <td>6.83</td>\n",
       "      <td>0.010</td>\n",
       "      <td>9.000</td>\n",
       "      <td>0.140</td>\n",
       "      <td>2.00000</td>\n",
       "      <td>3.76000</td>\n",
       "      <td>0.52000</td>\n",
       "      <td>...</td>\n",
       "      <td>69.50000</td>\n",
       "      <td>23.4000</td>\n",
       "      <td>102.90000</td>\n",
       "      <td>21.9000</td>\n",
       "      <td>199.000</td>\n",
       "      <td>34.70000</td>\n",
       "      <td>725.00000</td>\n",
       "      <td>8854.0</td>\n",
       "      <td>100.0</td>\n",
       "      <td>90.0</td>\n",
       "    </tr>\n",
       "    <tr>\n",
       "      <th>2985</th>\n",
       "      <td>2985</td>\n",
       "      <td>76.25</td>\n",
       "      <td>0.0</td>\n",
       "      <td>10.09</td>\n",
       "      <td>0.020</td>\n",
       "      <td>9.000</td>\n",
       "      <td>0.170</td>\n",
       "      <td>2.82000</td>\n",
       "      <td>4.31000</td>\n",
       "      <td>0.53000</td>\n",
       "      <td>...</td>\n",
       "      <td>69.20000</td>\n",
       "      <td>22.9000</td>\n",
       "      <td>99.70000</td>\n",
       "      <td>21.2000</td>\n",
       "      <td>191.000</td>\n",
       "      <td>33.00000</td>\n",
       "      <td>693.00000</td>\n",
       "      <td>8890.0</td>\n",
       "      <td>97.0</td>\n",
       "      <td>86.0</td>\n",
       "    </tr>\n",
       "    <tr>\n",
       "      <th>2986</th>\n",
       "      <td>2986</td>\n",
       "      <td>127.39</td>\n",
       "      <td>0.0</td>\n",
       "      <td>6.26</td>\n",
       "      <td>0.000</td>\n",
       "      <td>8.000</td>\n",
       "      <td>0.040</td>\n",
       "      <td>0.70000</td>\n",
       "      <td>1.56000</td>\n",
       "      <td>0.23000</td>\n",
       "      <td>...</td>\n",
       "      <td>34.20000</td>\n",
       "      <td>12.5000</td>\n",
       "      <td>58.20000</td>\n",
       "      <td>12.9000</td>\n",
       "      <td>123.000</td>\n",
       "      <td>21.90000</td>\n",
       "      <td>394.00000</td>\n",
       "      <td>9032.0</td>\n",
       "      <td>82.0</td>\n",
       "      <td>55.0</td>\n",
       "    </tr>\n",
       "    <tr>\n",
       "      <th>2987</th>\n",
       "      <td>2987</td>\n",
       "      <td>129.45</td>\n",
       "      <td>0.0</td>\n",
       "      <td>12.84</td>\n",
       "      <td>0.060</td>\n",
       "      <td>8.000</td>\n",
       "      <td>0.080</td>\n",
       "      <td>0.99000</td>\n",
       "      <td>2.04000</td>\n",
       "      <td>0.34000</td>\n",
       "      <td>...</td>\n",
       "      <td>51.70000</td>\n",
       "      <td>17.9000</td>\n",
       "      <td>81.50000</td>\n",
       "      <td>17.9000</td>\n",
       "      <td>166.000</td>\n",
       "      <td>28.80000</td>\n",
       "      <td>564.00000</td>\n",
       "      <td>8773.0</td>\n",
       "      <td>90.0</td>\n",
       "      <td>73.0</td>\n",
       "    </tr>\n",
       "  </tbody>\n",
       "</table>\n",
       "<p>2988 rows × 22 columns</p>\n",
       "</div>"
      ],
      "text/plain": [
       "      Unnamed: 0  age_ma  Feature     Ti     La      Ce     Pr       Nd  \\\n",
       "0              0  222.00      0.0   7.88  0.050  10.500  0.050  4.25000   \n",
       "1              1  222.00      0.0  10.90  1.555  61.505  0.725  7.74125   \n",
       "2              2  222.00      0.0   6.00  0.020  25.100  0.300  4.41000   \n",
       "3              3  222.00      0.0   9.06  0.280  12.000  0.070  1.88000   \n",
       "4              4  222.00      0.0   4.93  0.070  16.500  0.150  2.32000   \n",
       "...          ...     ...      ...    ...    ...     ...    ...      ...   \n",
       "2983        2983  150.31      0.0  14.02  0.010   8.000  0.050  0.83000   \n",
       "2984        2984   55.92      0.0   6.83  0.010   9.000  0.140  2.00000   \n",
       "2985        2985   76.25      0.0  10.09  0.020   9.000  0.170  2.82000   \n",
       "2986        2986  127.39      0.0   6.26  0.000   8.000  0.040  0.70000   \n",
       "2987        2987  129.45      0.0  12.84  0.060   8.000  0.080  0.99000   \n",
       "\n",
       "            Sm       Eu  ...         Dy        Ho         Er       Tm  \\\n",
       "0     11.60000  1.99000  ...  259.21625  106.1375  437.54375  97.8675   \n",
       "1     12.56125  2.64375  ...  259.21625  106.1375  437.54375  97.8675   \n",
       "2     12.56125  2.30000  ...  259.21625  106.1375  437.54375  97.8675   \n",
       "3      5.08000  1.01000  ...  194.00000   83.0000  356.00000  89.5000   \n",
       "4      8.23000  1.52000  ...  257.00000  106.1375  437.54375  97.8675   \n",
       "...        ...      ...  ...        ...       ...        ...      ...   \n",
       "2983   1.75000  0.27000  ...   40.90000   14.6000   65.30000  14.9000   \n",
       "2984   3.76000  0.52000  ...   69.50000   23.4000  102.90000  21.9000   \n",
       "2985   4.31000  0.53000  ...   69.20000   22.9000   99.70000  21.2000   \n",
       "2986   1.56000  0.23000  ...   34.20000   12.5000   58.20000  12.9000   \n",
       "2987   2.04000  0.34000  ...   51.70000   17.9000   81.50000  17.9000   \n",
       "\n",
       "           Yb         Lu           Y       Hf      U     Th  \n",
       "0     936.725  172.63875  2737.00000  12390.0  305.0  134.0  \n",
       "1     936.725  172.63875  2804.03875  12591.0  503.0  272.0  \n",
       "2     936.725  172.63875  2804.03875  12724.0  639.0  414.0  \n",
       "3     762.000  144.00000  1832.00000  12894.0  308.0  127.0  \n",
       "4     936.000  171.00000  2355.00000  12535.0  348.0  155.0  \n",
       "...       ...        ...         ...      ...    ...    ...  \n",
       "2983  137.000   24.80000   448.00000   8803.0   92.0   66.0  \n",
       "2984  199.000   34.70000   725.00000   8854.0  100.0   90.0  \n",
       "2985  191.000   33.00000   693.00000   8890.0   97.0   86.0  \n",
       "2986  123.000   21.90000   394.00000   9032.0   82.0   55.0  \n",
       "2987  166.000   28.80000   564.00000   8773.0   90.0   73.0  \n",
       "\n",
       "[2988 rows x 22 columns]"
      ]
     },
     "execution_count": 9,
     "metadata": {},
     "output_type": "execute_result"
    }
   ],
   "source": [
    "df1 = pd.read_csv(\"data_outliers_handled_kmeans_imputed.csv\")\n",
    "df1\n"
   ]
  },
  {
   "cell_type": "code",
   "execution_count": 12,
   "id": "138a4f59",
   "metadata": {},
   "outputs": [],
   "source": [
    "X = df1.drop(columns = ['Feature', 'Unnamed: 0'])\n",
    "y = df1['Feature']"
   ]
  },
  {
   "cell_type": "code",
   "execution_count": 13,
   "id": "9bc34c9d",
   "metadata": {},
   "outputs": [
    {
     "data": {
      "text/html": [
       "<div>\n",
       "<style scoped>\n",
       "    .dataframe tbody tr th:only-of-type {\n",
       "        vertical-align: middle;\n",
       "    }\n",
       "\n",
       "    .dataframe tbody tr th {\n",
       "        vertical-align: top;\n",
       "    }\n",
       "\n",
       "    .dataframe thead th {\n",
       "        text-align: right;\n",
       "    }\n",
       "</style>\n",
       "<table border=\"1\" class=\"dataframe\">\n",
       "  <thead>\n",
       "    <tr style=\"text-align: right;\">\n",
       "      <th></th>\n",
       "      <th>age_ma</th>\n",
       "      <th>Ti</th>\n",
       "      <th>La</th>\n",
       "      <th>Ce</th>\n",
       "      <th>Pr</th>\n",
       "      <th>Nd</th>\n",
       "      <th>Sm</th>\n",
       "      <th>Eu</th>\n",
       "      <th>Gd</th>\n",
       "      <th>Tb</th>\n",
       "      <th>Dy</th>\n",
       "      <th>Ho</th>\n",
       "      <th>Er</th>\n",
       "      <th>Tm</th>\n",
       "      <th>Yb</th>\n",
       "      <th>Lu</th>\n",
       "      <th>Y</th>\n",
       "      <th>Hf</th>\n",
       "      <th>U</th>\n",
       "      <th>Th</th>\n",
       "    </tr>\n",
       "  </thead>\n",
       "  <tbody>\n",
       "    <tr>\n",
       "      <th>0</th>\n",
       "      <td>222.0</td>\n",
       "      <td>7.88</td>\n",
       "      <td>0.050</td>\n",
       "      <td>10.500</td>\n",
       "      <td>0.050</td>\n",
       "      <td>4.25000</td>\n",
       "      <td>11.60000</td>\n",
       "      <td>1.99000</td>\n",
       "      <td>61.600</td>\n",
       "      <td>23.4975</td>\n",
       "      <td>259.21625</td>\n",
       "      <td>106.1375</td>\n",
       "      <td>437.54375</td>\n",
       "      <td>97.8675</td>\n",
       "      <td>936.725</td>\n",
       "      <td>172.63875</td>\n",
       "      <td>2737.00000</td>\n",
       "      <td>12390.0</td>\n",
       "      <td>305.0</td>\n",
       "      <td>134.0</td>\n",
       "    </tr>\n",
       "    <tr>\n",
       "      <th>1</th>\n",
       "      <td>222.0</td>\n",
       "      <td>10.90</td>\n",
       "      <td>1.555</td>\n",
       "      <td>61.505</td>\n",
       "      <td>0.725</td>\n",
       "      <td>7.74125</td>\n",
       "      <td>12.56125</td>\n",
       "      <td>2.64375</td>\n",
       "      <td>63.555</td>\n",
       "      <td>23.4975</td>\n",
       "      <td>259.21625</td>\n",
       "      <td>106.1375</td>\n",
       "      <td>437.54375</td>\n",
       "      <td>97.8675</td>\n",
       "      <td>936.725</td>\n",
       "      <td>172.63875</td>\n",
       "      <td>2804.03875</td>\n",
       "      <td>12591.0</td>\n",
       "      <td>503.0</td>\n",
       "      <td>272.0</td>\n",
       "    </tr>\n",
       "    <tr>\n",
       "      <th>2</th>\n",
       "      <td>222.0</td>\n",
       "      <td>6.00</td>\n",
       "      <td>0.020</td>\n",
       "      <td>25.100</td>\n",
       "      <td>0.300</td>\n",
       "      <td>4.41000</td>\n",
       "      <td>12.56125</td>\n",
       "      <td>2.30000</td>\n",
       "      <td>63.555</td>\n",
       "      <td>23.4975</td>\n",
       "      <td>259.21625</td>\n",
       "      <td>106.1375</td>\n",
       "      <td>437.54375</td>\n",
       "      <td>97.8675</td>\n",
       "      <td>936.725</td>\n",
       "      <td>172.63875</td>\n",
       "      <td>2804.03875</td>\n",
       "      <td>12724.0</td>\n",
       "      <td>639.0</td>\n",
       "      <td>414.0</td>\n",
       "    </tr>\n",
       "    <tr>\n",
       "      <th>3</th>\n",
       "      <td>222.0</td>\n",
       "      <td>9.06</td>\n",
       "      <td>0.280</td>\n",
       "      <td>12.000</td>\n",
       "      <td>0.070</td>\n",
       "      <td>1.88000</td>\n",
       "      <td>5.08000</td>\n",
       "      <td>1.01000</td>\n",
       "      <td>33.800</td>\n",
       "      <td>15.5000</td>\n",
       "      <td>194.00000</td>\n",
       "      <td>83.0000</td>\n",
       "      <td>356.00000</td>\n",
       "      <td>89.5000</td>\n",
       "      <td>762.000</td>\n",
       "      <td>144.00000</td>\n",
       "      <td>1832.00000</td>\n",
       "      <td>12894.0</td>\n",
       "      <td>308.0</td>\n",
       "      <td>127.0</td>\n",
       "    </tr>\n",
       "    <tr>\n",
       "      <th>4</th>\n",
       "      <td>222.0</td>\n",
       "      <td>4.93</td>\n",
       "      <td>0.070</td>\n",
       "      <td>16.500</td>\n",
       "      <td>0.150</td>\n",
       "      <td>2.32000</td>\n",
       "      <td>8.23000</td>\n",
       "      <td>1.52000</td>\n",
       "      <td>45.600</td>\n",
       "      <td>19.7000</td>\n",
       "      <td>257.00000</td>\n",
       "      <td>106.1375</td>\n",
       "      <td>437.54375</td>\n",
       "      <td>97.8675</td>\n",
       "      <td>936.000</td>\n",
       "      <td>171.00000</td>\n",
       "      <td>2355.00000</td>\n",
       "      <td>12535.0</td>\n",
       "      <td>348.0</td>\n",
       "      <td>155.0</td>\n",
       "    </tr>\n",
       "  </tbody>\n",
       "</table>\n",
       "</div>"
      ],
      "text/plain": [
       "   age_ma     Ti     La      Ce     Pr       Nd        Sm       Eu      Gd  \\\n",
       "0   222.0   7.88  0.050  10.500  0.050  4.25000  11.60000  1.99000  61.600   \n",
       "1   222.0  10.90  1.555  61.505  0.725  7.74125  12.56125  2.64375  63.555   \n",
       "2   222.0   6.00  0.020  25.100  0.300  4.41000  12.56125  2.30000  63.555   \n",
       "3   222.0   9.06  0.280  12.000  0.070  1.88000   5.08000  1.01000  33.800   \n",
       "4   222.0   4.93  0.070  16.500  0.150  2.32000   8.23000  1.52000  45.600   \n",
       "\n",
       "        Tb         Dy        Ho         Er       Tm       Yb         Lu  \\\n",
       "0  23.4975  259.21625  106.1375  437.54375  97.8675  936.725  172.63875   \n",
       "1  23.4975  259.21625  106.1375  437.54375  97.8675  936.725  172.63875   \n",
       "2  23.4975  259.21625  106.1375  437.54375  97.8675  936.725  172.63875   \n",
       "3  15.5000  194.00000   83.0000  356.00000  89.5000  762.000  144.00000   \n",
       "4  19.7000  257.00000  106.1375  437.54375  97.8675  936.000  171.00000   \n",
       "\n",
       "            Y       Hf      U     Th  \n",
       "0  2737.00000  12390.0  305.0  134.0  \n",
       "1  2804.03875  12591.0  503.0  272.0  \n",
       "2  2804.03875  12724.0  639.0  414.0  \n",
       "3  1832.00000  12894.0  308.0  127.0  \n",
       "4  2355.00000  12535.0  348.0  155.0  "
      ]
     },
     "execution_count": 13,
     "metadata": {},
     "output_type": "execute_result"
    }
   ],
   "source": [
    "X.head()"
   ]
  },
  {
   "cell_type": "code",
   "execution_count": 14,
   "id": "57be9963",
   "metadata": {},
   "outputs": [
    {
     "data": {
      "text/plain": [
       "0    0.0\n",
       "1    0.0\n",
       "2    0.0\n",
       "3    0.0\n",
       "4    0.0\n",
       "Name: Feature, dtype: float64"
      ]
     },
     "execution_count": 14,
     "metadata": {},
     "output_type": "execute_result"
    }
   ],
   "source": [
    "y.head()"
   ]
  },
  {
   "cell_type": "code",
   "execution_count": 16,
   "id": "16f48fb0",
   "metadata": {},
   "outputs": [],
   "source": [
    "from sklearn.model_selection import train_test_split\n",
    "\n",
    "X_train, X_test, y_train, y_test = train_test_split(X, y, test_size=0.2, shuffle=True)"
   ]
  },
  {
   "cell_type": "code",
   "execution_count": 17,
   "id": "35758c05",
   "metadata": {},
   "outputs": [
    {
     "data": {
      "text/plain": [
       "pandas.core.frame.DataFrame"
      ]
     },
     "execution_count": 17,
     "metadata": {},
     "output_type": "execute_result"
    }
   ],
   "source": [
    "type(X_train)"
   ]
  },
  {
   "cell_type": "code",
   "execution_count": 18,
   "id": "efb58e79",
   "metadata": {},
   "outputs": [
    {
     "data": {
      "text/plain": [
       "(2390,)"
      ]
     },
     "execution_count": 18,
     "metadata": {},
     "output_type": "execute_result"
    }
   ],
   "source": [
    "y_train.shape"
   ]
  },
  {
   "cell_type": "code",
   "execution_count": 19,
   "id": "1b02c5de",
   "metadata": {},
   "outputs": [
    {
     "data": {
      "text/plain": [
       "1055.0"
      ]
     },
     "execution_count": 19,
     "metadata": {},
     "output_type": "execute_result"
    }
   ],
   "source": [
    "y_train.sum()"
   ]
  },
  {
   "cell_type": "markdown",
   "id": "6ccdf5d1",
   "metadata": {},
   "source": [
    "### Perform scaling"
   ]
  },
  {
   "cell_type": "code",
   "execution_count": 21,
   "id": "bc13fb3b",
   "metadata": {},
   "outputs": [],
   "source": [
    "from sklearn.preprocessing import StandardScaler\n",
    "\n",
    "scaler = StandardScaler()\n",
    "\n",
    "X_train_scaled = scaler.fit_transform(X_train)\n",
    "X_test_scaled = scaler.fit_transform(X_test)"
   ]
  },
  {
   "cell_type": "code",
   "execution_count": null,
   "id": "dc14d769",
   "metadata": {},
   "outputs": [],
   "source": []
  },
  {
   "cell_type": "markdown",
   "id": "c5d7307e",
   "metadata": {},
   "source": [
    "### Logistic Regression Model"
   ]
  },
  {
   "cell_type": "code",
   "execution_count": 23,
   "id": "902e745c",
   "metadata": {},
   "outputs": [],
   "source": [
    "from sklearn.linear_model import LogisticRegression\n",
    "\n",
    "lr_model = LogisticRegression()"
   ]
  },
  {
   "cell_type": "code",
   "execution_count": 24,
   "id": "affbc4cf",
   "metadata": {},
   "outputs": [
    {
     "data": {
      "text/html": [
       "<style>#sk-container-id-1 {color: black;}#sk-container-id-1 pre{padding: 0;}#sk-container-id-1 div.sk-toggleable {background-color: white;}#sk-container-id-1 label.sk-toggleable__label {cursor: pointer;display: block;width: 100%;margin-bottom: 0;padding: 0.3em;box-sizing: border-box;text-align: center;}#sk-container-id-1 label.sk-toggleable__label-arrow:before {content: \"▸\";float: left;margin-right: 0.25em;color: #696969;}#sk-container-id-1 label.sk-toggleable__label-arrow:hover:before {color: black;}#sk-container-id-1 div.sk-estimator:hover label.sk-toggleable__label-arrow:before {color: black;}#sk-container-id-1 div.sk-toggleable__content {max-height: 0;max-width: 0;overflow: hidden;text-align: left;background-color: #f0f8ff;}#sk-container-id-1 div.sk-toggleable__content pre {margin: 0.2em;color: black;border-radius: 0.25em;background-color: #f0f8ff;}#sk-container-id-1 input.sk-toggleable__control:checked~div.sk-toggleable__content {max-height: 200px;max-width: 100%;overflow: auto;}#sk-container-id-1 input.sk-toggleable__control:checked~label.sk-toggleable__label-arrow:before {content: \"▾\";}#sk-container-id-1 div.sk-estimator input.sk-toggleable__control:checked~label.sk-toggleable__label {background-color: #d4ebff;}#sk-container-id-1 div.sk-label input.sk-toggleable__control:checked~label.sk-toggleable__label {background-color: #d4ebff;}#sk-container-id-1 input.sk-hidden--visually {border: 0;clip: rect(1px 1px 1px 1px);clip: rect(1px, 1px, 1px, 1px);height: 1px;margin: -1px;overflow: hidden;padding: 0;position: absolute;width: 1px;}#sk-container-id-1 div.sk-estimator {font-family: monospace;background-color: #f0f8ff;border: 1px dotted black;border-radius: 0.25em;box-sizing: border-box;margin-bottom: 0.5em;}#sk-container-id-1 div.sk-estimator:hover {background-color: #d4ebff;}#sk-container-id-1 div.sk-parallel-item::after {content: \"\";width: 100%;border-bottom: 1px solid gray;flex-grow: 1;}#sk-container-id-1 div.sk-label:hover label.sk-toggleable__label {background-color: #d4ebff;}#sk-container-id-1 div.sk-serial::before {content: \"\";position: absolute;border-left: 1px solid gray;box-sizing: border-box;top: 0;bottom: 0;left: 50%;z-index: 0;}#sk-container-id-1 div.sk-serial {display: flex;flex-direction: column;align-items: center;background-color: white;padding-right: 0.2em;padding-left: 0.2em;position: relative;}#sk-container-id-1 div.sk-item {position: relative;z-index: 1;}#sk-container-id-1 div.sk-parallel {display: flex;align-items: stretch;justify-content: center;background-color: white;position: relative;}#sk-container-id-1 div.sk-item::before, #sk-container-id-1 div.sk-parallel-item::before {content: \"\";position: absolute;border-left: 1px solid gray;box-sizing: border-box;top: 0;bottom: 0;left: 50%;z-index: -1;}#sk-container-id-1 div.sk-parallel-item {display: flex;flex-direction: column;z-index: 1;position: relative;background-color: white;}#sk-container-id-1 div.sk-parallel-item:first-child::after {align-self: flex-end;width: 50%;}#sk-container-id-1 div.sk-parallel-item:last-child::after {align-self: flex-start;width: 50%;}#sk-container-id-1 div.sk-parallel-item:only-child::after {width: 0;}#sk-container-id-1 div.sk-dashed-wrapped {border: 1px dashed gray;margin: 0 0.4em 0.5em 0.4em;box-sizing: border-box;padding-bottom: 0.4em;background-color: white;}#sk-container-id-1 div.sk-label label {font-family: monospace;font-weight: bold;display: inline-block;line-height: 1.2em;}#sk-container-id-1 div.sk-label-container {text-align: center;}#sk-container-id-1 div.sk-container {/* jupyter's `normalize.less` sets `[hidden] { display: none; }` but bootstrap.min.css set `[hidden] { display: none !important; }` so we also need the `!important` here to be able to override the default hidden behavior on the sphinx rendered scikit-learn.org. See: https://github.com/scikit-learn/scikit-learn/issues/21755 */display: inline-block !important;position: relative;}#sk-container-id-1 div.sk-text-repr-fallback {display: none;}</style><div id=\"sk-container-id-1\" class=\"sk-top-container\"><div class=\"sk-text-repr-fallback\"><pre>LogisticRegression()</pre><b>In a Jupyter environment, please rerun this cell to show the HTML representation or trust the notebook. <br />On GitHub, the HTML representation is unable to render, please try loading this page with nbviewer.org.</b></div><div class=\"sk-container\" hidden><div class=\"sk-item\"><div class=\"sk-estimator sk-toggleable\"><input class=\"sk-toggleable__control sk-hidden--visually\" id=\"sk-estimator-id-1\" type=\"checkbox\" checked><label for=\"sk-estimator-id-1\" class=\"sk-toggleable__label sk-toggleable__label-arrow\">LogisticRegression</label><div class=\"sk-toggleable__content\"><pre>LogisticRegression()</pre></div></div></div></div></div>"
      ],
      "text/plain": [
       "LogisticRegression()"
      ]
     },
     "execution_count": 24,
     "metadata": {},
     "output_type": "execute_result"
    }
   ],
   "source": [
    "lr_model.fit(X_train_scaled, y_train)"
   ]
  },
  {
   "cell_type": "code",
   "execution_count": 25,
   "id": "bfe8b4f4",
   "metadata": {},
   "outputs": [],
   "source": [
    "y_pred = lr_model.predict(X_test_scaled)"
   ]
  },
  {
   "cell_type": "code",
   "execution_count": 26,
   "id": "9f76f78b",
   "metadata": {},
   "outputs": [],
   "source": [
    "from sklearn.metrics import accuracy_score, confusion_matrix"
   ]
  },
  {
   "cell_type": "code",
   "execution_count": 27,
   "id": "c5e70085",
   "metadata": {},
   "outputs": [
    {
     "data": {
      "text/plain": [
       "0.862876254180602"
      ]
     },
     "execution_count": 27,
     "metadata": {},
     "output_type": "execute_result"
    }
   ],
   "source": [
    "accuracy_score(y_test, y_pred)"
   ]
  },
  {
   "cell_type": "code",
   "execution_count": 28,
   "id": "61947508",
   "metadata": {},
   "outputs": [],
   "source": [
    "cm = confusion_matrix(y_test, y_pred)"
   ]
  },
  {
   "cell_type": "code",
   "execution_count": 29,
   "id": "87f0d363",
   "metadata": {},
   "outputs": [
    {
     "data": {
      "text/plain": [
       "array([[288,  64],\n",
       "       [ 18, 228]])"
      ]
     },
     "execution_count": 29,
     "metadata": {},
     "output_type": "execute_result"
    }
   ],
   "source": [
    "cm"
   ]
  },
  {
   "cell_type": "code",
   "execution_count": 31,
   "id": "88e11d8b",
   "metadata": {},
   "outputs": [
    {
     "data": {
      "text/plain": [
       "<sklearn.metrics._plot.confusion_matrix.ConfusionMatrixDisplay at 0x17c06ba50>"
      ]
     },
     "execution_count": 31,
     "metadata": {},
     "output_type": "execute_result"
    },
    {
     "data": {
      "image/png": "[encoded data removed]",
      "text/plain": [
       "<Figure size 640x480 with 2 Axes>"
      ]
     },
     "metadata": {},
     "output_type": "display_data"
    }
   ],
   "source": [
    "from sklearn.metrics import confusion_matrix, ConfusionMatrixDisplay\n",
    "\n",
    "ConfusionMatrixDisplay(cm, display_labels=['Barren', 'Fertile']).plot()"
   ]
  },
  {
   "cell_type": "code",
   "execution_count": 33,
   "id": "b5a89e5c",
   "metadata": {},
   "outputs": [
    {
     "name": "stdout",
     "output_type": "stream",
     "text": [
      "              precision    recall  f1-score   support\n",
      "\n",
      "      Barren     0.9412    0.8182    0.8754       352\n",
      "   Fertility     0.7808    0.9268    0.8476       246\n",
      "\n",
      "    accuracy                         0.8629       598\n",
      "   macro avg     0.8610    0.8725    0.8615       598\n",
      "weighted avg     0.8752    0.8629    0.8639       598\n",
      "\n"
     ]
    }
   ],
   "source": [
    "from sklearn.metrics import classification_report\n",
    "\n",
    "target_names = ['Barren', 'Fertility']\n",
    "\n",
    "report = classification_report(y_test, y_pred, target_names=target_names, digits=4)\n",
    "print(report)"
   ]
  },
  {
   "cell_type": "code",
   "execution_count": null,
   "id": "6fd24094",
   "metadata": {},
   "outputs": [],
   "source": []
  },
  {
   "cell_type": "markdown",
   "id": "3817ed0c",
   "metadata": {},
   "source": [
    "## Feature Importance and Selection\n",
    "\n",
    "### Recurssive Feature Elimination"
   ]
  },
  {
   "cell_type": "code",
   "execution_count": 34,
   "id": "526161f3",
   "metadata": {},
   "outputs": [
    {
     "data": {
      "text/html": [
       "<div>\n",
       "<style scoped>\n",
       "    .dataframe tbody tr th:only-of-type {\n",
       "        vertical-align: middle;\n",
       "    }\n",
       "\n",
       "    .dataframe tbody tr th {\n",
       "        vertical-align: top;\n",
       "    }\n",
       "\n",
       "    .dataframe thead th {\n",
       "        text-align: right;\n",
       "    }\n",
       "</style>\n",
       "<table border=\"1\" class=\"dataframe\">\n",
       "  <thead>\n",
       "    <tr style=\"text-align: right;\">\n",
       "      <th></th>\n",
       "      <th>Feature</th>\n",
       "      <th>Rank</th>\n",
       "    </tr>\n",
       "  </thead>\n",
       "  <tbody>\n",
       "    <tr>\n",
       "      <th>10</th>\n",
       "      <td>Dy</td>\n",
       "      <td>1</td>\n",
       "    </tr>\n",
       "    <tr>\n",
       "      <th>12</th>\n",
       "      <td>Er</td>\n",
       "      <td>2</td>\n",
       "    </tr>\n",
       "    <tr>\n",
       "      <th>11</th>\n",
       "      <td>Ho</td>\n",
       "      <td>3</td>\n",
       "    </tr>\n",
       "    <tr>\n",
       "      <th>8</th>\n",
       "      <td>Gd</td>\n",
       "      <td>4</td>\n",
       "    </tr>\n",
       "    <tr>\n",
       "      <th>5</th>\n",
       "      <td>Nd</td>\n",
       "      <td>5</td>\n",
       "    </tr>\n",
       "    <tr>\n",
       "      <th>7</th>\n",
       "      <td>Eu</td>\n",
       "      <td>6</td>\n",
       "    </tr>\n",
       "    <tr>\n",
       "      <th>16</th>\n",
       "      <td>Y</td>\n",
       "      <td>7</td>\n",
       "    </tr>\n",
       "    <tr>\n",
       "      <th>17</th>\n",
       "      <td>Hf</td>\n",
       "      <td>8</td>\n",
       "    </tr>\n",
       "    <tr>\n",
       "      <th>4</th>\n",
       "      <td>Pr</td>\n",
       "      <td>9</td>\n",
       "    </tr>\n",
       "    <tr>\n",
       "      <th>1</th>\n",
       "      <td>Ti</td>\n",
       "      <td>10</td>\n",
       "    </tr>\n",
       "    <tr>\n",
       "      <th>6</th>\n",
       "      <td>Sm</td>\n",
       "      <td>11</td>\n",
       "    </tr>\n",
       "    <tr>\n",
       "      <th>0</th>\n",
       "      <td>age_ma</td>\n",
       "      <td>12</td>\n",
       "    </tr>\n",
       "    <tr>\n",
       "      <th>3</th>\n",
       "      <td>Ce</td>\n",
       "      <td>13</td>\n",
       "    </tr>\n",
       "    <tr>\n",
       "      <th>18</th>\n",
       "      <td>U</td>\n",
       "      <td>14</td>\n",
       "    </tr>\n",
       "    <tr>\n",
       "      <th>2</th>\n",
       "      <td>La</td>\n",
       "      <td>15</td>\n",
       "    </tr>\n",
       "    <tr>\n",
       "      <th>13</th>\n",
       "      <td>Tm</td>\n",
       "      <td>16</td>\n",
       "    </tr>\n",
       "    <tr>\n",
       "      <th>15</th>\n",
       "      <td>Lu</td>\n",
       "      <td>17</td>\n",
       "    </tr>\n",
       "    <tr>\n",
       "      <th>9</th>\n",
       "      <td>Tb</td>\n",
       "      <td>18</td>\n",
       "    </tr>\n",
       "    <tr>\n",
       "      <th>14</th>\n",
       "      <td>Yb</td>\n",
       "      <td>19</td>\n",
       "    </tr>\n",
       "    <tr>\n",
       "      <th>19</th>\n",
       "      <td>Th</td>\n",
       "      <td>20</td>\n",
       "    </tr>\n",
       "  </tbody>\n",
       "</table>\n",
       "</div>"
      ],
      "text/plain": [
       "   Feature  Rank\n",
       "10      Dy     1\n",
       "12      Er     2\n",
       "11      Ho     3\n",
       "8       Gd     4\n",
       "5       Nd     5\n",
       "7       Eu     6\n",
       "16       Y     7\n",
       "17      Hf     8\n",
       "4       Pr     9\n",
       "1       Ti    10\n",
       "6       Sm    11\n",
       "0   age_ma    12\n",
       "3       Ce    13\n",
       "18       U    14\n",
       "2       La    15\n",
       "13      Tm    16\n",
       "15      Lu    17\n",
       "9       Tb    18\n",
       "14      Yb    19\n",
       "19      Th    20"
      ]
     },
     "execution_count": 34,
     "metadata": {},
     "output_type": "execute_result"
    }
   ],
   "source": [
    "from sklearn.feature_selection import RFE\n",
    "\n",
    "# Initialize Logistic Regression model\n",
    "lr_model = LogisticRegression()\n",
    "\n",
    "# Initialize RFE\n",
    "rfe = RFE(lr_model, n_features_to_select=1)\n",
    "\n",
    "# Fit RFE\n",
    "rfe.fit(X_train_scaled, y_train)\n",
    "\n",
    "# Get ranking of features\n",
    "feature_ranking = pd.DataFrame({'Feature': X.columns, 'Rank': rfe.ranking_})\n",
    "feature_ranking.sort_values(by='Rank')\n"
   ]
  },
  {
   "cell_type": "code",
   "execution_count": null,
   "id": "9830f0aa",
   "metadata": {},
   "outputs": [],
   "source": []
  },
  {
   "cell_type": "markdown",
   "id": "d7038417",
   "metadata": {},
   "source": [
    "### Random Forest Feature Importance"
   ]
  },
  {
   "cell_type": "code",
   "execution_count": 35,
   "id": "83533fa0",
   "metadata": {},
   "outputs": [
    {
     "data": {
      "text/html": [
       "<div>\n",
       "<style scoped>\n",
       "    .dataframe tbody tr th:only-of-type {\n",
       "        vertical-align: middle;\n",
       "    }\n",
       "\n",
       "    .dataframe tbody tr th {\n",
       "        vertical-align: top;\n",
       "    }\n",
       "\n",
       "    .dataframe thead th {\n",
       "        text-align: right;\n",
       "    }\n",
       "</style>\n",
       "<table border=\"1\" class=\"dataframe\">\n",
       "  <thead>\n",
       "    <tr style=\"text-align: right;\">\n",
       "      <th></th>\n",
       "      <th>Feature</th>\n",
       "      <th>Importance</th>\n",
       "    </tr>\n",
       "  </thead>\n",
       "  <tbody>\n",
       "    <tr>\n",
       "      <th>0</th>\n",
       "      <td>age_ma</td>\n",
       "      <td>0.180122</td>\n",
       "    </tr>\n",
       "    <tr>\n",
       "      <th>5</th>\n",
       "      <td>Nd</td>\n",
       "      <td>0.090772</td>\n",
       "    </tr>\n",
       "    <tr>\n",
       "      <th>17</th>\n",
       "      <td>Hf</td>\n",
       "      <td>0.089007</td>\n",
       "    </tr>\n",
       "    <tr>\n",
       "      <th>4</th>\n",
       "      <td>Pr</td>\n",
       "      <td>0.080381</td>\n",
       "    </tr>\n",
       "    <tr>\n",
       "      <th>7</th>\n",
       "      <td>Eu</td>\n",
       "      <td>0.069906</td>\n",
       "    </tr>\n",
       "    <tr>\n",
       "      <th>6</th>\n",
       "      <td>Sm</td>\n",
       "      <td>0.066026</td>\n",
       "    </tr>\n",
       "    <tr>\n",
       "      <th>18</th>\n",
       "      <td>U</td>\n",
       "      <td>0.055998</td>\n",
       "    </tr>\n",
       "    <tr>\n",
       "      <th>10</th>\n",
       "      <td>Dy</td>\n",
       "      <td>0.049997</td>\n",
       "    </tr>\n",
       "    <tr>\n",
       "      <th>19</th>\n",
       "      <td>Th</td>\n",
       "      <td>0.043340</td>\n",
       "    </tr>\n",
       "    <tr>\n",
       "      <th>3</th>\n",
       "      <td>Ce</td>\n",
       "      <td>0.039914</td>\n",
       "    </tr>\n",
       "    <tr>\n",
       "      <th>2</th>\n",
       "      <td>La</td>\n",
       "      <td>0.035317</td>\n",
       "    </tr>\n",
       "    <tr>\n",
       "      <th>15</th>\n",
       "      <td>Lu</td>\n",
       "      <td>0.031185</td>\n",
       "    </tr>\n",
       "    <tr>\n",
       "      <th>1</th>\n",
       "      <td>Ti</td>\n",
       "      <td>0.029968</td>\n",
       "    </tr>\n",
       "    <tr>\n",
       "      <th>9</th>\n",
       "      <td>Tb</td>\n",
       "      <td>0.028360</td>\n",
       "    </tr>\n",
       "    <tr>\n",
       "      <th>14</th>\n",
       "      <td>Yb</td>\n",
       "      <td>0.020211</td>\n",
       "    </tr>\n",
       "    <tr>\n",
       "      <th>11</th>\n",
       "      <td>Ho</td>\n",
       "      <td>0.019416</td>\n",
       "    </tr>\n",
       "    <tr>\n",
       "      <th>16</th>\n",
       "      <td>Y</td>\n",
       "      <td>0.018925</td>\n",
       "    </tr>\n",
       "    <tr>\n",
       "      <th>8</th>\n",
       "      <td>Gd</td>\n",
       "      <td>0.018213</td>\n",
       "    </tr>\n",
       "    <tr>\n",
       "      <th>13</th>\n",
       "      <td>Tm</td>\n",
       "      <td>0.017285</td>\n",
       "    </tr>\n",
       "    <tr>\n",
       "      <th>12</th>\n",
       "      <td>Er</td>\n",
       "      <td>0.015657</td>\n",
       "    </tr>\n",
       "  </tbody>\n",
       "</table>\n",
       "</div>"
      ],
      "text/plain": [
       "   Feature  Importance\n",
       "0   age_ma    0.180122\n",
       "5       Nd    0.090772\n",
       "17      Hf    0.089007\n",
       "4       Pr    0.080381\n",
       "7       Eu    0.069906\n",
       "6       Sm    0.066026\n",
       "18       U    0.055998\n",
       "10      Dy    0.049997\n",
       "19      Th    0.043340\n",
       "3       Ce    0.039914\n",
       "2       La    0.035317\n",
       "15      Lu    0.031185\n",
       "1       Ti    0.029968\n",
       "9       Tb    0.028360\n",
       "14      Yb    0.020211\n",
       "11      Ho    0.019416\n",
       "16       Y    0.018925\n",
       "8       Gd    0.018213\n",
       "13      Tm    0.017285\n",
       "12      Er    0.015657"
      ]
     },
     "execution_count": 35,
     "metadata": {},
     "output_type": "execute_result"
    }
   ],
   "source": [
    "from sklearn.ensemble import RandomForestClassifier\n",
    "\n",
    "# Initialize Random Forest Classifier\n",
    "rf_model = RandomForestClassifier()\n",
    "\n",
    "# Fit Random Forest\n",
    "rf_model.fit(X_train_scaled, y_train)\n",
    "\n",
    "# Get feature importances\n",
    "feature_importances = pd.DataFrame({'Feature': X.columns, 'Importance': rf_model.feature_importances_})\n",
    "feature_importances.sort_values(by='Importance', ascending=False)"
   ]
  },
  {
   "cell_type": "code",
   "execution_count": null,
   "id": "d788efa4",
   "metadata": {},
   "outputs": [],
   "source": []
  },
  {
   "cell_type": "markdown",
   "id": "6b1f377b",
   "metadata": {},
   "source": [
    "## Logistic Regression Model implemenation using important features"
   ]
  },
  {
   "cell_type": "code",
   "execution_count": 36,
   "id": "26cb73c0",
   "metadata": {},
   "outputs": [],
   "source": [
    "# Select important features based on importance scores\n",
    "important_features = feature_importances[feature_importances['Importance'] > 0.01]['Feature']"
   ]
  },
  {
   "cell_type": "code",
   "execution_count": 37,
   "id": "580498a9",
   "metadata": {},
   "outputs": [],
   "source": [
    "# Filter the dataset to include only important features\n",
    "X_train_selected = X_train[important_features]\n",
    "X_test_selected = X_test[important_features]"
   ]
  },
  {
   "cell_type": "code",
   "execution_count": 38,
   "id": "0207a15f",
   "metadata": {},
   "outputs": [],
   "source": [
    "# Scale the features\n",
    "scaler = StandardScaler()\n",
    "X_train_scaled = scaler.fit_transform(X_train_selected)\n",
    "X_test_scaled = scaler.transform(X_test_selected)"
   ]
  },
  {
   "cell_type": "code",
   "execution_count": 39,
   "id": "a8a7881d",
   "metadata": {},
   "outputs": [
    {
     "data": {
      "text/html": [
       "<style>#sk-container-id-2 {color: black;}#sk-container-id-2 pre{padding: 0;}#sk-container-id-2 div.sk-toggleable {background-color: white;}#sk-container-id-2 label.sk-toggleable__label {cursor: pointer;display: block;width: 100%;margin-bottom: 0;padding: 0.3em;box-sizing: border-box;text-align: center;}#sk-container-id-2 label.sk-toggleable__label-arrow:before {content: \"▸\";float: left;margin-right: 0.25em;color: #696969;}#sk-container-id-2 label.sk-toggleable__label-arrow:hover:before {color: black;}#sk-container-id-2 div.sk-estimator:hover label.sk-toggleable__label-arrow:before {color: black;}#sk-container-id-2 div.sk-toggleable__content {max-height: 0;max-width: 0;overflow: hidden;text-align: left;background-color: #f0f8ff;}#sk-container-id-2 div.sk-toggleable__content pre {margin: 0.2em;color: black;border-radius: 0.25em;background-color: #f0f8ff;}#sk-container-id-2 input.sk-toggleable__control:checked~div.sk-toggleable__content {max-height: 200px;max-width: 100%;overflow: auto;}#sk-container-id-2 input.sk-toggleable__control:checked~label.sk-toggleable__label-arrow:before {content: \"▾\";}#sk-container-id-2 div.sk-estimator input.sk-toggleable__control:checked~label.sk-toggleable__label {background-color: #d4ebff;}#sk-container-id-2 div.sk-label input.sk-toggleable__control:checked~label.sk-toggleable__label {background-color: #d4ebff;}#sk-container-id-2 input.sk-hidden--visually {border: 0;clip: rect(1px 1px 1px 1px);clip: rect(1px, 1px, 1px, 1px);height: 1px;margin: -1px;overflow: hidden;padding: 0;position: absolute;width: 1px;}#sk-container-id-2 div.sk-estimator {font-family: monospace;background-color: #f0f8ff;border: 1px dotted black;border-radius: 0.25em;box-sizing: border-box;margin-bottom: 0.5em;}#sk-container-id-2 div.sk-estimator:hover {background-color: #d4ebff;}#sk-container-id-2 div.sk-parallel-item::after {content: \"\";width: 100%;border-bottom: 1px solid gray;flex-grow: 1;}#sk-container-id-2 div.sk-label:hover label.sk-toggleable__label {background-color: #d4ebff;}#sk-container-id-2 div.sk-serial::before {content: \"\";position: absolute;border-left: 1px solid gray;box-sizing: border-box;top: 0;bottom: 0;left: 50%;z-index: 0;}#sk-container-id-2 div.sk-serial {display: flex;flex-direction: column;align-items: center;background-color: white;padding-right: 0.2em;padding-left: 0.2em;position: relative;}#sk-container-id-2 div.sk-item {position: relative;z-index: 1;}#sk-container-id-2 div.sk-parallel {display: flex;align-items: stretch;justify-content: center;background-color: white;position: relative;}#sk-container-id-2 div.sk-item::before, #sk-container-id-2 div.sk-parallel-item::before {content: \"\";position: absolute;border-left: 1px solid gray;box-sizing: border-box;top: 0;bottom: 0;left: 50%;z-index: -1;}#sk-container-id-2 div.sk-parallel-item {display: flex;flex-direction: column;z-index: 1;position: relative;background-color: white;}#sk-container-id-2 div.sk-parallel-item:first-child::after {align-self: flex-end;width: 50%;}#sk-container-id-2 div.sk-parallel-item:last-child::after {align-self: flex-start;width: 50%;}#sk-container-id-2 div.sk-parallel-item:only-child::after {width: 0;}#sk-container-id-2 div.sk-dashed-wrapped {border: 1px dashed gray;margin: 0 0.4em 0.5em 0.4em;box-sizing: border-box;padding-bottom: 0.4em;background-color: white;}#sk-container-id-2 div.sk-label label {font-family: monospace;font-weight: bold;display: inline-block;line-height: 1.2em;}#sk-container-id-2 div.sk-label-container {text-align: center;}#sk-container-id-2 div.sk-container {/* jupyter's `normalize.less` sets `[hidden] { display: none; }` but bootstrap.min.css set `[hidden] { display: none !important; }` so we also need the `!important` here to be able to override the default hidden behavior on the sphinx rendered scikit-learn.org. See: https://github.com/scikit-learn/scikit-learn/issues/21755 */display: inline-block !important;position: relative;}#sk-container-id-2 div.sk-text-repr-fallback {display: none;}</style><div id=\"sk-container-id-2\" class=\"sk-top-container\"><div class=\"sk-text-repr-fallback\"><pre>LogisticRegression()</pre><b>In a Jupyter environment, please rerun this cell to show the HTML representation or trust the notebook. <br />On GitHub, the HTML representation is unable to render, please try loading this page with nbviewer.org.</b></div><div class=\"sk-container\" hidden><div class=\"sk-item\"><div class=\"sk-estimator sk-toggleable\"><input class=\"sk-toggleable__control sk-hidden--visually\" id=\"sk-estimator-id-2\" type=\"checkbox\" checked><label for=\"sk-estimator-id-2\" class=\"sk-toggleable__label sk-toggleable__label-arrow\">LogisticRegression</label><div class=\"sk-toggleable__content\"><pre>LogisticRegression()</pre></div></div></div></div></div>"
      ],
      "text/plain": [
       "LogisticRegression()"
      ]
     },
     "execution_count": 39,
     "metadata": {},
     "output_type": "execute_result"
    }
   ],
   "source": [
    "# Train the logistic regression model\n",
    "lr_model = LogisticRegression()\n",
    "lr_model.fit(X_train_scaled, y_train)"
   ]
  },
  {
   "cell_type": "code",
   "execution_count": 40,
   "id": "ebde89a9",
   "metadata": {},
   "outputs": [],
   "source": [
    "# Make predictions\n",
    "y_pred = lr_model.predict(X_test_scaled)"
   ]
  },
  {
   "cell_type": "code",
   "execution_count": 41,
   "id": "f41ebc5d",
   "metadata": {},
   "outputs": [],
   "source": [
    "# Evaluate the model\n",
    "accuracy = accuracy_score(y_test, y_pred)\n",
    "conf_matrix = confusion_matrix(y_test, y_pred)"
   ]
  },
  {
   "cell_type": "code",
   "execution_count": 42,
   "id": "e77bcce9",
   "metadata": {},
   "outputs": [
    {
     "name": "stdout",
     "output_type": "stream",
     "text": [
      "Confusion Matrix:\n",
      "[[291  61]\n",
      " [ 21 225]]\n",
      "\n",
      "Accuracy: 0.862876254180602\n"
     ]
    }
   ],
   "source": [
    "# Display confusion matrix and accuracy\n",
    "print(\"Confusion Matrix:\")\n",
    "print(conf_matrix)\n",
    "print(\"\\nAccuracy:\", accuracy)"
   ]
  },
  {
   "cell_type": "code",
   "execution_count": 43,
   "id": "e5d7df0c",
   "metadata": {},
   "outputs": [
    {
     "data": {
      "text/plain": [
       "array([[291,  61],\n",
       "       [ 21, 225]])"
      ]
     },
     "execution_count": 43,
     "metadata": {},
     "output_type": "execute_result"
    }
   ],
   "source": [
    "conf_matrix"
   ]
  },
  {
   "cell_type": "code",
   "execution_count": 44,
   "id": "4ec20514",
   "metadata": {},
   "outputs": [
    {
     "data": {
      "text/plain": [
       "<sklearn.metrics._plot.confusion_matrix.ConfusionMatrixDisplay at 0x17d557e90>"
      ]
     },
     "execution_count": 44,
     "metadata": {},
     "output_type": "execute_result"
    },
    {
     "data": {
      "image/png": "[encoded data removed]",
      "text/plain": [
       "<Figure size 640x480 with 2 Axes>"
      ]
     },
     "metadata": {},
     "output_type": "display_data"
    }
   ],
   "source": [
    "ConfusionMatrixDisplay(conf_matrix, display_labels=['Barren', 'Fertile']).plot()"
   ]
  },
  {
   "cell_type": "code",
   "execution_count": 45,
   "id": "a8e66f5c",
   "metadata": {},
   "outputs": [
    {
     "name": "stdout",
     "output_type": "stream",
     "text": [
      "              precision    recall  f1-score   support\n",
      "\n",
      "      Barren     0.9327    0.8267    0.8765       352\n",
      "   Fertility     0.7867    0.9146    0.8459       246\n",
      "\n",
      "    accuracy                         0.8629       598\n",
      "   macro avg     0.8597    0.8707    0.8612       598\n",
      "weighted avg     0.8726    0.8629    0.8639       598\n",
      "\n"
     ]
    }
   ],
   "source": [
    "target_names = ['Barren', 'Fertility']\n",
    "\n",
    "report = classification_report(y_test, y_pred, target_names=target_names, digits=4)\n",
    "print(report)"
   ]
  },
  {
   "cell_type": "markdown",
   "id": "507e4432",
   "metadata": {},
   "source": [
    "## Support Vector Machine"
   ]
  },
  {
   "cell_type": "code",
   "execution_count": 46,
   "id": "e166d35e",
   "metadata": {},
   "outputs": [],
   "source": [
    "from sklearn.svm import SVC\n",
    "\n",
    "# Initialize SVM model\n",
    "svm_model = SVC()\n",
    "\n"
   ]
  },
  {
   "cell_type": "code",
   "execution_count": 47,
   "id": "5015f889",
   "metadata": {},
   "outputs": [
    {
     "data": {
      "text/html": [
       "<style>#sk-container-id-3 {color: black;}#sk-container-id-3 pre{padding: 0;}#sk-container-id-3 div.sk-toggleable {background-color: white;}#sk-container-id-3 label.sk-toggleable__label {cursor: pointer;display: block;width: 100%;margin-bottom: 0;padding: 0.3em;box-sizing: border-box;text-align: center;}#sk-container-id-3 label.sk-toggleable__label-arrow:before {content: \"▸\";float: left;margin-right: 0.25em;color: #696969;}#sk-container-id-3 label.sk-toggleable__label-arrow:hover:before {color: black;}#sk-container-id-3 div.sk-estimator:hover label.sk-toggleable__label-arrow:before {color: black;}#sk-container-id-3 div.sk-toggleable__content {max-height: 0;max-width: 0;overflow: hidden;text-align: left;background-color: #f0f8ff;}#sk-container-id-3 div.sk-toggleable__content pre {margin: 0.2em;color: black;border-radius: 0.25em;background-color: #f0f8ff;}#sk-container-id-3 input.sk-toggleable__control:checked~div.sk-toggleable__content {max-height: 200px;max-width: 100%;overflow: auto;}#sk-container-id-3 input.sk-toggleable__control:checked~label.sk-toggleable__label-arrow:before {content: \"▾\";}#sk-container-id-3 div.sk-estimator input.sk-toggleable__control:checked~label.sk-toggleable__label {background-color: #d4ebff;}#sk-container-id-3 div.sk-label input.sk-toggleable__control:checked~label.sk-toggleable__label {background-color: #d4ebff;}#sk-container-id-3 input.sk-hidden--visually {border: 0;clip: rect(1px 1px 1px 1px);clip: rect(1px, 1px, 1px, 1px);height: 1px;margin: -1px;overflow: hidden;padding: 0;position: absolute;width: 1px;}#sk-container-id-3 div.sk-estimator {font-family: monospace;background-color: #f0f8ff;border: 1px dotted black;border-radius: 0.25em;box-sizing: border-box;margin-bottom: 0.5em;}#sk-container-id-3 div.sk-estimator:hover {background-color: #d4ebff;}#sk-container-id-3 div.sk-parallel-item::after {content: \"\";width: 100%;border-bottom: 1px solid gray;flex-grow: 1;}#sk-container-id-3 div.sk-label:hover label.sk-toggleable__label {background-color: #d4ebff;}#sk-container-id-3 div.sk-serial::before {content: \"\";position: absolute;border-left: 1px solid gray;box-sizing: border-box;top: 0;bottom: 0;left: 50%;z-index: 0;}#sk-container-id-3 div.sk-serial {display: flex;flex-direction: column;align-items: center;background-color: white;padding-right: 0.2em;padding-left: 0.2em;position: relative;}#sk-container-id-3 div.sk-item {position: relative;z-index: 1;}#sk-container-id-3 div.sk-parallel {display: flex;align-items: stretch;justify-content: center;background-color: white;position: relative;}#sk-container-id-3 div.sk-item::before, #sk-container-id-3 div.sk-parallel-item::before {content: \"\";position: absolute;border-left: 1px solid gray;box-sizing: border-box;top: 0;bottom: 0;left: 50%;z-index: -1;}#sk-container-id-3 div.sk-parallel-item {display: flex;flex-direction: column;z-index: 1;position: relative;background-color: white;}#sk-container-id-3 div.sk-parallel-item:first-child::after {align-self: flex-end;width: 50%;}#sk-container-id-3 div.sk-parallel-item:last-child::after {align-self: flex-start;width: 50%;}#sk-container-id-3 div.sk-parallel-item:only-child::after {width: 0;}#sk-container-id-3 div.sk-dashed-wrapped {border: 1px dashed gray;margin: 0 0.4em 0.5em 0.4em;box-sizing: border-box;padding-bottom: 0.4em;background-color: white;}#sk-container-id-3 div.sk-label label {font-family: monospace;font-weight: bold;display: inline-block;line-height: 1.2em;}#sk-container-id-3 div.sk-label-container {text-align: center;}#sk-container-id-3 div.sk-container {/* jupyter's `normalize.less` sets `[hidden] { display: none; }` but bootstrap.min.css set `[hidden] { display: none !important; }` so we also need the `!important` here to be able to override the default hidden behavior on the sphinx rendered scikit-learn.org. See: https://github.com/scikit-learn/scikit-learn/issues/21755 */display: inline-block !important;position: relative;}#sk-container-id-3 div.sk-text-repr-fallback {display: none;}</style><div id=\"sk-container-id-3\" class=\"sk-top-container\"><div class=\"sk-text-repr-fallback\"><pre>SVC()</pre><b>In a Jupyter environment, please rerun this cell to show the HTML representation or trust the notebook. <br />On GitHub, the HTML representation is unable to render, please try loading this page with nbviewer.org.</b></div><div class=\"sk-container\" hidden><div class=\"sk-item\"><div class=\"sk-estimator sk-toggleable\"><input class=\"sk-toggleable__control sk-hidden--visually\" id=\"sk-estimator-id-3\" type=\"checkbox\" checked><label for=\"sk-estimator-id-3\" class=\"sk-toggleable__label sk-toggleable__label-arrow\">SVC</label><div class=\"sk-toggleable__content\"><pre>SVC()</pre></div></div></div></div></div>"
      ],
      "text/plain": [
       "SVC()"
      ]
     },
     "execution_count": 47,
     "metadata": {},
     "output_type": "execute_result"
    }
   ],
   "source": [
    "# Fit SVM model on the selected features\n",
    "svm_model.fit(X_train_scaled, y_train)\n",
    "\n"
   ]
  },
  {
   "cell_type": "code",
   "execution_count": 49,
   "id": "3576b635",
   "metadata": {},
   "outputs": [],
   "source": [
    "# Make predictions\n",
    "y_pred_svm = svm_model.predict(X_test_scaled)\n",
    "\n"
   ]
  },
  {
   "cell_type": "code",
   "execution_count": 50,
   "id": "f8d8f3c7",
   "metadata": {},
   "outputs": [],
   "source": [
    "# Evaluate the model\n",
    "accuracy_svm = accuracy_score(y_test, y_pred_svm)\n",
    "conf_matrix_svm = confusion_matrix(y_test, y_pred_svm)\n",
    "\n"
   ]
  },
  {
   "cell_type": "code",
   "execution_count": 51,
   "id": "c417a628",
   "metadata": {},
   "outputs": [
    {
     "name": "stdout",
     "output_type": "stream",
     "text": [
      "Support Vector Machine Model:\n",
      "Confusion Matrix:\n",
      "[[310  42]\n",
      " [  8 238]]\n",
      "\n",
      "Accuracy: 0.9163879598662207\n"
     ]
    },
    {
     "data": {
      "text/plain": [
       "<sklearn.metrics._plot.confusion_matrix.ConfusionMatrixDisplay at 0x17d4c62d0>"
      ]
     },
     "execution_count": 51,
     "metadata": {},
     "output_type": "execute_result"
    },
    {
     "data": {
      "image/png": "[encoded data removed]",
      "text/plain": [
       "<Figure size 640x480 with 2 Axes>"
      ]
     },
     "metadata": {},
     "output_type": "display_data"
    }
   ],
   "source": [
    "# Display confusion matrix and accuracy\n",
    "print(\"Support Vector Machine Model:\")\n",
    "print(\"Confusion Matrix:\")\n",
    "print(conf_matrix_svm)\n",
    "print(\"\\nAccuracy:\", accuracy_svm)\n",
    "\n",
    "# Plot confusion matrix\n",
    "ConfusionMatrixDisplay(conf_matrix_svm, display_labels=['Barren', 'Fertile']).plot()\n"
   ]
  },
  {
   "cell_type": "code",
   "execution_count": null,
   "id": "d7863d05",
   "metadata": {},
   "outputs": [],
   "source": []
  },
  {
   "cell_type": "markdown",
   "id": "256accd2",
   "metadata": {},
   "source": [
    "## Decision Tree Model"
   ]
  },
  {
   "cell_type": "markdown",
   "id": "dff14223",
   "metadata": {},
   "source": []
  },
  {
   "cell_type": "code",
   "execution_count": 52,
   "id": "9ed8189f",
   "metadata": {},
   "outputs": [],
   "source": [
    "from sklearn.tree import DecisionTreeClassifier\n",
    "\n",
    "# Initialize Decision Tree model\n",
    "dt_model = DecisionTreeClassifier()\n"
   ]
  },
  {
   "cell_type": "code",
   "execution_count": 53,
   "id": "18feff28",
   "metadata": {},
   "outputs": [
    {
     "data": {
      "text/html": [
       "<style>#sk-container-id-4 {color: black;}#sk-container-id-4 pre{padding: 0;}#sk-container-id-4 div.sk-toggleable {background-color: white;}#sk-container-id-4 label.sk-toggleable__label {cursor: pointer;display: block;width: 100%;margin-bottom: 0;padding: 0.3em;box-sizing: border-box;text-align: center;}#sk-container-id-4 label.sk-toggleable__label-arrow:before {content: \"▸\";float: left;margin-right: 0.25em;color: #696969;}#sk-container-id-4 label.sk-toggleable__label-arrow:hover:before {color: black;}#sk-container-id-4 div.sk-estimator:hover label.sk-toggleable__label-arrow:before {color: black;}#sk-container-id-4 div.sk-toggleable__content {max-height: 0;max-width: 0;overflow: hidden;text-align: left;background-color: #f0f8ff;}#sk-container-id-4 div.sk-toggleable__content pre {margin: 0.2em;color: black;border-radius: 0.25em;background-color: #f0f8ff;}#sk-container-id-4 input.sk-toggleable__control:checked~div.sk-toggleable__content {max-height: 200px;max-width: 100%;overflow: auto;}#sk-container-id-4 input.sk-toggleable__control:checked~label.sk-toggleable__label-arrow:before {content: \"▾\";}#sk-container-id-4 div.sk-estimator input.sk-toggleable__control:checked~label.sk-toggleable__label {background-color: #d4ebff;}#sk-container-id-4 div.sk-label input.sk-toggleable__control:checked~label.sk-toggleable__label {background-color: #d4ebff;}#sk-container-id-4 input.sk-hidden--visually {border: 0;clip: rect(1px 1px 1px 1px);clip: rect(1px, 1px, 1px, 1px);height: 1px;margin: -1px;overflow: hidden;padding: 0;position: absolute;width: 1px;}#sk-container-id-4 div.sk-estimator {font-family: monospace;background-color: #f0f8ff;border: 1px dotted black;border-radius: 0.25em;box-sizing: border-box;margin-bottom: 0.5em;}#sk-container-id-4 div.sk-estimator:hover {background-color: #d4ebff;}#sk-container-id-4 div.sk-parallel-item::after {content: \"\";width: 100%;border-bottom: 1px solid gray;flex-grow: 1;}#sk-container-id-4 div.sk-label:hover label.sk-toggleable__label {background-color: #d4ebff;}#sk-container-id-4 div.sk-serial::before {content: \"\";position: absolute;border-left: 1px solid gray;box-sizing: border-box;top: 0;bottom: 0;left: 50%;z-index: 0;}#sk-container-id-4 div.sk-serial {display: flex;flex-direction: column;align-items: center;background-color: white;padding-right: 0.2em;padding-left: 0.2em;position: relative;}#sk-container-id-4 div.sk-item {position: relative;z-index: 1;}#sk-container-id-4 div.sk-parallel {display: flex;align-items: stretch;justify-content: center;background-color: white;position: relative;}#sk-container-id-4 div.sk-item::before, #sk-container-id-4 div.sk-parallel-item::before {content: \"\";position: absolute;border-left: 1px solid gray;box-sizing: border-box;top: 0;bottom: 0;left: 50%;z-index: -1;}#sk-container-id-4 div.sk-parallel-item {display: flex;flex-direction: column;z-index: 1;position: relative;background-color: white;}#sk-container-id-4 div.sk-parallel-item:first-child::after {align-self: flex-end;width: 50%;}#sk-container-id-4 div.sk-parallel-item:last-child::after {align-self: flex-start;width: 50%;}#sk-container-id-4 div.sk-parallel-item:only-child::after {width: 0;}#sk-container-id-4 div.sk-dashed-wrapped {border: 1px dashed gray;margin: 0 0.4em 0.5em 0.4em;box-sizing: border-box;padding-bottom: 0.4em;background-color: white;}#sk-container-id-4 div.sk-label label {font-family: monospace;font-weight: bold;display: inline-block;line-height: 1.2em;}#sk-container-id-4 div.sk-label-container {text-align: center;}#sk-container-id-4 div.sk-container {/* jupyter's `normalize.less` sets `[hidden] { display: none; }` but bootstrap.min.css set `[hidden] { display: none !important; }` so we also need the `!important` here to be able to override the default hidden behavior on the sphinx rendered scikit-learn.org. See: https://github.com/scikit-learn/scikit-learn/issues/21755 */display: inline-block !important;position: relative;}#sk-container-id-4 div.sk-text-repr-fallback {display: none;}</style><div id=\"sk-container-id-4\" class=\"sk-top-container\"><div class=\"sk-text-repr-fallback\"><pre>DecisionTreeClassifier()</pre><b>In a Jupyter environment, please rerun this cell to show the HTML representation or trust the notebook. <br />On GitHub, the HTML representation is unable to render, please try loading this page with nbviewer.org.</b></div><div class=\"sk-container\" hidden><div class=\"sk-item\"><div class=\"sk-estimator sk-toggleable\"><input class=\"sk-toggleable__control sk-hidden--visually\" id=\"sk-estimator-id-4\" type=\"checkbox\" checked><label for=\"sk-estimator-id-4\" class=\"sk-toggleable__label sk-toggleable__label-arrow\">DecisionTreeClassifier</label><div class=\"sk-toggleable__content\"><pre>DecisionTreeClassifier()</pre></div></div></div></div></div>"
      ],
      "text/plain": [
       "DecisionTreeClassifier()"
      ]
     },
     "execution_count": 53,
     "metadata": {},
     "output_type": "execute_result"
    }
   ],
   "source": [
    "# Fit Decision Tree model on the selected features\n",
    "dt_model.fit(X_train_scaled, y_train)\n",
    "\n"
   ]
  },
  {
   "cell_type": "code",
   "execution_count": 54,
   "id": "5f7db2e6",
   "metadata": {},
   "outputs": [],
   "source": [
    "# Make predictions\n",
    "y_pred_dt = dt_model.predict(X_test_scaled)\n",
    "\n"
   ]
  },
  {
   "cell_type": "code",
   "execution_count": 55,
   "id": "838da5d5",
   "metadata": {},
   "outputs": [],
   "source": [
    "# Evaluate the model\n",
    "accuracy_dt = accuracy_score(y_test, y_pred_dt)\n",
    "conf_matrix_dt = confusion_matrix(y_test, y_pred_dt)\n",
    "\n"
   ]
  },
  {
   "cell_type": "code",
   "execution_count": 56,
   "id": "b3b421de",
   "metadata": {},
   "outputs": [
    {
     "name": "stdout",
     "output_type": "stream",
     "text": [
      "Decision Tree Model:\n",
      "Confusion Matrix:\n",
      "[[343   9]\n",
      " [ 14 232]]\n",
      "\n",
      "Accuracy: 0.9615384615384616\n"
     ]
    },
    {
     "data": {
      "text/plain": [
       "<sklearn.metrics._plot.confusion_matrix.ConfusionMatrixDisplay at 0x17de3c050>"
      ]
     },
     "execution_count": 56,
     "metadata": {},
     "output_type": "execute_result"
    },
    {
     "data": {
      "image/png": "[encoded data removed]",
      "text/plain": [
       "<Figure size 640x480 with 2 Axes>"
      ]
     },
     "metadata": {},
     "output_type": "display_data"
    }
   ],
   "source": [
    "# Display confusion matrix and accuracy\n",
    "print(\"Decision Tree Model:\")\n",
    "print(\"Confusion Matrix:\")\n",
    "print(conf_matrix_dt)\n",
    "print(\"\\nAccuracy:\", accuracy_dt)\n",
    "\n",
    "# Plot confusion matrix\n",
    "ConfusionMatrixDisplay(conf_matrix_dt, display_labels=['Barren', 'Fertile']).plot()\n",
    "\n"
   ]
  },
  {
   "cell_type": "markdown",
   "id": "a8c2029b",
   "metadata": {},
   "source": [
    "## Random Forest Classifier Model"
   ]
  },
  {
   "cell_type": "code",
   "execution_count": 57,
   "id": "6bb9dca6",
   "metadata": {},
   "outputs": [],
   "source": [
    "from sklearn.ensemble import RandomForestClassifier\n",
    "\n",
    "# Initialize Random Forest model\n",
    "rf_model = RandomForestClassifier()\n",
    "\n"
   ]
  },
  {
   "cell_type": "code",
   "execution_count": 58,
   "id": "1a9c8646",
   "metadata": {},
   "outputs": [
    {
     "data": {
      "text/html": [
       "<style>#sk-container-id-5 {color: black;}#sk-container-id-5 pre{padding: 0;}#sk-container-id-5 div.sk-toggleable {background-color: white;}#sk-container-id-5 label.sk-toggleable__label {cursor: pointer;display: block;width: 100%;margin-bottom: 0;padding: 0.3em;box-sizing: border-box;text-align: center;}#sk-container-id-5 label.sk-toggleable__label-arrow:before {content: \"▸\";float: left;margin-right: 0.25em;color: #696969;}#sk-container-id-5 label.sk-toggleable__label-arrow:hover:before {color: black;}#sk-container-id-5 div.sk-estimator:hover label.sk-toggleable__label-arrow:before {color: black;}#sk-container-id-5 div.sk-toggleable__content {max-height: 0;max-width: 0;overflow: hidden;text-align: left;background-color: #f0f8ff;}#sk-container-id-5 div.sk-toggleable__content pre {margin: 0.2em;color: black;border-radius: 0.25em;background-color: #f0f8ff;}#sk-container-id-5 input.sk-toggleable__control:checked~div.sk-toggleable__content {max-height: 200px;max-width: 100%;overflow: auto;}#sk-container-id-5 input.sk-toggleable__control:checked~label.sk-toggleable__label-arrow:before {content: \"▾\";}#sk-container-id-5 div.sk-estimator input.sk-toggleable__control:checked~label.sk-toggleable__label {background-color: #d4ebff;}#sk-container-id-5 div.sk-label input.sk-toggleable__control:checked~label.sk-toggleable__label {background-color: #d4ebff;}#sk-container-id-5 input.sk-hidden--visually {border: 0;clip: rect(1px 1px 1px 1px);clip: rect(1px, 1px, 1px, 1px);height: 1px;margin: -1px;overflow: hidden;padding: 0;position: absolute;width: 1px;}#sk-container-id-5 div.sk-estimator {font-family: monospace;background-color: #f0f8ff;border: 1px dotted black;border-radius: 0.25em;box-sizing: border-box;margin-bottom: 0.5em;}#sk-container-id-5 div.sk-estimator:hover {background-color: #d4ebff;}#sk-container-id-5 div.sk-parallel-item::after {content: \"\";width: 100%;border-bottom: 1px solid gray;flex-grow: 1;}#sk-container-id-5 div.sk-label:hover label.sk-toggleable__label {background-color: #d4ebff;}#sk-container-id-5 div.sk-serial::before {content: \"\";position: absolute;border-left: 1px solid gray;box-sizing: border-box;top: 0;bottom: 0;left: 50%;z-index: 0;}#sk-container-id-5 div.sk-serial {display: flex;flex-direction: column;align-items: center;background-color: white;padding-right: 0.2em;padding-left: 0.2em;position: relative;}#sk-container-id-5 div.sk-item {position: relative;z-index: 1;}#sk-container-id-5 div.sk-parallel {display: flex;align-items: stretch;justify-content: center;background-color: white;position: relative;}#sk-container-id-5 div.sk-item::before, #sk-container-id-5 div.sk-parallel-item::before {content: \"\";position: absolute;border-left: 1px solid gray;box-sizing: border-box;top: 0;bottom: 0;left: 50%;z-index: -1;}#sk-container-id-5 div.sk-parallel-item {display: flex;flex-direction: column;z-index: 1;position: relative;background-color: white;}#sk-container-id-5 div.sk-parallel-item:first-child::after {align-self: flex-end;width: 50%;}#sk-container-id-5 div.sk-parallel-item:last-child::after {align-self: flex-start;width: 50%;}#sk-container-id-5 div.sk-parallel-item:only-child::after {width: 0;}#sk-container-id-5 div.sk-dashed-wrapped {border: 1px dashed gray;margin: 0 0.4em 0.5em 0.4em;box-sizing: border-box;padding-bottom: 0.4em;background-color: white;}#sk-container-id-5 div.sk-label label {font-family: monospace;font-weight: bold;display: inline-block;line-height: 1.2em;}#sk-container-id-5 div.sk-label-container {text-align: center;}#sk-container-id-5 div.sk-container {/* jupyter's `normalize.less` sets `[hidden] { display: none; }` but bootstrap.min.css set `[hidden] { display: none !important; }` so we also need the `!important` here to be able to override the default hidden behavior on the sphinx rendered scikit-learn.org. See: https://github.com/scikit-learn/scikit-learn/issues/21755 */display: inline-block !important;position: relative;}#sk-container-id-5 div.sk-text-repr-fallback {display: none;}</style><div id=\"sk-container-id-5\" class=\"sk-top-container\"><div class=\"sk-text-repr-fallback\"><pre>RandomForestClassifier()</pre><b>In a Jupyter environment, please rerun this cell to show the HTML representation or trust the notebook. <br />On GitHub, the HTML representation is unable to render, please try loading this page with nbviewer.org.</b></div><div class=\"sk-container\" hidden><div class=\"sk-item\"><div class=\"sk-estimator sk-toggleable\"><input class=\"sk-toggleable__control sk-hidden--visually\" id=\"sk-estimator-id-5\" type=\"checkbox\" checked><label for=\"sk-estimator-id-5\" class=\"sk-toggleable__label sk-toggleable__label-arrow\">RandomForestClassifier</label><div class=\"sk-toggleable__content\"><pre>RandomForestClassifier()</pre></div></div></div></div></div>"
      ],
      "text/plain": [
       "RandomForestClassifier()"
      ]
     },
     "execution_count": 58,
     "metadata": {},
     "output_type": "execute_result"
    }
   ],
   "source": [
    "# Fit Random Forest model on the selected features\n",
    "rf_model.fit(X_train_scaled, y_train)\n",
    "\n"
   ]
  },
  {
   "cell_type": "code",
   "execution_count": 59,
   "id": "2bf3174d",
   "metadata": {},
   "outputs": [],
   "source": [
    "# Make predictions\n",
    "y_pred_rf = rf_model.predict(X_test_scaled)\n",
    "\n"
   ]
  },
  {
   "cell_type": "code",
   "execution_count": 60,
   "id": "d2a32e67",
   "metadata": {},
   "outputs": [],
   "source": [
    "# Evaluate the model\n",
    "accuracy_rf = accuracy_score(y_test, y_pred_rf)\n",
    "conf_matrix_rf = confusion_matrix(y_test, y_pred_rf)\n",
    "\n"
   ]
  },
  {
   "cell_type": "code",
   "execution_count": 61,
   "id": "5fd170fb",
   "metadata": {},
   "outputs": [
    {
     "name": "stdout",
     "output_type": "stream",
     "text": [
      "Random Forest Model:\n",
      "Confusion Matrix:\n",
      "[[340  12]\n",
      " [ 14 232]]\n",
      "\n",
      "Accuracy: 0.9565217391304348\n"
     ]
    },
    {
     "data": {
      "text/plain": [
       "<sklearn.metrics._plot.confusion_matrix.ConfusionMatrixDisplay at 0x17db41550>"
      ]
     },
     "execution_count": 61,
     "metadata": {},
     "output_type": "execute_result"
    },
    {
     "data": {
      "image/png": "[encoded data removed]",
      "text/plain": [
       "<Figure size 640x480 with 2 Axes>"
      ]
     },
     "metadata": {},
     "output_type": "display_data"
    }
   ],
   "source": [
    "# Display confusion matrix and accuracy\n",
    "print(\"Random Forest Model:\")\n",
    "print(\"Confusion Matrix:\")\n",
    "print(conf_matrix_rf)\n",
    "print(\"\\nAccuracy:\", accuracy_rf)\n",
    "\n",
    "# Plot confusion matrix\n",
    "ConfusionMatrixDisplay(conf_matrix_rf, display_labels=['Barren', 'Fertile']).plot()\n"
   ]
  },
  {
   "cell_type": "code",
   "execution_count": null,
   "id": "1d0cf5ac",
   "metadata": {},
   "outputs": [],
   "source": []
  }
 ],
 "metadata": {
  "kernelspec": {
   "display_name": "Python 3 (ipykernel)",
   "language": "python",
   "name": "python3"
  },
  "language_info": {
   "codemirror_mode": {
    "name": "ipython",
    "version": 3
   },
   "file_extension": ".py",
   "mimetype": "text/x-python",
   "name": "python",
   "nbconvert_exporter": "python",
   "pygments_lexer": "ipython3",
   "version": "3.11.5"
  }
 },
 "nbformat": 4,
 "nbformat_minor": 5
}
